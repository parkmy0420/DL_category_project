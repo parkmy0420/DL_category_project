{
 "cells": [
  {
   "cell_type": "code",
   "execution_count": 4,
   "metadata": {},
   "outputs": [
    {
     "name": "stderr",
     "output_type": "stream",
     "text": [
      "100%|██████████| 87491/87491 [00:05<00:00, 16271.28it/s]\n"
     ]
    }
   ],
   "source": [
    "import os\n",
    "from tqdm import tqdm\n",
    "import shutil\n",
    "\n",
    "pj_path = '/Users/young/Documents/zerobase/team_project/DL_project/model_project'   # project folder path\n",
    "# before split\n",
    "img_path = pj_path + '/after_remove_dataset/train/images'\n",
    "txt_path = pj_path + '/after_remove_dataset/train/labels'\n",
    "\n",
    "remove_path = '/Users/young/Documents/zerobase/team_project/DL_project/remove_datasets'   # project folder path\n",
    "# bratop dataset\n",
    "bratop_img_path = remove_path + '/bratop/train/images'\n",
    "bratop_txt_path = remove_path + '/bratop/train/labels'\n",
    "\n",
    "# after except top dataset\n",
    "leggings_img_path = remove_path + '/leggings/train/images'\n",
    "leggings_txt_path = remove_path + '/leggings/train/labels'\n",
    "\n",
    "\n",
    "txt_name = [f for f in os.listdir(txt_path) if f != '.DS_Store']\n",
    "\n",
    "for label in tqdm(txt_name):\n",
    "   with open(os.path.join(txt_path, label), \"r\") as f:\n",
    "    all_lines = f.readlines()\n",
    "    # check = True\n",
    "\n",
    "    try:\n",
    "        for line in all_lines:\n",
    "            if line[0] == '5':     # bratop\n",
    "                # check = False\n",
    "                shutil.move(os.path.join(txt_path, label), os.path.join(bratop_txt_path, label))\n",
    "                shutil.move(os.path.join(img_path, label.split('.')[0] + '.jpg'), os.path.join(bratop_img_path, label.split('.')[0] + '.jpg'))\n",
    "                break\n",
    "\n",
    "            elif line[0] == '10':   # leggings\n",
    "                # check = False\n",
    "                shutil.move(os.path.join(txt_path, label), os.path.join(leggings_txt_path, label))\n",
    "                shutil.move(os.path.join(img_path, label.split('.')[0] + '.jpg'), os.path.join(leggings_img_path, label.split('.')[0] + '.jpg'))\n",
    "                break\n",
    "\n",
    "        # if check:\n",
    "        #     shutil.copy(os.path.join(txt_path, label), os.path.join(except_top_txt_path, label))\n",
    "        #     shutil.copy(os.path.join(img_path, label.split('.')[0] + '.jpg'), os.path.join(except_top_img_path, label.split('.')[0] + '.jpg'))\n",
    "    except:\n",
    "       print(label)"
   ]
  },
  {
   "cell_type": "code",
   "execution_count": 3,
   "metadata": {},
   "outputs": [
    {
     "name": "stderr",
     "output_type": "stream",
     "text": [
      "100%|██████████| 21551/21551 [00:01<00:00, 18962.57it/s]\n"
     ]
    }
   ],
   "source": [
    "import os\n",
    "from tqdm import tqdm\n",
    "import shutil\n",
    "\n",
    "pj_path = '/Users/young/Documents/zerobase/team_project/DL_project/model_project'   # project folder path\n",
    "# before split\n",
    "img_path = pj_path + '/after_remove_dataset/valid/images'\n",
    "txt_path = pj_path + '/after_remove_dataset/valid/labels'\n",
    "\n",
    "remove_path = '/Users/young/Documents/zerobase/team_project/DL_project/remove_datasets'   # project folder path\n",
    "# bratop dataset\n",
    "bratop_img_path = remove_path + '/bratop/valid/images'\n",
    "bratop_txt_path = remove_path + '/bratop/valid/labels'\n",
    "\n",
    "# after except top dataset\n",
    "leggings_img_path = remove_path + '/leggings/valid/images'\n",
    "leggings_txt_path = remove_path + '/leggings/valid/labels'\n",
    "\n",
    "\n",
    "txt_name = [f for f in os.listdir(txt_path) if f != '.DS_Store']\n",
    "\n",
    "for label in tqdm(txt_name):\n",
    "   with open(os.path.join(txt_path, label), \"r\") as f:\n",
    "    all_lines = f.readlines()\n",
    "    # check = True\n",
    "\n",
    "    try:\n",
    "        for line in all_lines:\n",
    "            if line[0] == '5':     # bratop\n",
    "                # check = False\n",
    "                shutil.move(os.path.join(txt_path, label), os.path.join(bratop_txt_path, label))\n",
    "                shutil.move(os.path.join(img_path, label.split('.')[0] + '.jpg'), os.path.join(bratop_img_path, label.split('.')[0] + '.jpg'))\n",
    "                break\n",
    "\n",
    "            elif line[0] == '10':   # leggings\n",
    "                # check = False\n",
    "                shutil.move(os.path.join(txt_path, label), os.path.join(leggings_txt_path, label))\n",
    "                shutil.move(os.path.join(img_path, label.split('.')[0] + '.jpg'), os.path.join(leggings_img_path, label.split('.')[0] + '.jpg'))\n",
    "                break\n",
    "\n",
    "        # if check:\n",
    "        #     shutil.copy(os.path.join(txt_path, label), os.path.join(except_top_txt_path, label))\n",
    "        #     shutil.copy(os.path.join(img_path, label.split('.')[0] + '.jpg'), os.path.join(except_top_img_path, label.split('.')[0] + '.jpg'))\n",
    "    except:\n",
    "       print(label)"
   ]
  },
  {
   "cell_type": "code",
   "execution_count": null,
   "metadata": {},
   "outputs": [],
   "source": []
  }
 ],
 "metadata": {
  "kernelspec": {
   "display_name": "ds_study",
   "language": "python",
   "name": "python3"
  },
  "language_info": {
   "codemirror_mode": {
    "name": "ipython",
    "version": 3
   },
   "file_extension": ".py",
   "mimetype": "text/x-python",
   "name": "python",
   "nbconvert_exporter": "python",
   "pygments_lexer": "ipython3",
   "version": "3.8.16"
  },
  "orig_nbformat": 4
 },
 "nbformat": 4,
 "nbformat_minor": 2
}
