{
 "cells": [
  {
   "cell_type": "code",
   "execution_count": 2,
   "metadata": {},
   "outputs": [
    {
     "name": "stderr",
     "output_type": "stream",
     "text": [
      "  0%|          | 270/93031 [00:00<01:07, 1370.39it/s]"
     ]
    },
    {
     "name": "stdout",
     "output_type": "stream",
     "text": [
      "995147.txt\n",
      "843267.txt\n",
      "1277740.txt\n",
      "1006883.txt\n",
      "872086.txt\n"
     ]
    },
    {
     "name": "stderr",
     "output_type": "stream",
     "text": [
      "  1%|          | 707/93031 [00:00<01:04, 1439.45it/s]"
     ]
    },
    {
     "name": "stdout",
     "output_type": "stream",
     "text": [
      "609788.txt\n",
      "315630.txt\n",
      "488574.txt\n",
      "712394.txt\n",
      "1131752.txt\n"
     ]
    },
    {
     "name": "stderr",
     "output_type": "stream",
     "text": [
      "  1%|          | 993/93031 [00:00<01:05, 1404.63it/s]"
     ]
    },
    {
     "name": "stdout",
     "output_type": "stream",
     "text": [
      "499690.txt\n",
      "895437.txt\n",
      "998661.txt\n",
      "1076196.txt\n",
      "697605.txt\n",
      "1141060.txt\n"
     ]
    },
    {
     "name": "stderr",
     "output_type": "stream",
     "text": [
      "  1%|▏         | 1277/93031 [00:00<01:05, 1408.34it/s]"
     ]
    },
    {
     "name": "stdout",
     "output_type": "stream",
     "text": [
      "1016886.txt\n",
      "998891.txt\n",
      "343660.txt\n"
     ]
    },
    {
     "name": "stderr",
     "output_type": "stream",
     "text": [
      "  2%|▏         | 1559/93031 [00:01<01:06, 1376.64it/s]"
     ]
    },
    {
     "name": "stdout",
     "output_type": "stream",
     "text": [
      "1130882.txt\n",
      "598571.txt\n",
      "26801.txt\n",
      "1084274.txt\n"
     ]
    },
    {
     "name": "stderr",
     "output_type": "stream",
     "text": [
      "  2%|▏         | 1987/93031 [00:01<01:05, 1398.79it/s]"
     ]
    },
    {
     "name": "stdout",
     "output_type": "stream",
     "text": [
      "517693.txt\n",
      "839681.txt\n",
      "1296186.txt\n",
      "53285.txt\n",
      "740940.txt\n",
      "1247536.txt\n"
     ]
    },
    {
     "name": "stderr",
     "output_type": "stream",
     "text": [
      "  3%|▎         | 2422/93031 [00:01<01:04, 1395.76it/s]"
     ]
    },
    {
     "name": "stdout",
     "output_type": "stream",
     "text": [
      "155694.txt\n",
      "879266.txt\n",
      "104140.txt\n",
      "1303189.txt\n"
     ]
    },
    {
     "name": "stderr",
     "output_type": "stream",
     "text": [
      "  3%|▎         | 2715/93031 [00:01<01:03, 1428.59it/s]"
     ]
    },
    {
     "name": "stdout",
     "output_type": "stream",
     "text": [
      "77870.txt\n",
      "51684.txt\n"
     ]
    },
    {
     "name": "stderr",
     "output_type": "stream",
     "text": [
      "  3%|▎         | 3001/93031 [00:02<01:05, 1384.35it/s]"
     ]
    },
    {
     "name": "stdout",
     "output_type": "stream",
     "text": [
      "121303.txt\n",
      "1178232.txt\n",
      "304675.txt\n",
      "581430.txt\n",
      "1112940.txt\n",
      "543764.txt\n",
      "489079.txt\n",
      "793927.txt\n"
     ]
    },
    {
     "name": "stderr",
     "output_type": "stream",
     "text": [
      "  4%|▎         | 3293/93031 [00:02<01:03, 1414.29it/s]"
     ]
    },
    {
     "name": "stdout",
     "output_type": "stream",
     "text": [
      "425387.txt\n",
      "306077.txt\n",
      "100482.txt\n",
      "976418.txt\n"
     ]
    },
    {
     "name": "stderr",
     "output_type": "stream",
     "text": [
      "  4%|▍         | 3739/93031 [00:02<01:01, 1459.22it/s]"
     ]
    },
    {
     "name": "stdout",
     "output_type": "stream",
     "text": [
      "1115020.txt\n",
      "155326.txt\n",
      "1130288.txt\n",
      "314498.txt\n",
      "955799.txt\n"
     ]
    },
    {
     "name": "stderr",
     "output_type": "stream",
     "text": [
      "  5%|▍         | 4188/93031 [00:02<00:59, 1481.75it/s]"
     ]
    },
    {
     "name": "stdout",
     "output_type": "stream",
     "text": [
      "1060124.txt\n",
      "1172252.txt\n",
      "326827.txt\n",
      "86446.txt\n",
      "1007154.txt\n",
      "376037.txt\n",
      "374620.txt\n"
     ]
    },
    {
     "name": "stderr",
     "output_type": "stream",
     "text": [
      "  5%|▌         | 4780/93031 [00:03<01:01, 1442.70it/s]"
     ]
    },
    {
     "name": "stdout",
     "output_type": "stream",
     "text": [
      "730322.txt\n",
      "879449.txt\n",
      "811093.txt\n",
      "69078.txt\n",
      "804475.txt\n",
      "401190.txt\n"
     ]
    },
    {
     "name": "stderr",
     "output_type": "stream",
     "text": [
      "  6%|▌         | 5207/93031 [00:03<01:03, 1374.31it/s]"
     ]
    },
    {
     "name": "stdout",
     "output_type": "stream",
     "text": [
      "1141049.txt\n",
      "1080615.txt\n"
     ]
    },
    {
     "name": "stderr",
     "output_type": "stream",
     "text": [
      "  6%|▌         | 5481/93031 [00:03<01:04, 1350.23it/s]"
     ]
    },
    {
     "name": "stdout",
     "output_type": "stream",
     "text": [
      "898489.txt\n",
      "552047.txt\n",
      "665135.txt\n",
      "313254.txt\n",
      "326562.txt\n"
     ]
    },
    {
     "name": "stderr",
     "output_type": "stream",
     "text": [
      "  6%|▋         | 5909/93031 [00:04<01:02, 1401.62it/s]"
     ]
    },
    {
     "name": "stdout",
     "output_type": "stream",
     "text": [
      "1150408.txt\n",
      "145041.txt\n",
      "348293.txt\n",
      "1328535.txt\n"
     ]
    },
    {
     "name": "stderr",
     "output_type": "stream",
     "text": [
      "  7%|▋         | 6192/93031 [00:04<01:01, 1404.70it/s]"
     ]
    },
    {
     "name": "stdout",
     "output_type": "stream",
     "text": [
      "524104.txt\n",
      "712354.txt\n",
      "318317.txt\n"
     ]
    },
    {
     "name": "stderr",
     "output_type": "stream",
     "text": [
      "  7%|▋         | 6474/93031 [00:04<01:01, 1398.56it/s]"
     ]
    },
    {
     "name": "stdout",
     "output_type": "stream",
     "text": [
      "802589.txt\n",
      "976234.txt\n",
      "39315.txt\n",
      "302401.txt\n",
      "121274.txt\n"
     ]
    },
    {
     "name": "stderr",
     "output_type": "stream",
     "text": [
      "  8%|▊         | 7040/93031 [00:05<01:03, 1350.04it/s]"
     ]
    },
    {
     "name": "stdout",
     "output_type": "stream",
     "text": [
      "840221.txt\n",
      "209959.txt\n",
      "373987.txt\n",
      "1308356.txt\n",
      "251273.txt\n"
     ]
    },
    {
     "name": "stderr",
     "output_type": "stream",
     "text": [
      "  8%|▊         | 7456/93031 [00:05<01:02, 1377.10it/s]"
     ]
    },
    {
     "name": "stdout",
     "output_type": "stream",
     "text": [
      "1269794.txt\n",
      "943106.txt\n",
      "1094064.txt\n",
      "1112215.txt\n"
     ]
    },
    {
     "name": "stderr",
     "output_type": "stream",
     "text": [
      "  8%|▊         | 7741/93031 [00:05<01:00, 1403.13it/s]"
     ]
    },
    {
     "name": "stdout",
     "output_type": "stream",
     "text": [
      "870296.txt\n",
      "886500.txt\n"
     ]
    },
    {
     "name": "stderr",
     "output_type": "stream",
     "text": [
      "  9%|▊         | 8026/93031 [00:05<01:00, 1404.65it/s]"
     ]
    },
    {
     "name": "stdout",
     "output_type": "stream",
     "text": [
      "945588.txt\n",
      "72274.txt\n",
      "820462.txt\n",
      "998931.txt\n",
      "1160495.txt\n",
      "213487.txt\n"
     ]
    },
    {
     "name": "stderr",
     "output_type": "stream",
     "text": [
      "  9%|▉         | 8593/93031 [00:06<01:00, 1405.25it/s]"
     ]
    },
    {
     "name": "stdout",
     "output_type": "stream",
     "text": [
      "745387.txt\n",
      "1006923.txt\n",
      "28378.txt\n",
      "488403.txt\n",
      "598176.txt\n",
      "1309302.txt\n",
      "1247079.txt\n"
     ]
    },
    {
     "name": "stderr",
     "output_type": "stream",
     "text": [
      " 10%|▉         | 8878/93031 [00:06<01:00, 1389.14it/s]"
     ]
    },
    {
     "name": "stdout",
     "output_type": "stream",
     "text": [
      "1130248.txt\n",
      "1135324.txt\n",
      "548632.txt\n"
     ]
    },
    {
     "name": "stderr",
     "output_type": "stream",
     "text": [
      " 10%|█         | 9430/93031 [00:06<01:01, 1350.75it/s]"
     ]
    },
    {
     "name": "stdout",
     "output_type": "stream",
     "text": [
      "168926.txt\n",
      "1343593.txt\n",
      "711066.txt\n",
      "1006063.txt\n",
      "1007194.txt\n"
     ]
    },
    {
     "name": "stderr",
     "output_type": "stream",
     "text": [
      " 11%|█         | 9968/93031 [00:07<01:03, 1315.16it/s]"
     ]
    },
    {
     "name": "stdout",
     "output_type": "stream",
     "text": [
      "1176962.txt\n",
      "1111735.txt\n"
     ]
    },
    {
     "name": "stderr",
     "output_type": "stream",
     "text": [
      " 11%|█         | 10240/93031 [00:07<01:02, 1319.34it/s]"
     ]
    },
    {
     "name": "stdout",
     "output_type": "stream",
     "text": [
      "887151.txt\n",
      "200767.txt\n",
      "309031.txt\n",
      "415125.txt\n",
      "1290442.txt\n",
      "27472.txt\n",
      "1136215.txt\n"
     ]
    },
    {
     "name": "stderr",
     "output_type": "stream",
     "text": [
      " 11%|█▏        | 10512/93031 [00:07<01:01, 1334.46it/s]"
     ]
    },
    {
     "name": "stdout",
     "output_type": "stream",
     "text": [
      "52953.txt\n",
      "914856.txt\n"
     ]
    },
    {
     "name": "stderr",
     "output_type": "stream",
     "text": [
      " 12%|█▏        | 10923/93031 [00:07<01:01, 1338.68it/s]"
     ]
    },
    {
     "name": "stdout",
     "output_type": "stream",
     "text": [
      "338207.txt\n",
      "695776.txt\n",
      "1215892.txt\n",
      "487651.txt\n",
      "430831.txt\n",
      "314538.txt\n"
     ]
    },
    {
     "name": "stderr",
     "output_type": "stream",
     "text": [
      " 12%|█▏        | 11348/93031 [00:08<00:59, 1366.78it/s]"
     ]
    },
    {
     "name": "stdout",
     "output_type": "stream",
     "text": [
      "315154.txt\n",
      "898449.txt\n",
      "585091.txt\n",
      "988896.txt\n",
      "140648.txt\n",
      "1314597.txt\n",
      "1003735.txt\n",
      "700989.txt\n",
      "1133812.txt\n"
     ]
    },
    {
     "name": "stderr",
     "output_type": "stream",
     "text": [
      " 12%|█▏        | 11624/93031 [00:08<00:59, 1366.26it/s]"
     ]
    },
    {
     "name": "stdout",
     "output_type": "stream",
     "text": [
      "285584.txt\n",
      "898459.txt\n",
      "1314587.txt\n",
      "1003725.txt\n"
     ]
    },
    {
     "name": "stderr",
     "output_type": "stream",
     "text": [
      " 13%|█▎        | 12042/93031 [00:08<00:59, 1368.79it/s]"
     ]
    },
    {
     "name": "stdout",
     "output_type": "stream",
     "text": [
      "738590.txt\n",
      "149126.txt\n",
      "203929.txt\n",
      "487872.txt\n",
      "1216353.txt\n"
     ]
    },
    {
     "name": "stderr",
     "output_type": "stream",
     "text": [
      " 13%|█▎        | 12324/93031 [00:08<00:58, 1382.03it/s]"
     ]
    },
    {
     "name": "stdout",
     "output_type": "stream",
     "text": [
      "355212.txt\n",
      "314528.txt\n",
      "502677.txt\n",
      "127628.txt\n",
      "1179062.txt\n",
      "159679.txt\n",
      "146981.txt\n"
     ]
    },
    {
     "name": "stderr",
     "output_type": "stream",
     "text": [
      " 14%|█▎        | 12613/93031 [00:09<00:57, 1398.59it/s]"
     ]
    },
    {
     "name": "stdout",
     "output_type": "stream",
     "text": [
      "425035.txt\n",
      "90419.txt\n",
      "911043.txt\n",
      "695766.txt\n"
     ]
    },
    {
     "name": "stderr",
     "output_type": "stream",
     "text": [
      " 14%|█▍        | 13046/93031 [00:09<00:55, 1429.18it/s]"
     ]
    },
    {
     "name": "stdout",
     "output_type": "stream",
     "text": [
      "1290452.txt\n",
      "488002.txt\n",
      "1136205.txt\n",
      "1313773.txt\n"
     ]
    },
    {
     "name": "stderr",
     "output_type": "stream",
     "text": [
      " 14%|█▍        | 13331/93031 [00:09<00:56, 1414.01it/s]"
     ]
    },
    {
     "name": "stdout",
     "output_type": "stream",
     "text": [
      "1302939.txt\n",
      "1346809.txt\n",
      "199273.txt\n"
     ]
    },
    {
     "name": "stderr",
     "output_type": "stream",
     "text": [
      " 15%|█▍        | 13614/93031 [00:09<00:56, 1402.75it/s]"
     ]
    },
    {
     "name": "stdout",
     "output_type": "stream",
     "text": [
      "346642.txt\n",
      "315226.txt\n"
     ]
    },
    {
     "name": "stderr",
     "output_type": "stream",
     "text": [
      " 15%|█▌        | 14025/93031 [00:10<00:59, 1334.73it/s]"
     ]
    },
    {
     "name": "stdout",
     "output_type": "stream",
     "text": [
      "758338.txt\n",
      "364636.txt\n",
      "487912.txt\n",
      "1060484.txt\n",
      "1144532.txt\n"
     ]
    },
    {
     "name": "stderr",
     "output_type": "stream",
     "text": [
      " 16%|█▌        | 14447/93031 [00:10<00:56, 1384.74it/s]"
     ]
    },
    {
     "name": "stdout",
     "output_type": "stream",
     "text": [
      "430799.txt\n"
     ]
    },
    {
     "name": "stderr",
     "output_type": "stream",
     "text": [
      " 16%|█▌        | 14739/93031 [00:10<00:55, 1420.22it/s]"
     ]
    },
    {
     "name": "stdout",
     "output_type": "stream",
     "text": [
      "1271294.txt\n",
      "937456.txt\n",
      "1006933.txt\n",
      "488413.txt\n",
      "694096.txt\n"
     ]
    },
    {
     "name": "stderr",
     "output_type": "stream",
     "text": [
      " 16%|█▌        | 15030/93031 [00:10<00:54, 1423.89it/s]"
     ]
    },
    {
     "name": "stdout",
     "output_type": "stream",
     "text": [
      "598166.txt\n",
      "711936.txt\n",
      "1320780.txt\n",
      "903042.txt\n",
      "825907.txt\n"
     ]
    },
    {
     "name": "stderr",
     "output_type": "stream",
     "text": [
      " 17%|█▋        | 15459/93031 [00:11<00:54, 1415.38it/s]"
     ]
    },
    {
     "name": "stdout",
     "output_type": "stream",
     "text": [
      "544227.txt\n"
     ]
    },
    {
     "name": "stderr",
     "output_type": "stream",
     "text": [
      " 17%|█▋        | 15891/93031 [00:11<00:54, 1405.03it/s]"
     ]
    },
    {
     "name": "stdout",
     "output_type": "stream",
     "text": [
      "1112205.txt\n",
      "371010.txt\n",
      "1339831.txt\n"
     ]
    },
    {
     "name": "stderr",
     "output_type": "stream",
     "text": [
      " 18%|█▊        | 16324/93031 [00:11<00:53, 1427.12it/s]"
     ]
    },
    {
     "name": "stdout",
     "output_type": "stream",
     "text": [
      "308302.txt\n",
      "1043857.txt\n",
      "510058.txt\n",
      "1164218.txt\n"
     ]
    },
    {
     "name": "stderr",
     "output_type": "stream",
     "text": [
      " 18%|█▊        | 16611/93031 [00:11<00:53, 1416.26it/s]"
     ]
    },
    {
     "name": "stdout",
     "output_type": "stream",
     "text": [
      "15374.txt\n",
      "326982.txt\n",
      "1140437.txt\n",
      "346938.txt\n",
      "1117221.txt\n",
      "343303.txt\n",
      "1033618.txt\n"
     ]
    },
    {
     "name": "stderr",
     "output_type": "stream",
     "text": [
      " 18%|█▊        | 17038/93031 [00:12<00:53, 1410.50it/s]"
     ]
    },
    {
     "name": "stdout",
     "output_type": "stream",
     "text": [
      "1147827.txt\n",
      "884930.txt\n",
      "1035241.txt\n",
      "879671.txt\n",
      "327652.txt\n"
     ]
    },
    {
     "name": "stderr",
     "output_type": "stream",
     "text": [
      " 19%|█▊        | 17322/93031 [00:12<00:55, 1367.67it/s]"
     ]
    },
    {
     "name": "stdout",
     "output_type": "stream",
     "text": [
      "524114.txt\n",
      "12157.txt\n",
      "353689.txt\n",
      "509904.txt\n",
      "1247876.txt\n"
     ]
    },
    {
     "name": "stderr",
     "output_type": "stream",
     "text": [
      " 19%|█▉        | 17753/93031 [00:12<00:53, 1413.04it/s]"
     ]
    },
    {
     "name": "stdout",
     "output_type": "stream",
     "text": [
      "1150418.txt\n",
      "315184.txt\n",
      "747347.txt\n",
      "498010.txt\n",
      "824574.txt\n"
     ]
    },
    {
     "name": "stderr",
     "output_type": "stream",
     "text": [
      " 20%|█▉        | 18184/93031 [00:13<00:53, 1411.52it/s]"
     ]
    },
    {
     "name": "stdout",
     "output_type": "stream",
     "text": [
      "130357.txt\n",
      "1238091.txt\n",
      "804465.txt\n",
      "914886.txt\n"
     ]
    },
    {
     "name": "stderr",
     "output_type": "stream",
     "text": [
      " 20%|█▉        | 18470/93031 [00:13<00:53, 1406.49it/s]"
     ]
    },
    {
     "name": "stdout",
     "output_type": "stream",
     "text": [
      "15404.txt\n",
      "126079.txt\n",
      "60716.txt\n",
      "730332.txt\n",
      "374977.txt\n"
     ]
    },
    {
     "name": "stderr",
     "output_type": "stream",
     "text": [
      " 20%|██        | 18896/93031 [00:13<00:52, 1399.65it/s]"
     ]
    },
    {
     "name": "stdout",
     "output_type": "stream",
     "text": [
      "977460.txt\n",
      "1224725.txt\n",
      "145327.txt\n",
      "1229215.txt\n"
     ]
    },
    {
     "name": "stderr",
     "output_type": "stream",
     "text": [
      " 21%|██        | 19180/93031 [00:13<00:52, 1405.33it/s]"
     ]
    },
    {
     "name": "stdout",
     "output_type": "stream",
     "text": [
      "337735.txt\n",
      "1149217.txt\n",
      "55626.txt\n",
      "955789.txt\n",
      "1128164.txt\n",
      "355629.txt\n",
      "1344774.txt\n",
      "250989.txt\n"
     ]
    },
    {
     "name": "stderr",
     "output_type": "stream",
     "text": [
      " 21%|██        | 19603/93031 [00:14<00:52, 1395.42it/s]"
     ]
    },
    {
     "name": "stdout",
     "output_type": "stream",
     "text": [
      "916840.txt\n",
      "544966.txt\n"
     ]
    },
    {
     "name": "stderr",
     "output_type": "stream",
     "text": [
      " 21%|██▏       | 19885/93031 [00:14<00:52, 1396.51it/s]"
     ]
    },
    {
     "name": "stdout",
     "output_type": "stream",
     "text": [
      "1115030.txt\n",
      "232329.txt\n"
     ]
    },
    {
     "name": "stderr",
     "output_type": "stream",
     "text": [
      " 22%|██▏       | 20163/93031 [00:14<00:53, 1365.91it/s]"
     ]
    },
    {
     "name": "stdout",
     "output_type": "stream",
     "text": [
      "308738.txt\n",
      "214311.txt\n",
      "523094.txt\n",
      "315755.txt\n",
      "100492.txt\n",
      "283045.txt\n",
      "1297712.txt\n"
     ]
    },
    {
     "name": "stderr",
     "output_type": "stream",
     "text": [
      " 22%|██▏       | 20436/93031 [00:14<00:53, 1355.22it/s]"
     ]
    },
    {
     "name": "stdout",
     "output_type": "stream",
     "text": [
      "61025.txt\n",
      "967504.txt\n",
      "333793.txt\n",
      "1007384.txt\n",
      "1108909.txt\n"
     ]
    },
    {
     "name": "stderr",
     "output_type": "stream",
     "text": [
      " 23%|██▎       | 20983/93031 [00:15<00:53, 1339.16it/s]"
     ]
    },
    {
     "name": "stdout",
     "output_type": "stream",
     "text": [
      "918475.txt\n",
      "1180572.txt\n",
      "195113.txt\n",
      "353517.txt\n",
      "665520.txt\n"
     ]
    },
    {
     "name": "stderr",
     "output_type": "stream",
     "text": [
      " 23%|██▎       | 21261/93031 [00:15<00:52, 1361.38it/s]"
     ]
    },
    {
     "name": "stdout",
     "output_type": "stream",
     "text": [
      "673430.txt\n",
      "355172.txt\n",
      "1114850.txt\n",
      "155684.txt\n"
     ]
    },
    {
     "name": "stderr",
     "output_type": "stream",
     "text": [
      " 23%|██▎       | 21533/93031 [00:15<00:53, 1344.45it/s]"
     ]
    },
    {
     "name": "stdout",
     "output_type": "stream",
     "text": [
      "802149.txt\n",
      "949362.txt\n"
     ]
    },
    {
     "name": "stderr",
     "output_type": "stream",
     "text": [
      " 24%|██▎       | 21932/93031 [00:15<00:54, 1303.69it/s]"
     ]
    },
    {
     "name": "stdout",
     "output_type": "stream",
     "text": [
      "1143061.txt\n",
      "740830.txt\n",
      "114960.txt\n"
     ]
    },
    {
     "name": "stderr",
     "output_type": "stream",
     "text": [
      " 24%|██▍       | 22202/93031 [00:16<00:53, 1325.29it/s]"
     ]
    },
    {
     "name": "stdout",
     "output_type": "stream",
     "text": [
      "782595.txt\n",
      "946858.txt\n",
      "1308386.txt\n",
      "998671.txt\n",
      "576335.txt\n",
      "607206.txt\n"
     ]
    },
    {
     "name": "stderr",
     "output_type": "stream",
     "text": [
      " 24%|██▍       | 22612/93031 [00:16<00:52, 1338.09it/s]"
     ]
    },
    {
     "name": "stdout",
     "output_type": "stream",
     "text": [
      "980016.txt\n",
      "510098.txt\n",
      "246091.txt\n",
      "1277793.txt\n",
      "18486.txt\n"
     ]
    },
    {
     "name": "stderr",
     "output_type": "stream",
     "text": [
      " 25%|██▍       | 23021/93031 [00:16<00:52, 1346.06it/s]"
     ]
    },
    {
     "name": "stdout",
     "output_type": "stream",
     "text": [
      "712384.txt\n",
      "1265426.txt\n",
      "203081.txt\n",
      "1006893.txt\n"
     ]
    },
    {
     "name": "stderr",
     "output_type": "stream",
     "text": [
      " 25%|██▌       | 23438/93031 [00:16<00:50, 1378.31it/s]"
     ]
    },
    {
     "name": "stdout",
     "output_type": "stream",
     "text": [
      "1345949.txt\n",
      "12133.txt\n",
      "52517.txt\n",
      "746017.txt\n"
     ]
    },
    {
     "name": "stderr",
     "output_type": "stream",
     "text": [
      " 25%|██▌       | 23719/93031 [00:17<00:49, 1388.48it/s]"
     ]
    },
    {
     "name": "stdout",
     "output_type": "stream",
     "text": [
      "1172152.txt\n",
      "1162355.txt\n",
      "858803.txt\n"
     ]
    },
    {
     "name": "stderr",
     "output_type": "stream",
     "text": [
      " 26%|██▌       | 24136/93031 [00:17<00:50, 1377.57it/s]"
     ]
    },
    {
     "name": "stdout",
     "output_type": "stream",
     "text": [
      "509592.txt\n",
      "955116.txt\n",
      "981409.txt\n",
      "42512.txt\n"
     ]
    },
    {
     "name": "stderr",
     "output_type": "stream",
     "text": [
      " 26%|██▋       | 24550/93031 [00:17<00:50, 1357.13it/s]"
     ]
    },
    {
     "name": "stdout",
     "output_type": "stream",
     "text": [
      "894789.txt\n",
      "162107.txt\n",
      "1210579.txt\n",
      "839741.txt\n"
     ]
    },
    {
     "name": "stderr",
     "output_type": "stream",
     "text": [
      " 27%|██▋       | 24825/93031 [00:17<00:50, 1349.58it/s]"
     ]
    },
    {
     "name": "stdout",
     "output_type": "stream",
     "text": [
      "784197.txt\n",
      "1003595.txt\n",
      "522663.txt\n",
      "773480.txt\n",
      "30966.txt\n",
      "914758.txt\n",
      "298198.txt\n",
      "10334.txt\n"
     ]
    },
    {
     "name": "stderr",
     "output_type": "stream",
     "text": [
      " 27%|██▋       | 25096/93031 [00:18<00:50, 1332.08it/s]"
     ]
    },
    {
     "name": "stdout",
     "output_type": "stream",
     "text": [
      "946988.txt\n",
      "299292.txt\n",
      "333290.txt\n"
     ]
    },
    {
     "name": "stderr",
     "output_type": "stream",
     "text": [
      " 27%|██▋       | 25372/93031 [00:18<00:49, 1357.38it/s]"
     ]
    },
    {
     "name": "stdout",
     "output_type": "stream",
     "text": [
      "894819.txt\n",
      "839621.txt\n",
      "1323951.txt\n"
     ]
    },
    {
     "name": "stderr",
     "output_type": "stream",
     "text": [
      " 28%|██▊       | 25645/93031 [00:18<00:50, 1332.67it/s]"
     ]
    },
    {
     "name": "stdout",
     "output_type": "stream",
     "text": [
      "888001.txt\n",
      "788418.txt\n",
      "573835.txt\n"
     ]
    },
    {
     "name": "stderr",
     "output_type": "stream",
     "text": [
      " 28%|██▊       | 26057/93031 [00:18<00:49, 1361.24it/s]"
     ]
    },
    {
     "name": "stdout",
     "output_type": "stream",
     "text": [
      "78513.txt\n",
      "311541.txt\n",
      "145194.txt\n",
      "1300346.txt\n",
      "161022.txt\n",
      "1006943.txt\n",
      "327971.txt\n",
      "548652.txt\n"
     ]
    },
    {
     "name": "stderr",
     "output_type": "stream",
     "text": [
      " 28%|██▊       | 26335/93031 [00:19<00:50, 1319.30it/s]"
     ]
    },
    {
     "name": "stdout",
     "output_type": "stream",
     "text": [
      "1130228.txt\n",
      "727205.txt\n",
      "492412.txt\n"
     ]
    },
    {
     "name": "stderr",
     "output_type": "stream",
     "text": [
      " 29%|██▊       | 26611/93031 [00:19<00:49, 1331.13it/s]"
     ]
    },
    {
     "name": "stdout",
     "output_type": "stream",
     "text": [
      "52476.txt\n",
      "1084014.txt\n"
     ]
    },
    {
     "name": "stderr",
     "output_type": "stream",
     "text": [
      " 29%|██▉       | 26883/93031 [00:19<00:49, 1334.90it/s]"
     ]
    },
    {
     "name": "stdout",
     "output_type": "stream",
     "text": [
      "524011.txt\n",
      "374680.txt\n",
      "1307602.txt\n"
     ]
    },
    {
     "name": "stderr",
     "output_type": "stream",
     "text": [
      " 29%|██▉       | 27150/93031 [00:19<00:51, 1276.13it/s]"
     ]
    },
    {
     "name": "stdout",
     "output_type": "stream",
     "text": [
      "1136315.txt\n",
      "1111755.txt\n",
      "1312582.txt\n"
     ]
    },
    {
     "name": "stderr",
     "output_type": "stream",
     "text": [
      " 29%|██▉       | 27419/93031 [00:19<00:50, 1306.21it/s]"
     ]
    },
    {
     "name": "stdout",
     "output_type": "stream",
     "text": [
      "105770.txt\n",
      "61296.txt\n",
      "140210.txt\n"
     ]
    },
    {
     "name": "stderr",
     "output_type": "stream",
     "text": [
      " 30%|██▉       | 27694/93031 [00:20<00:48, 1334.58it/s]"
     ]
    },
    {
     "name": "stdout",
     "output_type": "stream",
     "text": [
      "891800.txt\n",
      "1002846.txt\n",
      "523391.txt\n",
      "170258.txt\n"
     ]
    },
    {
     "name": "stderr",
     "output_type": "stream",
     "text": [
      " 30%|███       | 28110/93031 [00:20<00:48, 1348.64it/s]"
     ]
    },
    {
     "name": "stdout",
     "output_type": "stream",
     "text": [
      "1176862.txt\n",
      "326717.txt\n",
      "794408.txt\n"
     ]
    },
    {
     "name": "stderr",
     "output_type": "stream",
     "text": [
      " 31%|███       | 28381/93031 [00:20<00:47, 1350.00it/s]"
     ]
    },
    {
     "name": "stdout",
     "output_type": "stream",
     "text": [
      "1344854.txt\n",
      "327804.txt\n",
      "578197.txt\n"
     ]
    },
    {
     "name": "stderr",
     "output_type": "stream",
     "text": [
      " 31%|███       | 28787/93031 [00:20<00:48, 1318.56it/s]"
     ]
    },
    {
     "name": "stdout",
     "output_type": "stream",
     "text": [
      "689854.txt\n",
      "912937.txt\n",
      "326267.txt\n",
      "115601.txt\n"
     ]
    },
    {
     "name": "stderr",
     "output_type": "stream",
     "text": [
      " 31%|███▏      | 29189/93031 [00:21<00:48, 1329.59it/s]"
     ]
    },
    {
     "name": "stdout",
     "output_type": "stream",
     "text": [
      "1122969.txt\n",
      "361674.txt\n",
      "604227.txt\n",
      "1303089.txt\n"
     ]
    },
    {
     "name": "stderr",
     "output_type": "stream",
     "text": [
      " 32%|███▏      | 29745/93031 [00:21<00:46, 1375.29it/s]"
     ]
    },
    {
     "name": "stdout",
     "output_type": "stream",
     "text": [
      "678111.txt\n",
      "1126500.txt\n",
      "777578.txt\n",
      "37429.txt\n",
      "103539.txt\n",
      "697665.txt\n"
     ]
    },
    {
     "name": "stderr",
     "output_type": "stream",
     "text": [
      " 32%|███▏      | 30026/93031 [00:21<00:46, 1363.83it/s]"
     ]
    },
    {
     "name": "stdout",
     "output_type": "stream",
     "text": [
      "48014.txt\n",
      "1003555.txt\n",
      "322567.txt\n",
      "231269.txt\n",
      "677961.txt\n",
      "1015323.txt\n",
      "1211102.txt\n",
      "308403.txt\n"
     ]
    },
    {
     "name": "stderr",
     "output_type": "stream",
     "text": [
      " 33%|███▎      | 30446/93031 [00:22<00:46, 1355.43it/s]"
     ]
    },
    {
     "name": "stdout",
     "output_type": "stream",
     "text": [
      "1141941.txt\n",
      "308371.txt\n",
      "1298732.txt\n",
      "946828.txt\n",
      "445764.txt\n"
     ]
    },
    {
     "name": "stderr",
     "output_type": "stream",
     "text": [
      " 33%|███▎      | 30582/93031 [00:22<00:47, 1328.40it/s]"
     ]
    },
    {
     "name": "stdout",
     "output_type": "stream",
     "text": [
      "273933.txt\n",
      "67197.txt\n",
      "1043987.txt\n",
      "74869.txt\n"
     ]
    },
    {
     "name": "stderr",
     "output_type": "stream",
     "text": [
      " 33%|███▎      | 30994/93031 [00:22<00:46, 1323.69it/s]"
     ]
    },
    {
     "name": "stdout",
     "output_type": "stream",
     "text": [
      "353598.txt\n"
     ]
    },
    {
     "name": "stderr",
     "output_type": "stream",
     "text": [
      " 34%|███▎      | 31261/93031 [00:22<00:46, 1322.81it/s]"
     ]
    },
    {
     "name": "stdout",
     "output_type": "stream",
     "text": [
      "1290232.txt\n",
      "304417.txt\n",
      "1114820.txt\n",
      "1299955.txt\n"
     ]
    },
    {
     "name": "stderr",
     "output_type": "stream",
     "text": [
      " 34%|███▍      | 31531/93031 [00:22<00:46, 1334.05it/s]"
     ]
    },
    {
     "name": "stdout",
     "output_type": "stream",
     "text": [
      "560651.txt\n",
      "338649.txt\n",
      "19677.txt\n",
      "898239.txt\n",
      "298399.txt\n",
      "610332.txt\n"
     ]
    },
    {
     "name": "stderr",
     "output_type": "stream",
     "text": [
      " 34%|███▍      | 31940/93031 [00:23<00:46, 1325.02it/s]"
     ]
    },
    {
     "name": "stdout",
     "output_type": "stream",
     "text": [
      "145183.txt\n",
      "1071510.txt\n",
      "329787.txt\n"
     ]
    },
    {
     "name": "stderr",
     "output_type": "stream",
     "text": [
      " 35%|███▍      | 32350/93031 [00:23<00:44, 1349.27it/s]"
     ]
    },
    {
     "name": "stdout",
     "output_type": "stream",
     "text": [
      "1060434.txt\n",
      "1297762.txt\n",
      "960597.txt\n",
      "1141411.txt\n"
     ]
    },
    {
     "name": "stderr",
     "output_type": "stream",
     "text": [
      " 35%|███▌      | 32624/93031 [00:23<00:44, 1343.48it/s]"
     ]
    },
    {
     "name": "stdout",
     "output_type": "stream",
     "text": [
      "1262264.txt\n",
      "812129.txt\n",
      "430701.txt\n"
     ]
    },
    {
     "name": "stderr",
     "output_type": "stream",
     "text": [
      " 35%|███▌      | 32896/93031 [00:24<00:44, 1348.11it/s]"
     ]
    },
    {
     "name": "stdout",
     "output_type": "stream",
     "text": [
      "1265906.txt\n",
      "27203.txt\n",
      "566786.txt\n",
      "1172232.txt\n"
     ]
    },
    {
     "name": "stderr",
     "output_type": "stream",
     "text": [
      " 36%|███▌      | 33308/93031 [00:24<00:44, 1342.75it/s]"
     ]
    },
    {
     "name": "stdout",
     "output_type": "stream",
     "text": [
      "207862.txt\n",
      "334516.txt\n"
     ]
    },
    {
     "name": "stderr",
     "output_type": "stream",
     "text": [
      " 36%|███▌      | 33578/93031 [00:24<00:44, 1330.09it/s]"
     ]
    },
    {
     "name": "stdout",
     "output_type": "stream",
     "text": [
      "574355.txt\n",
      "527692.txt\n",
      "800868.txt\n",
      "898199.txt\n",
      "415146.txt\n",
      "125500.txt\n"
     ]
    },
    {
     "name": "stderr",
     "output_type": "stream",
     "text": [
      " 36%|███▋      | 33850/93031 [00:24<00:45, 1313.12it/s]"
     ]
    },
    {
     "name": "stdout",
     "output_type": "stream",
     "text": [
      "784817.txt\n",
      "850905.txt\n",
      "746217.txt\n",
      "942326.txt\n",
      "55722.txt\n"
     ]
    },
    {
     "name": "stderr",
     "output_type": "stream",
     "text": [
      " 37%|███▋      | 34263/93031 [00:25<00:43, 1341.45it/s]"
     ]
    },
    {
     "name": "stdout",
     "output_type": "stream",
     "text": [
      "319725.txt\n",
      "665155.txt\n"
     ]
    },
    {
     "name": "stderr",
     "output_type": "stream",
     "text": [
      " 37%|███▋      | 34664/93031 [00:25<00:44, 1313.47it/s]"
     ]
    },
    {
     "name": "stdout",
     "output_type": "stream",
     "text": [
      "327608.txt\n",
      "1266176.txt\n"
     ]
    },
    {
     "name": "stderr",
     "output_type": "stream",
     "text": [
      " 38%|███▊      | 34931/93031 [00:25<00:43, 1321.03it/s]"
     ]
    },
    {
     "name": "stdout",
     "output_type": "stream",
     "text": [
      "144303.txt\n",
      "145031.txt\n",
      "914414.txt\n",
      "1185523.txt\n"
     ]
    },
    {
     "name": "stderr",
     "output_type": "stream",
     "text": [
      " 38%|███▊      | 35338/93031 [00:25<00:43, 1334.17it/s]"
     ]
    },
    {
     "name": "stdout",
     "output_type": "stream",
     "text": [
      "807440.txt\n",
      "1017069.txt\n",
      "341238.txt\n",
      "857288.txt\n",
      "517557.txt\n"
     ]
    },
    {
     "name": "stderr",
     "output_type": "stream",
     "text": [
      " 38%|███▊      | 35610/93031 [00:26<00:42, 1342.61it/s]"
     ]
    },
    {
     "name": "stdout",
     "output_type": "stream",
     "text": [
      "596061.txt\n",
      "334857.txt\n",
      "442973.txt\n"
     ]
    },
    {
     "name": "stderr",
     "output_type": "stream",
     "text": [
      " 39%|███▊      | 36027/93031 [00:26<00:41, 1376.38it/s]"
     ]
    },
    {
     "name": "stdout",
     "output_type": "stream",
     "text": [
      "214952.txt\n",
      "820564.txt\n",
      "162129.txt\n",
      "415156.txt\n"
     ]
    },
    {
     "name": "stderr",
     "output_type": "stream",
     "text": [
      " 39%|███▉      | 36444/93031 [00:26<00:41, 1365.37it/s]"
     ]
    },
    {
     "name": "stdout",
     "output_type": "stream",
     "text": [
      "784807.txt\n",
      "977400.txt\n",
      "504715.txt\n",
      "276735.txt\n",
      "781162.txt\n"
     ]
    },
    {
     "name": "stderr",
     "output_type": "stream",
     "text": [
      " 39%|███▉      | 36717/93031 [00:26<00:44, 1278.11it/s]"
     ]
    },
    {
     "name": "stdout",
     "output_type": "stream",
     "text": [
      "301581.txt\n",
      "1344714.txt\n",
      "1265916.txt\n",
      "360194.txt\n",
      "784797.txt\n"
     ]
    },
    {
     "name": "stderr",
     "output_type": "stream",
     "text": [
      " 40%|███▉      | 36984/93031 [00:27<00:43, 1302.82it/s]"
     ]
    },
    {
     "name": "stdout",
     "output_type": "stream",
     "text": [
      "102795.txt\n",
      "1285160.txt\n",
      "16555.txt\n",
      "352495.txt\n",
      "974294.txt\n",
      "1141401.txt\n",
      "1115050.txt\n"
     ]
    },
    {
     "name": "stderr",
     "output_type": "stream",
     "text": [
      " 40%|████      | 37540/93031 [00:27<00:40, 1363.38it/s]"
     ]
    },
    {
     "name": "stdout",
     "output_type": "stream",
     "text": [
      "327022.txt\n",
      "773109.txt\n",
      "141492.txt\n",
      "1060424.txt\n"
     ]
    },
    {
     "name": "stderr",
     "output_type": "stream",
     "text": [
      " 41%|████      | 37817/93031 [00:27<00:40, 1366.12it/s]"
     ]
    },
    {
     "name": "stdout",
     "output_type": "stream",
     "text": [
      "490202.txt\n",
      "613818.txt\n",
      "308017.txt\n",
      "979996.txt\n"
     ]
    },
    {
     "name": "stderr",
     "output_type": "stream",
     "text": [
      " 41%|████      | 38242/93031 [00:28<00:39, 1372.57it/s]"
     ]
    },
    {
     "name": "stdout",
     "output_type": "stream",
     "text": [
      "1071500.txt\n",
      "885250.txt\n",
      "536375.txt\n",
      "15075.txt\n"
     ]
    },
    {
     "name": "stderr",
     "output_type": "stream",
     "text": [
      " 41%|████▏     | 38520/93031 [00:28<00:39, 1371.11it/s]"
     ]
    },
    {
     "name": "stdout",
     "output_type": "stream",
     "text": [
      "61086.txt\n",
      "898229.txt\n",
      "315250.txt\n"
     ]
    },
    {
     "name": "stderr",
     "output_type": "stream",
     "text": [
      " 42%|████▏     | 38799/93031 [00:28<00:39, 1378.29it/s]"
     ]
    },
    {
     "name": "stdout",
     "output_type": "stream",
     "text": [
      "129277.txt\n",
      "1283510.txt\n",
      "511245.txt\n",
      "1114830.txt\n",
      "43031.txt\n"
     ]
    },
    {
     "name": "stderr",
     "output_type": "stream",
     "text": [
      " 42%|████▏     | 39075/93031 [00:28<00:39, 1360.88it/s]"
     ]
    },
    {
     "name": "stdout",
     "output_type": "stream",
     "text": [
      "376708.txt\n",
      "663864.txt\n",
      "13148.txt\n"
     ]
    },
    {
     "name": "stderr",
     "output_type": "stream",
     "text": [
      " 42%|████▏     | 39356/93031 [00:28<00:39, 1369.32it/s]"
     ]
    },
    {
     "name": "stdout",
     "output_type": "stream",
     "text": [
      "879438.txt\n",
      "1141951.txt\n",
      "298000.txt\n"
     ]
    },
    {
     "name": "stderr",
     "output_type": "stream",
     "text": [
      " 43%|████▎     | 39770/93031 [00:29<00:39, 1339.92it/s]"
     ]
    },
    {
     "name": "stdout",
     "output_type": "stream",
     "text": [
      "1345219.txt\n",
      "664925.txt\n",
      "1221774.txt\n"
     ]
    },
    {
     "name": "stderr",
     "output_type": "stream",
     "text": [
      " 43%|████▎     | 40181/93031 [00:29<00:39, 1352.15it/s]"
     ]
    },
    {
     "name": "stdout",
     "output_type": "stream",
     "text": [
      "677971.txt\n",
      "1130831.txt\n",
      "293425.txt\n",
      "805281.txt\n",
      "678101.txt\n"
     ]
    },
    {
     "name": "stderr",
     "output_type": "stream",
     "text": [
      " 44%|████▎     | 40589/93031 [00:29<00:39, 1342.52it/s]"
     ]
    },
    {
     "name": "stdout",
     "output_type": "stream",
     "text": [
      "754428.txt\n",
      "327143.txt\n"
     ]
    },
    {
     "name": "stderr",
     "output_type": "stream",
     "text": [
      " 44%|████▍     | 40859/93031 [00:29<00:40, 1276.92it/s]"
     ]
    },
    {
     "name": "stdout",
     "output_type": "stream",
     "text": [
      "642506.txt\n",
      "523154.txt\n",
      "326277.txt\n",
      "375149.txt\n",
      "334897.txt\n"
     ]
    },
    {
     "name": "stderr",
     "output_type": "stream",
     "text": [
      " 44%|████▍     | 41113/93031 [00:30<00:46, 1110.94it/s]"
     ]
    },
    {
     "name": "stdout",
     "output_type": "stream",
     "text": [
      "1221574.txt\n"
     ]
    },
    {
     "name": "stderr",
     "output_type": "stream",
     "text": [
      " 44%|████▍     | 41350/93031 [00:30<00:45, 1146.00it/s]"
     ]
    },
    {
     "name": "stdout",
     "output_type": "stream",
     "text": [
      "578187.txt\n",
      "665620.txt\n",
      "26278.txt\n",
      "1247626.txt\n",
      "1095914.txt\n",
      "912927.txt\n"
     ]
    },
    {
     "name": "stderr",
     "output_type": "stream",
     "text": [
      " 45%|████▍     | 41728/93031 [00:30<00:42, 1212.00it/s]"
     ]
    },
    {
     "name": "stdout",
     "output_type": "stream",
     "text": [
      "730392.txt\n",
      "53432.txt\n",
      "1159113.txt\n",
      "655250.txt\n"
     ]
    },
    {
     "name": "stderr",
     "output_type": "stream",
     "text": [
      " 45%|████▌     | 41981/93031 [00:30<00:41, 1239.42it/s]"
     ]
    },
    {
     "name": "stdout",
     "output_type": "stream",
     "text": [
      "1290432.txt\n",
      "690681.txt\n",
      "1002856.txt\n",
      "309041.txt\n",
      "929219.txt\n"
     ]
    },
    {
     "name": "stderr",
     "output_type": "stream",
     "text": [
      " 45%|████▌     | 42245/93031 [00:31<00:42, 1206.71it/s]"
     ]
    },
    {
     "name": "stdout",
     "output_type": "stream",
     "text": [
      "433743.txt\n",
      "305900.txt\n",
      "1111745.txt\n",
      "2676.txt\n",
      "1302959.txt\n",
      "629953.txt\n"
     ]
    },
    {
     "name": "stderr",
     "output_type": "stream",
     "text": [
      " 46%|████▌     | 42833/93031 [00:31<00:45, 1091.40it/s]"
     ]
    },
    {
     "name": "stdout",
     "output_type": "stream",
     "text": [
      "777608.txt\n",
      "866320.txt\n",
      "502950.txt\n"
     ]
    },
    {
     "name": "stderr",
     "output_type": "stream",
     "text": [
      " 46%|████▋     | 43171/93031 [00:31<00:45, 1101.55it/s]"
     ]
    },
    {
     "name": "stdout",
     "output_type": "stream",
     "text": [
      "4777.txt\n",
      "895069.txt\n",
      "999121.txt\n",
      "258811.txt\n"
     ]
    },
    {
     "name": "stderr",
     "output_type": "stream",
     "text": [
      " 47%|████▋     | 43506/93031 [00:32<00:44, 1108.38it/s]"
     ]
    },
    {
     "name": "stdout",
     "output_type": "stream",
     "text": [
      "1130238.txt\n",
      "362596.txt\n",
      "727215.txt\n",
      "492402.txt\n",
      "308773.txt\n"
     ]
    },
    {
     "name": "stderr",
     "output_type": "stream",
     "text": [
      " 47%|████▋     | 43824/93031 [00:32<00:55, 882.86it/s] "
     ]
    },
    {
     "name": "stdout",
     "output_type": "stream",
     "text": [
      "312058.txt\n",
      "1303139.txt\n",
      "297708.txt\n"
     ]
    },
    {
     "name": "stderr",
     "output_type": "stream",
     "text": [
      " 47%|████▋     | 44126/93031 [00:33<00:53, 919.67it/s]"
     ]
    },
    {
     "name": "stdout",
     "output_type": "stream",
     "text": [
      "1257583.txt\n",
      "314398.txt\n"
     ]
    },
    {
     "name": "stderr",
     "output_type": "stream",
     "text": [
      " 48%|████▊     | 44346/93031 [00:33<00:48, 1002.89it/s]"
     ]
    },
    {
     "name": "stdout",
     "output_type": "stream",
     "text": [
      "1264613.txt\n",
      "406289.txt\n",
      "155426.txt\n"
     ]
    },
    {
     "name": "stderr",
     "output_type": "stream",
     "text": [
      " 48%|████▊     | 44782/93031 [00:33<00:45, 1065.17it/s]"
     ]
    },
    {
     "name": "stdout",
     "output_type": "stream",
     "text": [
      "159963.txt\n",
      "1323941.txt\n",
      "327236.txt\n",
      "1028853.txt\n"
     ]
    },
    {
     "name": "stderr",
     "output_type": "stream",
     "text": [
      " 49%|████▊     | 45214/93031 [00:34<00:44, 1065.21it/s]"
     ]
    },
    {
     "name": "stdout",
     "output_type": "stream",
     "text": [
      "894799.txt\n",
      "839751.txt\n"
     ]
    },
    {
     "name": "stderr",
     "output_type": "stream",
     "text": [
      " 49%|████▉     | 45432/93031 [00:34<00:44, 1066.42it/s]"
     ]
    },
    {
     "name": "stdout",
     "output_type": "stream",
     "text": [
      "326909.txt\n",
      "591240.txt\n",
      "1003585.txt\n",
      "1171852.txt\n",
      "955106.txt\n"
     ]
    },
    {
     "name": "stderr",
     "output_type": "stream",
     "text": [
      " 49%|████▉     | 45760/93031 [00:34<00:43, 1084.93it/s]"
     ]
    },
    {
     "name": "stdout",
     "output_type": "stream",
     "text": [
      "325569.txt\n",
      "1141761.txt\n",
      "1114990.txt\n"
     ]
    },
    {
     "name": "stderr",
     "output_type": "stream",
     "text": [
      " 50%|████▉     | 46082/93031 [00:34<00:44, 1048.80it/s]"
     ]
    },
    {
     "name": "stdout",
     "output_type": "stream",
     "text": [
      "606392.txt\n",
      "140822.txt\n",
      "300272.txt\n",
      "15116.txt\n"
     ]
    },
    {
     "name": "stderr",
     "output_type": "stream",
     "text": [
      " 50%|█████     | 46517/93031 [00:35<00:43, 1067.46it/s]"
     ]
    },
    {
     "name": "stdout",
     "output_type": "stream",
     "text": [
      "326504.txt\n",
      "505192.txt\n",
      "364723.txt\n",
      "753407.txt\n",
      "700739.txt\n"
     ]
    },
    {
     "name": "stderr",
     "output_type": "stream",
     "text": [
      " 50%|█████     | 46732/93031 [00:35<00:43, 1062.47it/s]"
     ]
    },
    {
     "name": "stdout",
     "output_type": "stream",
     "text": [
      "1210941.txt\n",
      "227159.txt\n"
     ]
    },
    {
     "name": "stderr",
     "output_type": "stream",
     "text": [
      " 51%|█████     | 47055/93031 [00:35<00:43, 1063.78it/s]"
     ]
    },
    {
     "name": "stdout",
     "output_type": "stream",
     "text": [
      "897909.txt\n",
      "65371.txt\n",
      "368855.txt\n"
     ]
    },
    {
     "name": "stderr",
     "output_type": "stream",
     "text": [
      " 51%|█████     | 47391/93031 [00:36<00:41, 1098.19it/s]"
     ]
    },
    {
     "name": "stdout",
     "output_type": "stream",
     "text": [
      "504929.txt\n",
      "47477.txt\n",
      "326737.txt\n",
      "284382.txt\n"
     ]
    },
    {
     "name": "stderr",
     "output_type": "stream",
     "text": [
      " 51%|█████▏    | 47732/93031 [00:36<00:40, 1120.13it/s]"
     ]
    },
    {
     "name": "stdout",
     "output_type": "stream",
     "text": [
      "965037.txt\n",
      "1313723.txt\n",
      "673258.txt\n"
     ]
    },
    {
     "name": "stderr",
     "output_type": "stream",
     "text": [
      " 52%|█████▏    | 47954/93031 [00:36<00:41, 1074.94it/s]"
     ]
    },
    {
     "name": "stdout",
     "output_type": "stream",
     "text": [
      "488052.txt\n",
      "319510.txt\n",
      "314801.txt\n"
     ]
    },
    {
     "name": "stderr",
     "output_type": "stream",
     "text": [
      " 52%|█████▏    | 48402/93031 [00:36<00:40, 1107.32it/s]"
     ]
    },
    {
     "name": "stdout",
     "output_type": "stream",
     "text": [
      "1260861.txt\n",
      "546461.txt\n",
      "777638.txt\n"
     ]
    },
    {
     "name": "stderr",
     "output_type": "stream",
     "text": [
      " 53%|█████▎    | 48971/93031 [00:37<00:42, 1025.18it/s]"
     ]
    },
    {
     "name": "stdout",
     "output_type": "stream",
     "text": [
      "140768.txt\n",
      "752645.txt\n"
     ]
    },
    {
     "name": "stderr",
     "output_type": "stream",
     "text": [
      " 53%|█████▎    | 49178/93031 [00:37<00:45, 955.68it/s] "
     ]
    },
    {
     "name": "stdout",
     "output_type": "stream",
     "text": [
      "76279.txt\n",
      "727225.txt\n",
      "317139.txt\n",
      "788388.txt\n",
      "1130208.txt\n",
      "314356.txt\n"
     ]
    },
    {
     "name": "stderr",
     "output_type": "stream",
     "text": [
      " 53%|█████▎    | 49488/93031 [00:38<00:43, 1001.49it/s]"
     ]
    },
    {
     "name": "stdout",
     "output_type": "stream",
     "text": [
      "1135364.txt\n",
      "1344524.txt\n"
     ]
    },
    {
     "name": "stderr",
     "output_type": "stream",
     "text": [
      " 53%|█████▎    | 49691/93031 [00:38<00:45, 950.92it/s] "
     ]
    },
    {
     "name": "stdout",
     "output_type": "stream",
     "text": [
      "9289.txt\n",
      "695496.txt\n",
      "544934.txt\n",
      "31872.txt\n",
      "612512.txt\n",
      "334736.txt\n"
     ]
    },
    {
     "name": "stderr",
     "output_type": "stream",
     "text": [
      " 54%|█████▎    | 49994/93031 [00:38<00:43, 985.02it/s]"
     ]
    },
    {
     "name": "stdout",
     "output_type": "stream",
     "text": [
      "561550.txt\n"
     ]
    },
    {
     "name": "stderr",
     "output_type": "stream",
     "text": [
      " 54%|█████▍    | 50306/93031 [00:38<00:41, 1023.68it/s]"
     ]
    },
    {
     "name": "stdout",
     "output_type": "stream",
     "text": [
      "1289032.txt\n",
      "1100686.txt\n",
      "770618.txt\n",
      "129244.txt\n"
     ]
    },
    {
     "name": "stderr",
     "output_type": "stream",
     "text": [
      " 55%|█████▍    | 50825/93031 [00:39<00:43, 966.27it/s] "
     ]
    },
    {
     "name": "stdout",
     "output_type": "stream",
     "text": [
      "955056.txt\n",
      "839761.txt\n"
     ]
    },
    {
     "name": "stderr",
     "output_type": "stream",
     "text": [
      " 55%|█████▍    | 51124/93031 [00:39<00:42, 976.35it/s]"
     ]
    },
    {
     "name": "stdout",
     "output_type": "stream",
     "text": [
      "1172402.txt\n",
      "145215.txt\n"
     ]
    },
    {
     "name": "stderr",
     "output_type": "stream",
     "text": [
      " 55%|█████▌    | 51629/93031 [00:40<00:41, 1006.10it/s]"
     ]
    },
    {
     "name": "stdout",
     "output_type": "stream",
     "text": [
      "727185.txt\n",
      "872006.txt\n"
     ]
    },
    {
     "name": "stderr",
     "output_type": "stream",
     "text": [
      " 56%|█████▌    | 51833/93031 [00:40<00:40, 1010.91it/s]"
     ]
    },
    {
     "name": "stdout",
     "output_type": "stream",
     "text": [
      "144484.txt\n",
      "333893.txt\n",
      "777598.txt\n",
      "1236005.txt\n",
      "746037.txt\n"
     ]
    },
    {
     "name": "stderr",
     "output_type": "stream",
     "text": [
      " 56%|█████▌    | 52040/93031 [00:40<00:40, 1000.87it/s]"
     ]
    },
    {
     "name": "stdout",
     "output_type": "stream",
     "text": [
      "141503.txt\n",
      "15126.txt\n"
     ]
    },
    {
     "name": "stderr",
     "output_type": "stream",
     "text": [
      " 56%|█████▌    | 52244/93031 [00:40<00:42, 959.62it/s] "
     ]
    },
    {
     "name": "stdout",
     "output_type": "stream",
     "text": [
      "333663.txt\n",
      "1015896.txt\n",
      "954996.txt\n",
      "601430.txt\n"
     ]
    },
    {
     "name": "stderr",
     "output_type": "stream",
     "text": [
      " 56%|█████▋    | 52555/93031 [00:41<00:40, 1011.11it/s]"
     ]
    },
    {
     "name": "stdout",
     "output_type": "stream",
     "text": [
      "326522.txt\n",
      "578177.txt\n",
      "826482.txt\n",
      "1329872.txt\n",
      "334867.txt\n",
      "315671.txt\n"
     ]
    },
    {
     "name": "stderr",
     "output_type": "stream",
     "text": [
      " 57%|█████▋    | 52870/93031 [00:41<00:39, 1025.86it/s]"
     ]
    },
    {
     "name": "stdout",
     "output_type": "stream",
     "text": [
      "326287.txt\n"
     ]
    },
    {
     "name": "stderr",
     "output_type": "stream",
     "text": [
      " 57%|█████▋    | 53179/93031 [00:41<00:39, 1007.96it/s]"
     ]
    },
    {
     "name": "stdout",
     "output_type": "stream",
     "text": [
      "355080.txt\n",
      "1136295.txt\n",
      "324137.txt\n",
      "1345599.txt\n"
     ]
    },
    {
     "name": "stderr",
     "output_type": "stream",
     "text": [
      " 57%|█████▋    | 53380/93031 [00:41<00:39, 991.98it/s] "
     ]
    },
    {
     "name": "stdout",
     "output_type": "stream",
     "text": [
      "265180.txt\n",
      "784837.txt\n",
      "800848.txt\n"
     ]
    },
    {
     "name": "stderr",
     "output_type": "stream",
     "text": [
      " 58%|█████▊    | 53580/93031 [00:42<00:40, 976.05it/s]"
     ]
    },
    {
     "name": "stdout",
     "output_type": "stream",
     "text": [
      "348984.txt\n",
      "1216102.txt\n"
     ]
    },
    {
     "name": "stderr",
     "output_type": "stream",
     "text": [
      " 58%|█████▊    | 54077/93031 [00:42<00:40, 970.50it/s]"
     ]
    },
    {
     "name": "stdout",
     "output_type": "stream",
     "text": [
      "1070411.txt\n",
      "60168.txt\n"
     ]
    },
    {
     "name": "stderr",
     "output_type": "stream",
     "text": [
      " 58%|█████▊    | 54274/93031 [00:42<00:40, 963.89it/s]"
     ]
    },
    {
     "name": "stdout",
     "output_type": "stream",
     "text": [
      "334293.txt\n",
      "1344724.txt\n",
      "1032385.txt\n"
     ]
    },
    {
     "name": "stderr",
     "output_type": "stream",
     "text": [
      " 59%|█████▊    | 54468/93031 [00:43<00:40, 950.84it/s]"
     ]
    },
    {
     "name": "stdout",
     "output_type": "stream",
     "text": [
      "327012.txt\n",
      "17121.txt\n",
      "819712.txt\n"
     ]
    },
    {
     "name": "stderr",
     "output_type": "stream",
     "text": [
      " 59%|█████▉    | 54656/93031 [00:43<00:51, 740.73it/s]"
     ]
    },
    {
     "name": "stdout",
     "output_type": "stream",
     "text": [
      "1262244.txt\n"
     ]
    },
    {
     "name": "stderr",
     "output_type": "stream",
     "text": [
      " 59%|█████▉    | 54901/93031 [00:43<00:49, 768.70it/s]"
     ]
    },
    {
     "name": "stdout",
     "output_type": "stream",
     "text": [
      "487982.txt\n",
      "733247.txt\n",
      "988976.txt\n"
     ]
    },
    {
     "name": "stderr",
     "output_type": "stream",
     "text": [
      " 59%|█████▉    | 55152/93031 [00:44<00:46, 813.55it/s]"
     ]
    },
    {
     "name": "stdout",
     "output_type": "stream",
     "text": [
      "595377.txt\n",
      "1127776.txt\n",
      "149941.txt\n",
      "415211.txt\n"
     ]
    },
    {
     "name": "stderr",
     "output_type": "stream",
     "text": [
      " 60%|█████▉    | 55426/93031 [00:44<00:42, 879.42it/s]"
     ]
    },
    {
     "name": "stdout",
     "output_type": "stream",
     "text": [
      "343556.txt\n",
      "898219.txt\n"
     ]
    },
    {
     "name": "stderr",
     "output_type": "stream",
     "text": [
      " 60%|█████▉    | 55618/93031 [00:44<00:40, 920.68it/s]"
     ]
    },
    {
     "name": "stdout",
     "output_type": "stream",
     "text": [
      "317852.txt\n",
      "1101766.txt\n",
      "1130593.txt\n"
     ]
    },
    {
     "name": "stderr",
     "output_type": "stream",
     "text": [
      " 60%|██████    | 55899/93031 [00:44<00:40, 921.44it/s]"
     ]
    },
    {
     "name": "stdout",
     "output_type": "stream",
     "text": [
      "123030.txt\n",
      "1152699.txt\n",
      "955096.txt\n",
      "773460.txt\n"
     ]
    },
    {
     "name": "stderr",
     "output_type": "stream",
     "text": [
      " 60%|██████    | 56188/93031 [00:45<00:38, 944.89it/s]"
     ]
    },
    {
     "name": "stdout",
     "output_type": "stream",
     "text": [
      "315274.txt\n",
      "67174.txt\n",
      "1325481.txt\n",
      "1247576.txt\n",
      "1025439.txt\n",
      "488695.txt\n",
      "330745.txt\n"
     ]
    },
    {
     "name": "stderr",
     "output_type": "stream",
     "text": [
      " 61%|██████    | 56378/93031 [00:45<00:38, 942.73it/s]"
     ]
    },
    {
     "name": "stdout",
     "output_type": "stream",
     "text": [
      "887891.txt\n",
      "433771.txt\n",
      "948762.txt\n"
     ]
    },
    {
     "name": "stderr",
     "output_type": "stream",
     "text": [
      " 61%|██████    | 56678/93031 [00:45<00:37, 976.03it/s]"
     ]
    },
    {
     "name": "stdout",
     "output_type": "stream",
     "text": [
      "299474.txt\n",
      "249443.txt\n",
      "312447.txt\n",
      "1141961.txt\n"
     ]
    },
    {
     "name": "stderr",
     "output_type": "stream",
     "text": [
      " 61%|██████    | 56979/93031 [00:45<00:37, 970.10it/s]"
     ]
    },
    {
     "name": "stdout",
     "output_type": "stream",
     "text": [
      "665410.txt\n",
      "1339651.txt\n"
     ]
    },
    {
     "name": "stderr",
     "output_type": "stream",
     "text": [
      " 62%|██████▏   | 57276/93031 [00:46<00:37, 959.26it/s]"
     ]
    },
    {
     "name": "stdout",
     "output_type": "stream",
     "text": [
      "490192.txt\n",
      "1281280.txt\n",
      "977380.txt\n",
      "679944.txt\n",
      "1315393.txt\n"
     ]
    },
    {
     "name": "stderr",
     "output_type": "stream",
     "text": [
      " 62%|██████▏   | 57580/93031 [00:46<00:35, 993.85it/s]"
     ]
    },
    {
     "name": "stdout",
     "output_type": "stream",
     "text": [
      "595217.txt\n",
      "678131.txt\n"
     ]
    },
    {
     "name": "stderr",
     "output_type": "stream",
     "text": [
      " 62%|██████▏   | 57886/93031 [00:46<00:34, 1005.52it/s]"
     ]
    },
    {
     "name": "stdout",
     "output_type": "stream",
     "text": [
      "300282.txt\n",
      "1084624.txt\n",
      "1328576.txt\n"
     ]
    },
    {
     "name": "stderr",
     "output_type": "stream",
     "text": [
      " 63%|██████▎   | 58297/93031 [00:47<00:35, 988.80it/s] "
     ]
    },
    {
     "name": "stdout",
     "output_type": "stream",
     "text": [
      "887261.txt\n",
      "373254.txt\n",
      "754408.txt\n",
      "1077031.txt\n"
     ]
    },
    {
     "name": "stderr",
     "output_type": "stream",
     "text": [
      " 63%|██████▎   | 58697/93031 [00:47<00:36, 948.94it/s] "
     ]
    },
    {
     "name": "stdout",
     "output_type": "stream",
     "text": [
      "492232.txt\n",
      "65405.txt\n",
      "12855.txt\n"
     ]
    },
    {
     "name": "stderr",
     "output_type": "stream",
     "text": [
      " 63%|██████▎   | 58983/93031 [00:48<00:36, 933.99it/s]"
     ]
    },
    {
     "name": "stdout",
     "output_type": "stream",
     "text": [
      "1003565.txt\n",
      "224654.txt\n",
      "499830.txt\n",
      "490182.txt\n",
      "375341.txt\n",
      "1281290.txt\n",
      "4379.txt\n"
     ]
    },
    {
     "name": "stderr",
     "output_type": "stream",
     "text": [
      " 64%|██████▎   | 59170/93031 [00:48<00:36, 924.29it/s]"
     ]
    },
    {
     "name": "stdout",
     "output_type": "stream",
     "text": [
      "1265116.txt\n",
      "333300.txt\n",
      "351208.txt\n",
      "923058.txt\n",
      "1280617.txt\n",
      "67038.txt\n",
      "299302.txt\n"
     ]
    },
    {
     "name": "stderr",
     "output_type": "stream",
     "text": [
      " 64%|██████▍   | 59638/93031 [00:48<00:36, 904.85it/s]"
     ]
    },
    {
     "name": "stdout",
     "output_type": "stream",
     "text": [
      "952851.txt\n",
      "421417.txt\n"
     ]
    },
    {
     "name": "stderr",
     "output_type": "stream",
     "text": [
      " 64%|██████▍   | 59822/93031 [00:48<00:36, 909.79it/s]"
     ]
    },
    {
     "name": "stdout",
     "output_type": "stream",
     "text": [
      "327215.txt\n",
      "948772.txt\n"
     ]
    },
    {
     "name": "stderr",
     "output_type": "stream",
     "text": [
      " 65%|██████▍   | 60006/93031 [00:49<00:36, 910.22it/s]"
     ]
    },
    {
     "name": "stdout",
     "output_type": "stream",
     "text": [
      "966470.txt\n",
      "52849.txt\n",
      "1114810.txt\n",
      "1345359.txt\n"
     ]
    },
    {
     "name": "stderr",
     "output_type": "stream",
     "text": [
      " 65%|██████▍   | 60286/93031 [00:49<00:35, 918.28it/s]"
     ]
    },
    {
     "name": "stdout",
     "output_type": "stream",
     "text": [
      "1021129.txt\n",
      "1325491.txt\n",
      "723253.txt\n",
      "898209.txt\n"
     ]
    },
    {
     "name": "stderr",
     "output_type": "stream",
     "text": [
      " 65%|██████▌   | 60573/93031 [00:49<00:34, 934.50it/s]"
     ]
    },
    {
     "name": "stdout",
     "output_type": "stream",
     "text": [
      "1159535.txt\n",
      "522320.txt\n"
     ]
    },
    {
     "name": "stderr",
     "output_type": "stream",
     "text": [
      " 65%|██████▌   | 60861/93031 [00:50<00:34, 934.67it/s]"
     ]
    },
    {
     "name": "stdout",
     "output_type": "stream",
     "text": [
      "149951.txt\n",
      "1141391.txt\n"
     ]
    },
    {
     "name": "stderr",
     "output_type": "stream",
     "text": [
      " 66%|██████▌   | 61234/93031 [00:50<00:34, 914.07it/s]"
     ]
    },
    {
     "name": "stdout",
     "output_type": "stream",
     "text": [
      "840844.txt\n",
      "1164138.txt\n",
      "343209.txt\n",
      "988966.txt\n",
      "773129.txt\n"
     ]
    },
    {
     "name": "stderr",
     "output_type": "stream",
     "text": [
      " 66%|██████▌   | 61425/93031 [00:50<00:34, 926.98it/s]"
     ]
    },
    {
     "name": "stdout",
     "output_type": "stream",
     "text": [
      "115949.txt\n",
      "1095894.txt\n",
      "327002.txt\n",
      "648626.txt\n"
     ]
    },
    {
     "name": "stderr",
     "output_type": "stream",
     "text": [
      " 67%|██████▋   | 61912/93031 [00:51<00:32, 967.67it/s]"
     ]
    },
    {
     "name": "stdout",
     "output_type": "stream",
     "text": [
      "162055.txt\n",
      "729019.txt\n"
     ]
    },
    {
     "name": "stderr",
     "output_type": "stream",
     "text": [
      " 67%|██████▋   | 62106/93031 [00:51<00:32, 951.36it/s]"
     ]
    },
    {
     "name": "stdout",
     "output_type": "stream",
     "text": [
      "302043.txt\n",
      "1344734.txt\n"
     ]
    },
    {
     "name": "stderr",
     "output_type": "stream",
     "text": [
      " 67%|██████▋   | 62386/93031 [00:51<00:34, 878.02it/s]"
     ]
    },
    {
     "name": "stdout",
     "output_type": "stream",
     "text": [
      "1025399.txt\n",
      "4224.txt\n",
      "282680.txt\n",
      "145373.txt\n",
      "817539.txt\n"
     ]
    },
    {
     "name": "stderr",
     "output_type": "stream",
     "text": [
      " 67%|██████▋   | 62750/93031 [00:52<00:33, 899.32it/s]"
     ]
    },
    {
     "name": "stdout",
     "output_type": "stream",
     "text": [
      "800858.txt\n",
      "1128044.txt\n",
      "624475.txt\n"
     ]
    },
    {
     "name": "stderr",
     "output_type": "stream",
     "text": [
      " 68%|██████▊   | 62943/93031 [00:52<00:32, 915.65it/s]"
     ]
    },
    {
     "name": "stdout",
     "output_type": "stream",
     "text": [
      "9648.txt\n",
      "1228995.txt\n"
     ]
    },
    {
     "name": "stderr",
     "output_type": "stream",
     "text": [
      " 68%|██████▊   | 63126/93031 [00:52<00:33, 901.07it/s]"
     ]
    },
    {
     "name": "stdout",
     "output_type": "stream",
     "text": [
      "1345589.txt\n"
     ]
    },
    {
     "name": "stderr",
     "output_type": "stream",
     "text": [
      " 68%|██████▊   | 63505/93031 [00:53<00:33, 891.39it/s]"
     ]
    },
    {
     "name": "stdout",
     "output_type": "stream",
     "text": [
      "326297.txt\n",
      "598722.txt\n",
      "1015886.txt\n"
     ]
    },
    {
     "name": "stderr",
     "output_type": "stream",
     "text": [
      " 69%|██████▊   | 63797/93031 [00:53<00:30, 947.79it/s]"
     ]
    },
    {
     "name": "stdout",
     "output_type": "stream",
     "text": [
      "601420.txt\n",
      "1338760.txt\n",
      "1095704.txt\n",
      "153667.txt\n",
      "710277.txt\n",
      "578167.txt\n"
     ]
    },
    {
     "name": "stderr",
     "output_type": "stream",
     "text": [
      " 69%|██████▉   | 64092/93031 [00:53<00:29, 968.92it/s]"
     ]
    },
    {
     "name": "stdout",
     "output_type": "stream",
     "text": [
      "333883.txt\n",
      "777588.txt\n",
      "52527.txt\n",
      "342908.txt\n",
      "859244.txt\n",
      "115624.txt\n"
     ]
    },
    {
     "name": "stderr",
     "output_type": "stream",
     "text": [
      " 69%|██████▉   | 64288/93031 [00:53<00:33, 859.87it/s]"
     ]
    },
    {
     "name": "stdout",
     "output_type": "stream",
     "text": [
      "12881.txt\n",
      "333673.txt\n"
     ]
    },
    {
     "name": "stderr",
     "output_type": "stream",
     "text": [
      " 69%|██████▉   | 64480/93031 [00:54<00:32, 869.00it/s]"
     ]
    },
    {
     "name": "stdout",
     "output_type": "stream",
     "text": [
      "798798.txt\n",
      "380320.txt\n",
      "550170.txt\n"
     ]
    },
    {
     "name": "stderr",
     "output_type": "stream",
     "text": [
      " 70%|██████▉   | 64969/93031 [00:54<00:29, 955.42it/s]"
     ]
    },
    {
     "name": "stdout",
     "output_type": "stream",
     "text": [
      "955126.txt\n",
      "146730.txt\n",
      "337603.txt\n"
     ]
    },
    {
     "name": "stderr",
     "output_type": "stream",
     "text": [
      " 70%|███████   | 65172/93031 [00:54<00:28, 983.47it/s]"
     ]
    },
    {
     "name": "stdout",
     "output_type": "stream",
     "text": [
      "517763.txt\n",
      "1129416.txt\n",
      "977350.txt\n"
     ]
    },
    {
     "name": "stderr",
     "output_type": "stream",
     "text": [
      " 70%|███████   | 65582/93031 [00:55<00:26, 1021.37it/s]"
     ]
    },
    {
     "name": "stdout",
     "output_type": "stream",
     "text": [
      "196883.txt\n"
     ]
    },
    {
     "name": "stderr",
     "output_type": "stream",
     "text": [
      " 71%|███████   | 65801/93031 [00:55<00:26, 1010.22it/s]"
     ]
    },
    {
     "name": "stdout",
     "output_type": "stream",
     "text": [
      "145359.txt\n",
      "30956.txt\n",
      "405213.txt\n",
      "839611.txt\n",
      "326685.txt\n",
      "1177422.txt\n",
      "591300.txt\n"
     ]
    },
    {
     "name": "stderr",
     "output_type": "stream",
     "text": [
      " 71%|███████   | 66122/93031 [00:55<00:25, 1048.77it/s]"
     ]
    },
    {
     "name": "stdout",
     "output_type": "stream",
     "text": [
      "298143.txt\n",
      "17494.txt\n",
      "149991.txt\n"
     ]
    },
    {
     "name": "stderr",
     "output_type": "stream",
     "text": [
      " 72%|███████▏  | 66580/93031 [00:56<00:23, 1118.77it/s]"
     ]
    },
    {
     "name": "stdout",
     "output_type": "stream",
     "text": [
      "424752.txt\n",
      "69406.txt\n",
      "300332.txt\n",
      "15095.txt\n"
     ]
    },
    {
     "name": "stderr",
     "output_type": "stream",
     "text": [
      " 72%|███████▏  | 66807/93031 [00:56<00:24, 1085.73it/s]"
     ]
    },
    {
     "name": "stdout",
     "output_type": "stream",
     "text": [
      "314409.txt\n",
      "1218263.txt\n",
      "1327093.txt\n",
      "798808.txt\n",
      "343544.txt\n",
      "31888.txt\n",
      "492422.txt\n"
     ]
    },
    {
     "name": "stderr",
     "output_type": "stream",
     "text": [
      " 72%|███████▏  | 67028/93031 [00:56<00:24, 1072.39it/s]"
     ]
    },
    {
     "name": "stdout",
     "output_type": "stream",
     "text": [
      "509602.txt\n",
      "523799.txt\n",
      "621136.txt\n",
      "293573.txt\n",
      "664442.txt\n",
      "314346.txt\n"
     ]
    },
    {
     "name": "stderr",
     "output_type": "stream",
     "text": [
      " 72%|███████▏  | 67256/93031 [00:56<00:23, 1102.66it/s]"
     ]
    },
    {
     "name": "stdout",
     "output_type": "stream",
     "text": [
      "1098394.txt\n",
      "4958.txt\n",
      "813562.txt\n",
      "487952.txt\n",
      "15043.txt\n"
     ]
    },
    {
     "name": "stderr",
     "output_type": "stream",
     "text": [
      " 73%|███████▎  | 67603/93031 [00:57<00:22, 1137.28it/s]"
     ]
    },
    {
     "name": "stdout",
     "output_type": "stream",
     "text": [
      "103641.txt\n",
      "752655.txt\n",
      "664668.txt\n",
      "252893.txt\n"
     ]
    },
    {
     "name": "stderr",
     "output_type": "stream",
     "text": [
      " 73%|███████▎  | 67835/93031 [00:57<00:21, 1147.28it/s]"
     ]
    },
    {
     "name": "stdout",
     "output_type": "stream",
     "text": [
      "64447.txt\n",
      "324087.txt\n",
      "60621.txt\n"
     ]
    },
    {
     "name": "stderr",
     "output_type": "stream",
     "text": [
      " 73%|███████▎  | 68073/93031 [00:57<00:23, 1055.59it/s]"
     ]
    },
    {
     "name": "stdout",
     "output_type": "stream",
     "text": [
      "977580.txt\n",
      "251381.txt\n",
      "1177392.txt\n",
      "604177.txt\n",
      "207851.txt\n"
     ]
    },
    {
     "name": "stderr",
     "output_type": "stream",
     "text": [
      " 73%|███████▎  | 68294/93031 [00:57<00:22, 1076.60it/s]"
     ]
    },
    {
     "name": "stdout",
     "output_type": "stream",
     "text": [
      "1103361.txt\n",
      "1232662.txt\n",
      "328093.txt\n",
      "1313733.txt\n"
     ]
    },
    {
     "name": "stderr",
     "output_type": "stream",
     "text": [
      " 74%|███████▍  | 68634/93031 [00:57<00:22, 1105.50it/s]"
     ]
    },
    {
     "name": "stdout",
     "output_type": "stream",
     "text": [
      "343168.txt\n",
      "47498.txt\n",
      "1061447.txt\n",
      "711426.txt\n"
     ]
    },
    {
     "name": "stderr",
     "output_type": "stream",
     "text": [
      " 74%|███████▍  | 68985/93031 [00:58<00:20, 1149.80it/s]"
     ]
    },
    {
     "name": "stdout",
     "output_type": "stream",
     "text": [
      "222233.txt\n",
      "694376.txt\n",
      "1344694.txt\n"
     ]
    },
    {
     "name": "stderr",
     "output_type": "stream",
     "text": [
      " 74%|███████▍  | 69222/93031 [00:58<00:21, 1113.14it/s]"
     ]
    },
    {
     "name": "stdout",
     "output_type": "stream",
     "text": [
      "64719.txt\n",
      "352515.txt\n"
     ]
    },
    {
     "name": "stderr",
     "output_type": "stream",
     "text": [
      " 75%|███████▍  | 69451/93031 [00:58<00:21, 1109.82it/s]"
     ]
    },
    {
     "name": "stdout",
     "output_type": "stream",
     "text": [
      "596081.txt\n"
     ]
    },
    {
     "name": "stderr",
     "output_type": "stream",
     "text": [
      " 75%|███████▌  | 69801/93031 [00:59<00:20, 1147.78it/s]"
     ]
    },
    {
     "name": "stdout",
     "output_type": "stream",
     "text": [
      "905248.txt\n",
      "326257.txt\n",
      "1156065.txt\n",
      "327112.txt\n"
     ]
    },
    {
     "name": "stderr",
     "output_type": "stream",
     "text": [
      " 76%|███████▌  | 70272/93031 [00:59<00:19, 1141.70it/s]"
     ]
    },
    {
     "name": "stdout",
     "output_type": "stream",
     "text": [
      "938637.txt\n",
      "487882.txt\n",
      "1051087.txt\n",
      "32262.txt\n"
     ]
    },
    {
     "name": "stderr",
     "output_type": "stream",
     "text": [
      " 76%|███████▌  | 70644/93031 [00:59<00:19, 1164.22it/s]"
     ]
    },
    {
     "name": "stdout",
     "output_type": "stream",
     "text": [
      "4308.txt\n",
      "1282924.txt\n",
      "60915.txt\n"
     ]
    },
    {
     "name": "stderr",
     "output_type": "stream",
     "text": [
      " 76%|███████▌  | 70886/93031 [00:59<00:18, 1173.08it/s]"
     ]
    },
    {
     "name": "stdout",
     "output_type": "stream",
     "text": [
      "326026.txt\n"
     ]
    },
    {
     "name": "stderr",
     "output_type": "stream",
     "text": [
      " 77%|███████▋  | 71250/93031 [01:00<00:18, 1197.34it/s]"
     ]
    },
    {
     "name": "stdout",
     "output_type": "stream",
     "text": [
      "536913.txt\n",
      "857151.txt\n",
      "373153.txt\n"
     ]
    },
    {
     "name": "stderr",
     "output_type": "stream",
     "text": [
      " 77%|███████▋  | 71737/93031 [01:00<00:17, 1213.89it/s]"
     ]
    },
    {
     "name": "stdout",
     "output_type": "stream",
     "text": [
      "326807.txt\n",
      "1060104.txt\n",
      "926025.txt\n",
      "124058.txt\n"
     ]
    },
    {
     "name": "stderr",
     "output_type": "stream",
     "text": [
      " 78%|███████▊  | 72125/93031 [01:00<00:17, 1219.72it/s]"
     ]
    },
    {
     "name": "stdout",
     "output_type": "stream",
     "text": [
      "741100.txt\n",
      "276567.txt\n",
      "782605.txt\n",
      "788328.txt\n",
      "886720.txt\n",
      "68971.txt\n",
      "544956.txt\n"
     ]
    },
    {
     "name": "stderr",
     "output_type": "stream",
     "text": [
      " 78%|███████▊  | 72394/93031 [01:01<00:17, 1178.33it/s]"
     ]
    },
    {
     "name": "stdout",
     "output_type": "stream",
     "text": [
      "553219.txt\n",
      "10835.txt\n",
      "314453.txt\n"
     ]
    },
    {
     "name": "stderr",
     "output_type": "stream",
     "text": [
      " 78%|███████▊  | 72760/93031 [01:01<00:17, 1177.26it/s]"
     ]
    },
    {
     "name": "stdout",
     "output_type": "stream",
     "text": [
      "300432.txt\n",
      "306043.txt\n",
      "1112960.txt\n",
      "345609.txt\n"
     ]
    },
    {
     "name": "stderr",
     "output_type": "stream",
     "text": [
      " 79%|███████▉  | 73281/93031 [01:01<00:15, 1262.27it/s]"
     ]
    },
    {
     "name": "stdout",
     "output_type": "stream",
     "text": [
      "127785.txt\n",
      "598196.txt\n",
      "1028394.txt\n",
      "802409.txt\n"
     ]
    },
    {
     "name": "stderr",
     "output_type": "stream",
     "text": [
      " 79%|███████▉  | 73550/93031 [01:02<00:15, 1292.28it/s]"
     ]
    },
    {
     "name": "stdout",
     "output_type": "stream",
     "text": [
      "60647.txt\n",
      "351318.txt\n",
      "61203.txt\n"
     ]
    },
    {
     "name": "stderr",
     "output_type": "stream",
     "text": [
      " 79%|███████▉  | 73937/93031 [01:02<00:15, 1250.46it/s]"
     ]
    },
    {
     "name": "stdout",
     "output_type": "stream",
     "text": [
      "949352.txt\n",
      "333238.txt\n",
      "252822.txt\n"
     ]
    },
    {
     "name": "stderr",
     "output_type": "stream",
     "text": [
      " 80%|████████  | 74425/93031 [01:02<00:15, 1186.64it/s]"
     ]
    },
    {
     "name": "stdout",
     "output_type": "stream",
     "text": [
      "113959.txt\n",
      "965727.txt\n",
      "740800.txt\n"
     ]
    },
    {
     "name": "stderr",
     "output_type": "stream",
     "text": [
      " 80%|████████  | 74666/93031 [01:03<00:16, 1113.79it/s]"
     ]
    },
    {
     "name": "stdout",
     "output_type": "stream",
     "text": [
      "980026.txt\n",
      "846101.txt\n",
      "222269.txt\n"
     ]
    },
    {
     "name": "stderr",
     "output_type": "stream",
     "text": [
      " 81%|████████  | 74901/93031 [01:03<00:15, 1141.08it/s]"
     ]
    },
    {
     "name": "stdout",
     "output_type": "stream",
     "text": [
      "296531.txt\n",
      "414769.txt\n"
     ]
    },
    {
     "name": "stderr",
     "output_type": "stream",
     "text": [
      " 81%|████████  | 75171/93031 [01:04<00:55, 322.35it/s] "
     ]
    },
    {
     "name": "stdout",
     "output_type": "stream",
     "text": [
      "246248.txt\n"
     ]
    },
    {
     "name": "stderr",
     "output_type": "stream",
     "text": [
      " 81%|████████  | 75226/93031 [01:04<00:57, 307.35it/s]"
     ]
    },
    {
     "name": "stdout",
     "output_type": "stream",
     "text": [
      "324354.txt\n"
     ]
    },
    {
     "name": "stderr",
     "output_type": "stream",
     "text": [
      " 81%|████████  | 75311/93031 [01:05<01:10, 251.39it/s]"
     ]
    },
    {
     "name": "stdout",
     "output_type": "stream",
     "text": [
      "879681.txt\n",
      "179799.txt\n"
     ]
    },
    {
     "name": "stderr",
     "output_type": "stream",
     "text": [
      " 81%|████████  | 75456/93031 [01:06<01:55, 152.58it/s]"
     ]
    },
    {
     "name": "stdout",
     "output_type": "stream",
     "text": [
      "818257.txt\n"
     ]
    },
    {
     "name": "stderr",
     "output_type": "stream",
     "text": [
      " 81%|████████  | 75550/93031 [01:06<01:10, 248.77it/s]"
     ]
    },
    {
     "name": "stdout",
     "output_type": "stream",
     "text": [
      "9349.txt\n",
      "802569.txt\n",
      "711126.txt\n"
     ]
    },
    {
     "name": "stderr",
     "output_type": "stream",
     "text": [
      " 81%|████████▏ | 75807/93031 [01:08<02:04, 138.66it/s]"
     ]
    },
    {
     "name": "stdout",
     "output_type": "stream",
     "text": [
      "762692.txt\n",
      "898469.txt\n",
      "8069.txt\n"
     ]
    },
    {
     "name": "stderr",
     "output_type": "stream",
     "text": [
      " 82%|████████▏ | 75898/93031 [01:09<02:41, 105.92it/s]"
     ]
    },
    {
     "name": "stdout",
     "output_type": "stream",
     "text": [
      "1172852.txt\n"
     ]
    },
    {
     "name": "stderr",
     "output_type": "stream",
     "text": [
      " 82%|████████▏ | 76031/93031 [01:10<01:55, 146.71it/s]"
     ]
    },
    {
     "name": "stdout",
     "output_type": "stream",
     "text": [
      "825117.txt\n",
      "1322950.txt\n"
     ]
    },
    {
     "name": "stderr",
     "output_type": "stream",
     "text": [
      " 82%|████████▏ | 76207/93031 [01:10<00:49, 341.64it/s]"
     ]
    },
    {
     "name": "stdout",
     "output_type": "stream",
     "text": [
      "880597.txt\n",
      "1071354.txt\n"
     ]
    },
    {
     "name": "stderr",
     "output_type": "stream",
     "text": [
      " 82%|████████▏ | 76431/93031 [01:11<00:37, 443.28it/s]"
     ]
    },
    {
     "name": "stdout",
     "output_type": "stream",
     "text": [
      "695756.txt\n",
      "359801.txt\n"
     ]
    },
    {
     "name": "stderr",
     "output_type": "stream",
     "text": [
      " 82%|████████▏ | 76626/93031 [01:11<00:36, 443.52it/s]"
     ]
    },
    {
     "name": "stdout",
     "output_type": "stream",
     "text": [
      "898119.txt\n",
      "1266337.txt\n",
      "959037.txt\n",
      "1346959.txt\n"
     ]
    },
    {
     "name": "stderr",
     "output_type": "stream",
     "text": [
      " 83%|████████▎ | 76924/93031 [01:13<01:13, 217.67it/s]"
     ]
    },
    {
     "name": "stdout",
     "output_type": "stream",
     "text": [
      "488032.txt\n"
     ]
    },
    {
     "name": "stderr",
     "output_type": "stream",
     "text": [
      " 83%|████████▎ | 77200/93031 [01:14<00:43, 363.16it/s]"
     ]
    },
    {
     "name": "stdout",
     "output_type": "stream",
     "text": [
      "53264.txt\n",
      "1233242.txt\n"
     ]
    },
    {
     "name": "stderr",
     "output_type": "stream",
     "text": [
      " 83%|████████▎ | 77411/93031 [01:14<00:44, 350.51it/s]"
     ]
    },
    {
     "name": "stdout",
     "output_type": "stream",
     "text": [
      "305944.txt\n"
     ]
    },
    {
     "name": "stderr",
     "output_type": "stream",
     "text": [
      " 83%|████████▎ | 77549/93031 [01:14<00:37, 408.31it/s]"
     ]
    },
    {
     "name": "stdout",
     "output_type": "stream",
     "text": [
      "489270.txt\n"
     ]
    },
    {
     "name": "stderr",
     "output_type": "stream",
     "text": [
      " 83%|████████▎ | 77637/93031 [01:15<00:37, 412.76it/s]"
     ]
    },
    {
     "name": "stdout",
     "output_type": "stream",
     "text": [
      "1094904.txt\n",
      "148181.txt\n",
      "1223904.txt\n"
     ]
    },
    {
     "name": "stderr",
     "output_type": "stream",
     "text": [
      " 84%|████████▎ | 77728/93031 [01:15<00:39, 384.28it/s]"
     ]
    },
    {
     "name": "stdout",
     "output_type": "stream",
     "text": [
      "304327.txt\n",
      "1345459.txt\n"
     ]
    },
    {
     "name": "stderr",
     "output_type": "stream",
     "text": [
      " 84%|████████▎ | 77898/93031 [01:15<00:30, 500.33it/s]"
     ]
    },
    {
     "name": "stdout",
     "output_type": "stream",
     "text": [
      "242831.txt\n"
     ]
    },
    {
     "name": "stderr",
     "output_type": "stream",
     "text": [
      " 84%|████████▍ | 78042/93031 [01:15<00:24, 600.76it/s]"
     ]
    },
    {
     "name": "stdout",
     "output_type": "stream",
     "text": [
      "1164188.txt\n",
      "195135.txt\n",
      "324544.txt\n",
      "191347.txt\n"
     ]
    },
    {
     "name": "stderr",
     "output_type": "stream",
     "text": [
      " 84%|████████▍ | 78184/93031 [01:16<00:22, 657.60it/s]"
     ]
    },
    {
     "name": "stdout",
     "output_type": "stream",
     "text": [
      "347020.txt\n",
      "727245.txt\n",
      "1093299.txt\n",
      "938026.txt\n",
      "1017199.txt\n",
      "343534.txt\n"
     ]
    },
    {
     "name": "stderr",
     "output_type": "stream",
     "text": [
      " 84%|████████▍ | 78434/93031 [01:16<00:18, 775.69it/s]"
     ]
    },
    {
     "name": "stdout",
     "output_type": "stream",
     "text": [
      "544996.txt\n",
      "1130268.txt\n"
     ]
    },
    {
     "name": "stderr",
     "output_type": "stream",
     "text": [
      " 84%|████████▍ | 78607/93031 [01:16<00:21, 670.61it/s]"
     ]
    },
    {
     "name": "stdout",
     "output_type": "stream",
     "text": [
      "1147787.txt\n",
      "742392.txt\n",
      "1006903.txt\n"
     ]
    },
    {
     "name": "stderr",
     "output_type": "stream",
     "text": [
      " 85%|████████▍ | 78861/93031 [01:17<00:18, 766.51it/s]"
     ]
    },
    {
     "name": "stdout",
     "output_type": "stream",
     "text": [
      "34759.txt\n",
      "1172072.txt\n"
     ]
    },
    {
     "name": "stderr",
     "output_type": "stream",
     "text": [
      " 85%|████████▍ | 78941/93031 [01:17<00:19, 712.59it/s]"
     ]
    },
    {
     "name": "stdout",
     "output_type": "stream",
     "text": [
      "329713.txt\n",
      "1005211.txt\n",
      "1071590.txt\n"
     ]
    },
    {
     "name": "stderr",
     "output_type": "stream",
     "text": [
      " 85%|████████▌ | 79387/93031 [01:17<00:16, 846.96it/s]"
     ]
    },
    {
     "name": "stdout",
     "output_type": "stream",
     "text": [
      "1314617.txt\n",
      "998911.txt\n",
      "820442.txt\n",
      "839661.txt\n"
     ]
    },
    {
     "name": "stderr",
     "output_type": "stream",
     "text": [
      " 86%|████████▌ | 79668/93031 [01:18<00:15, 880.15it/s]"
     ]
    },
    {
     "name": "stdout",
     "output_type": "stream",
     "text": [
      "130761.txt\n",
      "97596.txt\n"
     ]
    },
    {
     "name": "stderr",
     "output_type": "stream",
     "text": [
      " 86%|████████▌ | 79854/93031 [01:18<00:14, 903.08it/s]"
     ]
    },
    {
     "name": "stdout",
     "output_type": "stream",
     "text": [
      "927488.txt\n",
      "913077.txt\n"
     ]
    },
    {
     "name": "stderr",
     "output_type": "stream",
     "text": [
      " 86%|████████▌ | 80137/93031 [01:18<00:14, 917.74it/s]"
     ]
    },
    {
     "name": "stdout",
     "output_type": "stream",
     "text": [
      "1164228.txt\n",
      "69066.txt\n",
      "839701.txt\n",
      "52782.txt\n",
      "510068.txt\n"
     ]
    },
    {
     "name": "stderr",
     "output_type": "stream",
     "text": [
      " 86%|████████▋ | 80321/93031 [01:18<00:14, 907.68it/s]"
     ]
    },
    {
     "name": "stdout",
     "output_type": "stream",
     "text": [
      "358505.txt\n",
      "259169.txt\n",
      "840201.txt\n"
     ]
    },
    {
     "name": "stderr",
     "output_type": "stream",
     "text": [
      " 87%|████████▋ | 80519/93031 [01:18<00:13, 947.25it/s]"
     ]
    },
    {
     "name": "stdout",
     "output_type": "stream",
     "text": [
      "892421.txt\n",
      "218874.txt\n",
      "692004.txt\n"
     ]
    },
    {
     "name": "stderr",
     "output_type": "stream",
     "text": [
      " 87%|████████▋ | 80832/93031 [01:19<00:12, 992.70it/s]"
     ]
    },
    {
     "name": "stdout",
     "output_type": "stream",
     "text": [
      "953241.txt\n",
      "74962.txt\n",
      "1006863.txt\n",
      "311449.txt\n"
     ]
    },
    {
     "name": "stderr",
     "output_type": "stream",
     "text": [
      " 87%|████████▋ | 81267/93031 [01:19<00:11, 1028.70it/s]"
     ]
    },
    {
     "name": "stdout",
     "output_type": "stream",
     "text": [
      "825857.txt\n",
      "712374.txt\n",
      "353861.txt\n",
      "967494.txt\n",
      "593836.txt\n"
     ]
    },
    {
     "name": "stderr",
     "output_type": "stream",
     "text": [
      " 88%|████████▊ | 81717/93031 [01:20<00:10, 1099.14it/s]"
     ]
    },
    {
     "name": "stdout",
     "output_type": "stream",
     "text": [
      "910142.txt\n",
      "1197603.txt\n",
      "712364.txt\n",
      "308691.txt\n"
     ]
    },
    {
     "name": "stderr",
     "output_type": "stream",
     "text": [
      " 88%|████████▊ | 81958/93031 [01:20<00:09, 1146.46it/s]"
     ]
    },
    {
     "name": "stdout",
     "output_type": "stream",
     "text": [
      "69512.txt\n",
      "1006873.txt\n",
      "300232.txt\n",
      "326593.txt\n",
      "1312672.txt\n",
      "1147807.txt\n"
     ]
    },
    {
     "name": "stderr",
     "output_type": "stream",
     "text": [
      " 88%|████████▊ | 82188/93031 [01:20<00:09, 1129.64it/s]"
     ]
    },
    {
     "name": "stdout",
     "output_type": "stream",
     "text": [
      "1346579.txt\n",
      "192918.txt\n",
      "977640.txt\n",
      "840211.txt\n",
      "692014.txt\n"
     ]
    },
    {
     "name": "stderr",
     "output_type": "stream",
     "text": [
      " 89%|████████▉ | 82654/93031 [01:20<00:08, 1153.54it/s]"
     ]
    },
    {
     "name": "stdout",
     "output_type": "stream",
     "text": [
      "1164238.txt\n",
      "1308366.txt\n"
     ]
    },
    {
     "name": "stderr",
     "output_type": "stream",
     "text": [
      " 89%|████████▉ | 82892/93031 [01:21<00:08, 1169.58it/s]"
     ]
    },
    {
     "name": "stdout",
     "output_type": "stream",
     "text": [
      "1205642.txt\n",
      "81290.txt\n"
     ]
    },
    {
     "name": "stderr",
     "output_type": "stream",
     "text": [
      " 89%|████████▉ | 83131/93031 [01:21<00:08, 1180.80it/s]"
     ]
    },
    {
     "name": "stdout",
     "output_type": "stream",
     "text": [
      "143006.txt\n",
      "1314607.txt\n",
      "820452.txt\n"
     ]
    },
    {
     "name": "stderr",
     "output_type": "stream",
     "text": [
      " 90%|████████▉ | 83379/93031 [01:21<00:07, 1212.56it/s]"
     ]
    },
    {
     "name": "stdout",
     "output_type": "stream",
     "text": [
      "1289042.txt\n",
      "327289.txt\n",
      "64340.txt\n",
      "839671.txt\n"
     ]
    },
    {
     "name": "stderr",
     "output_type": "stream",
     "text": [
      " 90%|█████████ | 83870/93031 [01:21<00:07, 1186.37it/s]"
     ]
    },
    {
     "name": "stdout",
     "output_type": "stream",
     "text": [
      "788448.txt\n",
      "51674.txt\n"
     ]
    },
    {
     "name": "stderr",
     "output_type": "stream",
     "text": [
      " 91%|█████████ | 84223/93031 [01:22<00:07, 1130.40it/s]"
     ]
    },
    {
     "name": "stdout",
     "output_type": "stream",
     "text": [
      "1006913.txt\n",
      "524083.txt\n",
      "343243.txt\n",
      "69328.txt\n"
     ]
    },
    {
     "name": "stderr",
     "output_type": "stream",
     "text": [
      " 91%|█████████ | 84455/93031 [01:22<00:07, 1144.68it/s]"
     ]
    },
    {
     "name": "stdout",
     "output_type": "stream",
     "text": [
      "308726.txt\n",
      "158802.txt\n",
      "1092197.txt\n"
     ]
    },
    {
     "name": "stderr",
     "output_type": "stream",
     "text": [
      " 91%|█████████ | 84689/93031 [01:22<00:07, 1155.90it/s]"
     ]
    },
    {
     "name": "stdout",
     "output_type": "stream",
     "text": [
      "544986.txt\n",
      "127032.txt\n",
      "1130278.txt\n",
      "77881.txt\n",
      "113383.txt\n"
     ]
    },
    {
     "name": "stderr",
     "output_type": "stream",
     "text": [
      " 91%|█████████▏| 85039/93031 [01:22<00:06, 1146.80it/s]"
     ]
    },
    {
     "name": "stdout",
     "output_type": "stream",
     "text": [
      "745407.txt\n",
      "544945.txt\n",
      "489089.txt\n"
     ]
    },
    {
     "name": "stderr",
     "output_type": "stream",
     "text": [
      " 92%|█████████▏| 85495/93031 [01:23<00:07, 1055.11it/s]"
     ]
    },
    {
     "name": "stdout",
     "output_type": "stream",
     "text": [
      "71980.txt\n",
      "761980.txt\n",
      "1345449.txt\n",
      "887161.txt\n"
     ]
    },
    {
     "name": "stderr",
     "output_type": "stream",
     "text": [
      " 92%|█████████▏| 85756/93031 [01:23<00:06, 1179.46it/s]"
     ]
    },
    {
     "name": "stdout",
     "output_type": "stream",
     "text": [
      "199253.txt\n",
      "145310.txt\n",
      "423262.txt\n",
      "1344794.txt\n",
      "1302919.txt\n",
      "914866.txt\n"
     ]
    },
    {
     "name": "stderr",
     "output_type": "stream",
     "text": [
      " 93%|█████████▎| 86170/93031 [01:23<00:05, 1303.83it/s]"
     ]
    },
    {
     "name": "stdout",
     "output_type": "stream",
     "text": [
      "646287.txt\n",
      "488022.txt\n",
      "746287.txt\n",
      "695746.txt\n"
     ]
    },
    {
     "name": "stderr",
     "output_type": "stream",
     "text": [
      " 93%|█████████▎| 86449/93031 [01:24<00:04, 1347.39it/s]"
     ]
    },
    {
     "name": "stdout",
     "output_type": "stream",
     "text": [
      "1344804.txt\n",
      "59605.txt\n"
     ]
    },
    {
     "name": "stderr",
     "output_type": "stream",
     "text": [
      " 93%|█████████▎| 86854/93031 [01:24<00:04, 1318.88it/s]"
     ]
    },
    {
     "name": "stdout",
     "output_type": "stream",
     "text": [
      "314508.txt\n",
      "509702.txt\n",
      "1071344.txt\n",
      "280355.txt\n"
     ]
    },
    {
     "name": "stderr",
     "output_type": "stream",
     "text": [
      " 94%|█████████▍| 87266/93031 [01:24<00:04, 1354.54it/s]"
     ]
    },
    {
     "name": "stdout",
     "output_type": "stream",
     "text": [
      "1297692.txt\n",
      "1003705.txt\n",
      "239303.txt\n",
      "148556.txt\n",
      "324434.txt\n",
      "324344.txt\n"
     ]
    },
    {
     "name": "stderr",
     "output_type": "stream",
     "text": [
      " 94%|█████████▍| 87685/93031 [01:25<00:04, 1306.60it/s]"
     ]
    },
    {
     "name": "stdout",
     "output_type": "stream",
     "text": [
      "504595.txt\n",
      "1122939.txt\n",
      "18471.txt\n",
      "802579.txt\n"
     ]
    },
    {
     "name": "stderr",
     "output_type": "stream",
     "text": [
      " 95%|█████████▍| 88028/93031 [01:25<00:06, 831.07it/s] "
     ]
    },
    {
     "name": "stdout",
     "output_type": "stream",
     "text": [
      "176337.txt\n",
      "12821.txt\n",
      "28217.txt\n",
      "678141.txt\n",
      "305836.txt\n"
     ]
    },
    {
     "name": "stderr",
     "output_type": "stream",
     "text": [
      " 95%|█████████▍| 88119/93031 [01:25<00:06, 785.95it/s]"
     ]
    },
    {
     "name": "stdout",
     "output_type": "stream",
     "text": [
      "492905.txt\n",
      "324634.txt\n"
     ]
    },
    {
     "name": "stderr",
     "output_type": "stream",
     "text": [
      " 95%|█████████▍| 88277/93031 [01:25<00:07, 643.55it/s]"
     ]
    },
    {
     "name": "stdout",
     "output_type": "stream",
     "text": [
      "357194.txt\n",
      "298097.txt\n",
      "733197.txt\n",
      "31593.txt\n",
      "795744.txt\n",
      "753677.txt\n"
     ]
    },
    {
     "name": "stderr",
     "output_type": "stream",
     "text": [
      " 95%|█████████▌| 88473/93031 [01:26<00:08, 537.06it/s]"
     ]
    },
    {
     "name": "stdout",
     "output_type": "stream",
     "text": [
      "998651.txt\n"
     ]
    },
    {
     "name": "stderr",
     "output_type": "stream",
     "text": [
      " 95%|█████████▌| 88582/93031 [01:26<00:09, 492.25it/s]"
     ]
    },
    {
     "name": "stdout",
     "output_type": "stream",
     "text": [
      "826632.txt\n"
     ]
    },
    {
     "name": "stderr",
     "output_type": "stream",
     "text": [
      " 95%|█████████▌| 88831/93031 [01:27<00:08, 480.70it/s]"
     ]
    },
    {
     "name": "stdout",
     "output_type": "stream",
     "text": [
      "15394.txt\n"
     ]
    },
    {
     "name": "stderr",
     "output_type": "stream",
     "text": [
      " 96%|█████████▌| 89128/93031 [01:27<00:07, 495.03it/s]"
     ]
    },
    {
     "name": "stdout",
     "output_type": "stream",
     "text": [
      "985774.txt\n",
      "164492.txt\n",
      "708707.txt\n"
     ]
    },
    {
     "name": "stderr",
     "output_type": "stream",
     "text": [
      " 96%|█████████▌| 89234/93031 [01:28<00:08, 432.54it/s]"
     ]
    },
    {
     "name": "stdout",
     "output_type": "stream",
     "text": [
      "351308.txt\n",
      "587273.txt\n"
     ]
    },
    {
     "name": "stderr",
     "output_type": "stream",
     "text": [
      " 96%|█████████▌| 89328/93031 [01:28<00:08, 444.27it/s]"
     ]
    },
    {
     "name": "stdout",
     "output_type": "stream",
     "text": [
      "298108.txt\n"
     ]
    },
    {
     "name": "stderr",
     "output_type": "stream",
     "text": [
      " 96%|█████████▌| 89424/93031 [01:28<00:07, 456.60it/s]"
     ]
    },
    {
     "name": "stdout",
     "output_type": "stream",
     "text": [
      "61213.txt\n",
      "970528.txt\n",
      "33541.txt\n"
     ]
    },
    {
     "name": "stderr",
     "output_type": "stream",
     "text": [
      " 96%|█████████▋| 89566/93031 [01:28<00:07, 457.23it/s]"
     ]
    },
    {
     "name": "stdout",
     "output_type": "stream",
     "text": [
      "538442.txt\n",
      "676781.txt\n",
      "898269.txt\n"
     ]
    },
    {
     "name": "stderr",
     "output_type": "stream",
     "text": [
      " 96%|█████████▋| 89657/93031 [01:29<00:09, 339.21it/s]"
     ]
    },
    {
     "name": "stdout",
     "output_type": "stream",
     "text": [
      "758468.txt\n",
      "548827.txt\n"
     ]
    },
    {
     "name": "stderr",
     "output_type": "stream",
     "text": [
      " 96%|█████████▋| 89748/93031 [01:29<00:08, 378.71it/s]"
     ]
    },
    {
     "name": "stdout",
     "output_type": "stream",
     "text": [
      "802419.txt\n"
     ]
    },
    {
     "name": "stderr",
     "output_type": "stream",
     "text": [
      " 97%|█████████▋| 90023/93031 [01:30<00:07, 392.37it/s]"
     ]
    },
    {
     "name": "stdout",
     "output_type": "stream",
     "text": [
      "1098484.txt\n",
      "488342.txt\n",
      "333943.txt\n",
      "1345649.txt\n",
      "591149.txt\n"
     ]
    },
    {
     "name": "stderr",
     "output_type": "stream",
     "text": [
      " 97%|█████████▋| 90149/93031 [01:30<00:05, 497.73it/s]"
     ]
    },
    {
     "name": "stdout",
     "output_type": "stream",
     "text": [
      "347032.txt\n",
      "663414.txt\n"
     ]
    },
    {
     "name": "stderr",
     "output_type": "stream",
     "text": [
      " 97%|█████████▋| 90390/93031 [01:30<00:03, 687.27it/s]"
     ]
    },
    {
     "name": "stdout",
     "output_type": "stream",
     "text": [
      "127019.txt\n",
      "263185.txt\n"
     ]
    },
    {
     "name": "stderr",
     "output_type": "stream",
     "text": [
      " 97%|█████████▋| 90552/93031 [01:30<00:03, 747.57it/s]"
     ]
    },
    {
     "name": "stdout",
     "output_type": "stream",
     "text": [
      "306053.txt\n"
     ]
    },
    {
     "name": "stderr",
     "output_type": "stream",
     "text": [
      " 98%|█████████▊| 90707/93031 [01:31<00:03, 739.74it/s]"
     ]
    },
    {
     "name": "stdout",
     "output_type": "stream",
     "text": [
      "168915.txt\n",
      "258852.txt\n",
      "155470.txt\n"
     ]
    },
    {
     "name": "stderr",
     "output_type": "stream",
     "text": [
      " 98%|█████████▊| 91038/93031 [01:31<00:02, 797.31it/s]"
     ]
    },
    {
     "name": "stdout",
     "output_type": "stream",
     "text": [
      "1262234.txt\n",
      "977520.txt\n",
      "1247275.txt\n",
      "1159795.txt\n"
     ]
    },
    {
     "name": "stderr",
     "output_type": "stream",
     "text": [
      " 98%|█████████▊| 91480/93031 [01:32<00:01, 857.24it/s]"
     ]
    },
    {
     "name": "stdout",
     "output_type": "stream",
     "text": [
      "655415.txt\n",
      "1149237.txt\n",
      "1007164.txt\n",
      "1345489.txt\n",
      "72285.txt\n",
      "179398.txt\n",
      "374610.txt\n"
     ]
    },
    {
     "name": "stderr",
     "output_type": "stream",
     "text": [
      " 99%|█████████▉| 91934/93031 [01:32<00:01, 865.18it/s]"
     ]
    },
    {
     "name": "stdout",
     "output_type": "stream",
     "text": [
      "249432.txt\n",
      "326787.txt\n"
     ]
    },
    {
     "name": "stderr",
     "output_type": "stream",
     "text": [
      " 99%|█████████▉| 92204/93031 [01:32<00:00, 878.16it/s]"
     ]
    },
    {
     "name": "stdout",
     "output_type": "stream",
     "text": [
      "53317.txt\n",
      "108373.txt\n"
     ]
    },
    {
     "name": "stderr",
     "output_type": "stream",
     "text": [
      " 99%|█████████▉| 92561/93031 [01:33<00:00, 866.13it/s]"
     ]
    },
    {
     "name": "stdout",
     "output_type": "stream",
     "text": [
      "341250.txt\n",
      "120170.txt\n",
      "665105.txt\n"
     ]
    },
    {
     "name": "stderr",
     "output_type": "stream",
     "text": [
      "100%|█████████▉| 92740/93031 [01:33<00:00, 852.39it/s]"
     ]
    },
    {
     "name": "stdout",
     "output_type": "stream",
     "text": [
      "598742.txt\n",
      "373553.txt\n"
     ]
    },
    {
     "name": "stderr",
     "output_type": "stream",
     "text": [
      "100%|██████████| 93031/93031 [01:33<00:00, 991.40it/s]"
     ]
    },
    {
     "name": "stdout",
     "output_type": "stream",
     "text": [
      "1230406.txt\n",
      "326552.txt\n"
     ]
    },
    {
     "name": "stderr",
     "output_type": "stream",
     "text": [
      "\n"
     ]
    }
   ],
   "source": [
    "import os\n",
    "from tqdm import tqdm\n",
    "import shutil\n",
    "\n",
    "pj_path = '/Users/young/Documents/zerobase/team_project/DL_project/model_project'   # project folder path\n",
    "# before split\n",
    "img_path = pj_path + '/dataset/train/images'\n",
    "txt_path = pj_path +'/dataset/train/labels'   \n",
    "\n",
    "# after top dataset\n",
    "top_img_path = pj_path + '/top_dataset/train/images'\n",
    "top_txt_path = pj_path + '/top_dataset/train/labels'\n",
    "\n",
    "# after except top dataset\n",
    "except_top_img_path = pj_path + '/except_top_dataset/train/images'\n",
    "except_top_txt_path = pj_path + '/except_top_dataset/train/labels'\n",
    "\n",
    "\n",
    "txt_name = [f for f in os.listdir(txt_path) if f != '.DS_Store']\n",
    "\n",
    "for label in tqdm(txt_name):\n",
    "   with open(os.path.join(txt_path, label), \"r\") as f:\n",
    "    all_lines = f.readlines()\n",
    "    check = True\n",
    "\n",
    "    try:\n",
    "        for line in all_lines:\n",
    "            if line[0] == '0':\n",
    "                check = False\n",
    "                shutil.copy(os.path.join(txt_path, label), os.path.join(top_txt_path, label))\n",
    "                shutil.copy(os.path.join(img_path, label.split('.')[0] + '.jpg'), os.path.join(top_img_path, label.split('.')[0] + '.jpg'))\n",
    "                break\n",
    "\n",
    "        if check:\n",
    "            shutil.copy(os.path.join(txt_path, label), os.path.join(except_top_txt_path, label))\n",
    "            shutil.copy(os.path.join(img_path, label.split('.')[0] + '.jpg'), os.path.join(except_top_img_path, label.split('.')[0] + '.jpg'))\n",
    "    except:\n",
    "       print(label)"
   ]
  },
  {
   "cell_type": "code",
   "execution_count": 3,
   "metadata": {},
   "outputs": [
    {
     "name": "stderr",
     "output_type": "stream",
     "text": [
      "100%|██████████| 22987/22987 [00:17<00:00, 1313.44it/s]\n"
     ]
    }
   ],
   "source": [
    "import os\n",
    "from tqdm import tqdm\n",
    "import shutil\n",
    "\n",
    "pj_path = '/Users/young/Documents/zerobase/team_project/DL_project/model_project'   # project folder path\n",
    "# before split\n",
    "img_path = pj_path + '/dataset/valid/images'\n",
    "txt_path = pj_path +'/dataset/valid/labels'   \n",
    "\n",
    "# after top dataset\n",
    "top_img_path = pj_path + '/top_dataset/valid/images'\n",
    "top_txt_path = pj_path + '/top_dataset/valid/labels'\n",
    "\n",
    "# after except top dataset\n",
    "except_top_img_path = pj_path + '/except_top_dataset/valid/images'\n",
    "except_top_txt_path = pj_path + '/except_top_dataset/valid/labels'\n",
    "\n",
    "\n",
    "txt_name = [f for f in os.listdir(txt_path) if f != '.DS_Store']\n",
    "\n",
    "for label in tqdm(txt_name):\n",
    "   with open(os.path.join(txt_path, label), \"r\") as f:\n",
    "    all_lines = f.readlines()\n",
    "    check = True\n",
    "\n",
    "    try:\n",
    "        for line in all_lines:\n",
    "            if line[0] == '0':\n",
    "                check = False\n",
    "                shutil.copy(os.path.join(txt_path, label), os.path.join(top_txt_path, label))\n",
    "                shutil.copy(os.path.join(img_path, label.split('.')[0] + '.jpg'), os.path.join(top_img_path, label.split('.')[0] + '.jpg'))\n",
    "                break\n",
    "\n",
    "        if check:\n",
    "            shutil.copy(os.path.join(txt_path, label), os.path.join(except_top_txt_path, label))\n",
    "            shutil.copy(os.path.join(img_path, label.split('.')[0] + '.jpg'), os.path.join(except_top_img_path, label.split('.')[0] + '.jpg'))\n",
    "    except:\n",
    "       print(label)"
   ]
  },
  {
   "cell_type": "code",
   "execution_count": null,
   "metadata": {},
   "outputs": [],
   "source": []
  }
 ],
 "metadata": {
  "kernelspec": {
   "display_name": "ds_study",
   "language": "python",
   "name": "python3"
  },
  "language_info": {
   "codemirror_mode": {
    "name": "ipython",
    "version": 3
   },
   "file_extension": ".py",
   "mimetype": "text/x-python",
   "name": "python",
   "nbconvert_exporter": "python",
   "pygments_lexer": "ipython3",
   "version": "3.8.16"
  },
  "orig_nbformat": 4
 },
 "nbformat": 4,
 "nbformat_minor": 2
}
