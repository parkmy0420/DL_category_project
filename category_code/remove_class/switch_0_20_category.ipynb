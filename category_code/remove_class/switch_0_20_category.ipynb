{
 "cells": [
  {
   "cell_type": "code",
   "execution_count": 8,
   "metadata": {},
   "outputs": [
    {
     "name": "stderr",
     "output_type": "stream",
     "text": [
      "  0%|          | 0/21551 [00:00<?, ?it/s]"
     ]
    },
    {
     "name": "stderr",
     "output_type": "stream",
     "text": [
      "100%|██████████| 21551/21551 [00:02<00:00, 7597.30it/s]\n"
     ]
    }
   ],
   "source": [
    "import os\n",
    "from tqdm import tqdm\n",
    "\n",
    "pj_path = '/Users/young/Documents/zerobase/team_project/DL_project/model_project'   # project folder path\n",
    "# after except top dataset\n",
    "img_path = pj_path + '/except_top_dataset/valid/images'\n",
    "txt_path = pj_path + '/except_top_dataset/valid/labels'\n",
    "switch = '/Users/young/Documents/zerobase/team_project/DL_project/model_project/except_top_dataset/valid/swich'\n",
    "\n",
    "txt_name = [f for f in os.listdir(txt_path) if f != '.DS_Store']\n",
    "\n",
    "for label in tqdm(txt_name):\n",
    "   with open(os.path.join(txt_path, label), \"r\") as f:\n",
    "    all_lines = f.readlines()\n",
    "\n",
    "    try:\n",
    "        with open(os.path.join(switch, label), 'a') as f:\n",
    "            for line in all_lines: # -> 0\n",
    "                tmp_line = line.split()\n",
    "                if tmp_line[0] == '20':\n",
    "                    tmp_line[0] = '0'\n",
    "                    f.write(' '.join(tmp_line) + '\\n')\n",
    "                else:\n",
    "                   f.write(line)\n",
    "    except:\n",
    "       print(label)"
   ]
  },
  {
   "cell_type": "code",
   "execution_count": 9,
   "metadata": {},
   "outputs": [
    {
     "name": "stderr",
     "output_type": "stream",
     "text": [
      "100%|██████████| 87491/87491 [00:13<00:00, 6499.99it/s]\n"
     ]
    }
   ],
   "source": [
    "import os\n",
    "from tqdm import tqdm\n",
    "\n",
    "pj_path = '/Users/young/Documents/zerobase/team_project/DL_project/model_project'   # project folder path\n",
    "# after except top dataset\n",
    "img_path = pj_path + '/except_top_dataset/train/images'\n",
    "txt_path = pj_path + '/except_top_dataset/train/labels'\n",
    "switch = '/Users/young/Documents/zerobase/team_project/DL_project/model_project/except_top_dataset/train/swich'\n",
    "\n",
    "txt_name = [f for f in os.listdir(txt_path) if f != '.DS_Store']\n",
    "\n",
    "for label in tqdm(txt_name):\n",
    "   with open(os.path.join(txt_path, label), \"r\") as f:\n",
    "    all_lines = f.readlines()\n",
    "\n",
    "    try:\n",
    "        with open(os.path.join(switch, label), 'a') as f:\n",
    "            for line in all_lines: # -> 0\n",
    "                tmp_line = line.split()\n",
    "                if tmp_line[0] == '20':\n",
    "                    tmp_line[0] = '0'\n",
    "                    f.write(' '.join(tmp_line) + '\\n')\n",
    "                else:\n",
    "                   f.write(line)\n",
    "    except:\n",
    "       print(label)"
   ]
  },
  {
   "cell_type": "code",
   "execution_count": null,
   "metadata": {},
   "outputs": [],
   "source": []
  }
 ],
 "metadata": {
  "kernelspec": {
   "display_name": "ds_study",
   "language": "python",
   "name": "python3"
  },
  "language_info": {
   "codemirror_mode": {
    "name": "ipython",
    "version": 3
   },
   "file_extension": ".py",
   "mimetype": "text/x-python",
   "name": "python",
   "nbconvert_exporter": "python",
   "pygments_lexer": "ipython3",
   "version": "3.8.16"
  },
  "orig_nbformat": 4
 },
 "nbformat": 4,
 "nbformat_minor": 2
}
