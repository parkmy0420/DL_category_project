{
 "cells": [
  {
   "cell_type": "code",
   "execution_count": 30,
   "metadata": {},
   "outputs": [],
   "source": [
    "import os\n",
    "import shutil\n",
    "import random\n",
    "from tqdm import tqdm\n",
    "\n",
    "def split_train_valid(image_folder, label_folder, train_folder, valid_folder, split_ratio=0.8):\n",
    "    \n",
    "    os.makedirs(train_folder, exist_ok=True)    # dir (생성 없을 경우에만)\n",
    "    os.makedirs(valid_folder, exist_ok=True)\n",
    "\n",
    "    image_files = [file for file in os.listdir(image_folder) if file.endswith('.jpg')]\n",
    "\n",
    "    random.seed(42)\n",
    "    random.shuffle(image_files)\n",
    "\n",
    "    split_index = int(len(image_files) * split_ratio)   # 8:2로 train, valid 나누기 위한 인덱스 작업\n",
    "\n",
    "    def split_def(start_idx, end_idx, to_folder):   # 나눈 인덱스로 파일 가져와서 저장\n",
    "        for file in tqdm(image_files[start_idx:end_idx]):\n",
    "            image_path = os.path.join(image_folder, file)\n",
    "            label_path = os.path.join(label_folder, file.replace('.jpg', '.txt'))   # why? jpg -> txt\n",
    "            shutil.copy(image_path, os.path.join(to_folder, 'images'))  # replace, copy 중에 골라야함\n",
    "            shutil.copy(label_path, os.path.join(to_folder, 'labels'))\n",
    "\n",
    "    print('train_split')\n",
    "    split_def(0, split_index, train_folder)\n",
    "\n",
    "    print('valid_split')\n",
    "    split_def(split_index, len(image_files), valid_folder)"
   ]
  },
  {
   "cell_type": "code",
   "execution_count": 31,
   "metadata": {},
   "outputs": [
    {
     "name": "stdout",
     "output_type": "stream",
     "text": [
      "train_split\n"
     ]
    },
    {
     "name": "stderr",
     "output_type": "stream",
     "text": [
      "100%|██████████| 96780/96780 [01:24<00:00, 1149.43it/s]\n"
     ]
    },
    {
     "name": "stdout",
     "output_type": "stream",
     "text": [
      "valid_split\n"
     ]
    },
    {
     "name": "stderr",
     "output_type": "stream",
     "text": [
      "100%|██████████| 24195/24195 [00:23<00:00, 1046.98it/s]\n"
     ]
    }
   ],
   "source": [
    "image_folder = '/Users/young/Documents/DL_project/model_project/image'\n",
    "label_folder = '/Users/young/Documents/DL_project/model_project/yolo_label_clothes'\n",
    "train_folder = '/Users/young/Documents/DL_project/model_project/dataset/train'\n",
    "valid_folder = '/Users/young/Documents/DL_project/model_project/dataset/valid'\n",
    "\n",
    "split_train_valid(image_folder, label_folder, train_folder, valid_folder, split_ratio=0.8)"
   ]
  },
  {
   "cell_type": "code",
   "execution_count": null,
   "metadata": {},
   "outputs": [],
   "source": []
  }
 ],
 "metadata": {
  "kernelspec": {
   "display_name": "practice",
   "language": "python",
   "name": "python3"
  },
  "language_info": {
   "codemirror_mode": {
    "name": "ipython",
    "version": 3
   },
   "file_extension": ".py",
   "mimetype": "text/x-python",
   "name": "python",
   "nbconvert_exporter": "python",
   "pygments_lexer": "ipython3",
   "version": "3.8.16"
  },
  "orig_nbformat": 4
 },
 "nbformat": 4,
 "nbformat_minor": 2
}
