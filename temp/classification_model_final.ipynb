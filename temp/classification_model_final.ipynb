{
 "cells": [
  {
   "cell_type": "markdown",
   "metadata": {},
   "source": [
    "# 관련 모듈"
   ]
  },
  {
   "cell_type": "code",
   "execution_count": 8,
   "metadata": {},
   "outputs": [],
   "source": [
    "import ultralytics\n",
    "from ultralytics import YOLO\n",
    "import matplotlib.pyplot as plt\n",
    "import cv2, torch\n",
    "import pandas as pd\n",
    "import numpy as np"
   ]
  },
  {
   "cell_type": "markdown",
   "metadata": {},
   "source": [
    "# 관련 함수"
   ]
  },
  {
   "cell_type": "markdown",
   "metadata": {},
   "source": [
    "### 예측 이미지 확인"
   ]
  },
  {
   "cell_type": "code",
   "execution_count": 9,
   "metadata": {},
   "outputs": [],
   "source": [
    "# 박스 위치 확인(이미지 확인)\n",
    "\n",
    "import cv2\n",
    "import matplotlib.pyplot as plt\n",
    "\n",
    "def visualize_yolo(image_path, x, y, w, h):\n",
    "    # Read the image\n",
    "    img = cv2.imread(image_path)\n",
    "    img = cv2.cvtColor(img, cv2.COLOR_BGR2RGB)\n",
    "   \n",
    "    # Draw the bounding box\n",
    "    xmin = int((x - w / 2) ) \n",
    "    ymin = int((y - h / 2) )\n",
    "    xmax = int((x + w / 2) )\n",
    "    ymax = int((y + h / 2) )\n",
    "    cv2.rectangle(img, (xmin, ymin), (xmax, ymax), (255, 0, 0), 2)\n",
    "    \n",
    "    #cv2.putText(img, (xmin, ymin - 10), cv2.FONT_HERSHEY_SIMPLEX, 0.9, (255, 0, 0), 2)\n",
    "\n",
    "    # Display the image\n",
    "    plt.figure(figsize=(5, 5))\n",
    "    plt.imshow(img)\n",
    "    plt.axis('off')\n",
    "    plt.show()"
   ]
  },
  {
   "cell_type": "markdown",
   "metadata": {},
   "source": [
    "### df 생성 함수"
   ]
  },
  {
   "cell_type": "code",
   "execution_count": 19,
   "metadata": {},
   "outputs": [],
   "source": [
    "# https://stackoverflow.com/questions/75277492/yolov8-get-predicted-class-name\n",
    "\n",
    "def output_df(model, image):\n",
    "    result = model.predict(image)\n",
    "    names_list = model.names\n",
    "\n",
    "    for each_result in result:\n",
    "        cls_list = []\n",
    "    \n",
    "        # conf_confidence df 추가\n",
    "        conf_list = each_result.boxes.conf.tolist()\n",
    "    \n",
    "        # class df 추가\n",
    "        for each_class in each_result.boxes.cls:\n",
    "            cls_list.append(names_list[int(each_class)])\n",
    "   \n",
    "        # x, y, w, h\n",
    "        length_xywh_list = result[0].boxes.xywh.tolist()\n",
    "        xywh_list = []\n",
    "        for each_xywh in length_xywh_list:\n",
    "            \n",
    "            # x,y,w,h df 추가\n",
    "            each_xywh = [int(i) for i in each_xywh]\n",
    "            xywh_list.append(each_xywh)\n",
    "        \n",
    "            # 시각화\n",
    "            #print(each_xywh)\n",
    "            #xmin, ymin, xmax, ymax = each_xywh\n",
    "            #visualize_yolo(image, xmin, ymin, xmax, ymax)\n",
    "\n",
    "        \n",
    "    predicted_data = pd.DataFrame(zip(cls_list, conf_list, xywh_list), columns=['class', 'conf_confidence', 'xywh']).sort_values(by=['conf_confidence'], ascending=False)\n",
    "    return predicted_data\n",
    "    "
   ]
  },
  {
   "cell_type": "markdown",
   "metadata": {},
   "source": [
    "---"
   ]
  },
  {
   "cell_type": "markdown",
   "metadata": {},
   "source": [
    "### 카테고리 df 생성"
   ]
  },
  {
   "cell_type": "code",
   "execution_count": 11,
   "metadata": {},
   "outputs": [],
   "source": [
    "def get_category_df(category_model, test_image_list):\n",
    "    result_df = pd.DataFrame()\n",
    "    for each_image in test_image_list:\n",
    "        category_df =  output_df(category_model, each_image)\n",
    "        for index, row in category_df.iterrows():\n",
    "            if row['class'] in ['JumpSuit', 'Dress']:\n",
    "                category_df.loc[index, 'first_class'] = 'Onepiece'\n",
    "            if row['class'] in ['Blouse', 'Tshirt', 'KnitWear', 'Shirt', 'Cardigan', 'Hoodie']:\n",
    "                category_df.loc[index, 'first_class'] = 'Top'\n",
    "            if row['class'] in ['Jeans', 'Pants', 'Skirt', 'JoggerPants']:\n",
    "                category_df.loc[index, 'first_class'] = 'Bottom'\n",
    "            if row['class'] in ['Coat', 'Jacket', 'Jumper', 'PaddedJacket', 'Vest']:\n",
    "                category_df.loc[index, 'first_class'] = 'Outer'\n",
    "            \n",
    "        result_df = pd.concat([result_df, category_df], axis=0)\n",
    "    return result_df"
   ]
  },
  {
   "cell_type": "markdown",
   "metadata": {},
   "source": [
    "### 소재 df 생성"
   ]
  },
  {
   "cell_type": "code",
   "execution_count": 12,
   "metadata": {},
   "outputs": [],
   "source": [
    "def get_material_df(material_model, test_image_list):\n",
    "    result_df = pd.DataFrame()\n",
    "    for each_image in test_image_list:\n",
    "        material_df =  output_df(material_model, each_image)\n",
    "        result_df = pd.concat([result_df, material_df], axis=0)\n",
    "    return result_df"
   ]
  },
  {
   "cell_type": "markdown",
   "metadata": {},
   "source": [
    "### 소매기장 df 생성"
   ]
  },
  {
   "cell_type": "code",
   "execution_count": 13,
   "metadata": {},
   "outputs": [],
   "source": [
    "def get_length_df(length_model, test_image_list):\n",
    "    result_df = pd.DataFrame()\n",
    "    for each_image in test_image_list:\n",
    "        length_df =  output_df(length_model, each_image)\n",
    "        result_df = pd.concat([result_df, length_df], axis=0)\n",
    "    return result_df"
   ]
  },
  {
   "cell_type": "markdown",
   "metadata": {},
   "source": [
    "### 모델별 결과 매칭 함수"
   ]
  },
  {
   "cell_type": "code",
   "execution_count": 26,
   "metadata": {},
   "outputs": [],
   "source": [
    "# 모델별 결과에서 가까운 좌표끼리 매칭 \n",
    "# 카테고리 df row의 좌표별로 소재 및 소매기장 df row의 좌표를 각각 비교하여 가장 작은 거리끼리 매칭\n",
    "\n",
    "def get_match_df(image_list):\n",
    "    \n",
    "    # 모델 불러오기\n",
    "    category_model = YOLO('../best_pt/category_best.pt')\n",
    "    length_model = YOLO('../best_pt/length_best.pt')\n",
    "    material_model = YOLO('../best_pt/material_best.pt')\n",
    "    \n",
    "    # 카테고리별 df \n",
    "    category_df = get_category_df(category_model, image_list)\n",
    "    material_df = get_material_df(material_model, image_list)\n",
    "    length_df = get_length_df(length_model, image_list)\n",
    "  \n",
    "    # 결과 df\n",
    "    result_df = category_df.copy()\n",
    "    result_df.rename(columns={'class' : 'c_class', 'conf_confidence':'c_conf_confidence',\n",
    "                            'xywh' : 'c_xywh', 'first_class':'c_first_class'}, inplace=True)\n",
    "    result_df.reset_index(drop=True, inplace=True)\n",
    "    \n",
    "\n",
    "    for re_index, result_row in result_df.iterrows():\n",
    "        category_temp = result_row['c_xywh']\n",
    "\n",
    "        c_x_center = category_temp[0] + category_temp[2] /2\n",
    "        c_y_center = category_temp[1] + category_temp[3] /2\n",
    "        \n",
    "        \n",
    "        # 카테고리와 소재 매칭\n",
    "        temp_x_center1 = 0\n",
    "        temp_y_center1 = 0\n",
    "        \n",
    "        # 소재 df row가 두개 이상일 경우\n",
    "        # 카테고리 df row의 좌표별로 소재 df row의 좌표를 각각 비교하여 가장 작은 거리끼리 매칭\n",
    "        if len(material_df) > 1:\n",
    "            \n",
    "            for idx, m_row in material_df.iterrows():\n",
    "                \n",
    "                material_temp = m_row['xywh']\n",
    "                m_x_center = material_temp[0] + material_temp[2] /2\n",
    "                m_y_center = material_temp[1] + material_temp[3] /2\n",
    "                \n",
    "                diff_x_center = abs(c_x_center - m_x_center)\n",
    "                diff_y_center = abs(c_y_center - m_y_center)\n",
    "                \n",
    "                    \n",
    "                if temp_x_center1 == 0 and temp_y_center1 == 0:\n",
    "                    temp1 = m_row\n",
    "                    temp_x_center1 = diff_x_center\n",
    "                    temp_y_center1 = diff_y_center\n",
    "               \n",
    "                elif temp_x_center1 >= diff_x_center:\n",
    "                    if temp_y_center1 >= diff_y_center:\n",
    "                        result_df.loc[re_index, 'm_class'] = m_row['class']\n",
    "                        result_df.loc[re_index, 'm_conf_confidence'] = m_row['conf_confidence']\n",
    "                        result_df.loc[re_index, 'm_xywh'] = str(m_row['xywh'])\n",
    "                        \n",
    "                else:\n",
    "                    result_df.loc[re_index, 'm_class'] = temp1['class']\n",
    "                    result_df.loc[re_index, 'm_conf_confidence'] = temp1['conf_confidence']\n",
    "                    result_df.loc[re_index, 'm_xywh'] = str(temp1['xywh'])\n",
    "                    \n",
    "        # 소재 df row가 한개일 경우(없을 경우는 고려하지 않음)에각 모든 카테고리 row에 추가\n",
    "        # 없는 경우에는 NaN 값이 됨\n",
    "        else:\n",
    "            for idx, m_row in material_df.iterrows():\n",
    "                result_df.loc[re_index, 'm_class'] = m_row['class']\n",
    "                result_df.loc[re_index, 'm_conf_confidence'] = m_row['conf_confidence']\n",
    "                result_df.loc[re_index, 'm_xywh'] = str(m_row['xywh'])\n",
    "                \n",
    "        #==========================================================================================       \n",
    "        # 소매기장 매칭\n",
    "        # 1차 카테고리가 'Onepiece', 'Top', 'Outer'  중에 해당될 경우\n",
    "        if result_row['c_first_class'] in ['Onepiece', 'Top', 'Outer']:\n",
    "            \n",
    "            temp_x_center2 = 0\n",
    "            temp_y_center2 = 0\n",
    "            \n",
    "            # 소매기장 df row가 두개 이상일 경우\n",
    "            # 카테고리 df row의 좌표별로 소매길이 df row의 좌표를 각각 비교하여 가장 작은 거리끼리 매칭\n",
    "            if len(result_df[result_df['c_first_class'].isin(['Onepiece', 'Top', 'Outer'])]) > 1: \n",
    "                    \n",
    "                for idx, l_row in length_df.iterrows():\n",
    "                    length_temp2 = l_row['xywh']\n",
    "                    l_x_center = length_temp2[0] + length_temp2[2] /2\n",
    "                    l_y_center = length_temp2[1] + length_temp2[3] /2\n",
    "                \n",
    "                    diff_x_center = abs(c_x_center - l_x_center)\n",
    "                    diff_y_center = abs(c_y_center - l_y_center)\n",
    "                    \n",
    "                    \n",
    "                    if temp_x_center2 == 0 and temp_y_center2 == 0:\n",
    "                        temp2 = l_row\n",
    "                        temp_x_center2 = diff_x_center\n",
    "                        temp_y_center2 = diff_y_center\n",
    "                    \n",
    "                    elif temp_x_center2 >= diff_x_center:\n",
    "                        if temp_y_center2 >= diff_y_center:\n",
    "                            result_df.loc[re_index, 'l_class'] = l_row['class']\n",
    "                            result_df.loc[re_index, 'l_conf_confidence'] = l_row['conf_confidence']\n",
    "                            result_df.loc[re_index, 'l_xywh'] = str(l_row['xywh'])\n",
    "                        \n",
    "                    else:\n",
    "                        result_df.loc[re_index, 'l_class'] = temp2['class']\n",
    "                        result_df.loc[re_index, 'l_conf_confidence'] = temp2['conf_confidence']\n",
    "                        result_df.loc[re_index, 'l_xywh'] = str(temp2['xywh'])\n",
    "                        \n",
    "            # 소매길이 df row가 한개일 경우(없을 경우는 고려하지 않음)에각 모든 카테고리 row에 추가\n",
    "            # 없는 경우에는 NaN 값이 됨\n",
    "            else:  \n",
    "                for idx, l_row in length_df.iterrows():\n",
    "                    #print(l_row)\n",
    "                    result_df.loc[re_index, 'l_class'] = l_row['class']\n",
    "                    result_df.loc[re_index, 'l_conf_confidence'] = l_row['conf_confidence']\n",
    "                    result_df.loc[re_index, 'l_xywh'] = str(l_row['xywh'])\n",
    "                    \n",
    "    return result_df\n",
    "                        \n",
    "#get_match_df(test_image_list)"
   ]
  },
  {
   "cell_type": "markdown",
   "metadata": {},
   "source": [
    "### 클래스 한글화 함수"
   ]
  },
  {
   "cell_type": "code",
   "execution_count": 15,
   "metadata": {},
   "outputs": [],
   "source": [
    "def get_korean_class(first_category, second_category, material, length=None):\n",
    "    \n",
    "    # 첫번째 카테고리\n",
    "    korean_first_category_dict = {'Onepiece' : '원피스', 'Top' : '상의', 'Outer' : '아우터', 'Bottom':'하의'}\n",
    "    for key, value in korean_first_category_dict.items():\n",
    "        if first_category == key:\n",
    "            k_first_category = value\n",
    "            \n",
    "            \n",
    "    # 두번째 카테고리\n",
    "    korean_second_category_dict = {'JumpSuit' : '점프수트', 'Blouse' : '블라우스', 'Tshirt' : '티셔츠', \n",
    "                                'KnitWear':'니트웨어', 'Shirt':'셔츠', 'Cardigan':'가디건', 'Hoodie':'후드티', 'Jeans':'청바지',\n",
    "                                'Pants':'팬츠', 'Skirt':'스커트', 'Dress':'드레스', 'JoggerPants':'조거팬츠',\n",
    "                                'Coat':'코트','Jacket':'재킷', 'Jumper':'점퍼', 'PaddedJacket':'패딩', 'Vest':'베스트'}\n",
    "    for key, value in korean_second_category_dict.items():\n",
    "        if second_category == key:\n",
    "            k_second_category = value\n",
    "            \n",
    "    \n",
    "    # 소재\n",
    "    korean_material_dict = {'padding' : '패딩', 'Mustang' : '무스탕', 'suede':'스웨이드', 'corduroy':'코듀로이', 'Sequin/Glitter' : '스팽글/글리터',\n",
    "                           'Denim' : '데님', 'jersey' : '저지', 'tweed' : '트위드', 'velvet' : '벨벳', 'vinyl/PVC' : '비닐/PVC',\n",
    "                           'wool/cashmere' : '울/캐시미어', 'hair knit' : '헤어니트', 'knit' : '니트', 'lace' : '레이스',\n",
    "                           'linen' : '린넨', 'messi' : '메시', 'fleece' : '플리스', 'neoprene' : '네오프렌', 'silk' : '실크',\n",
    "                            'spandex' : '스판덱스', 'jacquard' : '자카드', 'leather' : '가죽', 'chiffon' : '시폰', 'woven' : '우븐'}\n",
    "    for key, value in korean_material_dict.items():\n",
    "        if material == key:\n",
    "            k_material = value\n",
    "            \n",
    "    \n",
    "    # 소매기장\n",
    "    korean_length_dict = {'Sleeveless shirt' : '민소매', 'Short sleeve' : '반팔', 'Cap':'캡', 'Three-quarter sleeve' : '7부소매', 'Long sleeve' : '긴팔'}\n",
    "    for key, value in korean_length_dict.items():\n",
    "        if length == key:\n",
    "            k_length = value\n",
    "            \n",
    "    \n",
    "    if length is None:\n",
    "        return k_first_category, k_second_category, k_material\n",
    "    else:\n",
    "        return k_first_category, k_second_category, k_material, k_length\n",
    "        \n",
    "#get_korean_class('Onepiece', 'Dress', 'velvet')\n",
    "#get_korean_class('Onepiece', 'Dress', 'velvet', 'Sleeveless shirt')"
   ]
  },
  {
   "cell_type": "markdown",
   "metadata": {},
   "source": [
    "### 분류 결과값 출력 함수"
   ]
  },
  {
   "cell_type": "code",
   "execution_count": 16,
   "metadata": {},
   "outputs": [],
   "source": [
    "def get_output_class(category_first_class, category_second_class, material_class, length_class=None):\n",
    "    if length_class is None:\n",
    "        print('===========================================================================================================')\n",
    "        print(f'카테고리 : {category_first_class} > {category_second_class} > {material_class}')\n",
    "        print('===========================================================================================================')\n",
    "        print(f'1차 카테고리 : {category_first_class} | 2차 카테고리 : {category_second_class} | 소재 : {material_class}')\n",
    "        print()\n",
    "    else:\n",
    "        print('===========================================================================================================')\n",
    "        print(f'카테고리 : {category_first_class} > {length_class} {category_second_class} > {material_class}')\n",
    "        print('===========================================================================================================')\n",
    "        print (f'1차 카테고리 : {category_first_class} | 2차 카테고리 : {category_second_class} | 소재 : {material_class} | 소매 기장 : {length_class}')\n",
    "        print()"
   ]
  },
  {
   "cell_type": "markdown",
   "metadata": {},
   "source": [
    "### 점수 높은 class 구하는 함수"
   ]
  },
  {
   "cell_type": "code",
   "execution_count": 31,
   "metadata": {},
   "outputs": [],
   "source": [
    "# 점수가 높은 class 구하기\n",
    "\n",
    "def get_best_class(test_image_list):\n",
    "    \n",
    "    # 모델별 결과 매칭 가져오기 \n",
    "    r_df = get_match_df(test_image_list)\n",
    "    \n",
    "    # 1차 카테고리 class 구하기\n",
    "    c1_max_df = r_df.loc[r_df.groupby(['c_first_class'])['c_conf_confidence'].idxmax(skipna=False)]\n",
    "\n",
    "    \n",
    "    # 소재 class 구하기\n",
    "    m_max_df = c1_max_df.loc[c1_max_df.groupby(['c_first_class'])['m_conf_confidence'].idxmax(skipna=False)]\n",
    "\n",
    "    \n",
    "    # 소매기장 class 구하기\n",
    "    # 소매기장 컬럼이 존재하는 경우\n",
    "    if 'l_class' in m_max_df.columns:\n",
    "        \n",
    "        # 하나라도 NaN 아닌 값이 존재할 경우\n",
    "        if m_max_df['l_class'].isnull().values.any() == True:\n",
    "            \n",
    "            # NaN 값 때문에 group by가 안되는 것 방지\n",
    "            l_temp_df = m_max_df.copy()\n",
    "            l_temp_df[['l_class','l_conf_confidence']] = l_temp_df[['l_class', 'l_conf_confidence']].fillna(0)\n",
    "            \n",
    "            result_df = m_max_df.loc[l_temp_df.groupby(['c_first_class'])['l_conf_confidence'].idxmax(skipna=False)]\n",
    "            \n",
    "        else:\n",
    "            result_df = m_max_df\n",
    "    else:\n",
    "        result_df = m_max_df\n",
    "    \n",
    "\n",
    "    # 한글화\n",
    "    for index, row in result_df.iterrows():\n",
    "        \n",
    "        # 소매기장 열이 존재할 경우\n",
    "        if 'l_class' in result_df.columns:\n",
    "            # 소매기장 값 NaN일 경우\n",
    "            if pd.isna(row['l_class']):\n",
    "                category_first_class, category_second_class, material_class = \\\n",
    "                get_korean_class(row['c_first_class'], row['c_class'], row['m_class'])\n",
    "                get_output_class(category_first_class, category_second_class, material_class)\n",
    "                \n",
    "                \n",
    "            # 소매기장 값 존재할 경우\n",
    "            else: \n",
    "                category_first_class, category_second_class, material_class, length_class = \\\n",
    "                get_korean_class(row['c_first_class'], row['c_class'], row['m_class'], row['l_class'])\n",
    "                \n",
    "                get_output_class(category_first_class, category_second_class, material_class, length_class)\n",
    "                \n",
    "        # 소매기장 열이 존재하지 않을 경우\n",
    "        else:\n",
    "            category_first_class, category_second_class, material_class = \\\n",
    "            get_korean_class(row['c_first_class'], row['c_class'], row['m_class'])\n",
    "            \n",
    "            get_output_class(category_first_class, category_second_class, material_class)\n",
    "            \n",
    "    \n",
    "\n",
    "#get_best_class(test_image_list)"
   ]
  },
  {
   "cell_type": "markdown",
   "metadata": {},
   "source": [
    "---"
   ]
  },
  {
   "cell_type": "code",
   "execution_count": 32,
   "metadata": {},
   "outputs": [
    {
     "data": {
      "text/plain": [
       "['../test image/musinsa sample (1).JPG',\n",
       " '../test image/musinsa sample (2).JPG']"
      ]
     },
     "execution_count": 32,
     "metadata": {},
     "output_type": "execute_result"
    }
   ],
   "source": [
    "# 테스트 이미지\n",
    "\n",
    "# valid 이미지 # 상하의 이미지\n",
    "#test_image = '../data/temp_datasets/length/valid/images/1101776.jpg'\n",
    "#test_image_list = [test_image]\n",
    "\n",
    "# valid 이미지 # 원피스 이미지\n",
    "#test_image = '../data/temp_datasets/length/valid/images/510.jpg'\n",
    "#test_image_list = [test_image]\n",
    "\n",
    "\n",
    "# musinsa 이미지\n",
    "test_image1 = '../test image/musinsa sample (1).JPG'\n",
    "test_image2 = '../test image/musinsa sample (2).JPG'\n",
    "test_image_list = [test_image1, test_image2]\n",
    "\n",
    "# giordano\n",
    "#g_test = '../test image/giordano_test.jpg'\n",
    "#test_image_list = [g_test]\n",
    "\n",
    "\n",
    "# spao 이미지\n",
    "#test_image1 = '../test image/spao_test1.JPG'\n",
    "#test_image2 = '../test image/spao_test2.JPG'\n",
    "#test_image3 = '../test image/spao_test3.JPG'\n",
    "#test_image_list = [test_image1, test_image2, test_image3]\n",
    "\n",
    "test_image_list\n"
   ]
  },
  {
   "cell_type": "code",
   "execution_count": 33,
   "metadata": {},
   "outputs": [
    {
     "name": "stderr",
     "output_type": "stream",
     "text": [
      "\n",
      "image 1/1 C:\\Users\\user1\\Documents\\deeplearning\\teamstudy\\code\\..\\test image\\musinsa sample (1).JPG: 640x576 1 Jacket, 1 Jumper, 3.0ms\n",
      "Speed: 4.0ms preprocess, 3.0ms inference, 0.0ms postprocess per image at shape (1, 3, 640, 576)\n",
      "\n",
      "image 1/1 C:\\Users\\user1\\Documents\\deeplearning\\teamstudy\\code\\..\\test image\\musinsa sample (2).JPG: 640x544 1 Jumper, 12.5ms\n",
      "Speed: 2.0ms preprocess, 12.5ms inference, 1.0ms postprocess per image at shape (1, 3, 640, 544)\n",
      "\n",
      "image 1/1 C:\\Users\\user1\\Documents\\deeplearning\\teamstudy\\code\\..\\test image\\musinsa sample (1).JPG: 416x384 1 vinyl/PVC, 6.0ms\n",
      "Speed: 1.0ms preprocess, 6.0ms inference, 0.0ms postprocess per image at shape (1, 3, 416, 384)\n",
      "\n",
      "image 1/1 C:\\Users\\user1\\Documents\\deeplearning\\teamstudy\\code\\..\\test image\\musinsa sample (2).JPG: 416x352 1 padding, 8.0ms\n",
      "Speed: 2.0ms preprocess, 8.0ms inference, 2.0ms postprocess per image at shape (1, 3, 416, 352)\n",
      "\n",
      "image 1/1 C:\\Users\\user1\\Documents\\deeplearning\\teamstudy\\code\\..\\test image\\musinsa sample (1).JPG: 640x576 1 Long sleeve, 9.5ms\n",
      "Speed: 3.0ms preprocess, 9.5ms inference, 2.0ms postprocess per image at shape (1, 3, 640, 576)\n",
      "\n",
      "image 1/1 C:\\Users\\user1\\Documents\\deeplearning\\teamstudy\\code\\..\\test image\\musinsa sample (2).JPG: 640x544 1 Long sleeve, 11.4ms\n",
      "Speed: 3.0ms preprocess, 11.4ms inference, 2.0ms postprocess per image at shape (1, 3, 640, 544)\n"
     ]
    },
    {
     "name": "stdout",
     "output_type": "stream",
     "text": [
      "===========================================================================================================\n",
      "카테고리 : 아우터 > 긴팔 재킷 > 비닐/PVC\n",
      "===========================================================================================================\n",
      "1차 카테고리 : 아우터 | 2차 카테고리 : 재킷 | 소재 : 비닐/PVC | 소매 기장 : 긴팔\n",
      "\n"
     ]
    }
   ],
   "source": [
    "#get_match_df(test_image_list)\n",
    "get_best_class(test_image_list)"
   ]
  },
  {
   "cell_type": "code",
   "execution_count": null,
   "metadata": {},
   "outputs": [],
   "source": []
  },
  {
   "cell_type": "code",
   "execution_count": null,
   "metadata": {},
   "outputs": [],
   "source": []
  },
  {
   "cell_type": "code",
   "execution_count": null,
   "metadata": {},
   "outputs": [],
   "source": []
  }
 ],
 "metadata": {
  "kernelspec": {
   "display_name": "Python 3 (ipykernel)",
   "language": "python",
   "name": "python3"
  },
  "language_info": {
   "codemirror_mode": {
    "name": "ipython",
    "version": 3
   },
   "file_extension": ".py",
   "mimetype": "text/x-python",
   "name": "python",
   "nbconvert_exporter": "python",
   "pygments_lexer": "ipython3",
   "version": "3.8.16"
  }
 },
 "nbformat": 4,
 "nbformat_minor": 2
}
