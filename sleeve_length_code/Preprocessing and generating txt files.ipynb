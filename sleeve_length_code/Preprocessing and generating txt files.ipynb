{
 "cells": [
  {
   "cell_type": "markdown",
   "id": "1787dff5",
   "metadata": {},
   "source": [
    "# txt 파일 생성"
   ]
  },
  {
   "cell_type": "code",
   "execution_count": null,
   "id": "c39e7973",
   "metadata": {},
   "outputs": [],
   "source": [
    "import json\n",
    "import os\n",
    "from glob import glob\n",
    "from PIL import Image\n",
    "from tqdm.notebook import tqdm\n",
    "import torch\n",
    "import torch.nn as nn\n",
    "import numpy as np\n",
    "import matplotlib.pyplot as plt\n",
    "import torchsummary\n",
    "\n",
    "%matplotlib inline"
   ]
  },
  {
   "cell_type": "code",
   "execution_count": null,
   "id": "a78bd8a7",
   "metadata": {},
   "outputs": [],
   "source": [
    "# json 파일경로 한 리스트에 정리\n",
    "\n",
    "json_path = '../data/temp_datasets/fa/'\n",
    "json_list = glob(json_path +  '*.json')\n",
    "json_list"
   ]
  },
  {
   "cell_type": "markdown",
   "id": "ebddcdf4",
   "metadata": {},
   "source": [
    "### 1) 전처리 함수"
   ]
  },
  {
   "cell_type": "code",
   "execution_count": null,
   "id": "5feb3e64",
   "metadata": {},
   "outputs": [],
   "source": [
    "# 렉트좌표 있는 것만 리스트로 뽑기\n",
    "from tqdm.notebook import tqdm\n",
    "\n",
    "\n",
    "check_json_list = []\n",
    "\n",
    "def rect_check(json_list):\n",
    "    for each_json in tqdm(json_list):\n",
    "        with open(each_json, 'r') as f:\n",
    "            json_info = json.load(f)\n",
    "    \n",
    "        rect_values = json_info['데이터셋 정보']['데이터셋 상세설명']['렉트좌표'].values()\n",
    "        #print(rect_values)\n",
    "        for each in rect_values:\n",
    "            if len(each[0]) >= 4 :\n",
    "                check_json_list.append(each_json)\n",
    "                break\n",
    "\n",
    "                \n",
    "rect_check(json_list)\n",
    "check_json_list"
   ]
  },
  {
   "cell_type": "code",
   "execution_count": null,
   "id": "236f36d5",
   "metadata": {},
   "outputs": [],
   "source": [
    "len(check_json_list), len(json_list)"
   ]
  },
  {
   "cell_type": "code",
   "execution_count": null,
   "id": "f1214bed",
   "metadata": {},
   "outputs": [],
   "source": [
    "# 상의, 원피스, 아우터 렉트 좌표 있는 것만 리스트로 뽑기\n",
    "check_json_list2 = []\n",
    "\n",
    "def bottom_check(json_list):\n",
    "    for each_json in tqdm(json_list):\n",
    "        with open(each_json, 'r') as f:\n",
    "            json_info = json.load(f)\n",
    "            cate = ['상의', '원피스', '아우터']\n",
    "            for each_cate in cate:\n",
    "                if len(json_info['데이터셋 정보']['데이터셋 상세설명']['렉트좌표'][each_cate][0]) >= 4:\n",
    "                    #print(json_info['데이터셋 정보']['데이터셋 상세설명']['렉트좌표'])\n",
    "                    check_json_list2.append(each_json)\n",
    "\n",
    "\n",
    "bottom_check(check_json_list)\n",
    "check_json_list2"
   ]
  },
  {
   "cell_type": "code",
   "execution_count": null,
   "id": "4d444f42",
   "metadata": {},
   "outputs": [],
   "source": [
    "len(check_json_list2), len(check_json_list)"
   ]
  },
  {
   "cell_type": "code",
   "execution_count": null,
   "id": "944949f8",
   "metadata": {},
   "outputs": [],
   "source": [
    "# 소매기장 데이터 있는 것만 리스트로 뽑기\n",
    "check_json_list3 = []\n",
    "\n",
    "def length_check(json_list):\n",
    "    for each_json in tqdm(json_list):\n",
    "        with open(each_json, 'r') as f:\n",
    "            json_info = json.load(f)\n",
    "            #print(each_json)\n",
    "\n",
    "            #label_key_list = list(json_info['데이터셋 정보']['데이터셋 상세설명']['라벨링'].keys())\n",
    "            cate = ['상의', '원피스', '아우터']\n",
    "            for each_cate in cate:\n",
    "                label_value_list = list(json_info['데이터셋 정보']['데이터셋 상세설명']['라벨링'][each_cate][0])\n",
    "                if '소매기장' in label_value_list :\n",
    "                        check_json_list3.append(each_json)\n",
    "\n",
    "length_check(check_json_list2)                \n",
    "\n",
    "# 중복값 제거\n",
    "check_json_list3 =  list(set(check_json_list3)) \n"
   ]
  },
  {
   "cell_type": "code",
   "execution_count": null,
   "id": "6b04da07",
   "metadata": {},
   "outputs": [],
   "source": [
    "len(check_json_list3), len(check_json_list2)"
   ]
  },
  {
   "cell_type": "markdown",
   "id": "2a9b181c",
   "metadata": {},
   "source": [
    "---"
   ]
  },
  {
   "cell_type": "markdown",
   "id": "60685e86",
   "metadata": {},
   "source": [
    "- 데이터 리스트 txt로 임시 저장"
   ]
  },
  {
   "cell_type": "code",
   "execution_count": null,
   "id": "2d130707",
   "metadata": {},
   "outputs": [],
   "source": [
    "# 라벨링 데이터 리스트 txt로 임시 저장\n",
    "\n",
    "print(len(check_json_list4))\n",
    "\n",
    "filePath = '../data/temp_datasets/label.txt'\n",
    "\n",
    "f = open(filePath, 'w')\n",
    "for each in check_json_list3:\n",
    "    print(each)\n",
    "    f.write(each + '\\n')\n",
    "f.close()\n"
   ]
  },
  {
   "cell_type": "code",
   "execution_count": null,
   "id": "51cffb49",
   "metadata": {},
   "outputs": [],
   "source": [
    "# 저장한 json 경로 txt 파일 이용\n",
    "\n",
    "check_json_list3 = []\n",
    "f = open('../data/temp_datasets/length.txt', 'r')\n",
    "lines = f.readlines()\n",
    "for line in lines:\n",
    "    check_json_list3.append(line.strip())\n",
    "f.close()\n",
    "\n"
   ]
  },
  {
   "cell_type": "markdown",
   "id": "df56ba63",
   "metadata": {},
   "source": [
    "---"
   ]
  },
  {
   "cell_type": "markdown",
   "id": "c7d4613a",
   "metadata": {},
   "source": [
    "### 2) 소매기장 모델링을 위한 추가 전처리 함수"
   ]
  },
  {
   "cell_type": "code",
   "execution_count": null,
   "id": "7e1d8e26",
   "metadata": {},
   "outputs": [],
   "source": [
    "# 라벨링에 필요한 데이터 구하기\n",
    "\n",
    "# 소매기장 key가 존재하는 경우, 렉트 좌표가 존재하는 경우, 소매기장 value가 '없음'이 아닌 경우,  라벨링 진행 ★★★\n",
    "\n",
    "def get_data(json_info):\n",
    "      \n",
    "    image_name = json_info['데이터셋 정보']['파일 번호']\n",
    "    image_width = json_info['이미지 정보']['이미지 너비']\n",
    "    image_height = json_info['이미지 정보']['이미지 높이']\n",
    "            \n",
    "    cate = ['상의', '원피스', '아우터']\n",
    "    image_label = ''\n",
    "    box = []\n",
    "    for each_cate in cate:\n",
    "        \n",
    "        # 소매기장 key가 존재하는 경우\n",
    "        if '소매기장' in json_info['데이터셋 정보']['데이터셋 상세설명']['라벨링'][each_cate][0]:\n",
    "            \n",
    "            image_label_txt = json_info['데이터셋 정보']['데이터셋 상세설명']['라벨링'][each_cate][0]['소매기장']\n",
    "            rects = json_info['데이터셋 정보']['데이터셋 상세설명']['렉트좌표'][each_cate][0]\n",
    "\n",
    "            # 렉트 좌표가 존재하는 경우\n",
    "            if len(rects) >= 4:            \n",
    "                \n",
    "                # 소매기장 value가 '없음'이 아닌 경우\n",
    "                \n",
    "                #if image_label_txt == '없음':\n",
    "                #    print(image_name, image_label_txt)\n",
    "                if image_label_txt != '없음':\n",
    "                    \n",
    "                    \n",
    "                    # 라벨링 진행\n",
    "                    label_list = {0:'민소매', 1: '반팔', 2: '캡', 3:'7부소매', 4: '긴팔'}\n",
    "                    for idx, (key, value) in enumerate(label_list.items()):\n",
    "                        if value == image_label_txt:\n",
    "                            image_label = key\n",
    "                    \n",
    "                    box = list(rects.values())   \n",
    "                    return image_name, image_width, image_height, image_label, box\n",
    "        "
   ]
  },
  {
   "cell_type": "markdown",
   "id": "e3e53982",
   "metadata": {},
   "source": [
    "### 3) yolo 형식에 맞도록 좌표 설정 및 txt 파일 생성, 저장 함수"
   ]
  },
  {
   "cell_type": "code",
   "execution_count": null,
   "id": "28833689",
   "metadata": {},
   "outputs": [],
   "source": [
    "def data_save(image_name, image_width, image_height, image_label, x1, y1, x2, y2):\n",
    "    \n",
    "    # yolo bbox 변환\n",
    "    # xmin, ymin, xmax, ymax\n",
    "    #x1, y1, x2, y2 = box\n",
    "    \n",
    "    x_center = (x1 + x2/2) / image_width  # 중앙값을 구해서 x1을 더해야 한다 ★★★\n",
    "    y_center = (y1 + y2/2) / image_height\n",
    "    width = x2 / image_width\n",
    "    height = y2 / image_height\n",
    "\n",
    "    #print(image_name, x_center, y_center, width,height)\n",
    "    file = open('../data/temp_datasets/label/' + str(image_name) + '.txt', 'w')\n",
    "    file.write(f'{image_label} {x_center:f} {y_center:f} {width:f} {height:f}\\n')\n",
    "    file.close()            \n"
   ]
  },
  {
   "cell_type": "markdown",
   "id": "1f0882a5",
   "metadata": {},
   "source": [
    "### 4) json 파일별 txt 생성 함수"
   ]
  },
  {
   "cell_type": "code",
   "execution_count": null,
   "id": "8415cf1d",
   "metadata": {},
   "outputs": [],
   "source": [
    "check_json_list4 = []\n",
    "\n",
    "def change_data(json_list):\n",
    "    for each_json in tqdm(json_list):\n",
    "        with open(each_json, 'r') as f:\n",
    "            json_info = json.load(f)\n",
    "            #print(json_info['데이터셋 정보']['파일 번호'])\n",
    "            #print(len(json_info['데이터셋 정보']['데이터셋 상세설명']['렉트좌표']['하의'][0]))\n",
    "            print(get_data(json_info))\n",
    "            try:\n",
    "                image_name, image_width, image_height, image_label, box = get_data(json_info)\n",
    "                #print(image_name, image_width, image_height, image_label, box)\n",
    "\n",
    "                x1, y1, x2, y2 = box     \n",
    "                \n",
    "                data_save(image_name, image_width, image_height, image_label, x1, y1, x2, y2)\n",
    "                check_json_list4.append(each_json)\n",
    "            except:\n",
    "                pass\n",
    "\n"
   ]
  },
  {
   "cell_type": "markdown",
   "id": "d855d505",
   "metadata": {},
   "source": [
    "### 5) txt 생성 "
   ]
  },
  {
   "cell_type": "code",
   "execution_count": null,
   "id": "da3cc264",
   "metadata": {},
   "outputs": [],
   "source": [
    "# 소매기장 key가 존재하는 경우, 렉트 좌표가 존재하는 경우, 소매기장 value가 '없음'이 아닌 경우,  \n",
    "# 라벨링 진행해서 txt 저장\n",
    "# 라벨링 파일 리스트도 저장 - label\n",
    "\n",
    "\n",
    "change_data(check_json_list3)"
   ]
  },
  {
   "cell_type": "code",
   "execution_count": null,
   "id": "58cd5188",
   "metadata": {},
   "outputs": [],
   "source": [
    "# 라벨링 데이터 리스트 txt로 저장\n",
    "\n",
    "print(len(check_json_list4))\n",
    "\n",
    "filePath = '../data/temp_datasets/label.txt'\n",
    "\n",
    "f = open(filePath, 'w')\n",
    "for each in check_json_list4:\n",
    "    print(each)\n",
    "    f.write(each + '\\n')\n",
    "f.close()\n"
   ]
  }
 ],
 "metadata": {
  "kernelspec": {
   "display_name": "Python 3 (ipykernel)",
   "language": "python",
   "name": "python3"
  },
  "language_info": {
   "codemirror_mode": {
    "name": "ipython",
    "version": 3
   },
   "file_extension": ".py",
   "mimetype": "text/x-python",
   "name": "python",
   "nbconvert_exporter": "python",
   "pygments_lexer": "ipython3",
   "version": "3.8.16"
  }
 },
 "nbformat": 4,
 "nbformat_minor": 5
}
