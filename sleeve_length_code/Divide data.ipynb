{
 "cells": [
  {
   "cell_type": "markdown",
   "id": "0796733b",
   "metadata": {},
   "source": [
    "### train, validation 폴더에 데이터 나누기"
   ]
  },
  {
   "cell_type": "code",
   "execution_count": 1,
   "id": "5c0806f1",
   "metadata": {},
   "outputs": [],
   "source": [
    "import shutil\n",
    "import os\n",
    "#import random\n",
    "from sklearn.model_selection import train_test_split"
   ]
  },
  {
   "cell_type": "code",
   "execution_count": null,
   "id": "3b95c38e",
   "metadata": {},
   "outputs": [],
   "source": [
    "# 렉트, 소매기장 존재하는 이미지 복사해서 train, validation 폴더에 나누기\n",
    "# train : 0.8, valid : 0.2 비율\n",
    "\n",
    "\n",
    "length = []\n",
    "f = open('../data/temp_datasets/label.txt', 'r')\n",
    "lines = f.readlines()\n",
    "for line in lines:\n",
    "    length.append(line.strip())\n",
    "f.close()\n",
    "\n",
    "#random.shuffle(length_data)\n",
    "train, valid = train_test_split(length, test_size=0.2, shuffle=True, random_state=1004)\n",
    "from_imagefile_path = '../data/temp_datasets/image/'\n",
    "from_labelfile_path = '../data/temp_datasets/label/'\n",
    "\n",
    "def makedirs(path):\n",
    "    if not os.path.exists(path):\n",
    "        os.makedirs(path)\n",
    "def find_filename(filepath):\n",
    "    return each.split('\\\\')[1].replace('.json', '')\n"
   ]
  },
  {
   "cell_type": "code",
   "execution_count": null,
   "id": "e1d48047",
   "metadata": {},
   "outputs": [],
   "source": [
    "# train 폴더 내 image, label 폴더, 파일 복사\n",
    "train_image_path = '../data/temp_datasets/length/train/images'\n",
    "train_label_path = '../data/temp_datasets/length/train/labels'\n",
    "makedirs(train_image_path)\n",
    "makedirs(train_label_path)\n",
    "\n",
    "for each in tqdm(train):\n",
    "    train_image_file = find_filename(each) + '.jpg'\n",
    "    train_label_file = find_filename(each) + '.txt'\n",
    "    shutil.copy(os.path.join(from_imagefile_path, train_image_file), os.path.join(train_image_path, train_image_file))\n",
    "    shutil.copy(os.path.join(from_labelfile_path, train_label_file), os.path.join(train_label_path, train_label_file))\n",
    "    "
   ]
  },
  {
   "cell_type": "code",
   "execution_count": null,
   "id": "f2d40910",
   "metadata": {},
   "outputs": [],
   "source": [
    "# valid 폴더 내 image, label 폴더, 파일 복사\n",
    "valid_image_path = '../data/temp_datasets/length/valid/images'\n",
    "valid_label_path = '../data/temp_datasets/length/valid/labels'\n",
    "makedirs(valid_image_path)\n",
    "makedirs(valid_label_path)\n",
    "\n",
    "for each in tqdm(valid):\n",
    "    valid_image_file = find_filename(each) + '.jpg'\n",
    "    valid_label_file = find_filename(each) + '.txt'\n",
    "    shutil.copy(os.path.join(from_imagefile_path, valid_image_file), os.path.join(valid_image_path, valid_image_file))\n",
    "    shutil.copy(os.path.join(from_labelfile_path, valid_label_file), os.path.join(valid_label_path, valid_label_file))"
   ]
  },
  {
   "cell_type": "code",
   "execution_count": null,
   "id": "d142069a",
   "metadata": {},
   "outputs": [],
   "source": []
  }
 ],
 "metadata": {
  "kernelspec": {
   "display_name": "Python 3 (ipykernel)",
   "language": "python",
   "name": "python3"
  },
  "language_info": {
   "codemirror_mode": {
    "name": "ipython",
    "version": 3
   },
   "file_extension": ".py",
   "mimetype": "text/x-python",
   "name": "python",
   "nbconvert_exporter": "python",
   "pygments_lexer": "ipython3",
   "version": "3.8.16"
  }
 },
 "nbformat": 4,
 "nbformat_minor": 5
}
