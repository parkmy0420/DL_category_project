{
 "cells": [
  {
   "cell_type": "code",
   "execution_count": 3,
   "metadata": {},
   "outputs": [],
   "source": [
    "import os\n",
    "import shutil\n",
    "import random\n",
    "from tqdm import tqdm\n",
    "import json"
   ]
  },
  {
   "cell_type": "code",
   "execution_count": 6,
   "metadata": {},
   "outputs": [],
   "source": [
    "image_folder = '/Users/Parknamgyu/Documents/ds_study/DL_project//Train_fasion/image_5000'\n",
    "label_folder = '/Users/Parknamgyu/Documents/ds_study/DL_project//Train_fasion/yolo_label'\n",
    "train_folder = '/Users/Parknamgyu/Documents/ds_study/DL_project/Train_fasion/train2'\n",
    "valid_folder = '/Users/Parknamgyu/Documents/ds_study/DL_project/Train_fasion/valid2'"
   ]
  },
  {
   "cell_type": "code",
   "execution_count": 7,
   "metadata": {},
   "outputs": [
    {
     "name": "stdout",
     "output_type": "stream",
     "text": [
      "image_folder 존재하는 파일 이름:  set()\n",
      "label_folder 존재하는 파일 이름:  {'207043', '304669', '355032', '314560', '304670', '28199', '81285', '28211', '955797', '560642', '560557', '955804', '300650', '64284', '955792', '955811', '955800', '64287', '33198', '3529', '304665', '3647', '298338', '355029', '298339', '3628', '955803', '752578', '955801', '28208', '298340', '276976', '560583', '2589', '955813', '955791', '560544', '64276', '955814', '316554', '955524', '316801', '207049', '955805', '334334', '298362', '560552', '955812', '955796', '334340', '955526', '314607', '305830', '316546', '334290', '351316', '560565', '3637', '274080', '64285', '64278', '305859', '351315', '351311', '955815', '304671', '31717', '305831', '527623', '351226', '334336', '316548', '320546', '298337', '711340', '207047', '81278', '334441', '207048', '81281', '773807', '351313', '334281', '314557', '298336', '955795', '316547', '955525', '351314', '355031', '955806', '351310', '955794', '351309', '64275', '28202', '560547', '305833', '3630', '351312', '243255', '3633', '351263', '304667', '560586', '334297', '955787', '955523', '300538', '955802', '560554', '31716', '955790', '955807', '711339', '64279', '955816', '955810', '560573', '955793', '305828', '305829'}\n"
     ]
    }
   ],
   "source": [
    "import os\n",
    "import numpy as np\n",
    "        \n",
    "    \n",
    "# 비교할 두 폴더 경로 설정\n",
    "folder1 = image_folder\n",
    "folder2 = label_folder\n",
    "\n",
    "\n",
    "files1 = [os.path.splitext(f)[0] for f in os.listdir(folder1)]\n",
    "files2 = [os.path.splitext(f)[0] for f in os.listdir(folder2)]\n",
    "\n",
    "unique_files1 = set(files1) - set(files2)\n",
    "unique_files2 = set(files2) - set(files1)\n",
    "\n",
    "print(\"image_folder 존재하는 파일 이름: \", unique_files1)\n",
    "print(\"label_folder 존재하는 파일 이름: \", unique_files2)"
   ]
  },
  {
   "cell_type": "code",
   "execution_count": 8,
   "metadata": {},
   "outputs": [],
   "source": [
    "def split_train_valid(image_folder, label_folder, train_folder, valid_folder, split_ratio=0.8):\n",
    "    \n",
    "    os.makedirs(train_folder, exist_ok=True)    # dir (생성 없을 경우에만)\n",
    "    os.makedirs(valid_folder, exist_ok=True)\n",
    "\n",
    "    image_files = [file for file in os.listdir(image_folder) if file.endswith('.jpg')]\n",
    "\n",
    "    random.seed(42)\n",
    "    random.shuffle(image_files)\n",
    "\n",
    "    split_index = int(len(image_files) * split_ratio)   # 8:2로 train, valid 나누기 위한 인덱스 작업\n",
    "\n",
    "    def split_def(start_idx, end_idx, to_folder):   # 나눈 인덱스로 파일 가져와서 저장\n",
    "        for file in tqdm(image_files[start_idx:end_idx]):\n",
    "            image_path = os.path.join(image_folder, file)\n",
    "            label_path = os.path.join(label_folder, file.replace('.jpg', '.txt'))   # why? jpg -> txt\n",
    "            shutil.copy(image_path, to_folder)  # replace, copy 중에 골라야함\n",
    "            shutil.copy(label_path, to_folder )\n",
    "\n",
    "    print('train_split')\n",
    "    split_def(0, split_index, train_folder)\n",
    "\n",
    "    print('valid_split')\n",
    "    split_def(split_index, len(image_files), valid_folder)"
   ]
  },
  {
   "cell_type": "code",
   "execution_count": 9,
   "metadata": {},
   "outputs": [
    {
     "name": "stdout",
     "output_type": "stream",
     "text": [
      "train_split\n"
     ]
    },
    {
     "name": "stderr",
     "output_type": "stream",
     "text": [
      "100%|██████████| 63319/63319 [12:36<00:00, 83.70it/s] \n"
     ]
    },
    {
     "name": "stdout",
     "output_type": "stream",
     "text": [
      "valid_split\n"
     ]
    },
    {
     "name": "stderr",
     "output_type": "stream",
     "text": [
      "100%|██████████| 15830/15830 [03:36<00:00, 73.01it/s]\n"
     ]
    }
   ],
   "source": [
    "split_train_valid(image_folder, label_folder, train_folder, valid_folder, split_ratio=0.8)"
   ]
  },
  {
   "cell_type": "code",
   "execution_count": null,
   "metadata": {},
   "outputs": [],
   "source": []
  }
 ],
 "metadata": {
  "kernelspec": {
   "display_name": "ds_study",
   "language": "python",
   "name": "python3"
  },
  "language_info": {
   "codemirror_mode": {
    "name": "ipython",
    "version": 3
   },
   "file_extension": ".py",
   "mimetype": "text/x-python",
   "name": "python",
   "nbconvert_exporter": "python",
   "pygments_lexer": "ipython3",
   "version": "3.8.16"
  },
  "orig_nbformat": 4
 },
 "nbformat": 4,
 "nbformat_minor": 2
}
