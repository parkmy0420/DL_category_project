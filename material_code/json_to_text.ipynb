{
 "cells": [
  {
   "cell_type": "code",
   "execution_count": 1,
   "metadata": {},
   "outputs": [],
   "source": [
    "import os\n",
    "import json\n",
    "from tqdm import tqdm\n",
    "import shutil"
   ]
  },
  {
   "cell_type": "code",
   "execution_count": 4,
   "metadata": {},
   "outputs": [],
   "source": [
    "# path \n",
    "pj_path = 'C:/Users/Parknamgyu/Documents/ds_study/DL_project'   # project folder path\n",
    "img_path = pj_path + '/temp_datasets/temp_datasets/image'   # img path\n",
    "fashion_path = pj_path +'/temp_datasets/temp_datasets/fa'   # json labeling path\n",
    "convert_path = pj_path + '/temp_datasets/temp_datasets/yolo_category_labeling'    # txt labeling 저장 폴더 path\n",
    "wrong_img_path = pj_path + '/temp_datasets/temp_datasets/wrong_datasets/train/wrong_img'    # 라벨링 잘못 저장된 이미지 이동할 폴더 path\n",
    "wrong_json_path = pj_path + '/temp_datasets/temp_datasets/wrong_datasets/train/wrong_json' # 라벨링 잘못 저장된 json 파일 이동할 폴더 path"
   ]
  },
  {
   "cell_type": "code",
   "execution_count": 2,
   "metadata": {},
   "outputs": [],
   "source": [
    "MATERIAL_CATEGORIES_Dict = [\"패딩\", \"퍼\", \"무스탕\", \"스웨이드\", \"앙고라\", \"코듀로이\", \"시퀸/글리터\", \"데님\", \"저지\", \"트위드\", \"벨벳\", \"비닐/PVC\", \"울/캐시미어\", \"합성섬유\", \"헤어 니트\", \"니트\", \"레이스\", \"린넨\", \"메시\", \"플리스\", \"네오프렌\", \"실크\", \"스판덱스\", \"자카드\", \"가죽\", \"면\", \"시폰\", \"우븐\"]"
   ]
  },
  {
   "cell_type": "code",
   "execution_count": 46,
   "metadata": {},
   "outputs": [
    {
     "name": "stdout",
     "output_type": "stream",
     "text": [
      "{0: '패딩', 1: '퍼', 2: '무스탕', 3: '스웨이드', 4: '앙고라', 5: '코듀로이', 6: '시퀸/글리터', 7: '데님', 8: '저지', 9: '트위드', 10: '벨벳', 11: '비닐/PVC', 12: '울/캐시미어', 13: '합성섬유', 14: '헤어 니트', 15: '니트', 16: '레이스', 17: '린넨', 18: '메시', 19: '플리스', 20: '네오프렌', 21: '실크', 22: '스판덱스', 23: '자카드', 24: '가죽', 25: '면', 26: '시폰', 27: '우븐'}\n"
     ]
    }
   ],
   "source": [
    "MATERIAL_CATEGORIES_Dict\n",
    "dictionary = {i : MATERIAL_CATEGORIES_Dict[i] for i in range(len(MATERIAL_CATEGORIES_Dict))}\n",
    "print(dictionary)"
   ]
  },
  {
   "cell_type": "code",
   "execution_count": 41,
   "metadata": {},
   "outputs": [
    {
     "data": {
      "text/plain": [
       "{'패딩': 0,\n",
       " '퍼': 1,\n",
       " '무스탕': 2,\n",
       " '스웨이드': 3,\n",
       " '앙고라': 4,\n",
       " '코듀로이': 5,\n",
       " '시퀸/글리터': 6,\n",
       " '데님': 7,\n",
       " '저지': 8,\n",
       " '트위드': 9,\n",
       " '벨벳': 10,\n",
       " '비닐/PVC': 11,\n",
       " '울/캐시미어': 12,\n",
       " '합성섬유': 13,\n",
       " '헤어 니트': 14,\n",
       " '니트': 15,\n",
       " '레이스': 16,\n",
       " '린넨': 17,\n",
       " '메시': 18,\n",
       " '플리스': 19,\n",
       " '네오프렌': 20,\n",
       " '실크': 21,\n",
       " '스판덱스': 22,\n",
       " '자카드': 23,\n",
       " '가죽': 24,\n",
       " '면': 25,\n",
       " '시폰': 26,\n",
       " '우븐': 27}"
      ]
     },
     "execution_count": 41,
     "metadata": {},
     "output_type": "execute_result"
    }
   ],
   "source": [
    "MATERIAL_CATEGORIES_Dict_C = {string : i for i,string in enumerate(MATERIAL_CATEGORIES_Dict)}\n",
    "MATERIAL_CATEGORIES_Dict_C"
   ]
  },
  {
   "cell_type": "code",
   "execution_count": 45,
   "metadata": {},
   "outputs": [
    {
     "data": {
      "text/plain": [
       "{'패딩': 0,\n",
       " '퍼': 1,\n",
       " '무스탕': 2,\n",
       " '스웨이드': 3,\n",
       " '앙고라': 4,\n",
       " '코듀로이': 5,\n",
       " '시퀸/글리터': 6,\n",
       " '데님': 7,\n",
       " '저지': 8,\n",
       " '트위드': 9,\n",
       " '벨벳': 10,\n",
       " '비닐/PVC': 11,\n",
       " '울/캐시미어': 12,\n",
       " '합성섬유': 13,\n",
       " '헤어 니트': 14,\n",
       " '니트': 15,\n",
       " '레이스': 16,\n",
       " '린넨': 17,\n",
       " '메시': 18,\n",
       " '플리스': 19,\n",
       " '네오프렌': 20,\n",
       " '실크': 21,\n",
       " '스판덱스': 22,\n",
       " '자카드': 23,\n",
       " '가죽': 24,\n",
       " '면': 25,\n",
       " '시폰': 26,\n",
       " '우븐': 27}"
      ]
     },
     "execution_count": 45,
     "metadata": {},
     "output_type": "execute_result"
    }
   ],
   "source": [
    "MATERIAL_CATEGORIES_Dict_C"
   ]
  },
  {
   "cell_type": "code",
   "execution_count": 44,
   "metadata": {},
   "outputs": [
    {
     "name": "stderr",
     "output_type": "stream",
     "text": [
      "  0%|          | 373/120975 [00:00<01:04, 1872.95it/s]"
     ]
    },
    {
     "name": "stdout",
     "output_type": "stream",
     "text": [
      "1000406.jpg\n",
      "1000466.jpg\n",
      "1000476.jpg\n",
      "1000486.jpg\n",
      "1000546.jpg\n",
      "1000556.jpg\n",
      "1000566.jpg\n",
      "1000576.jpg\n",
      "1001986.jpg\n",
      "1002746.jpg\n",
      "1002846.jpg\n",
      "1002856.jpg\n",
      "1003525.jpg\n"
     ]
    },
    {
     "name": "stderr",
     "output_type": "stream",
     "text": [
      "  0%|          | 561/120975 [00:00<01:13, 1631.02it/s]"
     ]
    },
    {
     "name": "stdout",
     "output_type": "stream",
     "text": [
      "1003535.jpg\n",
      "1003545.jpg\n",
      "1003555.jpg\n",
      "1003565.jpg\n",
      "1003575.jpg\n",
      "1003585.jpg\n",
      "1003595.jpg\n",
      "1003605.jpg\n",
      "1003615.jpg\n",
      "1003635.jpg\n",
      "1003645.jpg\n",
      "1003655.jpg\n",
      "1003665.jpg\n",
      "1003675.jpg\n",
      "1003695.jpg\n",
      "1003705.jpg\n",
      "1003725.jpg\n",
      "1003735.jpg\n",
      "1003745.jpg\n",
      "1003756.jpg\n",
      "1003766.jpg\n",
      "1003776.jpg\n",
      "1003786.jpg\n",
      "1003831.jpg\n",
      "1003861.jpg\n",
      "1003871.jpg\n",
      "1003881.jpg\n",
      "1003891.jpg\n",
      "1003901.jpg\n",
      "1003911.jpg\n",
      "1003951.jpg\n",
      "1003961.jpg\n",
      "1003991.jpg\n",
      "1004011.jpg\n",
      "1004021.jpg\n",
      "1004031.jpg\n",
      "1004141.jpg\n",
      "1004151.jpg\n",
      "1004181.jpg\n",
      "1004191.jpg\n",
      "1004291.jpg\n",
      "1004759.jpg\n",
      "1004769.jpg\n",
      "1004779.jpg\n",
      "1004789.jpg\n",
      "1004799.jpg\n",
      "1004809.jpg\n",
      "100482.jpg\n",
      "100492.jpg\n",
      "1004991.jpg\n",
      "1005001.jpg\n",
      "1005021.jpg\n",
      "1005031.jpg\n",
      "1005041.jpg\n",
      "1005051.jpg\n",
      "1005071.jpg\n",
      "1005081.jpg\n",
      "1005091.jpg\n",
      "1005101.jpg\n",
      "1005111.jpg\n",
      "1005121.jpg\n",
      "1005211.jpg\n",
      "1005313.jpg\n",
      "1005323.jpg\n",
      "1005333.jpg\n",
      "1005343.jpg\n",
      "1005433.jpg\n",
      "1005443.jpg\n",
      "10055.jpg\n",
      "1005653.jpg\n",
      "1005663.jpg\n",
      "1005693.jpg\n",
      "1005733.jpg\n",
      "1005743.jpg\n",
      "1005753.jpg\n",
      "1005813.jpg\n",
      "1005823.jpg\n",
      "1005833.jpg\n",
      "1005843.jpg\n",
      "1005853.jpg\n",
      "1005863.jpg\n",
      "1005873.jpg\n",
      "1005883.jpg\n",
      "1005893.jpg\n",
      "1005903.jpg\n",
      "1006063.jpg\n",
      "1006073.jpg\n"
     ]
    },
    {
     "name": "stderr",
     "output_type": "stream",
     "text": [
      "  1%|          | 887/120975 [00:00<01:25, 1398.43it/s]"
     ]
    },
    {
     "name": "stdout",
     "output_type": "stream",
     "text": [
      "100664.jpg\n",
      "1006733.jpg\n",
      "1006793.jpg\n",
      "1006853.jpg\n",
      "1006863.jpg\n",
      "1006873.jpg\n",
      "1006883.jpg\n",
      "1006893.jpg\n",
      "1006903.jpg\n",
      "1006913.jpg\n",
      "1006923.jpg\n",
      "1006933.jpg\n",
      "1006943.jpg\n",
      "1006953.jpg\n",
      "1006963.jpg\n",
      "1006973.jpg\n",
      "1006983.jpg\n",
      "1007003.jpg\n",
      "1007013.jpg\n",
      "1007023.jpg\n",
      "1007033.jpg\n",
      "1007044.jpg\n",
      "1007054.jpg\n",
      "1007074.jpg\n",
      "1007144.jpg\n",
      "1007154.jpg\n",
      "1007164.jpg\n",
      "1007174.jpg\n",
      "1007194.jpg\n",
      "1007364.jpg\n",
      "1007384.jpg\n",
      "1007394.jpg\n",
      "1007514.jpg\n",
      "1007524.jpg\n",
      "100798.jpg\n",
      "100890.jpg\n",
      "1008924.jpg\n",
      "1008934.jpg\n",
      "100900.jpg\n",
      "1009074.jpg\n",
      "1009084.jpg\n",
      "1009094.jpg\n",
      "100910.jpg\n"
     ]
    },
    {
     "name": "stderr",
     "output_type": "stream",
     "text": [
      "  1%|          | 1165/120975 [00:00<01:34, 1272.97it/s]"
     ]
    },
    {
     "name": "stdout",
     "output_type": "stream",
     "text": [
      "1009164.jpg\n",
      "1009174.jpg\n",
      "1009184.jpg\n",
      "1009224.jpg\n",
      "1009234.jpg\n",
      "1009244.jpg\n",
      "1009284.jpg\n",
      "1009294.jpg\n",
      "1009304.jpg\n",
      "1009314.jpg\n",
      "1009324.jpg\n",
      "1009334.jpg\n",
      "1009384.jpg\n",
      "1009394.jpg\n",
      "1009404.jpg\n",
      "1009414.jpg\n",
      "1009424.jpg\n",
      "1009436.jpg\n",
      "1009448.jpg\n",
      "1009458.jpg\n",
      "1009468.jpg\n",
      "1009478.jpg\n",
      "1009508.jpg\n",
      "1009518.jpg\n",
      "1009528.jpg\n",
      "1009538.jpg\n",
      "1009548.jpg\n",
      "1009558.jpg\n",
      "1009568.jpg\n",
      "1009578.jpg\n",
      "1009588.jpg\n",
      "1009598.jpg\n",
      "10100.jpg\n",
      "1010008.jpg\n",
      "1010018.jpg\n",
      "1010048.jpg\n",
      "1010068.jpg\n",
      "1010128.jpg\n",
      "1010138.jpg\n"
     ]
    },
    {
     "name": "stderr",
     "output_type": "stream",
     "text": [
      "  1%|▏         | 1608/120975 [00:01<01:23, 1424.25it/s]"
     ]
    },
    {
     "name": "stdout",
     "output_type": "stream",
     "text": [
      "1012309.jpg\n",
      "1012940.jpg\n",
      "10143.jpg\n"
     ]
    },
    {
     "name": "stderr",
     "output_type": "stream",
     "text": [
      "  2%|▏         | 1934/120975 [00:01<01:18, 1513.57it/s]"
     ]
    },
    {
     "name": "stdout",
     "output_type": "stream",
     "text": [
      "1015323.jpg\n",
      "101555.jpg\n",
      "101580.jpg\n",
      "101643.jpg\n",
      "1016756.jpg\n",
      "1016766.jpg\n",
      "1016776.jpg\n",
      "1016786.jpg\n",
      "1016886.jpg\n",
      "1016896.jpg\n",
      "1016916.jpg\n",
      "1017028.jpg\n",
      "1017069.jpg\n",
      "1017129.jpg\n",
      "1017199.jpg\n",
      "1017229.jpg\n",
      "1017239.jpg\n",
      "1017569.jpg\n",
      "101810.jpg\n",
      "101820.jpg\n"
     ]
    },
    {
     "name": "stderr",
     "output_type": "stream",
     "text": [
      "  2%|▏         | 2280/120975 [00:01<01:13, 1617.56it/s]"
     ]
    },
    {
     "name": "stdout",
     "output_type": "stream",
     "text": [
      "101980.jpg\n",
      "1020019.jpg\n",
      "1020029.jpg\n",
      "1020119.jpg\n",
      "1020129.jpg\n",
      "1020139.jpg\n",
      "1020169.jpg\n",
      "1020179.jpg\n",
      "1020189.jpg\n",
      "1020399.jpg\n",
      "10206.jpg\n",
      "1021129.jpg\n",
      "102121.jpg\n",
      "102166.jpg\n",
      "1021879.jpg\n",
      "1021889.jpg\n",
      "1021899.jpg\n",
      "1021959.jpg\n",
      "1021969.jpg\n",
      "1021979.jpg\n",
      "1022159.jpg\n",
      "1022169.jpg\n",
      "1022179.jpg\n"
     ]
    },
    {
     "name": "stderr",
     "output_type": "stream",
     "text": [
      "  2%|▏         | 2600/120975 [00:01<01:18, 1512.92it/s]"
     ]
    },
    {
     "name": "stdout",
     "output_type": "stream",
     "text": [
      "1022219.jpg\n",
      "102388.jpg\n",
      "102400.jpg\n"
     ]
    },
    {
     "name": "stderr",
     "output_type": "stream",
     "text": [
      "  2%|▏         | 2753/120975 [00:01<01:30, 1310.36it/s]"
     ]
    },
    {
     "name": "stdout",
     "output_type": "stream",
     "text": [
      "1024959.jpg\n",
      "1024969.jpg\n",
      "1024979.jpg\n",
      "1024989.jpg\n",
      "1024999.jpg\n",
      "1025009.jpg\n",
      "1025019.jpg\n",
      "1025029.jpg\n",
      "1025039.jpg\n",
      "1025049.jpg\n",
      "1025059.jpg\n",
      "1025069.jpg\n",
      "1025079.jpg\n",
      "1025089.jpg\n",
      "1025099.jpg\n",
      "1025109.jpg\n",
      "1025119.jpg\n",
      "1025129.jpg\n",
      "1025139.jpg\n",
      "1025149.jpg\n",
      "1025159.jpg\n",
      "1025169.jpg\n",
      "1025179.jpg\n",
      "1025199.jpg\n",
      "1025209.jpg\n",
      "1025219.jpg\n",
      "1025229.jpg\n",
      "1025239.jpg\n",
      "1025249.jpg\n",
      "1025259.jpg\n",
      "1025269.jpg\n",
      "1025279.jpg\n",
      "1025289.jpg\n",
      "1025299.jpg\n",
      "1025309.jpg\n",
      "1025319.jpg\n",
      "1025329.jpg\n",
      "1025339.jpg\n",
      "1025349.jpg\n",
      "1025379.jpg\n",
      "1025389.jpg\n",
      "1025399.jpg\n",
      "1025429.jpg\n",
      "1025439.jpg\n",
      "1025479.jpg\n",
      "1025509.jpg\n",
      "1025529.jpg\n",
      "1025539.jpg\n",
      "1025549.jpg\n",
      "1025559.jpg\n",
      "1025569.jpg\n",
      "1025579.jpg\n",
      "1025589.jpg\n",
      "1025599.jpg\n",
      "1025609.jpg\n",
      "1025619.jpg\n",
      "1025629.jpg\n",
      "1025992.jpg\n",
      "1026002.jpg\n",
      "1026012.jpg\n",
      "1026022.jpg\n",
      "1026042.jpg\n",
      "1026052.jpg\n",
      "1026062.jpg\n",
      "1026072.jpg\n",
      "1026092.jpg\n",
      "1026102.jpg\n",
      "1026112.jpg\n",
      "1026122.jpg\n",
      "1026132.jpg\n",
      "1026142.jpg\n",
      "1026152.jpg\n",
      "1026162.jpg\n",
      "1026172.jpg\n",
      "1026182.jpg\n",
      "1026192.jpg\n",
      "1026212.jpg\n",
      "1026222.jpg\n",
      "1026232.jpg\n",
      "1026242.jpg\n",
      "1026252.jpg\n",
      "1026262.jpg\n",
      "1026272.jpg\n",
      "1026282.jpg\n",
      "1026292.jpg\n",
      "1026302.jpg\n",
      "1026312.jpg\n",
      "1026322.jpg\n",
      "1026332.jpg\n",
      "1026342.jpg\n",
      "1026352.jpg\n",
      "1026362.jpg\n",
      "1026372.jpg\n",
      "1026382.jpg\n",
      "1026392.jpg\n",
      "1026402.jpg\n",
      "1026412.jpg\n",
      "1026422.jpg\n",
      "1026432.jpg\n",
      "1026442.jpg\n",
      "1026452.jpg\n",
      "1026462.jpg\n",
      "1026472.jpg\n",
      "1026482.jpg\n",
      "1026492.jpg\n",
      "1026502.jpg\n",
      "1026512.jpg\n",
      "1026522.jpg\n",
      "1026532.jpg\n",
      "1026542.jpg\n",
      "1026552.jpg\n"
     ]
    },
    {
     "name": "stderr",
     "output_type": "stream",
     "text": [
      "  3%|▎         | 3169/120975 [00:02<01:30, 1297.07it/s]"
     ]
    },
    {
     "name": "stdout",
     "output_type": "stream",
     "text": [
      "1026562.jpg\n",
      "1026572.jpg\n",
      "1026582.jpg\n",
      "1026744.jpg\n",
      "1027171.jpg\n",
      "1027211.jpg\n",
      "1027253.jpg\n",
      "1027353.jpg\n",
      "1027383.jpg\n",
      "1027403.jpg\n",
      "1027413.jpg\n",
      "1027423.jpg\n",
      "1027463.jpg\n",
      "102795.jpg\n",
      "1028394.jpg\n",
      "1028853.jpg\n",
      "102916.jpg\n"
     ]
    },
    {
     "name": "stderr",
     "output_type": "stream",
     "text": [
      "  3%|▎         | 3482/120975 [00:02<01:22, 1421.86it/s]"
     ]
    },
    {
     "name": "stdout",
     "output_type": "stream",
     "text": [
      "1029315.jpg\n",
      "1030612.jpg\n",
      "1030622.jpg\n",
      "1030642.jpg\n",
      "1030652.jpg\n",
      "1030692.jpg\n",
      "1030702.jpg\n",
      "1030712.jpg\n",
      "1030732.jpg\n",
      "1030743.jpg\n",
      "1030773.jpg\n",
      "1030809.jpg\n",
      "1030836.jpg\n",
      "103084.jpg\n",
      "1030847.jpg\n",
      "1030919.jpg\n",
      "1030968.jpg\n",
      "1031086.jpg\n",
      "1031117.jpg\n",
      "1031635.jpg\n",
      "1032055.jpg\n",
      "1032145.jpg\n"
     ]
    },
    {
     "name": "stderr",
     "output_type": "stream",
     "text": [
      "  3%|▎         | 3636/120975 [00:02<01:20, 1451.99it/s]"
     ]
    },
    {
     "name": "stdout",
     "output_type": "stream",
     "text": [
      "1032385.jpg\n",
      "103260.jpg\n",
      "10334.jpg\n",
      "1033618.jpg\n",
      "1033678.jpg\n",
      "1033726.jpg\n",
      "1033749.jpg\n",
      "1033771.jpg\n",
      "1033792.jpg\n",
      "1034016.jpg\n",
      "1034066.jpg\n",
      "1034078.jpg\n",
      "1034089.jpg\n",
      "1034099.jpg\n"
     ]
    },
    {
     "name": "stderr",
     "output_type": "stream",
     "text": [
      "  3%|▎         | 3941/120975 [00:02<01:20, 1458.40it/s]"
     ]
    },
    {
     "name": "stdout",
     "output_type": "stream",
     "text": [
      "1035241.jpg\n",
      "103539.jpg\n",
      "1035404.jpg\n",
      "1035414.jpg\n",
      "1035454.jpg\n",
      "1035585.jpg\n",
      "103560.jpg\n",
      "1035865.jpg\n",
      "103641.jpg\n",
      "1037056.jpg\n",
      "1037066.jpg\n",
      "1037419.jpg\n",
      "1037682.jpg\n",
      "1037692.jpg\n",
      "1037723.jpg\n"
     ]
    },
    {
     "name": "stderr",
     "output_type": "stream",
     "text": [
      "  4%|▎         | 4423/120975 [00:03<01:18, 1486.97it/s]"
     ]
    },
    {
     "name": "stdout",
     "output_type": "stream",
     "text": [
      "1038773.jpg\n",
      "1039086.jpg\n",
      "1039600.jpg\n",
      "1039987.jpg\n",
      "1039997.jpg\n",
      "1040472.jpg\n",
      "1040522.jpg\n",
      "1040612.jpg\n",
      "1040622.jpg\n",
      "1040672.jpg\n",
      "1041302.jpg\n",
      "104140.jpg\n",
      "1041592.jpg\n",
      "1041672.jpg\n"
     ]
    },
    {
     "name": "stderr",
     "output_type": "stream",
     "text": [
      "  4%|▍         | 4728/120975 [00:03<01:17, 1496.97it/s]"
     ]
    },
    {
     "name": "stdout",
     "output_type": "stream",
     "text": [
      "1042162.jpg\n",
      "1042636.jpg\n",
      "1042967.jpg\n",
      "1043187.jpg\n",
      "1043347.jpg\n",
      "1043747.jpg\n",
      "1043857.jpg\n"
     ]
    },
    {
     "name": "stderr",
     "output_type": "stream",
     "text": [
      "  4%|▍         | 5241/120975 [00:03<01:10, 1653.04it/s]"
     ]
    },
    {
     "name": "stdout",
     "output_type": "stream",
     "text": [
      "1045861.jpg\n",
      "1046272.jpg\n",
      "1046282.jpg\n",
      "104754.jpg\n"
     ]
    },
    {
     "name": "stderr",
     "output_type": "stream",
     "text": [
      "  5%|▍         | 5569/120975 [00:03<01:13, 1560.48it/s]"
     ]
    },
    {
     "name": "stdout",
     "output_type": "stream",
     "text": [
      "1049407.jpg\n",
      "104976.jpg\n",
      "105019.jpg\n",
      "1050240.jpg\n",
      "105082.jpg\n",
      "1051087.jpg\n",
      "1051170.jpg\n",
      "105119.jpg\n",
      "1051892.jpg\n",
      "1051902.jpg\n",
      "1051912.jpg\n"
     ]
    },
    {
     "name": "stderr",
     "output_type": "stream",
     "text": [
      "  5%|▍         | 5889/120975 [00:04<01:14, 1549.50it/s]"
     ]
    },
    {
     "name": "stdout",
     "output_type": "stream",
     "text": [
      "105236.jpg\n",
      "1052414.jpg\n",
      "105262.jpg\n",
      "105323.jpg\n",
      "105335.jpg\n",
      "105349.jpg\n",
      "105376.jpg\n",
      "105390.jpg\n",
      "105400.jpg\n",
      "1054480.jpg\n",
      "105454.jpg\n",
      "1054580.jpg\n",
      "1054590.jpg\n"
     ]
    },
    {
     "name": "stderr",
     "output_type": "stream",
     "text": [
      "  5%|▌         | 6195/120975 [00:04<01:18, 1462.16it/s]"
     ]
    },
    {
     "name": "stdout",
     "output_type": "stream",
     "text": [
      "105545.jpg\n",
      "105559.jpg\n",
      "1055757.jpg\n",
      "1055767.jpg\n",
      "1055777.jpg\n",
      "105586.jpg\n",
      "1055867.jpg\n",
      "1055877.jpg\n",
      "1055887.jpg\n",
      "1055897.jpg\n",
      "1055947.jpg\n",
      "1055967.jpg\n",
      "1056017.jpg\n",
      "1056027.jpg\n",
      "1056037.jpg\n",
      "1056047.jpg\n",
      "1056157.jpg\n",
      "1056437.jpg\n",
      "105770.jpg\n",
      "1057703.jpg\n",
      "1057713.jpg\n",
      "1057754.jpg\n",
      "1057764.jpg\n",
      "1057775.jpg\n",
      "1057785.jpg\n",
      "1057805.jpg\n",
      "1057815.jpg\n"
     ]
    },
    {
     "name": "stderr",
     "output_type": "stream",
     "text": [
      "  6%|▌         | 6658/120975 [00:04<01:16, 1493.78it/s]"
     ]
    },
    {
     "name": "stdout",
     "output_type": "stream",
     "text": [
      "105883.jpg\n",
      "105896.jpg\n",
      "1059683.jpg\n",
      "1059693.jpg\n",
      "1059703.jpg\n",
      "105974.jpg\n",
      "105999.jpg\n",
      "1060104.jpg\n",
      "106011.jpg\n",
      "1060124.jpg\n",
      "1060134.jpg\n",
      "106022.jpg\n",
      "1060424.jpg\n",
      "1060434.jpg\n",
      "1060484.jpg\n",
      "1060644.jpg\n",
      "1060654.jpg\n",
      "1060685.jpg\n",
      "1060715.jpg\n",
      "1060895.jpg\n",
      "1061447.jpg\n"
     ]
    },
    {
     "name": "stderr",
     "output_type": "stream",
     "text": [
      "  6%|▌         | 6953/120975 [00:04<01:21, 1393.04it/s]"
     ]
    },
    {
     "name": "stdout",
     "output_type": "stream",
     "text": [
      "106199.jpg\n",
      "1063692.jpg\n",
      "1063852.jpg\n"
     ]
    },
    {
     "name": "stderr",
     "output_type": "stream",
     "text": [
      "  6%|▌         | 7253/120975 [00:04<01:19, 1437.42it/s]"
     ]
    },
    {
     "name": "stdout",
     "output_type": "stream",
     "text": [
      "1065022.jpg\n",
      "1065378.jpg\n",
      "1065673.jpg\n",
      "1066805.jpg\n"
     ]
    },
    {
     "name": "stderr",
     "output_type": "stream",
     "text": [
      "  6%|▋         | 7563/120975 [00:05<01:20, 1412.08it/s]"
     ]
    },
    {
     "name": "stdout",
     "output_type": "stream",
     "text": [
      "1068701.jpg\n",
      "106921.jpg\n",
      "106977.jpg\n",
      "107029.jpg\n",
      "1070411.jpg\n",
      "1070781.jpg\n",
      "1071031.jpg\n",
      "1071344.jpg\n",
      "1071354.jpg\n",
      "1071404.jpg\n"
     ]
    },
    {
     "name": "stderr",
     "output_type": "stream",
     "text": [
      "  7%|▋         | 7900/120975 [00:05<01:13, 1546.54it/s]"
     ]
    },
    {
     "name": "stdout",
     "output_type": "stream",
     "text": [
      "1071447.jpg\n",
      "1071500.jpg\n",
      "1071510.jpg\n",
      "1071550.jpg\n",
      "1071590.jpg\n",
      "107309.jpg\n",
      "107319.jpg\n",
      "107362.jpg\n",
      "107372.jpg\n",
      "107394.jpg\n",
      "1074193.jpg\n",
      "1074213.jpg\n"
     ]
    },
    {
     "name": "stderr",
     "output_type": "stream",
     "text": [
      "  7%|▋         | 8233/120975 [00:05<01:10, 1597.22it/s]"
     ]
    },
    {
     "name": "stdout",
     "output_type": "stream",
     "text": [
      "1074833.jpg\n",
      "1074923.jpg\n",
      "1075155.jpg\n",
      "1075485.jpg\n",
      "1075565.jpg\n",
      "1075625.jpg\n",
      "1076196.jpg\n",
      "10768.jpg\n",
      "1077031.jpg\n",
      "1077041.jpg\n",
      "1077051.jpg\n",
      "1077473.jpg\n"
     ]
    },
    {
     "name": "stderr",
     "output_type": "stream",
     "text": [
      "  7%|▋         | 8553/120975 [00:05<01:13, 1526.78it/s]"
     ]
    },
    {
     "name": "stdout",
     "output_type": "stream",
     "text": [
      "1078044.jpg\n",
      "1078174.jpg\n",
      "1078184.jpg\n",
      "1078254.jpg\n",
      "1078264.jpg\n",
      "1078484.jpg\n",
      "1078834.jpg\n",
      "1078924.jpg\n",
      "1079965.jpg\n",
      "1079975.jpg\n",
      "1080005.jpg\n",
      "1080015.jpg\n",
      "1080055.jpg\n",
      "1080065.jpg\n",
      "1080165.jpg\n",
      "1080175.jpg\n",
      "1080225.jpg\n",
      "1080385.jpg\n"
     ]
    },
    {
     "name": "stderr",
     "output_type": "stream",
     "text": [
      "  7%|▋         | 8852/120975 [00:06<01:19, 1419.26it/s]"
     ]
    },
    {
     "name": "stdout",
     "output_type": "stream",
     "text": [
      "1080515.jpg\n",
      "1080605.jpg\n",
      "1080615.jpg\n",
      "1080915.jpg\n",
      "1082454.jpg\n",
      "1083024.jpg\n",
      "1083034.jpg\n",
      "1083054.jpg\n",
      "1083064.jpg\n",
      "1083084.jpg\n",
      "1083094.jpg\n",
      "1083104.jpg\n",
      "1083154.jpg\n",
      "1083164.jpg\n",
      "1083174.jpg\n",
      "1083184.jpg\n",
      "1083194.jpg\n",
      "1083204.jpg\n",
      "1083214.jpg\n",
      "1083224.jpg\n",
      "1083234.jpg\n",
      "1083244.jpg\n",
      "1083254.jpg\n",
      "1083264.jpg\n",
      "1083274.jpg\n"
     ]
    },
    {
     "name": "stderr",
     "output_type": "stream",
     "text": [
      "  8%|▊         | 9133/120975 [00:06<01:33, 1195.52it/s]"
     ]
    },
    {
     "name": "stdout",
     "output_type": "stream",
     "text": [
      "1083294.jpg\n",
      "1083324.jpg\n",
      "1083334.jpg\n",
      "1083344.jpg\n",
      "1083364.jpg\n",
      "1083374.jpg\n",
      "1083384.jpg\n",
      "1083394.jpg\n",
      "1083404.jpg\n",
      "1083414.jpg\n",
      "1083434.jpg\n",
      "1083444.jpg\n",
      "1083454.jpg\n",
      "1083464.jpg\n",
      "1083474.jpg\n",
      "1083484.jpg\n",
      "1083494.jpg\n",
      "10835.jpg\n",
      "1083564.jpg\n",
      "1083584.jpg\n",
      "108373.jpg\n",
      "1083764.jpg\n",
      "108384.jpg\n",
      "1083904.jpg\n",
      "1083944.jpg\n",
      "1083954.jpg\n",
      "1084014.jpg\n",
      "1084044.jpg\n",
      "1084274.jpg\n",
      "1084524.jpg\n",
      "1084604.jpg\n",
      "1084614.jpg\n",
      "1084624.jpg\n",
      "1084634.jpg\n",
      "1084644.jpg\n",
      "1084664.jpg\n",
      "1084674.jpg\n",
      "1084684.jpg\n",
      "1084695.jpg\n",
      "1084715.jpg\n",
      "1084735.jpg\n",
      "1084755.jpg\n",
      "1084765.jpg\n",
      "1084775.jpg\n",
      "1084786.jpg\n",
      "1084806.jpg\n",
      "1084816.jpg\n",
      "1084826.jpg\n",
      "1084836.jpg\n",
      "1084846.jpg\n",
      "1084856.jpg\n",
      "1084867.jpg\n",
      "1084877.jpg\n",
      "1084887.jpg\n",
      "1084897.jpg\n"
     ]
    },
    {
     "name": "stderr",
     "output_type": "stream",
     "text": [
      "  8%|▊         | 9410/120975 [00:06<01:27, 1281.24it/s]"
     ]
    },
    {
     "name": "stdout",
     "output_type": "stream",
     "text": [
      "1084908.jpg\n",
      "1084919.jpg\n",
      "1084951.jpg\n",
      "1084971.jpg\n",
      "1084981.jpg\n",
      "1085001.jpg\n",
      "1085022.jpg\n",
      "1085032.jpg\n",
      "1085042.jpg\n",
      "1085062.jpg\n",
      "1085104.jpg\n",
      "1085114.jpg\n",
      "1085275.jpg\n",
      "1085487.jpg\n",
      "1085760.jpg\n",
      "1085770.jpg\n",
      "1085820.jpg\n",
      "1085957.jpg\n",
      "108697.jpg\n",
      "108707.jpg\n",
      "108723.jpg\n",
      "108745.jpg\n",
      "1087473.jpg\n",
      "1087483.jpg\n",
      "1087513.jpg\n",
      "108756.jpg\n"
     ]
    },
    {
     "name": "stderr",
     "output_type": "stream",
     "text": [
      "  8%|▊         | 9693/120975 [00:06<01:23, 1338.25it/s]"
     ]
    },
    {
     "name": "stdout",
     "output_type": "stream",
     "text": [
      "108787.jpg\n",
      "1087904.jpg\n",
      "108827.jpg\n",
      "1088394.jpg\n",
      "108843.jpg\n",
      "108854.jpg\n",
      "108882.jpg\n",
      "108895.jpg\n",
      "108916.jpg\n",
      "1089201.jpg\n",
      "1089211.jpg\n",
      "1089231.jpg\n",
      "108936.jpg\n",
      "1089407.jpg\n",
      "1089447.jpg\n",
      "1089497.jpg\n",
      "1089575.jpg\n",
      "108959.jpg\n",
      "1089671.jpg\n",
      "1089693.jpg\n",
      "108977.jpg\n",
      "108988.jpg\n",
      "108998.jpg\n",
      "109009.jpg\n",
      "109024.jpg\n",
      "109052.jpg\n"
     ]
    },
    {
     "name": "stderr",
     "output_type": "stream",
     "text": [
      "  8%|▊         | 9965/120975 [00:06<01:23, 1323.28it/s]"
     ]
    },
    {
     "name": "stdout",
     "output_type": "stream",
     "text": [
      "109063.jpg\n",
      "109078.jpg\n",
      "109095.jpg\n",
      "109109.jpg\n",
      "109173.jpg\n",
      "1091986.jpg\n",
      "109216.jpg\n",
      "1092197.jpg\n",
      "1092477.jpg\n",
      "1092497.jpg\n",
      "1092567.jpg\n"
     ]
    },
    {
     "name": "stderr",
     "output_type": "stream",
     "text": [
      "  8%|▊         | 10230/120975 [00:07<01:25, 1288.75it/s]"
     ]
    },
    {
     "name": "stdout",
     "output_type": "stream",
     "text": [
      "1093299.jpg\n",
      "1093369.jpg\n",
      "1093459.jpg\n",
      "109348.jpg\n",
      "109359.jpg\n",
      "109373.jpg\n",
      "109388.jpg\n",
      "109398.jpg\n",
      "1094064.jpg\n",
      "109409.jpg\n",
      "109420.jpg\n",
      "1094494.jpg\n",
      "1094524.jpg\n",
      "1094544.jpg\n",
      "109467.jpg\n",
      "1094904.jpg\n",
      "109499.jpg\n",
      "109510.jpg\n",
      "109536.jpg\n",
      "109547.jpg\n",
      "1095474.jpg\n",
      "109557.jpg\n",
      "109568.jpg\n"
     ]
    },
    {
     "name": "stderr",
     "output_type": "stream",
     "text": [
      "  9%|▊         | 10509/120975 [00:07<01:22, 1337.52it/s]"
     ]
    },
    {
     "name": "stdout",
     "output_type": "stream",
     "text": [
      "1095704.jpg\n",
      "109579.jpg\n",
      "109589.jpg\n",
      "1095894.jpg\n",
      "1095914.jpg\n",
      "109786.jpg\n",
      "1098284.jpg\n",
      "1098304.jpg\n",
      "109838.jpg\n",
      "1098394.jpg\n"
     ]
    },
    {
     "name": "stderr",
     "output_type": "stream",
     "text": [
      "  9%|▉         | 10779/120975 [00:07<01:23, 1315.47it/s]"
     ]
    },
    {
     "name": "stdout",
     "output_type": "stream",
     "text": [
      "1098484.jpg\n",
      "109858.jpg\n",
      "109965.jpg\n",
      "1100286.jpg\n",
      "1100476.jpg\n",
      "1100486.jpg\n",
      "1100496.jpg\n",
      "1100506.jpg\n",
      "1100686.jpg\n"
     ]
    },
    {
     "name": "stderr",
     "output_type": "stream",
     "text": [
      "  9%|▉         | 11186/120975 [00:07<01:23, 1312.76it/s]"
     ]
    },
    {
     "name": "stdout",
     "output_type": "stream",
     "text": [
      "1101746.jpg\n",
      "1101766.jpg\n",
      "1101776.jpg\n",
      "1103501.jpg\n",
      "1103911.jpg\n",
      "1103921.jpg\n",
      "1104131.jpg\n",
      "1104141.jpg\n",
      "1104151.jpg\n",
      "1104161.jpg\n"
     ]
    },
    {
     "name": "stderr",
     "output_type": "stream",
     "text": [
      "  9%|▉         | 11449/120975 [00:08<01:24, 1289.27it/s]"
     ]
    },
    {
     "name": "stdout",
     "output_type": "stream",
     "text": [
      "110462.jpg\n",
      "1105227.jpg\n",
      "1105237.jpg\n",
      "1105247.jpg\n",
      "1105257.jpg\n",
      "1105267.jpg\n",
      "1105368.jpg\n",
      "1105378.jpg\n",
      "1105388.jpg\n",
      "1105398.jpg\n",
      "1105408.jpg\n",
      "1105468.jpg\n",
      "1105478.jpg\n",
      "1105498.jpg\n",
      "1105508.jpg\n",
      "1105578.jpg\n",
      "1105588.jpg\n",
      "1105598.jpg\n",
      "1105608.jpg\n",
      "1105618.jpg\n",
      "1105658.jpg\n",
      "1105668.jpg\n",
      "1106118.jpg\n",
      "1106748.jpg\n",
      "110690.jpg\n"
     ]
    },
    {
     "name": "stderr",
     "output_type": "stream",
     "text": [
      " 10%|▉         | 11718/120975 [00:08<01:27, 1242.60it/s]"
     ]
    },
    {
     "name": "stdout",
     "output_type": "stream",
     "text": [
      "110750.jpg\n",
      "110762.jpg\n",
      "110773.jpg\n",
      "110799.jpg\n",
      "110834.jpg\n",
      "1108378.jpg\n",
      "1108388.jpg\n",
      "1108398.jpg\n",
      "1108408.jpg\n",
      "1108418.jpg\n",
      "1108428.jpg\n",
      "1108438.jpg\n",
      "1108449.jpg\n",
      "1108459.jpg\n",
      "1108469.jpg\n",
      "1108479.jpg\n",
      "1108489.jpg\n",
      "1108499.jpg\n",
      "1108509.jpg\n",
      "1108519.jpg\n",
      "1108529.jpg\n",
      "1108539.jpg\n",
      "1108549.jpg\n",
      "1108559.jpg\n",
      "1108599.jpg\n",
      "1108609.jpg\n",
      "1108619.jpg\n",
      "1108669.jpg\n",
      "1108689.jpg\n",
      "1108699.jpg\n",
      "1108709.jpg\n",
      "1108719.jpg\n",
      "1108739.jpg\n",
      "1108749.jpg\n",
      "1108759.jpg\n",
      "1108769.jpg\n",
      "1108779.jpg\n",
      "1108789.jpg\n",
      "1108799.jpg\n",
      "1108809.jpg\n",
      "1108819.jpg\n",
      "1108829.jpg\n",
      "1108839.jpg\n",
      "1108849.jpg\n",
      "1108909.jpg\n",
      "1108919.jpg\n",
      "1108939.jpg\n",
      "1108959.jpg\n",
      "1109089.jpg\n",
      "1109099.jpg\n",
      "1109109.jpg\n",
      "1109119.jpg\n",
      "1109129.jpg\n",
      "1109149.jpg\n",
      "1109159.jpg\n",
      "1109169.jpg\n"
     ]
    },
    {
     "name": "stderr",
     "output_type": "stream",
     "text": [
      " 10%|▉         | 11959/120975 [00:08<01:37, 1113.60it/s]"
     ]
    },
    {
     "name": "stdout",
     "output_type": "stream",
     "text": [
      "1109419.jpg\n",
      "1109429.jpg\n",
      "1109440.jpg\n",
      "1109450.jpg\n",
      "1109460.jpg\n",
      "1109470.jpg\n",
      "1109480.jpg\n",
      "1109490.jpg\n",
      "1109501.jpg\n",
      "1109511.jpg\n",
      "1109521.jpg\n",
      "1109531.jpg\n",
      "1109541.jpg\n",
      "1109551.jpg\n",
      "1109561.jpg\n",
      "1109571.jpg\n",
      "1109581.jpg\n",
      "1109591.jpg\n",
      "1109601.jpg\n",
      "1109611.jpg\n",
      "1109621.jpg\n",
      "1109641.jpg\n",
      "1109651.jpg\n",
      "1109661.jpg\n",
      "1109671.jpg\n",
      "1109681.jpg\n",
      "1109691.jpg\n",
      "1109701.jpg\n",
      "1109711.jpg\n",
      "1109721.jpg\n",
      "1109731.jpg\n",
      "1109741.jpg\n",
      "1109811.jpg\n",
      "1109821.jpg\n",
      "1109831.jpg\n",
      "1109843.jpg\n",
      "1109853.jpg\n",
      "1109863.jpg\n",
      "1109873.jpg\n",
      "1109883.jpg\n",
      "1109893.jpg\n",
      "1109903.jpg\n",
      "1109913.jpg\n",
      "1109924.jpg\n",
      "1109934.jpg\n",
      "1109944.jpg\n",
      "1109954.jpg\n",
      "1109964.jpg\n",
      "1109974.jpg\n",
      "1109984.jpg\n",
      "1109995.jpg\n",
      "1110005.jpg\n",
      "1110035.jpg\n",
      "1110055.jpg\n",
      "1110065.jpg\n",
      "1110075.jpg\n",
      "1110085.jpg\n",
      "1110095.jpg\n",
      "1110355.jpg\n",
      "1110365.jpg\n",
      "1110405.jpg\n",
      "111051.jpg\n",
      "111121.jpg\n",
      "111131.jpg\n"
     ]
    },
    {
     "name": "stderr",
     "output_type": "stream",
     "text": [
      " 10%|█         | 12193/120975 [00:08<01:36, 1126.55it/s]"
     ]
    },
    {
     "name": "stdout",
     "output_type": "stream",
     "text": [
      "111156.jpg\n",
      "111166.jpg\n",
      "1111735.jpg\n",
      "1111745.jpg\n",
      "1111755.jpg\n",
      "1111765.jpg\n",
      "1111915.jpg\n",
      "1112065.jpg\n",
      "1112205.jpg\n",
      "1112215.jpg\n",
      "1112225.jpg\n",
      "1112940.jpg\n",
      "1112950.jpg\n",
      "1112960.jpg\n",
      "1113490.jpg\n",
      "1113500.jpg\n",
      "1113510.jpg\n"
     ]
    },
    {
     "name": "stderr",
     "output_type": "stream",
     "text": [
      " 10%|█         | 12435/120975 [00:08<01:36, 1126.22it/s]"
     ]
    },
    {
     "name": "stdout",
     "output_type": "stream",
     "text": [
      "1113830.jpg\n",
      "1113840.jpg\n",
      "1113850.jpg\n",
      "1113860.jpg\n",
      "1113870.jpg\n",
      "1113890.jpg\n",
      "1113900.jpg\n",
      "1113910.jpg\n",
      "1113920.jpg\n",
      "1113930.jpg\n",
      "1114000.jpg\n",
      "1114160.jpg\n",
      "1114180.jpg\n",
      "1114320.jpg\n",
      "1114330.jpg\n",
      "1114810.jpg\n",
      "1114820.jpg\n",
      "1114830.jpg\n",
      "1114840.jpg\n",
      "1114850.jpg\n",
      "1114930.jpg\n",
      "1114940.jpg\n",
      "1114950.jpg\n",
      "1114960.jpg\n",
      "1114990.jpg\n",
      "1115020.jpg\n",
      "1115030.jpg\n",
      "1115050.jpg\n",
      "111510.jpg\n"
     ]
    },
    {
     "name": "stderr",
     "output_type": "stream",
     "text": [
      " 11%|█         | 12816/120975 [00:09<01:30, 1196.22it/s]"
     ]
    },
    {
     "name": "stdout",
     "output_type": "stream",
     "text": [
      "1116396.jpg\n",
      "1116879.jpg\n",
      "1116889.jpg\n",
      "1117221.jpg\n",
      "1117584.jpg\n",
      "1117594.jpg\n",
      "1117604.jpg\n",
      "1117614.jpg\n",
      "1117847.jpg\n",
      "1117857.jpg\n",
      "1117867.jpg\n",
      "1117877.jpg\n",
      "1118067.jpg\n",
      "1118087.jpg\n",
      "1118097.jpg\n"
     ]
    },
    {
     "name": "stderr",
     "output_type": "stream",
     "text": [
      " 11%|█         | 13198/120975 [00:09<01:26, 1246.67it/s]"
     ]
    },
    {
     "name": "stdout",
     "output_type": "stream",
     "text": [
      "1120448.jpg\n",
      "1120598.jpg\n",
      "112260.jpg\n",
      "1122969.jpg\n"
     ]
    },
    {
     "name": "stderr",
     "output_type": "stream",
     "text": [
      " 11%|█         | 13470/120975 [00:09<01:23, 1286.45it/s]"
     ]
    },
    {
     "name": "stdout",
     "output_type": "stream",
     "text": [
      "112343.jpg\n",
      "112384.jpg\n",
      "1124241.jpg\n",
      "1124331.jpg\n",
      "1124371.jpg\n",
      "1124491.jpg\n",
      "1125465.jpg\n"
     ]
    },
    {
     "name": "stderr",
     "output_type": "stream",
     "text": [
      " 11%|█▏        | 13727/120975 [00:09<01:26, 1243.59it/s]"
     ]
    },
    {
     "name": "stdout",
     "output_type": "stream",
     "text": [
      "1126077.jpg\n",
      "1126500.jpg\n",
      "112751.jpg\n",
      "1127716.jpg\n",
      "1128044.jpg\n"
     ]
    },
    {
     "name": "stderr",
     "output_type": "stream",
     "text": [
      " 12%|█▏        | 13971/120975 [00:10<01:32, 1152.37it/s]"
     ]
    },
    {
     "name": "stdout",
     "output_type": "stream",
     "text": [
      "1128164.jpg\n",
      "1128244.jpg\n",
      "1129416.jpg\n"
     ]
    },
    {
     "name": "stderr",
     "output_type": "stream",
     "text": [
      " 12%|█▏        | 14206/120975 [00:10<01:34, 1130.53it/s]"
     ]
    },
    {
     "name": "stdout",
     "output_type": "stream",
     "text": [
      "1130208.jpg\n",
      "1130228.jpg\n",
      "1130238.jpg\n",
      "1130248.jpg\n",
      "1130268.jpg\n",
      "1130278.jpg\n",
      "1130288.jpg\n",
      "1130593.jpg\n",
      "1130604.jpg\n",
      "1130711.jpg\n",
      "1130831.jpg\n",
      "1130882.jpg\n",
      "1130902.jpg\n",
      "1130932.jpg\n",
      "1130982.jpg\n",
      "1131092.jpg\n",
      "1131212.jpg\n",
      "1131282.jpg\n",
      "1131292.jpg\n",
      "1131302.jpg\n",
      "1131312.jpg\n",
      "1131322.jpg\n",
      "1131342.jpg\n",
      "1131752.jpg\n",
      "1131892.jpg\n"
     ]
    },
    {
     "name": "stderr",
     "output_type": "stream",
     "text": [
      " 12%|█▏        | 14561/120975 [00:10<01:33, 1140.27it/s]"
     ]
    },
    {
     "name": "stdout",
     "output_type": "stream",
     "text": [
      "1133002.jpg\n",
      "1133812.jpg\n",
      "113383.jpg\n",
      "113397.jpg\n",
      "1134313.jpg\n",
      "113436.jpg\n",
      "113461.jpg\n",
      "1135314.jpg\n",
      "1135324.jpg\n"
     ]
    },
    {
     "name": "stderr",
     "output_type": "stream",
     "text": [
      " 12%|█▏        | 14797/120975 [00:10<01:34, 1121.37it/s]"
     ]
    },
    {
     "name": "stdout",
     "output_type": "stream",
     "text": [
      "1135364.jpg\n",
      "1136195.jpg\n",
      "1136205.jpg\n",
      "1136215.jpg\n",
      "1136295.jpg\n",
      "1136315.jpg\n"
     ]
    },
    {
     "name": "stderr",
     "output_type": "stream",
     "text": [
      " 13%|█▎        | 15149/120975 [00:11<01:33, 1136.23it/s]"
     ]
    },
    {
     "name": "stdout",
     "output_type": "stream",
     "text": [
      "1138400.jpg\n",
      "113927.jpg\n",
      "113937.jpg\n",
      "113959.jpg\n",
      "1139728.jpg\n",
      "1139738.jpg\n",
      "1139924.jpg\n",
      "1140165.jpg\n",
      "1140387.jpg\n",
      "1140437.jpg\n",
      "1140548.jpg\n",
      "1140568.jpg\n",
      "1140578.jpg\n"
     ]
    },
    {
     "name": "stderr",
     "output_type": "stream",
     "text": [
      " 13%|█▎        | 15383/120975 [00:11<01:34, 1114.88it/s]"
     ]
    },
    {
     "name": "stdout",
     "output_type": "stream",
     "text": [
      "1141019.jpg\n",
      "1141049.jpg\n",
      "1141060.jpg\n",
      "1141141.jpg\n",
      "1141381.jpg\n",
      "1141391.jpg\n",
      "1141401.jpg\n",
      "1141411.jpg\n",
      "1141631.jpg\n",
      "1141641.jpg\n",
      "1141661.jpg\n",
      "1141671.jpg\n",
      "1141681.jpg\n",
      "1141691.jpg\n",
      "1141761.jpg\n",
      "1141831.jpg\n",
      "1141841.jpg\n",
      "1141851.jpg\n",
      "1141861.jpg\n",
      "1141871.jpg\n",
      "1141881.jpg\n",
      "1141891.jpg\n",
      "1141901.jpg\n",
      "1141911.jpg\n",
      "1141921.jpg\n",
      "1141931.jpg\n",
      "1141941.jpg\n",
      "1141951.jpg\n",
      "1141961.jpg\n",
      "1142461.jpg\n",
      "1142581.jpg\n",
      "1142671.jpg\n",
      "1142691.jpg\n",
      "1142701.jpg\n"
     ]
    },
    {
     "name": "stderr",
     "output_type": "stream",
     "text": [
      " 13%|█▎        | 15610/120975 [00:11<01:34, 1114.13it/s]"
     ]
    },
    {
     "name": "stdout",
     "output_type": "stream",
     "text": [
      "1143061.jpg\n",
      "1143071.jpg\n",
      "1143422.jpg\n",
      "1143432.jpg\n",
      "1143442.jpg\n",
      "1143452.jpg\n",
      "1143522.jpg\n",
      "1144522.jpg\n",
      "1144532.jpg\n"
     ]
    },
    {
     "name": "stderr",
     "output_type": "stream",
     "text": [
      " 13%|█▎        | 15968/120975 [00:11<01:30, 1166.31it/s]"
     ]
    },
    {
     "name": "stdout",
     "output_type": "stream",
     "text": [
      "1145652.jpg\n",
      "1147087.jpg\n",
      "1147097.jpg\n",
      "114745.jpg\n",
      "1147787.jpg\n"
     ]
    },
    {
     "name": "stderr",
     "output_type": "stream",
     "text": [
      " 13%|█▎        | 16201/120975 [00:12<01:34, 1111.71it/s]"
     ]
    },
    {
     "name": "stdout",
     "output_type": "stream",
     "text": [
      "1148677.jpg\n",
      "1148687.jpg\n",
      "1149177.jpg\n",
      "1149217.jpg\n",
      "1149227.jpg\n",
      "1149237.jpg\n",
      "1149247.jpg\n",
      "1149367.jpg\n",
      "1149417.jpg\n",
      "1149437.jpg\n",
      "114960.jpg\n",
      "1149848.jpg\n",
      "1149878.jpg\n",
      "1149888.jpg\n",
      "1149898.jpg\n",
      "1149908.jpg\n",
      "1149948.jpg\n",
      "1149958.jpg\n",
      "1149968.jpg\n",
      "1150.jpg\n",
      "1150148.jpg\n",
      "1150158.jpg\n",
      "1150168.jpg\n",
      "1150198.jpg\n",
      "1150208.jpg\n",
      "1150218.jpg\n",
      "1150228.jpg\n",
      "1150238.jpg\n",
      "1150298.jpg\n",
      "1150308.jpg\n",
      "1150378.jpg\n",
      "1150388.jpg\n",
      "1150408.jpg\n",
      "1150418.jpg\n",
      "1150428.jpg\n",
      "115047.jpg\n",
      "1150528.jpg\n",
      "1150538.jpg\n",
      "1150548.jpg\n",
      "1150558.jpg\n",
      "1150568.jpg\n",
      "1150578.jpg\n",
      "1150588.jpg\n",
      "115059.jpg\n"
     ]
    },
    {
     "name": "stderr",
     "output_type": "stream",
     "text": [
      " 14%|█▎        | 16437/120975 [00:12<01:34, 1111.90it/s]"
     ]
    },
    {
     "name": "stdout",
     "output_type": "stream",
     "text": [
      "1151038.jpg\n",
      "1152699.jpg\n",
      "1152850.jpg\n",
      "1152860.jpg\n"
     ]
    },
    {
     "name": "stderr",
     "output_type": "stream",
     "text": [
      " 14%|█▍        | 16794/120975 [00:12<01:31, 1133.06it/s]"
     ]
    },
    {
     "name": "stdout",
     "output_type": "stream",
     "text": [
      "115498.jpg\n",
      "115553.jpg\n",
      "115601.jpg\n",
      "1156205.jpg\n",
      "115624.jpg\n",
      "115635.jpg\n"
     ]
    },
    {
     "name": "stderr",
     "output_type": "stream",
     "text": [
      " 14%|█▍        | 17172/120975 [00:13<01:26, 1204.97it/s]"
     ]
    },
    {
     "name": "stdout",
     "output_type": "stream",
     "text": [
      "1156781.jpg\n",
      "1157112.jpg\n",
      "1157234.jpg\n",
      "115773.jpg\n",
      "1157751.jpg\n",
      "115785.jpg\n",
      "1158071.jpg\n",
      "1159113.jpg\n"
     ]
    },
    {
     "name": "stderr",
     "output_type": "stream",
     "text": [
      " 14%|█▍        | 17300/120975 [00:13<01:24, 1226.17it/s]"
     ]
    },
    {
     "name": "stdout",
     "output_type": "stream",
     "text": [
      "115949.jpg\n",
      "1159535.jpg\n",
      "1159605.jpg\n",
      "1159635.jpg\n",
      "1159795.jpg\n",
      "1160495.jpg\n",
      "1160645.jpg\n",
      "1160685.jpg\n",
      "1160865.jpg\n",
      "116110.jpg\n",
      "1161155.jpg\n",
      "1161185.jpg\n",
      "1161225.jpg\n"
     ]
    },
    {
     "name": "stderr",
     "output_type": "stream",
     "text": [
      " 15%|█▍        | 17543/120975 [00:13<01:30, 1139.70it/s]"
     ]
    },
    {
     "name": "stdout",
     "output_type": "stream",
     "text": [
      "1161615.jpg\n",
      "1161845.jpg\n",
      "1162275.jpg\n",
      "1162355.jpg\n",
      "1162985.jpg\n"
     ]
    },
    {
     "name": "stderr",
     "output_type": "stream",
     "text": [
      " 15%|█▍        | 17785/120975 [00:13<01:31, 1124.13it/s]"
     ]
    },
    {
     "name": "stdout",
     "output_type": "stream",
     "text": [
      "1164128.jpg\n",
      "1164138.jpg\n",
      "1164188.jpg\n",
      "1164218.jpg\n",
      "1164228.jpg\n",
      "1164238.jpg\n",
      "1164348.jpg\n",
      "1164509.jpg\n",
      "1164549.jpg\n",
      "1165820.jpg\n"
     ]
    },
    {
     "name": "stderr",
     "output_type": "stream",
     "text": [
      " 15%|█▍        | 18021/120975 [00:13<01:29, 1144.10it/s]"
     ]
    },
    {
     "name": "stdout",
     "output_type": "stream",
     "text": [
      "1166047.jpg\n",
      "1166087.jpg\n",
      "1166117.jpg\n",
      "1166177.jpg\n",
      "1166267.jpg\n",
      "1166358.jpg\n",
      "1167840.jpg\n",
      "1168113.jpg\n"
     ]
    },
    {
     "name": "stderr",
     "output_type": "stream",
     "text": [
      " 15%|█▌        | 18355/120975 [00:14<01:34, 1084.55it/s]"
     ]
    },
    {
     "name": "stdout",
     "output_type": "stream",
     "text": [
      "1168773.jpg\n",
      "1168863.jpg\n",
      "1169073.jpg\n",
      "1169323.jpg\n",
      "1169383.jpg\n",
      "1169663.jpg\n"
     ]
    },
    {
     "name": "stderr",
     "output_type": "stream",
     "text": [
      " 15%|█▌        | 18677/120975 [00:14<01:40, 1017.02it/s]"
     ]
    },
    {
     "name": "stdout",
     "output_type": "stream",
     "text": [
      "1171512.jpg\n",
      "1171692.jpg\n",
      "1171702.jpg\n",
      "1171712.jpg\n",
      "1171852.jpg\n",
      "1171902.jpg\n",
      "1172022.jpg\n",
      "1172052.jpg\n",
      "1172072.jpg\n",
      "1172082.jpg\n",
      "1172142.jpg\n",
      "1172152.jpg\n",
      "1172162.jpg\n",
      "1172172.jpg\n",
      "1172222.jpg\n",
      "1172252.jpg\n",
      "1172372.jpg\n",
      "1172402.jpg\n",
      "1172482.jpg\n",
      "1172632.jpg\n",
      "1172852.jpg\n",
      "1173062.jpg\n",
      "1173072.jpg\n",
      "1173082.jpg\n",
      "1173092.jpg\n"
     ]
    },
    {
     "name": "stderr",
     "output_type": "stream",
     "text": [
      " 16%|█▌        | 19138/120975 [00:14<01:31, 1115.01it/s]"
     ]
    },
    {
     "name": "stdout",
     "output_type": "stream",
     "text": [
      "1175562.jpg\n",
      "1175582.jpg\n",
      "1175602.jpg\n",
      "1175672.jpg\n",
      "1175692.jpg\n",
      "1175712.jpg\n",
      "1175782.jpg\n",
      "1175892.jpg\n",
      "1176862.jpg\n",
      "1177322.jpg\n",
      "1177332.jpg\n",
      "1177362.jpg\n",
      "1177392.jpg\n",
      "1177422.jpg\n",
      "1177462.jpg\n",
      "1177472.jpg\n",
      "1177572.jpg\n",
      "1177582.jpg\n",
      "1177602.jpg\n",
      "1177652.jpg\n",
      "1177672.jpg\n",
      "1177692.jpg\n",
      "1177702.jpg\n",
      "1177712.jpg\n",
      "1177722.jpg\n",
      "1177732.jpg\n",
      "1177742.jpg\n"
     ]
    },
    {
     "name": "stderr",
     "output_type": "stream",
     "text": [
      " 16%|█▌        | 19358/120975 [00:15<01:35, 1068.15it/s]"
     ]
    },
    {
     "name": "stdout",
     "output_type": "stream",
     "text": [
      "1178232.jpg\n",
      "1178742.jpg\n",
      "1179602.jpg\n",
      "1180092.jpg\n"
     ]
    },
    {
     "name": "stderr",
     "output_type": "stream",
     "text": [
      " 16%|█▌        | 19582/120975 [00:15<01:49, 929.73it/s] "
     ]
    },
    {
     "name": "stdout",
     "output_type": "stream",
     "text": [
      "1180472.jpg\n",
      "1180482.jpg\n",
      "1180502.jpg\n",
      "1180512.jpg\n",
      "1180532.jpg\n",
      "1180542.jpg\n",
      "1180572.jpg\n",
      "1180622.jpg\n",
      "1180632.jpg\n",
      "1180672.jpg\n",
      "1180702.jpg\n",
      "1180742.jpg\n",
      "1180752.jpg\n",
      "1180762.jpg\n",
      "1180782.jpg\n",
      "1180792.jpg\n",
      "1180822.jpg\n",
      "1180832.jpg\n",
      "1180852.jpg\n",
      "1180862.jpg\n",
      "1180892.jpg\n",
      "1180922.jpg\n",
      "1180932.jpg\n",
      "1180942.jpg\n",
      "1180962.jpg\n",
      "1180982.jpg\n",
      "1181022.jpg\n",
      "1181042.jpg\n",
      "1181052.jpg\n",
      "1181102.jpg\n",
      "1181167.jpg\n",
      "1181240.jpg\n",
      "1181264.jpg\n",
      "1181292.jpg\n",
      "1181302.jpg\n",
      "1181322.jpg\n",
      "1181343.jpg\n",
      "1181355.jpg\n",
      "1181366.jpg\n",
      "1181376.jpg\n",
      "1181386.jpg\n",
      "1181402.jpg\n",
      "1181422.jpg\n",
      "1181432.jpg\n",
      "1181442.jpg\n",
      "1181452.jpg\n",
      "1181493.jpg\n",
      "1181503.jpg\n",
      "1181514.jpg\n",
      "1181524.jpg\n",
      "1181535.jpg\n",
      "1181545.jpg\n",
      "1181555.jpg\n",
      "1181576.jpg\n",
      "1181587.jpg\n",
      "1181614.jpg\n",
      "1181624.jpg\n",
      "1181634.jpg\n",
      "1181644.jpg\n",
      "1181655.jpg\n",
      "1181674.jpg\n",
      "1181712.jpg\n",
      "1181722.jpg\n",
      "1181742.jpg\n",
      "1181752.jpg\n",
      "1181763.jpg\n",
      "1181773.jpg\n",
      "1181783.jpg\n",
      "1181793.jpg\n",
      "1181803.jpg\n",
      "1181813.jpg\n",
      "1181826.jpg\n"
     ]
    },
    {
     "name": "stderr",
     "output_type": "stream",
     "text": [
      " 16%|█▋        | 19780/120975 [00:15<01:45, 955.21it/s]"
     ]
    },
    {
     "name": "stdout",
     "output_type": "stream",
     "text": [
      "1182008.jpg\n",
      "1183119.jpg\n",
      "1183129.jpg\n",
      "1183139.jpg\n",
      "1183159.jpg\n"
     ]
    },
    {
     "name": "stderr",
     "output_type": "stream",
     "text": [
      " 17%|█▋        | 20083/120975 [00:15<01:41, 989.64it/s]"
     ]
    },
    {
     "name": "stdout",
     "output_type": "stream",
     "text": [
      "1185053.jpg\n",
      "1185523.jpg\n",
      "1185716.jpg\n",
      "1185726.jpg\n",
      "1185814.jpg\n",
      "1185844.jpg\n",
      "1185914.jpg\n",
      "1185924.jpg\n",
      "1185964.jpg\n",
      "1185994.jpg\n",
      "1186004.jpg\n",
      "1186014.jpg\n",
      "1186054.jpg\n",
      "1186084.jpg\n"
     ]
    },
    {
     "name": "stderr",
     "output_type": "stream",
     "text": [
      " 17%|█▋        | 20511/120975 [00:16<01:36, 1038.14it/s]"
     ]
    },
    {
     "name": "stdout",
     "output_type": "stream",
     "text": [
      "1188640.jpg\n",
      "1188880.jpg\n",
      "1189184.jpg\n",
      "1190014.jpg\n",
      "1190024.jpg\n",
      "1190034.jpg\n",
      "1190044.jpg\n"
     ]
    },
    {
     "name": "stderr",
     "output_type": "stream",
     "text": [
      " 17%|█▋        | 21076/120975 [00:16<01:28, 1129.84it/s]"
     ]
    },
    {
     "name": "stdout",
     "output_type": "stream",
     "text": [
      "1193942.jpg\n",
      "1194748.jpg\n",
      "1195348.jpg\n",
      "1195658.jpg\n",
      "1195758.jpg\n",
      "119586.jpg\n",
      "119596.jpg\n",
      "119606.jpg\n"
     ]
    },
    {
     "name": "stderr",
     "output_type": "stream",
     "text": [
      " 18%|█▊        | 21302/120975 [00:16<01:32, 1076.92it/s]"
     ]
    },
    {
     "name": "stdout",
     "output_type": "stream",
     "text": [
      "119657.jpg\n",
      "1196609.jpg\n",
      "1197269.jpg\n",
      "119730.jpg\n",
      "1197603.jpg\n",
      "1197613.jpg\n",
      "119771.jpg\n",
      "1197714.jpg\n",
      "119801.jpg\n",
      "1198264.jpg\n"
     ]
    },
    {
     "name": "stderr",
     "output_type": "stream",
     "text": [
      " 18%|█▊        | 21632/120975 [00:17<01:32, 1072.92it/s]"
     ]
    },
    {
     "name": "stdout",
     "output_type": "stream",
     "text": [
      "1198986.jpg\n",
      "1199312.jpg\n",
      "1199342.jpg\n",
      "119951.jpg\n",
      "11996.jpg\n"
     ]
    },
    {
     "name": "stderr",
     "output_type": "stream",
     "text": [
      " 18%|█▊        | 21857/120975 [00:17<01:30, 1095.88it/s]"
     ]
    },
    {
     "name": "stdout",
     "output_type": "stream",
     "text": [
      "120108.jpg\n",
      "120170.jpg\n",
      "120182.jpg\n",
      "1202751.jpg\n"
     ]
    },
    {
     "name": "stderr",
     "output_type": "stream",
     "text": [
      " 18%|█▊        | 22086/120975 [00:17<01:28, 1120.75it/s]"
     ]
    },
    {
     "name": "stdout",
     "output_type": "stream",
     "text": [
      "1203554.jpg\n",
      "1203745.jpg\n",
      "1203987.jpg\n",
      "1204187.jpg\n",
      "120504.jpg\n",
      "1205181.jpg\n",
      "1205642.jpg\n"
     ]
    },
    {
     "name": "stderr",
     "output_type": "stream",
     "text": [
      " 19%|█▊        | 22426/120975 [00:17<01:29, 1101.47it/s]"
     ]
    },
    {
     "name": "stdout",
     "output_type": "stream",
     "text": [
      "1205995.jpg\n",
      "120600.jpg\n",
      "1206025.jpg\n",
      "1206095.jpg\n",
      "1206125.jpg\n",
      "1206135.jpg\n",
      "1206155.jpg\n",
      "1206235.jpg\n",
      "1206295.jpg\n",
      "1206526.jpg\n",
      "1206606.jpg\n",
      "1206616.jpg\n",
      "1206696.jpg\n",
      "1206726.jpg\n"
     ]
    },
    {
     "name": "stderr",
     "output_type": "stream",
     "text": [
      " 19%|█▊        | 22646/120975 [00:18<01:31, 1069.34it/s]"
     ]
    },
    {
     "name": "stdout",
     "output_type": "stream",
     "text": [
      "1208366.jpg\n",
      "1209086.jpg\n"
     ]
    },
    {
     "name": "stderr",
     "output_type": "stream",
     "text": [
      " 19%|█▉        | 22862/120975 [00:18<01:32, 1062.02it/s]"
     ]
    },
    {
     "name": "stdout",
     "output_type": "stream",
     "text": [
      "1210579.jpg\n",
      "1210639.jpg\n",
      "1210649.jpg\n",
      "1210819.jpg\n",
      "1210941.jpg\n",
      "1211102.jpg\n",
      "1211222.jpg\n",
      "1211613.jpg\n",
      "1212343.jpg\n",
      "121259.jpg\n"
     ]
    },
    {
     "name": "stderr",
     "output_type": "stream",
     "text": [
      " 19%|█▉        | 23075/120975 [00:18<01:37, 1006.47it/s]"
     ]
    },
    {
     "name": "stdout",
     "output_type": "stream",
     "text": [
      "121274.jpg\n",
      "121303.jpg\n",
      "12133.jpg\n",
      "121345.jpg\n",
      "1214229.jpg\n",
      "1214239.jpg\n",
      "1214319.jpg\n",
      "1214339.jpg\n",
      "1214359.jpg\n",
      "1214399.jpg\n"
     ]
    },
    {
     "name": "stderr",
     "output_type": "stream",
     "text": [
      " 19%|█▉        | 23373/120975 [00:18<01:43, 942.75it/s] "
     ]
    },
    {
     "name": "stdout",
     "output_type": "stream",
     "text": [
      "1215192.jpg\n",
      "12157.jpg\n",
      "1215892.jpg\n",
      "1216102.jpg\n",
      "121631.jpg\n",
      "1216353.jpg\n",
      "121641.jpg\n",
      "1216883.jpg\n",
      "1217093.jpg\n",
      "1217103.jpg\n"
     ]
    },
    {
     "name": "stderr",
     "output_type": "stream",
     "text": [
      " 20%|█▉        | 23659/120975 [00:19<01:44, 930.87it/s]"
     ]
    },
    {
     "name": "stdout",
     "output_type": "stream",
     "text": [
      "1217433.jpg\n",
      "1217883.jpg\n",
      "1217893.jpg\n",
      "1217933.jpg\n",
      "1217943.jpg\n",
      "1217993.jpg\n",
      "1218003.jpg\n",
      "1218023.jpg\n",
      "1218263.jpg\n",
      "1218323.jpg\n",
      "1218403.jpg\n",
      "1218463.jpg\n"
     ]
    },
    {
     "name": "stderr",
     "output_type": "stream",
     "text": [
      " 20%|█▉        | 23957/120975 [00:19<01:43, 936.50it/s]"
     ]
    },
    {
     "name": "stdout",
     "output_type": "stream",
     "text": [
      "1220244.jpg\n",
      "1221094.jpg\n",
      "1221164.jpg\n",
      "1221194.jpg\n",
      "1221204.jpg\n",
      "1221214.jpg\n",
      "1221574.jpg\n",
      "1221744.jpg\n",
      "1221774.jpg\n"
     ]
    },
    {
     "name": "stderr",
     "output_type": "stream",
     "text": [
      " 20%|██        | 24242/120975 [00:19<01:43, 937.00it/s]"
     ]
    },
    {
     "name": "stdout",
     "output_type": "stream",
     "text": [
      "1222744.jpg\n",
      "1222754.jpg\n",
      "1222774.jpg\n",
      "1222784.jpg\n",
      "1222864.jpg\n",
      "1222894.jpg\n",
      "1222904.jpg\n",
      "1222924.jpg\n",
      "1222974.jpg\n",
      "1222994.jpg\n",
      "1223014.jpg\n",
      "1223034.jpg\n",
      "1223044.jpg\n",
      "1223054.jpg\n",
      "1223074.jpg\n",
      "1223394.jpg\n",
      "1223904.jpg\n"
     ]
    },
    {
     "name": "stderr",
     "output_type": "stream",
     "text": [
      " 20%|██        | 24436/120975 [00:20<01:43, 934.64it/s]"
     ]
    },
    {
     "name": "stdout",
     "output_type": "stream",
     "text": [
      "1224725.jpg\n",
      "1224735.jpg\n",
      "12249.jpg\n",
      "1225219.jpg\n",
      "1225290.jpg\n",
      "1225570.jpg\n",
      "122569.jpg\n"
     ]
    },
    {
     "name": "stderr",
     "output_type": "stream",
     "text": [
      " 20%|██        | 24732/120975 [00:20<01:39, 968.77it/s]"
     ]
    },
    {
     "name": "stdout",
     "output_type": "stream",
     "text": [
      "1227140.jpg\n",
      "1227703.jpg\n",
      "122775.jpg\n",
      "12278.jpg\n",
      "1228595.jpg\n",
      "1228855.jpg\n"
     ]
    },
    {
     "name": "stderr",
     "output_type": "stream",
     "text": [
      " 21%|██        | 24926/120975 [00:20<01:41, 943.26it/s]"
     ]
    },
    {
     "name": "stdout",
     "output_type": "stream",
     "text": [
      "1228965.jpg\n",
      "122900.jpg\n",
      "1229015.jpg\n",
      "122921.jpg\n",
      "1229285.jpg\n",
      "1229305.jpg\n",
      "122931.jpg\n",
      "1229325.jpg\n",
      "1229345.jpg\n",
      "1229355.jpg\n",
      "1229365.jpg\n",
      "1229416.jpg\n",
      "1229477.jpg\n",
      "1229487.jpg\n",
      "1229509.jpg\n",
      "1229541.jpg\n",
      "1229551.jpg\n",
      "1229561.jpg\n",
      "1229601.jpg\n",
      "1229652.jpg\n",
      "1229815.jpg\n",
      "1229926.jpg\n",
      "1229946.jpg\n",
      "1230216.jpg\n",
      "1230226.jpg\n",
      "1230236.jpg\n",
      "123030.jpg\n",
      "1230446.jpg\n"
     ]
    },
    {
     "name": "stderr",
     "output_type": "stream",
     "text": [
      " 21%|██        | 25126/120975 [00:20<01:40, 957.27it/s]"
     ]
    },
    {
     "name": "stdout",
     "output_type": "stream",
     "text": [
      "1230726.jpg\n",
      "123162.jpg\n",
      "123172.jpg\n",
      "123182.jpg\n",
      "123193.jpg\n",
      "1232002.jpg\n",
      "1232092.jpg\n",
      "1232222.jpg\n"
     ]
    },
    {
     "name": "stderr",
     "output_type": "stream",
     "text": [
      " 21%|██        | 25222/120975 [00:20<01:49, 876.22it/s]"
     ]
    },
    {
     "name": "stdout",
     "output_type": "stream",
     "text": [
      "1232662.jpg\n",
      "123288.jpg\n",
      "1233152.jpg\n",
      "123328.jpg\n",
      "1233342.jpg\n",
      "1233402.jpg\n",
      "1233422.jpg\n",
      "1233452.jpg\n",
      "1233462.jpg\n",
      "1234002.jpg\n"
     ]
    },
    {
     "name": "stderr",
     "output_type": "stream",
     "text": [
      " 21%|██        | 25518/120975 [00:21<01:44, 911.75it/s]"
     ]
    },
    {
     "name": "stdout",
     "output_type": "stream",
     "text": [
      "1234756.jpg\n",
      "1234766.jpg\n",
      "1234777.jpg\n",
      "1234797.jpg\n",
      "1234870.jpg\n",
      "1234880.jpg\n",
      "1234890.jpg\n",
      "1234900.jpg\n",
      "1234910.jpg\n",
      "1234930.jpg\n",
      "1234940.jpg\n",
      "1234950.jpg\n",
      "1234980.jpg\n",
      "1234990.jpg\n",
      "1235000.jpg\n",
      "1235010.jpg\n",
      "1235040.jpg\n",
      "1235060.jpg\n",
      "1235070.jpg\n",
      "1235080.jpg\n",
      "1235090.jpg\n",
      "1235120.jpg\n",
      "1235140.jpg\n",
      "1235150.jpg\n",
      "1235160.jpg\n",
      "1235170.jpg\n",
      "1235190.jpg\n",
      "1235200.jpg\n",
      "1236025.jpg\n",
      "1236036.jpg\n",
      "1236091.jpg\n",
      "1236101.jpg\n"
     ]
    },
    {
     "name": "stderr",
     "output_type": "stream",
     "text": [
      " 21%|██▏       | 25813/120975 [00:21<01:49, 867.67it/s]"
     ]
    },
    {
     "name": "stdout",
     "output_type": "stream",
     "text": [
      "1237911.jpg\n",
      "1237921.jpg\n",
      "1237951.jpg\n",
      "1237961.jpg\n",
      "1237971.jpg\n",
      "1237991.jpg\n",
      "1238001.jpg\n",
      "1238011.jpg\n",
      "1238021.jpg\n",
      "1238031.jpg\n",
      "1238041.jpg\n",
      "1238051.jpg\n",
      "1238061.jpg\n",
      "1238081.jpg\n",
      "1238091.jpg\n",
      "1238111.jpg\n",
      "1238121.jpg\n",
      "1238141.jpg\n",
      "1238151.jpg\n",
      "1238161.jpg\n",
      "1238171.jpg\n",
      "1238181.jpg\n",
      "1238191.jpg\n",
      "1238221.jpg\n",
      "1238231.jpg\n",
      "1238241.jpg\n",
      "1238251.jpg\n",
      "1238261.jpg\n",
      "1238271.jpg\n",
      "1238281.jpg\n",
      "1238311.jpg\n",
      "1238321.jpg\n",
      "1238331.jpg\n",
      "1238341.jpg\n",
      "1238351.jpg\n",
      "1238511.jpg\n",
      "1238611.jpg\n",
      "1238651.jpg\n",
      "1238662.jpg\n",
      "1238672.jpg\n",
      "1238682.jpg\n",
      "1238692.jpg\n",
      "1238702.jpg\n",
      "1238712.jpg\n",
      "1238722.jpg\n",
      "1238732.jpg\n",
      "1238742.jpg\n",
      "1238752.jpg\n",
      "1238766.jpg\n",
      "1238776.jpg\n",
      "1238786.jpg\n",
      "1238796.jpg\n",
      "1238808.jpg\n",
      "1238818.jpg\n",
      "1238828.jpg\n",
      "1238838.jpg\n",
      "1238848.jpg\n",
      "1238858.jpg\n",
      "1238868.jpg\n",
      "1238878.jpg\n",
      "1238888.jpg\n",
      "1238898.jpg\n",
      "1238908.jpg\n",
      "1238919.jpg\n",
      "1238929.jpg\n",
      "1238939.jpg\n",
      "1238949.jpg\n",
      "1238959.jpg\n",
      "1238969.jpg\n",
      "1238980.jpg\n",
      "1238990.jpg\n",
      "1239000.jpg\n",
      "1239010.jpg\n",
      "1239020.jpg\n",
      "1239030.jpg\n",
      "1239040.jpg\n",
      "1239050.jpg\n",
      "1239060.jpg\n",
      "1239070.jpg\n",
      "1239080.jpg\n",
      "1239090.jpg\n",
      "1239100.jpg\n",
      "1239111.jpg\n",
      "1239121.jpg\n",
      "1239132.jpg\n",
      "1239142.jpg\n",
      "1239152.jpg\n",
      "1239162.jpg\n",
      "1239172.jpg\n",
      "1239182.jpg\n",
      "1239192.jpg\n",
      "1239202.jpg\n",
      "1239212.jpg\n"
     ]
    },
    {
     "name": "stderr",
     "output_type": "stream",
     "text": [
      " 21%|██▏       | 25987/120975 [00:21<01:54, 827.32it/s]"
     ]
    },
    {
     "name": "stdout",
     "output_type": "stream",
     "text": [
      "1239223.jpg\n",
      "1239233.jpg\n",
      "1239243.jpg\n",
      "1239253.jpg\n",
      "1239293.jpg\n",
      "1239313.jpg\n",
      "1239323.jpg\n",
      "1239333.jpg\n",
      "123984.jpg\n",
      "123996.jpg\n",
      "1240354.jpg\n",
      "1240395.jpg\n",
      "1240415.jpg\n",
      "1240425.jpg\n",
      "1240436.jpg\n",
      "1240446.jpg\n",
      "1240487.jpg\n",
      "1240497.jpg\n",
      "1240518.jpg\n",
      "1240538.jpg\n",
      "1240568.jpg\n",
      "124058.jpg\n",
      "1240618.jpg\n",
      "1240628.jpg\n",
      "1240638.jpg\n",
      "1240648.jpg\n",
      "1240718.jpg\n",
      "1240738.jpg\n",
      "1240748.jpg\n",
      "1240790.jpg\n",
      "1240810.jpg\n",
      "1240820.jpg\n",
      "1240830.jpg\n",
      "1240850.jpg\n",
      "1240880.jpg\n",
      "1240890.jpg\n",
      "1240900.jpg\n"
     ]
    },
    {
     "name": "stderr",
     "output_type": "stream",
     "text": [
      " 22%|██▏       | 26180/120975 [00:21<01:45, 895.72it/s]"
     ]
    },
    {
     "name": "stdout",
     "output_type": "stream",
     "text": [
      "1241370.jpg\n",
      "124258.jpg\n",
      "1242687.jpg\n"
     ]
    },
    {
     "name": "stderr",
     "output_type": "stream",
     "text": [
      " 22%|██▏       | 26366/120975 [00:22<01:43, 909.80it/s]"
     ]
    },
    {
     "name": "stdout",
     "output_type": "stream",
     "text": [
      "124304.jpg\n",
      "1243077.jpg\n",
      "1243387.jpg\n",
      "124386.jpg\n",
      "1243887.jpg\n",
      "1243897.jpg\n",
      "1243937.jpg\n",
      "1243947.jpg\n",
      "1244007.jpg\n",
      "1244047.jpg\n",
      "124438.jpg\n"
     ]
    },
    {
     "name": "stderr",
     "output_type": "stream",
     "text": [
      " 22%|██▏       | 26653/120975 [00:22<01:41, 933.13it/s]"
     ]
    },
    {
     "name": "stdout",
     "output_type": "stream",
     "text": [
      "124518.jpg\n",
      "124528.jpg\n"
     ]
    },
    {
     "name": "stderr",
     "output_type": "stream",
     "text": [
      " 22%|██▏       | 26838/120975 [00:22<01:45, 889.38it/s]"
     ]
    },
    {
     "name": "stdout",
     "output_type": "stream",
     "text": [
      "1247079.jpg\n",
      "1247170.jpg\n",
      "1247275.jpg\n",
      "1247516.jpg\n",
      "1247526.jpg\n",
      "1247536.jpg\n",
      "1247576.jpg\n",
      "1247616.jpg\n",
      "1247626.jpg\n",
      "1247776.jpg\n",
      "1247876.jpg\n"
     ]
    },
    {
     "name": "stderr",
     "output_type": "stream",
     "text": [
      " 22%|██▏       | 27029/120975 [00:22<01:41, 924.59it/s]"
     ]
    },
    {
     "name": "stdout",
     "output_type": "stream",
     "text": [
      "1249009.jpg\n",
      "1250234.jpg\n"
     ]
    },
    {
     "name": "stderr",
     "output_type": "stream",
     "text": [
      " 23%|██▎       | 27332/120975 [00:23<01:38, 952.64it/s]"
     ]
    },
    {
     "name": "stdout",
     "output_type": "stream",
     "text": [
      "1251395.jpg\n",
      "1251785.jpg\n",
      "1251845.jpg\n",
      "1251875.jpg\n",
      "1251955.jpg\n",
      "1251965.jpg\n",
      "125205.jpg\n",
      "1252525.jpg\n",
      "125273.jpg\n"
     ]
    },
    {
     "name": "stderr",
     "output_type": "stream",
     "text": [
      " 23%|██▎       | 27524/120975 [00:23<01:38, 951.29it/s]"
     ]
    },
    {
     "name": "stdout",
     "output_type": "stream",
     "text": [
      "1253175.jpg\n",
      "1253185.jpg\n",
      "125329.jpg\n",
      "1253315.jpg\n",
      "1253971.jpg\n",
      "1254332.jpg\n"
     ]
    },
    {
     "name": "stderr",
     "output_type": "stream",
     "text": [
      " 23%|██▎       | 27714/120975 [00:23<01:40, 931.57it/s]"
     ]
    },
    {
     "name": "stdout",
     "output_type": "stream",
     "text": [
      "1254793.jpg\n",
      "125500.jpg\n",
      "1255576.jpg\n",
      "1255637.jpg\n",
      "1256201.jpg\n"
     ]
    },
    {
     "name": "stderr",
     "output_type": "stream",
     "text": [
      " 23%|██▎       | 27904/120975 [00:23<01:39, 937.47it/s]"
     ]
    },
    {
     "name": "stdout",
     "output_type": "stream",
     "text": [
      "1256681.jpg\n",
      "1257583.jpg\n",
      "1257603.jpg\n",
      "1258015.jpg\n"
     ]
    },
    {
     "name": "stderr",
     "output_type": "stream",
     "text": [
      " 23%|██▎       | 27998/120975 [00:23<01:41, 917.56it/s]"
     ]
    },
    {
     "name": "stdout",
     "output_type": "stream",
     "text": [
      "1258315.jpg\n",
      "1258395.jpg\n",
      "125841.jpg\n",
      "1259840.jpg\n"
     ]
    },
    {
     "name": "stderr",
     "output_type": "stream",
     "text": [
      " 23%|██▎       | 28283/120975 [00:24<01:40, 926.13it/s]"
     ]
    },
    {
     "name": "stdout",
     "output_type": "stream",
     "text": [
      "126033.jpg\n",
      "1260611.jpg\n",
      "126079.jpg\n",
      "1260791.jpg\n",
      "1260801.jpg\n"
     ]
    },
    {
     "name": "stderr",
     "output_type": "stream",
     "text": [
      " 24%|██▎       | 28471/120975 [00:24<01:39, 930.09it/s]"
     ]
    },
    {
     "name": "stdout",
     "output_type": "stream",
     "text": [
      "1262234.jpg\n",
      "1262244.jpg\n",
      "1262264.jpg\n",
      "126323.jpg\n"
     ]
    },
    {
     "name": "stderr",
     "output_type": "stream",
     "text": [
      " 24%|██▎       | 28656/120975 [00:24<01:43, 895.47it/s]"
     ]
    },
    {
     "name": "stdout",
     "output_type": "stream",
     "text": [
      "126402.jpg\n",
      "1264483.jpg\n",
      "1264613.jpg\n",
      "1265116.jpg\n",
      "1265426.jpg\n"
     ]
    },
    {
     "name": "stderr",
     "output_type": "stream",
     "text": [
      " 24%|██▍       | 28833/120975 [00:24<01:46, 865.16it/s]"
     ]
    },
    {
     "name": "stdout",
     "output_type": "stream",
     "text": [
      "1265906.jpg\n",
      "1265916.jpg\n",
      "1266176.jpg\n",
      "1266337.jpg\n",
      "1267509.jpg\n"
     ]
    },
    {
     "name": "stderr",
     "output_type": "stream",
     "text": [
      " 24%|██▍       | 29112/120975 [00:25<01:43, 886.75it/s]"
     ]
    },
    {
     "name": "stdout",
     "output_type": "stream",
     "text": [
      "1268429.jpg\n",
      "1268719.jpg\n",
      "126926.jpg\n",
      "1269794.jpg\n"
     ]
    },
    {
     "name": "stderr",
     "output_type": "stream",
     "text": [
      " 24%|██▍       | 29299/120975 [00:25<01:40, 909.11it/s]"
     ]
    },
    {
     "name": "stdout",
     "output_type": "stream",
     "text": [
      "127019.jpg\n",
      "127032.jpg\n",
      "1271294.jpg\n",
      "127174.jpg\n"
     ]
    },
    {
     "name": "stderr",
     "output_type": "stream",
     "text": [
      " 25%|██▍       | 29681/120975 [00:25<01:38, 927.52it/s]"
     ]
    },
    {
     "name": "stdout",
     "output_type": "stream",
     "text": [
      "1273172.jpg\n",
      "1273232.jpg\n",
      "1273292.jpg\n",
      "1273682.jpg\n"
     ]
    },
    {
     "name": "stderr",
     "output_type": "stream",
     "text": [
      " 25%|██▍       | 29960/120975 [00:26<01:39, 914.17it/s]"
     ]
    },
    {
     "name": "stdout",
     "output_type": "stream",
     "text": [
      "127577.jpg\n",
      "127628.jpg\n"
     ]
    },
    {
     "name": "stderr",
     "output_type": "stream",
     "text": [
      " 25%|██▍       | 30142/120975 [00:26<01:41, 897.30it/s]"
     ]
    },
    {
     "name": "stdout",
     "output_type": "stream",
     "text": [
      "1277740.jpg\n",
      "1277750.jpg\n",
      "1277760.jpg\n",
      "1277771.jpg\n",
      "1277782.jpg\n",
      "1277793.jpg\n",
      "1277835.jpg\n",
      "127785.jpg\n",
      "1278056.jpg\n"
     ]
    },
    {
     "name": "stderr",
     "output_type": "stream",
     "text": [
      " 25%|██▌       | 30416/120975 [00:26<01:42, 887.81it/s]"
     ]
    },
    {
     "name": "stdout",
     "output_type": "stream",
     "text": [
      "1279566.jpg\n",
      "1279576.jpg\n",
      "1279586.jpg\n",
      "1279626.jpg\n",
      "1279636.jpg\n",
      "128041.jpg\n",
      "128051.jpg\n",
      "1280617.jpg\n",
      "1280807.jpg\n"
     ]
    },
    {
     "name": "stderr",
     "output_type": "stream",
     "text": [
      " 25%|██▌       | 30505/120975 [00:26<01:41, 888.31it/s]"
     ]
    },
    {
     "name": "stdout",
     "output_type": "stream",
     "text": [
      "1281280.jpg\n",
      "1281290.jpg\n",
      "1281310.jpg\n",
      "1281320.jpg\n",
      "12821.jpg\n",
      "1282533.jpg\n",
      "1282614.jpg\n",
      "1282634.jpg\n"
     ]
    },
    {
     "name": "stderr",
     "output_type": "stream",
     "text": [
      " 25%|██▌       | 30678/120975 [00:26<01:49, 821.30it/s]"
     ]
    },
    {
     "name": "stdout",
     "output_type": "stream",
     "text": [
      "1282924.jpg\n",
      "1283470.jpg\n",
      "1283510.jpg\n",
      "1283970.jpg\n",
      "1284380.jpg\n"
     ]
    },
    {
     "name": "stderr",
     "output_type": "stream",
     "text": [
      " 26%|██▌       | 30943/120975 [00:27<01:44, 857.84it/s]"
     ]
    },
    {
     "name": "stdout",
     "output_type": "stream",
     "text": [
      "1284620.jpg\n",
      "1284630.jpg\n",
      "1284650.jpg\n",
      "1284730.jpg\n",
      "128474.jpg\n",
      "1284740.jpg\n",
      "1284750.jpg\n",
      "1284760.jpg\n",
      "1284870.jpg\n",
      "128488.jpg\n",
      "1285160.jpg\n",
      "128531.jpg\n",
      "128542.jpg\n",
      "12855.jpg\n",
      "128554.jpg\n",
      "128592.jpg\n"
     ]
    },
    {
     "name": "stderr",
     "output_type": "stream",
     "text": [
      " 26%|██▌       | 31118/120975 [00:27<01:46, 847.45it/s]"
     ]
    },
    {
     "name": "stdout",
     "output_type": "stream",
     "text": [
      "1286480.jpg\n",
      "1286490.jpg\n",
      "12870.jpg\n",
      "128700.jpg\n",
      "1287831.jpg\n"
     ]
    },
    {
     "name": "stderr",
     "output_type": "stream",
     "text": [
      " 26%|██▌       | 31296/120975 [00:27<01:43, 866.77it/s]"
     ]
    },
    {
     "name": "stdout",
     "output_type": "stream",
     "text": [
      "12881.jpg\n",
      "1289032.jpg\n",
      "1289042.jpg\n",
      "128926.jpg\n",
      "128939.jpg\n",
      "128950.jpg\n",
      "128971.jpg\n"
     ]
    },
    {
     "name": "stderr",
     "output_type": "stream",
     "text": [
      " 26%|██▌       | 31575/120975 [00:27<01:42, 874.55it/s]"
     ]
    },
    {
     "name": "stdout",
     "output_type": "stream",
     "text": [
      "1290232.jpg\n",
      "1290432.jpg\n",
      "1290442.jpg\n",
      "1290452.jpg\n",
      "129053.jpg\n",
      "1290872.jpg\n",
      "12917.jpg\n"
     ]
    },
    {
     "name": "stderr",
     "output_type": "stream",
     "text": [
      " 26%|██▌       | 31753/120975 [00:28<01:42, 873.13it/s]"
     ]
    },
    {
     "name": "stdout",
     "output_type": "stream",
     "text": [
      "1292155.jpg\n",
      "129244.jpg\n",
      "129255.jpg\n",
      "129277.jpg\n",
      "1293155.jpg\n",
      "1293507.jpg\n",
      "1293717.jpg\n"
     ]
    },
    {
     "name": "stderr",
     "output_type": "stream",
     "text": [
      " 26%|██▋       | 31938/120975 [00:28<01:41, 876.01it/s]"
     ]
    },
    {
     "name": "stdout",
     "output_type": "stream",
     "text": [
      "129387.jpg\n",
      "129399.jpg\n",
      "129410.jpg\n",
      "129422.jpg\n",
      "129433.jpg\n",
      "129444.jpg\n",
      "129476.jpg\n",
      "129487.jpg\n",
      "129510.jpg\n",
      "129521.jpg\n",
      "129532.jpg\n"
     ]
    },
    {
     "name": "stderr",
     "output_type": "stream",
     "text": [
      " 27%|██▋       | 32121/120975 [00:28<01:39, 888.60it/s]"
     ]
    },
    {
     "name": "stdout",
     "output_type": "stream",
     "text": [
      "1296186.jpg\n",
      "1296527.jpg\n",
      "1297601.jpg\n"
     ]
    },
    {
     "name": "stderr",
     "output_type": "stream",
     "text": [
      " 27%|██▋       | 32305/120975 [00:28<01:39, 891.48it/s]"
     ]
    },
    {
     "name": "stdout",
     "output_type": "stream",
     "text": [
      "1297682.jpg\n",
      "1297692.jpg\n",
      "1297702.jpg\n",
      "1297712.jpg\n",
      "1297762.jpg\n",
      "129807.jpg\n",
      "129818.jpg\n",
      "129829.jpg\n",
      "129850.jpg\n",
      "129861.jpg\n",
      "129872.jpg\n",
      "1298732.jpg\n",
      "129883.jpg\n",
      "129894.jpg\n",
      "129905.jpg\n",
      "129915.jpg\n",
      "129930.jpg\n"
     ]
    },
    {
     "name": "stderr",
     "output_type": "stream",
     "text": [
      " 27%|██▋       | 32482/120975 [00:29<01:43, 852.42it/s]"
     ]
    },
    {
     "name": "stdout",
     "output_type": "stream",
     "text": [
      "129942.jpg\n",
      "1299573.jpg\n",
      "1299653.jpg\n",
      "129967.jpg\n",
      "1299714.jpg\n",
      "1299784.jpg\n",
      "1299955.jpg\n",
      "1300015.jpg\n",
      "1300025.jpg\n",
      "130010.jpg\n",
      "1300106.jpg\n",
      "130021.jpg\n",
      "1300266.jpg\n",
      "130032.jpg\n",
      "1300346.jpg\n",
      "130043.jpg\n",
      "1300526.jpg\n",
      "1300627.jpg\n",
      "1300637.jpg\n",
      "130086.jpg\n",
      "130097.jpg\n"
     ]
    },
    {
     "name": "stderr",
     "output_type": "stream",
     "text": [
      " 27%|██▋       | 32745/120975 [00:29<01:42, 858.06it/s]"
     ]
    },
    {
     "name": "stdout",
     "output_type": "stream",
     "text": [
      "1301279.jpg\n",
      "130192.jpg\n",
      "130205.jpg\n",
      "130217.jpg\n",
      "130227.jpg\n",
      "130238.jpg\n",
      "1302939.jpg\n",
      "1302949.jpg\n",
      "1302959.jpg\n"
     ]
    },
    {
     "name": "stderr",
     "output_type": "stream",
     "text": [
      " 27%|██▋       | 32922/120975 [00:29<01:42, 855.73it/s]"
     ]
    },
    {
     "name": "stdout",
     "output_type": "stream",
     "text": [
      "1303079.jpg\n",
      "1303089.jpg\n",
      "1303099.jpg\n",
      "1303119.jpg\n",
      "1303159.jpg\n",
      "1303229.jpg\n",
      "1303240.jpg\n",
      "1303250.jpg\n",
      "1303330.jpg\n",
      "1303340.jpg\n",
      "1303390.jpg\n",
      "1303400.jpg\n",
      "1303450.jpg\n",
      "1303460.jpg\n",
      "1303470.jpg\n",
      "1303480.jpg\n",
      "1303490.jpg\n",
      "1303540.jpg\n",
      "130357.jpg\n"
     ]
    },
    {
     "name": "stderr",
     "output_type": "stream",
     "text": [
      " 27%|██▋       | 33097/120975 [00:29<01:44, 841.01it/s]"
     ]
    },
    {
     "name": "stdout",
     "output_type": "stream",
     "text": [
      "130470.jpg\n",
      "130480.jpg\n",
      "1304830.jpg\n",
      "1304880.jpg\n",
      "1304920.jpg\n",
      "1304930.jpg\n",
      "1304940.jpg\n",
      "1305020.jpg\n",
      "1305030.jpg\n",
      "13051.jpg\n",
      "1305120.jpg\n",
      "130614.jpg\n"
     ]
    },
    {
     "name": "stderr",
     "output_type": "stream",
     "text": [
      " 28%|██▊       | 33368/120975 [00:30<01:41, 864.27it/s]"
     ]
    },
    {
     "name": "stdout",
     "output_type": "stream",
     "text": [
      "1307021.jpg\n",
      "1307281.jpg\n",
      "130761.jpg\n",
      "1308004.jpg\n",
      "1308065.jpg\n",
      "130811.jpg\n",
      "1308136.jpg\n",
      "1308176.jpg\n",
      "1308186.jpg\n",
      "1308196.jpg\n",
      "1308206.jpg\n",
      "1308226.jpg\n",
      "130833.jpg\n",
      "1308346.jpg\n",
      "1308356.jpg\n",
      "1308366.jpg\n",
      "1308376.jpg\n",
      "1308386.jpg\n",
      "1308396.jpg\n",
      "1308416.jpg\n",
      "1308426.jpg\n",
      "1308436.jpg\n",
      "130845.jpg\n"
     ]
    },
    {
     "name": "stderr",
     "output_type": "stream",
     "text": [
      " 28%|██▊       | 33540/120975 [00:30<01:51, 785.32it/s]"
     ]
    },
    {
     "name": "stdout",
     "output_type": "stream",
     "text": [
      "1308786.jpg\n",
      "1308796.jpg\n",
      "1308816.jpg\n",
      "130888.jpg\n",
      "1308886.jpg\n",
      "1308926.jpg\n",
      "1308996.jpg\n",
      "1309006.jpg\n",
      "1309016.jpg\n",
      "1309048.jpg\n",
      "1309058.jpg\n",
      "1309068.jpg\n",
      "1309078.jpg\n",
      "1309118.jpg\n",
      "1309128.jpg\n",
      "1309138.jpg\n",
      "1309148.jpg\n",
      "1309158.jpg\n",
      "1309198.jpg\n",
      "1309208.jpg\n",
      "1309219.jpg\n",
      "1309229.jpg\n",
      "1309241.jpg\n",
      "1309261.jpg\n",
      "1309271.jpg\n",
      "1309281.jpg\n",
      "1309291.jpg\n",
      "1309302.jpg\n",
      "1309312.jpg\n",
      "1309322.jpg\n",
      "1309332.jpg\n",
      "1309342.jpg\n",
      "1309352.jpg\n",
      "1309363.jpg\n",
      "1309384.jpg\n",
      "1309414.jpg\n",
      "1309434.jpg\n",
      "1309454.jpg\n",
      "1309484.jpg\n",
      "1309494.jpg\n",
      "1309504.jpg\n",
      "1309514.jpg\n",
      "1309524.jpg\n",
      "1309534.jpg\n",
      "1309544.jpg\n",
      "1309574.jpg\n",
      "1310064.jpg\n"
     ]
    },
    {
     "name": "stderr",
     "output_type": "stream",
     "text": [
      " 28%|██▊       | 33793/120975 [00:30<01:49, 793.05it/s]"
     ]
    },
    {
     "name": "stdout",
     "output_type": "stream",
     "text": [
      "13110.jpg\n",
      "1311667.jpg\n",
      "1312402.jpg\n",
      "1312412.jpg\n"
     ]
    },
    {
     "name": "stderr",
     "output_type": "stream",
     "text": [
      " 28%|██▊       | 33967/120975 [00:30<01:44, 833.18it/s]"
     ]
    },
    {
     "name": "stdout",
     "output_type": "stream",
     "text": [
      "1312422.jpg\n",
      "1312432.jpg\n",
      "1312582.jpg\n",
      "1312672.jpg\n",
      "1313563.jpg\n",
      "1313573.jpg\n",
      "1313583.jpg\n",
      "1313603.jpg\n",
      "1313623.jpg\n",
      "1313643.jpg\n",
      "1313673.jpg\n",
      "1313683.jpg\n",
      "1313693.jpg\n",
      "1313713.jpg\n",
      "1313723.jpg\n",
      "1313733.jpg\n",
      "1313773.jpg\n"
     ]
    },
    {
     "name": "stderr",
     "output_type": "stream",
     "text": [
      " 28%|██▊       | 34133/120975 [00:31<01:49, 792.76it/s]"
     ]
    },
    {
     "name": "stdout",
     "output_type": "stream",
     "text": [
      "1314547.jpg\n",
      "1314557.jpg\n",
      "1314567.jpg\n",
      "1314577.jpg\n",
      "1314587.jpg\n",
      "1314597.jpg\n",
      "1314607.jpg\n",
      "1314617.jpg\n",
      "1314627.jpg\n",
      "1314637.jpg\n",
      "1314647.jpg\n",
      "1314657.jpg\n",
      "1314667.jpg\n",
      "1314677.jpg\n",
      "13148.jpg\n",
      "1315393.jpg\n"
     ]
    },
    {
     "name": "stderr",
     "output_type": "stream",
     "text": [
      " 29%|██▊       | 34723/120975 [00:31<01:41, 846.78it/s]"
     ]
    },
    {
     "name": "stdout",
     "output_type": "stream",
     "text": [
      "131915.jpg\n",
      "131927.jpg\n",
      "131940.jpg\n",
      "131952.jpg\n",
      "131963.jpg\n",
      "131975.jpg\n",
      "131989.jpg\n",
      "132004.jpg\n",
      "132017.jpg\n",
      "132028.jpg\n",
      "132064.jpg\n",
      "132077.jpg\n",
      "1320780.jpg\n",
      "132090.jpg\n"
     ]
    },
    {
     "name": "stderr",
     "output_type": "stream",
     "text": [
      " 29%|██▉       | 34900/120975 [00:31<01:42, 843.67it/s]"
     ]
    },
    {
     "name": "stdout",
     "output_type": "stream",
     "text": [
      "132102.jpg\n",
      "132114.jpg\n",
      "132124.jpg\n",
      "132136.jpg\n",
      "132192.jpg\n",
      "132206.jpg\n",
      "1322320.jpg\n",
      "132258.jpg\n"
     ]
    },
    {
     "name": "stderr",
     "output_type": "stream",
     "text": [
      " 29%|██▉       | 35069/120975 [00:32<01:45, 817.90it/s]"
     ]
    },
    {
     "name": "stdout",
     "output_type": "stream",
     "text": [
      "1322640.jpg\n",
      "132270.jpg\n",
      "1322780.jpg\n",
      "1322950.jpg\n",
      "1323120.jpg\n",
      "1323130.jpg\n",
      "1323230.jpg\n",
      "132388.jpg\n",
      "1323941.jpg\n",
      "1323951.jpg\n"
     ]
    },
    {
     "name": "stderr",
     "output_type": "stream",
     "text": [
      " 29%|██▉       | 35306/120975 [00:32<01:58, 721.76it/s]"
     ]
    },
    {
     "name": "stdout",
     "output_type": "stream",
     "text": [
      "132478.jpg\n",
      "132488.jpg\n",
      "132528.jpg\n",
      "1325381.jpg\n",
      "132539.jpg\n",
      "1325391.jpg\n",
      "1325401.jpg\n",
      "132551.jpg\n",
      "1325541.jpg\n",
      "1325551.jpg\n",
      "1325561.jpg\n",
      "132561.jpg\n",
      "132571.jpg\n"
     ]
    },
    {
     "name": "stderr",
     "output_type": "stream",
     "text": [
      " 29%|██▉       | 35466/120975 [00:32<01:52, 760.37it/s]"
     ]
    },
    {
     "name": "stdout",
     "output_type": "stream",
     "text": [
      "132609.jpg\n",
      "1326201.jpg\n",
      "132621.jpg\n",
      "1326221.jpg\n",
      "132638.jpg\n",
      "1327093.jpg\n",
      "1327214.jpg\n",
      "1327224.jpg\n",
      "1327354.jpg\n"
     ]
    },
    {
     "name": "stderr",
     "output_type": "stream",
     "text": [
      " 30%|██▉       | 35719/120975 [00:33<01:47, 792.84it/s]"
     ]
    },
    {
     "name": "stdout",
     "output_type": "stream",
     "text": [
      "1328404.jpg\n",
      "1328535.jpg\n",
      "1328546.jpg\n",
      "1328576.jpg\n",
      "1328962.jpg\n",
      "1328972.jpg\n",
      "1328982.jpg\n"
     ]
    },
    {
     "name": "stderr",
     "output_type": "stream",
     "text": [
      " 30%|██▉       | 35889/120975 [00:33<01:43, 821.14it/s]"
     ]
    },
    {
     "name": "stdout",
     "output_type": "stream",
     "text": [
      "1329872.jpg\n",
      "1329916.jpg\n",
      "1329926.jpg\n",
      "1329936.jpg\n",
      "1330316.jpg\n",
      "1330326.jpg\n",
      "1330336.jpg\n",
      "1330346.jpg\n",
      "1330356.jpg\n"
     ]
    },
    {
     "name": "stderr",
     "output_type": "stream",
     "text": [
      " 30%|██▉       | 36055/120975 [00:33<01:43, 817.07it/s]"
     ]
    },
    {
     "name": "stdout",
     "output_type": "stream",
     "text": [
      "1331576.jpg\n",
      "1332376.jpg\n",
      "1332556.jpg\n",
      "1332926.jpg\n"
     ]
    },
    {
     "name": "stderr",
     "output_type": "stream",
     "text": [
      " 30%|███       | 36465/120975 [00:33<01:45, 800.40it/s]"
     ]
    },
    {
     "name": "stdout",
     "output_type": "stream",
     "text": [
      "1335037.jpg\n",
      "1335047.jpg\n",
      "1335057.jpg\n"
     ]
    },
    {
     "name": "stderr",
     "output_type": "stream",
     "text": [
      " 30%|███       | 36625/120975 [00:34<01:49, 770.29it/s]"
     ]
    },
    {
     "name": "stdout",
     "output_type": "stream",
     "text": [
      "1336777.jpg\n",
      "1336787.jpg\n",
      "1336797.jpg\n",
      "1337637.jpg\n"
     ]
    },
    {
     "name": "stderr",
     "output_type": "stream",
     "text": [
      " 30%|███       | 36786/120975 [00:34<01:48, 776.69it/s]"
     ]
    },
    {
     "name": "stdout",
     "output_type": "stream",
     "text": [
      "1338760.jpg\n",
      "1339401.jpg\n",
      "1339531.jpg\n",
      "1339541.jpg\n",
      "1339651.jpg\n",
      "1339831.jpg\n"
     ]
    },
    {
     "name": "stderr",
     "output_type": "stream",
     "text": [
      " 31%|███       | 37032/120975 [00:34<01:46, 791.45it/s]"
     ]
    },
    {
     "name": "stdout",
     "output_type": "stream",
     "text": [
      "1341001.jpg\n"
     ]
    },
    {
     "name": "stderr",
     "output_type": "stream",
     "text": [
      " 31%|███       | 37338/120975 [00:35<01:53, 738.52it/s]"
     ]
    },
    {
     "name": "stdout",
     "output_type": "stream",
     "text": [
      "1343083.jpg\n",
      "1343593.jpg\n",
      "1343993.jpg\n",
      "1344113.jpg\n",
      "1344313.jpg\n",
      "1344373.jpg\n"
     ]
    },
    {
     "name": "stderr",
     "output_type": "stream",
     "text": [
      " 31%|███       | 37498/120975 [00:35<01:49, 764.64it/s]"
     ]
    },
    {
     "name": "stdout",
     "output_type": "stream",
     "text": [
      "1344433.jpg\n",
      "1344483.jpg\n",
      "1344524.jpg\n",
      "1344694.jpg\n",
      "1344714.jpg\n",
      "1344724.jpg\n",
      "1344734.jpg\n",
      "1344774.jpg\n",
      "1344794.jpg\n",
      "1344804.jpg\n",
      "1344854.jpg\n",
      "1344996.jpg\n",
      "1345106.jpg\n",
      "1345219.jpg\n",
      "1345279.jpg\n",
      "1345359.jpg\n",
      "1345429.jpg\n",
      "1345449.jpg\n",
      "1345459.jpg\n",
      "1345489.jpg\n",
      "1345559.jpg\n",
      "1345589.jpg\n",
      "1345599.jpg\n",
      "1345649.jpg\n",
      "1345779.jpg\n",
      "1345829.jpg\n"
     ]
    },
    {
     "name": "stderr",
     "output_type": "stream",
     "text": [
      " 31%|███       | 37660/120975 [00:35<01:45, 787.61it/s]"
     ]
    },
    {
     "name": "stdout",
     "output_type": "stream",
     "text": [
      "1345949.jpg\n",
      "1346089.jpg\n",
      "1346459.jpg\n",
      "1346579.jpg\n",
      "1346589.jpg\n",
      "1346599.jpg\n",
      "1346809.jpg\n",
      "1346839.jpg\n",
      "1346959.jpg\n",
      "1347299.jpg\n"
     ]
    },
    {
     "name": "stderr",
     "output_type": "stream",
     "text": [
      " 31%|███▏      | 37833/120975 [00:35<01:47, 770.79it/s]"
     ]
    },
    {
     "name": "stdout",
     "output_type": "stream",
     "text": [
      "1347600.jpg\n",
      "1347670.jpg\n",
      "1347680.jpg\n",
      "1347690.jpg\n",
      "1347700.jpg\n",
      "1347710.jpg\n",
      "1347720.jpg\n",
      "1347730.jpg\n",
      "1347740.jpg\n",
      "1347750.jpg\n",
      "1347760.jpg\n",
      "1347770.jpg\n",
      "1347780.jpg\n",
      "1347790.jpg\n",
      "1347800.jpg\n",
      "1347810.jpg\n",
      "1347820.jpg\n",
      "1348210.jpg\n",
      "1348220.jpg\n",
      "1348230.jpg\n",
      "1348240.jpg\n",
      "1348250.jpg\n",
      "1348260.jpg\n",
      "1348270.jpg\n",
      "1348280.jpg\n",
      "1348290.jpg\n",
      "1348300.jpg\n",
      "1348310.jpg\n",
      "1348320.jpg\n",
      "1348330.jpg\n",
      "1348360.jpg\n",
      "1348380.jpg\n",
      "1348410.jpg\n",
      "1348420.jpg\n",
      "1348430.jpg\n",
      "1348440.jpg\n",
      "1348450.jpg\n",
      "1348460.jpg\n",
      "1348470.jpg\n",
      "1348480.jpg\n",
      "1348490.jpg\n",
      "1348500.jpg\n",
      "1348510.jpg\n",
      "1348520.jpg\n",
      "1348530.jpg\n",
      "1348540.jpg\n",
      "1348550.jpg\n",
      "1348560.jpg\n",
      "1348570.jpg\n",
      "1348580.jpg\n",
      "1348590.jpg\n",
      "1348600.jpg\n",
      "1348610.jpg\n",
      "1348620.jpg\n",
      "1348630.jpg\n",
      "1348640.jpg\n",
      "1348650.jpg\n",
      "1348660.jpg\n",
      "1348670.jpg\n",
      "1348680.jpg\n",
      "1348690.jpg\n",
      "1348700.jpg\n",
      "1348710.jpg\n",
      "1348720.jpg\n",
      "1348730.jpg\n",
      "1348750.jpg\n",
      "1348760.jpg\n",
      "1348770.jpg\n",
      "1348780.jpg\n",
      "1348790.jpg\n",
      "1348820.jpg\n",
      "1348840.jpg\n",
      "1348850.jpg\n",
      "1348860.jpg\n",
      "1348870.jpg\n",
      "1348880.jpg\n",
      "1348890.jpg\n",
      "1348900.jpg\n",
      "1348910.jpg\n",
      "1348920.jpg\n"
     ]
    },
    {
     "name": "stderr",
     "output_type": "stream",
     "text": [
      " 32%|███▏      | 38465/120975 [00:36<01:15, 1086.91it/s]"
     ]
    },
    {
     "name": "stdout",
     "output_type": "stream",
     "text": [
      "136362.jpg\n",
      "136498.jpg\n",
      "137374.jpg\n",
      "13760.jpg\n"
     ]
    },
    {
     "name": "stderr",
     "output_type": "stream",
     "text": [
      " 32%|███▏      | 38788/120975 [00:36<01:19, 1031.27it/s]"
     ]
    },
    {
     "name": "stdout",
     "output_type": "stream",
     "text": [
      "13897.jpg\n",
      "139748.jpg\n",
      "139779.jpg\n",
      "140021.jpg\n",
      "140179.jpg\n",
      "140210.jpg\n",
      "140221.jpg\n",
      "140516.jpg\n",
      "140648.jpg\n",
      "140768.jpg\n",
      "140822.jpg\n"
     ]
    },
    {
     "name": "stderr",
     "output_type": "stream",
     "text": [
      " 32%|███▏      | 38992/120975 [00:36<01:27, 941.05it/s] "
     ]
    },
    {
     "name": "stdout",
     "output_type": "stream",
     "text": [
      "141492.jpg\n",
      "141503.jpg\n",
      "142162.jpg\n",
      "142172.jpg\n",
      "142182.jpg\n",
      "142192.jpg\n",
      "142226.jpg\n",
      "142236.jpg\n",
      "142306.jpg\n",
      "142316.jpg\n",
      "142336.jpg\n",
      "142346.jpg\n",
      "14239.jpg\n",
      "142406.jpg\n",
      "142417.jpg\n",
      "142428.jpg\n",
      "142439.jpg\n",
      "142449.jpg\n",
      "142490.jpg\n",
      "142521.jpg\n",
      "142532.jpg\n",
      "142542.jpg\n",
      "142564.jpg\n",
      "142575.jpg\n",
      "14263.jpg\n",
      "142690.jpg\n",
      "14285.jpg\n",
      "142964.jpg\n",
      "143006.jpg\n"
     ]
    },
    {
     "name": "stderr",
     "output_type": "stream",
     "text": [
      " 32%|███▏      | 39179/120975 [00:37<01:32, 888.82it/s]"
     ]
    },
    {
     "name": "stdout",
     "output_type": "stream",
     "text": [
      "14322.jpg\n",
      "14332.jpg\n",
      "14343.jpg\n",
      "143487.jpg\n",
      "14355.jpg\n",
      "14367.jpg\n",
      "14377.jpg\n",
      "143797.jpg\n",
      "143807.jpg\n",
      "14389.jpg\n",
      "144001.jpg\n",
      "14404.jpg\n",
      "14421.jpg\n",
      "144303.jpg\n",
      "144360.jpg\n",
      "14438.jpg\n",
      "144454.jpg\n",
      "144484.jpg\n",
      "14451.jpg\n",
      "144521.jpg\n",
      "14464.jpg\n",
      "144657.jpg\n",
      "144726.jpg\n"
     ]
    },
    {
     "name": "stderr",
     "output_type": "stream",
     "text": [
      " 32%|███▏      | 39269/120975 [00:37<01:34, 860.55it/s]"
     ]
    },
    {
     "name": "stdout",
     "output_type": "stream",
     "text": [
      "145021.jpg\n",
      "145031.jpg\n",
      "145041.jpg\n",
      "145051.jpg\n",
      "145061.jpg\n",
      "14510.jpg\n",
      "145117.jpg\n",
      "145183.jpg\n",
      "145194.jpg\n",
      "145205.jpg\n",
      "145215.jpg\n",
      "14526.jpg\n",
      "145310.jpg\n",
      "145327.jpg\n",
      "145359.jpg\n",
      "145373.jpg\n",
      "14546.jpg\n",
      "14557.jpg\n",
      "145697.jpg\n",
      "145809.jpg\n",
      "14602.jpg\n",
      "14619.jpg\n",
      "14632.jpg\n",
      "14643.jpg\n",
      "14655.jpg\n",
      "146730.jpg\n",
      "146981.jpg\n"
     ]
    },
    {
     "name": "stderr",
     "output_type": "stream",
     "text": [
      " 33%|███▎      | 39529/120975 [00:37<01:36, 847.44it/s]"
     ]
    },
    {
     "name": "stdout",
     "output_type": "stream",
     "text": [
      "147267.jpg\n",
      "147300.jpg\n",
      "147310.jpg\n",
      "14772.jpg\n",
      "14782.jpg\n",
      "148065.jpg\n",
      "148105.jpg\n",
      "14816.jpg\n",
      "148181.jpg\n",
      "148214.jpg\n",
      "148224.jpg\n",
      "148556.jpg\n",
      "148602.jpg\n",
      "148632.jpg\n",
      "148642.jpg\n"
     ]
    },
    {
     "name": "stderr",
     "output_type": "stream",
     "text": [
      " 33%|███▎      | 39703/120975 [00:37<01:34, 857.22it/s]"
     ]
    },
    {
     "name": "stdout",
     "output_type": "stream",
     "text": [
      "148984.jpg\n",
      "148994.jpg\n",
      "149115.jpg\n",
      "149126.jpg\n",
      "149229.jpg\n",
      "149374.jpg\n",
      "14954.jpg\n",
      "149571.jpg\n",
      "149851.jpg\n",
      "149861.jpg\n",
      "149941.jpg\n",
      "149951.jpg\n",
      "149961.jpg\n",
      "149991.jpg\n",
      "150074.jpg\n",
      "150084.jpg\n",
      "150094.jpg\n",
      "150104.jpg\n",
      "150178.jpg\n",
      "15043.jpg\n",
      "15053.jpg\n"
     ]
    },
    {
     "name": "stderr",
     "output_type": "stream",
     "text": [
      " 33%|███▎      | 39886/120975 [00:37<01:31, 888.08it/s]"
     ]
    },
    {
     "name": "stdout",
     "output_type": "stream",
     "text": [
      "150627.jpg\n",
      "150697.jpg\n",
      "150707.jpg\n",
      "15075.jpg\n",
      "15085.jpg\n",
      "15095.jpg\n",
      "15116.jpg\n",
      "15126.jpg\n",
      "151340.jpg\n",
      "15222.jpg\n",
      "15232.jpg\n"
     ]
    },
    {
     "name": "stderr",
     "output_type": "stream",
     "text": [
      " 33%|███▎      | 39975/120975 [00:37<01:35, 850.84it/s]"
     ]
    },
    {
     "name": "stdout",
     "output_type": "stream",
     "text": [
      "152846.jpg\n",
      "152859.jpg\n",
      "153142.jpg\n",
      "15334.jpg\n",
      "153593.jpg\n",
      "15374.jpg\n",
      "15394.jpg\n",
      "15404.jpg\n"
     ]
    },
    {
     "name": "stderr",
     "output_type": "stream",
     "text": [
      " 33%|███▎      | 40154/120975 [00:38<01:41, 798.29it/s]"
     ]
    },
    {
     "name": "stdout",
     "output_type": "stream",
     "text": [
      "154254.jpg\n",
      "15435.jpg\n",
      "15445.jpg\n",
      "15455.jpg\n",
      "155326.jpg\n",
      "155426.jpg\n",
      "155470.jpg\n",
      "155684.jpg\n",
      "155694.jpg\n",
      "155776.jpg\n",
      "156101.jpg\n"
     ]
    },
    {
     "name": "stderr",
     "output_type": "stream",
     "text": [
      " 33%|███▎      | 40335/120975 [00:38<01:35, 847.09it/s]"
     ]
    },
    {
     "name": "stdout",
     "output_type": "stream",
     "text": [
      "156319.jpg\n",
      "156334.jpg\n",
      "156346.jpg\n",
      "156393.jpg\n",
      "156552.jpg\n",
      "157484.jpg\n",
      "157585.jpg\n",
      "15865.jpg\n",
      "15877.jpg\n"
     ]
    },
    {
     "name": "stderr",
     "output_type": "stream",
     "text": [
      " 33%|███▎      | 40514/120975 [00:38<01:33, 862.71it/s]"
     ]
    },
    {
     "name": "stdout",
     "output_type": "stream",
     "text": [
      "158802.jpg\n",
      "15889.jpg\n",
      "15899.jpg\n",
      "159027.jpg\n",
      "159084.jpg\n",
      "159175.jpg\n",
      "159679.jpg\n",
      "159826.jpg\n",
      "159963.jpg\n",
      "160082.jpg\n",
      "160093.jpg\n",
      "16016.jpg\n",
      "16044.jpg\n",
      "16056.jpg\n",
      "16081.jpg\n"
     ]
    },
    {
     "name": "stderr",
     "output_type": "stream",
     "text": [
      " 34%|███▎      | 40691/120975 [00:38<01:34, 853.28it/s]"
     ]
    },
    {
     "name": "stdout",
     "output_type": "stream",
     "text": [
      "16092.jpg\n",
      "161022.jpg\n",
      "16106.jpg\n",
      "161504.jpg\n",
      "16154.jpg\n",
      "16183.jpg\n",
      "162055.jpg\n",
      "162086.jpg\n",
      "162107.jpg\n",
      "162129.jpg\n",
      "162139.jpg\n",
      "162234.jpg\n",
      "162244.jpg\n",
      "162356.jpg\n",
      "162377.jpg\n"
     ]
    },
    {
     "name": "stderr",
     "output_type": "stream",
     "text": [
      " 34%|███▍      | 40859/120975 [00:39<01:42, 784.97it/s]"
     ]
    },
    {
     "name": "stdout",
     "output_type": "stream",
     "text": [
      "16251.jpg\n",
      "16265.jpg\n",
      "162699.jpg\n",
      "162709.jpg\n",
      "162719.jpg\n",
      "16306.jpg\n",
      "16316.jpg\n",
      "16328.jpg\n",
      "16340.jpg\n",
      "16351.jpg\n",
      "163666.jpg\n",
      "16389.jpg\n",
      "16400.jpg\n"
     ]
    },
    {
     "name": "stderr",
     "output_type": "stream",
     "text": [
      " 34%|███▍      | 41114/120975 [00:39<01:38, 809.35it/s]"
     ]
    },
    {
     "name": "stdout",
     "output_type": "stream",
     "text": [
      "164482.jpg\n",
      "16449.jpg\n",
      "164492.jpg\n",
      "16463.jpg\n",
      "16490.jpg\n",
      "165073.jpg\n",
      "16509.jpg\n",
      "165285.jpg\n",
      "165295.jpg\n",
      "165305.jpg\n",
      "16533.jpg\n",
      "165335.jpg\n",
      "165400.jpg\n",
      "165410.jpg\n",
      "16555.jpg\n",
      "165645.jpg\n",
      "16567.jpg\n",
      "165746.jpg\n",
      "165786.jpg\n",
      "16579.jpg\n",
      "16591.jpg\n",
      "16618.jpg\n"
     ]
    },
    {
     "name": "stderr",
     "output_type": "stream",
     "text": [
      " 34%|███▍      | 41206/120975 [00:39<01:34, 841.17it/s]"
     ]
    },
    {
     "name": "stdout",
     "output_type": "stream",
     "text": [
      "16647.jpg\n",
      "16662.jpg\n",
      "16690.jpg\n",
      "16758.jpg\n",
      "167713.jpg\n",
      "167723.jpg\n",
      "16773.jpg\n",
      "167743.jpg\n",
      "167763.jpg\n",
      "167840.jpg\n",
      "167956.jpg\n",
      "16809.jpg\n"
     ]
    },
    {
     "name": "stderr",
     "output_type": "stream",
     "text": [
      " 34%|███▍      | 41376/120975 [00:39<01:38, 804.83it/s]"
     ]
    },
    {
     "name": "stdout",
     "output_type": "stream",
     "text": [
      "168494.jpg\n",
      "16856.jpg\n",
      "168576.jpg\n",
      "168702.jpg\n",
      "168722.jpg\n",
      "168915.jpg\n",
      "168926.jpg\n",
      "16920.jpg\n",
      "16930.jpg\n",
      "16940.jpg\n",
      "16950.jpg\n",
      "16960.jpg\n",
      "169604.jpg\n",
      "169615.jpg\n",
      "16970.jpg\n",
      "169774.jpg\n",
      "169987.jpg\n",
      "17005.jpg\n",
      "17015.jpg\n",
      "170258.jpg\n",
      "1704.jpg\n"
     ]
    },
    {
     "name": "stderr",
     "output_type": "stream",
     "text": [
      " 34%|███▍      | 41635/120975 [00:39<01:35, 830.16it/s]"
     ]
    },
    {
     "name": "stdout",
     "output_type": "stream",
     "text": [
      "171096.jpg\n",
      "171143.jpg\n",
      "17121.jpg\n",
      "1724.jpg\n",
      "172704.jpg\n"
     ]
    },
    {
     "name": "stderr",
     "output_type": "stream",
     "text": [
      " 35%|███▍      | 41814/120975 [00:40<01:32, 858.41it/s]"
     ]
    },
    {
     "name": "stdout",
     "output_type": "stream",
     "text": [
      "173279.jpg\n",
      "17372.jpg\n",
      "1744.jpg\n",
      "174442.jpg\n",
      "17494.jpg\n"
     ]
    },
    {
     "name": "stderr",
     "output_type": "stream",
     "text": [
      " 35%|███▍      | 42091/120975 [00:40<01:31, 858.04it/s]"
     ]
    },
    {
     "name": "stdout",
     "output_type": "stream",
     "text": [
      "17595.jpg\n",
      "17605.jpg\n",
      "17616.jpg\n",
      "176267.jpg\n",
      "176277.jpg\n",
      "176337.jpg\n",
      "17646.jpg\n",
      "17666.jpg\n",
      "176798.jpg\n",
      "17687.jpg\n",
      "17697.jpg\n",
      "177124.jpg\n",
      "17717.jpg\n",
      "177224.jpg\n",
      "177284.jpg\n",
      "17738.jpg\n",
      "17763.jpg\n"
     ]
    },
    {
     "name": "stderr",
     "output_type": "stream",
     "text": [
      " 35%|███▍      | 42267/120975 [00:40<01:31, 857.05it/s]"
     ]
    },
    {
     "name": "stdout",
     "output_type": "stream",
     "text": [
      "17773.jpg\n",
      "17783.jpg\n",
      "177996.jpg\n",
      "17804.jpg\n",
      "178051.jpg\n",
      "178061.jpg\n",
      "178071.jpg\n",
      "178136.jpg\n",
      "17815.jpg\n",
      "17825.jpg\n",
      "178299.jpg\n",
      "1784.jpg\n",
      "179082.jpg\n",
      "179398.jpg\n",
      "17958.jpg\n"
     ]
    },
    {
     "name": "stderr",
     "output_type": "stream",
     "text": [
      " 35%|███▌      | 42452/120975 [00:40<01:28, 887.22it/s]"
     ]
    },
    {
     "name": "stdout",
     "output_type": "stream",
     "text": [
      "179645.jpg\n",
      "179799.jpg\n"
     ]
    },
    {
     "name": "stderr",
     "output_type": "stream",
     "text": [
      " 35%|███▌      | 42835/120975 [00:41<01:24, 928.31it/s]"
     ]
    },
    {
     "name": "stdout",
     "output_type": "stream",
     "text": [
      "182989.jpg\n",
      "183383.jpg\n",
      "183455.jpg\n",
      "184089.jpg\n",
      "184102.jpg\n",
      "18428.jpg\n",
      "18471.jpg\n",
      "18486.jpg\n"
     ]
    },
    {
     "name": "stderr",
     "output_type": "stream",
     "text": [
      " 36%|███▌      | 43023/120975 [00:41<01:26, 897.88it/s]"
     ]
    },
    {
     "name": "stdout",
     "output_type": "stream",
     "text": [
      "18566.jpg\n",
      "18577.jpg\n",
      "18589.jpg\n",
      "18606.jpg\n",
      "186607.jpg\n",
      "187225.jpg\n",
      "187237.jpg\n"
     ]
    },
    {
     "name": "stderr",
     "output_type": "stream",
     "text": [
      " 36%|███▌      | 43205/120975 [00:41<01:27, 888.73it/s]"
     ]
    },
    {
     "name": "stdout",
     "output_type": "stream",
     "text": [
      "187434.jpg\n",
      "187512.jpg\n",
      "187546.jpg\n",
      "187570.jpg\n",
      "187580.jpg\n",
      "187591.jpg\n",
      "187647.jpg\n",
      "187679.jpg\n",
      "187691.jpg\n",
      "187737.jpg\n",
      "187760.jpg\n",
      "187770.jpg\n",
      "187846.jpg\n",
      "187912.jpg\n",
      "188085.jpg\n",
      "188142.jpg\n",
      "188346.jpg\n",
      "188378.jpg\n",
      "188478.jpg\n",
      "188488.jpg\n",
      "188510.jpg\n",
      "188553.jpg\n"
     ]
    },
    {
     "name": "stderr",
     "output_type": "stream",
     "text": [
      " 36%|███▌      | 43382/120975 [00:41<01:32, 842.95it/s]"
     ]
    },
    {
     "name": "stdout",
     "output_type": "stream",
     "text": [
      "189818.jpg\n",
      "190445.jpg\n",
      "190484.jpg\n",
      "190495.jpg\n",
      "190506.jpg\n",
      "190530.jpg\n",
      "190554.jpg\n",
      "190577.jpg\n",
      "190587.jpg\n",
      "190699.jpg\n",
      "190744.jpg\n",
      "190793.jpg\n",
      "190803.jpg\n",
      "190901.jpg\n",
      "190911.jpg\n",
      "190924.jpg\n",
      "190934.jpg\n",
      "190944.jpg\n",
      "190979.jpg\n",
      "191073.jpg\n",
      "191083.jpg\n",
      "191093.jpg\n",
      "191103.jpg\n",
      "191113.jpg\n",
      "191215.jpg\n",
      "191337.jpg\n"
     ]
    },
    {
     "name": "stderr",
     "output_type": "stream",
     "text": [
      " 36%|███▌      | 43557/120975 [00:42<01:32, 839.86it/s]"
     ]
    },
    {
     "name": "stdout",
     "output_type": "stream",
     "text": [
      "191347.jpg\n",
      "192918.jpg\n"
     ]
    },
    {
     "name": "stderr",
     "output_type": "stream",
     "text": [
      " 36%|███▋      | 43910/120975 [00:42<01:28, 867.33it/s]"
     ]
    },
    {
     "name": "stdout",
     "output_type": "stream",
     "text": [
      "195113.jpg\n",
      "195135.jpg\n",
      "195406.jpg\n",
      "195416.jpg\n",
      "195838.jpg\n",
      "196254.jpg\n",
      "196643.jpg\n",
      "196769.jpg\n",
      "19677.jpg\n",
      "196883.jpg\n",
      "196944.jpg\n"
     ]
    },
    {
     "name": "stderr",
     "output_type": "stream",
     "text": [
      " 36%|███▋      | 44084/120975 [00:42<01:49, 700.32it/s]"
     ]
    },
    {
     "name": "stdout",
     "output_type": "stream",
     "text": [
      "197381.jpg\n",
      "197411.jpg\n",
      "197524.jpg\n",
      "197694.jpg\n",
      "197765.jpg\n",
      "197948.jpg\n",
      "197958.jpg\n",
      "197968.jpg\n",
      "197978.jpg\n",
      "198018.jpg\n",
      "198039.jpg\n",
      "198049.jpg\n",
      "198059.jpg\n",
      "198119.jpg\n",
      "198129.jpg\n",
      "198139.jpg\n",
      "198241.jpg\n",
      "198251.jpg\n"
     ]
    },
    {
     "name": "stderr",
     "output_type": "stream",
     "text": [
      " 37%|███▋      | 44260/120975 [00:43<01:42, 751.34it/s]"
     ]
    },
    {
     "name": "stdout",
     "output_type": "stream",
     "text": [
      "198307.jpg\n",
      "198429.jpg\n",
      "198850.jpg\n",
      "198860.jpg\n",
      "198870.jpg\n",
      "199113.jpg\n",
      "199163.jpg\n",
      "199173.jpg\n",
      "199183.jpg\n",
      "199193.jpg\n",
      "199203.jpg\n",
      "199213.jpg\n",
      "199253.jpg\n",
      "199273.jpg\n",
      "199473.jpg\n",
      "199513.jpg\n",
      "199534.jpg\n",
      "199732.jpg\n"
     ]
    },
    {
     "name": "stderr",
     "output_type": "stream",
     "text": [
      " 37%|███▋      | 44436/120975 [00:43<01:34, 808.32it/s]"
     ]
    },
    {
     "name": "stdout",
     "output_type": "stream",
     "text": [
      "200076.jpg\n",
      "200592.jpg\n",
      "200757.jpg\n",
      "200767.jpg\n",
      "200937.jpg\n",
      "200970.jpg\n",
      "201099.jpg\n",
      "201129.jpg\n",
      "201289.jpg\n"
     ]
    },
    {
     "name": "stderr",
     "output_type": "stream",
     "text": [
      " 37%|███▋      | 44603/120975 [00:43<01:35, 800.51it/s]"
     ]
    },
    {
     "name": "stdout",
     "output_type": "stream",
     "text": [
      "202048.jpg\n",
      "202300.jpg\n",
      "203081.jpg\n",
      "203119.jpg\n"
     ]
    },
    {
     "name": "stderr",
     "output_type": "stream",
     "text": [
      " 37%|███▋      | 44786/120975 [00:43<01:29, 853.10it/s]"
     ]
    },
    {
     "name": "stdout",
     "output_type": "stream",
     "text": [
      "203929.jpg\n",
      "204293.jpg\n",
      "205107.jpg\n",
      "205454.jpg\n",
      "205464.jpg\n",
      "205484.jpg\n",
      "205504.jpg\n",
      "205514.jpg\n",
      "205545.jpg\n",
      "205831.jpg\n",
      "205944.jpg\n"
     ]
    },
    {
     "name": "stderr",
     "output_type": "stream",
     "text": [
      " 37%|███▋      | 44957/120975 [00:43<01:31, 835.23it/s]"
     ]
    },
    {
     "name": "stdout",
     "output_type": "stream",
     "text": [
      "205965.jpg\n",
      "206034.jpg\n",
      "206044.jpg\n",
      "206255.jpg\n",
      "206295.jpg\n",
      "206335.jpg\n",
      "206345.jpg\n",
      "206355.jpg\n",
      "206575.jpg\n",
      "206585.jpg\n",
      "206596.jpg\n",
      "207026.jpg\n"
     ]
    },
    {
     "name": "stderr",
     "output_type": "stream",
     "text": [
      " 37%|███▋      | 45124/120975 [00:44<01:33, 813.69it/s]"
     ]
    },
    {
     "name": "stdout",
     "output_type": "stream",
     "text": [
      "207680.jpg\n",
      "207700.jpg\n",
      "207740.jpg\n",
      "207851.jpg\n",
      "207862.jpg\n",
      "208113.jpg\n",
      "208157.jpg\n",
      "208427.jpg\n"
     ]
    },
    {
     "name": "stderr",
     "output_type": "stream",
     "text": [
      " 37%|███▋      | 45298/120975 [00:44<01:29, 842.20it/s]"
     ]
    },
    {
     "name": "stdout",
     "output_type": "stream",
     "text": [
      "209959.jpg\n",
      "209970.jpg\n",
      "210637.jpg\n"
     ]
    },
    {
     "name": "stderr",
     "output_type": "stream",
     "text": [
      " 38%|███▊      | 45660/120975 [00:44<01:24, 886.81it/s]"
     ]
    },
    {
     "name": "stdout",
     "output_type": "stream",
     "text": [
      "213487.jpg\n",
      "213527.jpg\n",
      "213537.jpg\n",
      "213647.jpg\n",
      "214161.jpg\n",
      "214311.jpg\n",
      "214461.jpg\n",
      "214952.jpg\n"
     ]
    },
    {
     "name": "stderr",
     "output_type": "stream",
     "text": [
      " 38%|███▊      | 46106/120975 [00:45<01:26, 861.93it/s]"
     ]
    },
    {
     "name": "stdout",
     "output_type": "stream",
     "text": [
      "217955.jpg\n",
      "217965.jpg\n",
      "218226.jpg\n",
      "218236.jpg\n",
      "218874.jpg\n",
      "218884.jpg\n"
     ]
    },
    {
     "name": "stderr",
     "output_type": "stream",
     "text": [
      " 38%|███▊      | 46362/120975 [00:45<01:30, 823.76it/s]"
     ]
    },
    {
     "name": "stdout",
     "output_type": "stream",
     "text": [
      "219793.jpg\n",
      "219942.jpg\n",
      "220088.jpg\n",
      "220237.jpg\n",
      "22086.jpg\n"
     ]
    },
    {
     "name": "stderr",
     "output_type": "stream",
     "text": [
      " 38%|███▊      | 46538/120975 [00:45<01:27, 852.61it/s]"
     ]
    },
    {
     "name": "stdout",
     "output_type": "stream",
     "text": [
      "221738.jpg\n",
      "221750.jpg\n",
      "222011.jpg\n",
      "222233.jpg\n",
      "222269.jpg\n",
      "222740.jpg\n",
      "222750.jpg\n",
      "222844.jpg\n",
      "223017.jpg\n",
      "223027.jpg\n",
      "223050.jpg\n",
      "223060.jpg\n",
      "223070.jpg\n",
      "223080.jpg\n",
      "22309.jpg\n",
      "223175.jpg\n"
     ]
    },
    {
     "name": "stderr",
     "output_type": "stream",
     "text": [
      " 39%|███▊      | 46706/120975 [00:45<01:36, 772.75it/s]"
     ]
    },
    {
     "name": "stdout",
     "output_type": "stream",
     "text": [
      "223828.jpg\n",
      "223843.jpg\n",
      "223879.jpg\n",
      "223996.jpg\n",
      "224012.jpg\n",
      "224031.jpg\n",
      "224068.jpg\n",
      "224088.jpg\n",
      "224151.jpg\n",
      "224188.jpg\n",
      "224199.jpg\n",
      "224210.jpg\n",
      "224220.jpg\n",
      "224231.jpg\n",
      "224241.jpg\n",
      "224252.jpg\n",
      "224264.jpg\n",
      "224275.jpg\n",
      "224286.jpg\n",
      "224298.jpg\n",
      "224308.jpg\n",
      "224319.jpg\n",
      "224330.jpg\n",
      "224342.jpg\n",
      "224353.jpg\n",
      "224364.jpg\n",
      "224375.jpg\n",
      "224386.jpg\n",
      "224406.jpg\n",
      "224418.jpg\n",
      "224430.jpg\n",
      "224441.jpg\n",
      "224453.jpg\n",
      "224463.jpg\n",
      "224475.jpg\n",
      "224487.jpg\n",
      "224499.jpg\n",
      "224511.jpg\n",
      "224523.jpg\n",
      "224535.jpg\n",
      "224547.jpg\n",
      "224560.jpg\n",
      "224581.jpg\n",
      "224592.jpg\n",
      "224615.jpg\n",
      "224642.jpg\n",
      "224654.jpg\n",
      "224666.jpg\n",
      "224678.jpg\n",
      "224703.jpg\n",
      "224714.jpg\n"
     ]
    },
    {
     "name": "stderr",
     "output_type": "stream",
     "text": [
      " 39%|███▉      | 46962/120975 [00:46<01:31, 811.61it/s]"
     ]
    },
    {
     "name": "stdout",
     "output_type": "stream",
     "text": [
      "226715.jpg\n",
      "226727.jpg\n",
      "226745.jpg\n",
      "227159.jpg\n"
     ]
    },
    {
     "name": "stderr",
     "output_type": "stream",
     "text": [
      " 39%|███▉      | 47384/120975 [00:46<01:27, 838.96it/s]"
     ]
    },
    {
     "name": "stdout",
     "output_type": "stream",
     "text": [
      "230669.jpg\n",
      "231145.jpg\n",
      "231269.jpg\n",
      "231838.jpg\n",
      "231883.jpg\n"
     ]
    },
    {
     "name": "stderr",
     "output_type": "stream",
     "text": [
      " 39%|███▉      | 47552/120975 [00:47<01:32, 794.69it/s]"
     ]
    },
    {
     "name": "stdout",
     "output_type": "stream",
     "text": [
      "233029.jpg\n",
      "233742.jpg\n",
      "233762.jpg\n",
      "233773.jpg\n",
      "234132.jpg\n",
      "234143.jpg\n",
      "234401.jpg\n",
      "234486.jpg\n",
      "234593.jpg\n"
     ]
    },
    {
     "name": "stderr",
     "output_type": "stream",
     "text": [
      " 39%|███▉      | 47720/120975 [00:47<01:34, 778.86it/s]"
     ]
    },
    {
     "name": "stdout",
     "output_type": "stream",
     "text": [
      "234824.jpg\n",
      "234920.jpg\n",
      "235020.jpg\n",
      "235102.jpg\n",
      "235136.jpg\n",
      "235154.jpg\n",
      "235340.jpg\n",
      "235387.jpg\n",
      "235436.jpg\n",
      "235597.jpg\n",
      "235607.jpg\n",
      "235767.jpg\n",
      "235841.jpg\n",
      "235878.jpg\n",
      "236006.jpg\n",
      "236146.jpg\n",
      "236165.jpg\n",
      "236283.jpg\n",
      "236354.jpg\n",
      "236404.jpg\n",
      "236426.jpg\n",
      "236595.jpg\n",
      "236754.jpg\n"
     ]
    },
    {
     "name": "stderr",
     "output_type": "stream",
     "text": [
      " 40%|███▉      | 47967/120975 [00:47<01:30, 803.30it/s]"
     ]
    },
    {
     "name": "stdout",
     "output_type": "stream",
     "text": [
      "238199.jpg\n",
      "238399.jpg\n",
      "238765.jpg\n",
      "238882.jpg\n",
      "238967.jpg\n",
      "239010.jpg\n",
      "239075.jpg\n",
      "239107.jpg\n",
      "239289.jpg\n",
      "239303.jpg\n",
      "239353.jpg\n",
      "239365.jpg\n",
      "239688.jpg\n",
      "239813.jpg\n"
     ]
    },
    {
     "name": "stderr",
     "output_type": "stream",
     "text": [
      " 40%|███▉      | 48217/120975 [00:47<01:36, 751.66it/s]"
     ]
    },
    {
     "name": "stdout",
     "output_type": "stream",
     "text": [
      "241346.jpg\n",
      "241801.jpg\n",
      "242137.jpg\n",
      "242147.jpg\n",
      "242193.jpg\n",
      "242268.jpg\n",
      "242510.jpg\n"
     ]
    },
    {
     "name": "stderr",
     "output_type": "stream",
     "text": [
      " 40%|████      | 48469/120975 [00:48<01:30, 799.75it/s]"
     ]
    },
    {
     "name": "stdout",
     "output_type": "stream",
     "text": [
      "242884.jpg\n"
     ]
    },
    {
     "name": "stderr",
     "output_type": "stream",
     "text": [
      " 40%|████      | 48631/120975 [00:48<01:31, 790.84it/s]"
     ]
    },
    {
     "name": "stdout",
     "output_type": "stream",
     "text": [
      "24467.jpg\n",
      "24513.jpg\n",
      "245321.jpg\n",
      "245588.jpg\n",
      "245670.jpg\n",
      "245680.jpg\n",
      "245690.jpg\n",
      "245921.jpg\n",
      "245981.jpg\n",
      "246061.jpg\n",
      "246081.jpg\n",
      "246091.jpg\n"
     ]
    },
    {
     "name": "stderr",
     "output_type": "stream",
     "text": [
      " 40%|████      | 48805/120975 [00:48<01:27, 827.66it/s]"
     ]
    },
    {
     "name": "stdout",
     "output_type": "stream",
     "text": [
      "246248.jpg\n",
      "246826.jpg\n",
      "247495.jpg\n",
      "248093.jpg\n"
     ]
    },
    {
     "name": "stderr",
     "output_type": "stream",
     "text": [
      " 40%|████      | 48974/120975 [00:48<01:30, 797.67it/s]"
     ]
    },
    {
     "name": "stdout",
     "output_type": "stream",
     "text": [
      "249036.jpg\n",
      "249048.jpg\n",
      "249059.jpg\n",
      "249128.jpg\n",
      "249140.jpg\n",
      "249158.jpg\n",
      "249168.jpg\n",
      "249181.jpg\n",
      "249191.jpg\n",
      "249220.jpg\n",
      "249262.jpg\n",
      "249272.jpg\n",
      "249283.jpg\n",
      "249293.jpg\n",
      "249326.jpg\n",
      "249367.jpg\n",
      "249378.jpg\n",
      "249432.jpg\n",
      "249443.jpg\n",
      "249476.jpg\n",
      "249489.jpg\n",
      "249500.jpg\n",
      "249515.jpg\n",
      "249526.jpg\n",
      "249567.jpg\n",
      "249580.jpg\n",
      "249629.jpg\n",
      "249994.jpg\n",
      "250006.jpg\n",
      "250031.jpg\n",
      "250492.jpg\n",
      "250502.jpg\n",
      "250546.jpg\n",
      "250989.jpg\n",
      "251136.jpg\n",
      "251273.jpg\n"
     ]
    },
    {
     "name": "stderr",
     "output_type": "stream",
     "text": [
      " 41%|████      | 49136/120975 [00:49<01:31, 783.31it/s]"
     ]
    },
    {
     "name": "stdout",
     "output_type": "stream",
     "text": [
      "251381.jpg\n",
      "251766.jpg\n",
      "252822.jpg\n",
      "252832.jpg\n",
      "252893.jpg\n",
      "252904.jpg\n",
      "252923.jpg\n",
      "253309.jpg\n",
      "253404.jpg\n"
     ]
    },
    {
     "name": "stderr",
     "output_type": "stream",
     "text": [
      " 41%|████      | 49380/120975 [00:49<01:29, 798.05it/s]"
     ]
    },
    {
     "name": "stdout",
     "output_type": "stream",
     "text": [
      "253798.jpg\n",
      "254097.jpg\n",
      "254479.jpg\n",
      "254489.jpg\n",
      "254730.jpg\n",
      "255186.jpg\n"
     ]
    },
    {
     "name": "stderr",
     "output_type": "stream",
     "text": [
      " 41%|████      | 49463/120975 [00:49<01:28, 805.47it/s]"
     ]
    },
    {
     "name": "stdout",
     "output_type": "stream",
     "text": [
      "255766.jpg\n",
      "257393.jpg\n",
      "257502.jpg\n"
     ]
    },
    {
     "name": "stderr",
     "output_type": "stream",
     "text": [
      " 41%|████      | 49626/120975 [00:49<01:29, 797.36it/s]"
     ]
    },
    {
     "name": "stdout",
     "output_type": "stream",
     "text": [
      "257627.jpg\n",
      "257647.jpg\n",
      "258376.jpg\n",
      "258396.jpg\n",
      "258406.jpg\n",
      "258416.jpg\n",
      "258426.jpg\n",
      "258436.jpg\n",
      "258556.jpg\n",
      "258705.jpg\n",
      "258801.jpg\n",
      "258811.jpg\n",
      "258852.jpg\n",
      "259169.jpg\n"
     ]
    },
    {
     "name": "stderr",
     "output_type": "stream",
     "text": [
      " 41%|████      | 49875/120975 [00:49<01:31, 780.24it/s]"
     ]
    },
    {
     "name": "stdout",
     "output_type": "stream",
     "text": [
      "259718.jpg\n",
      "260443.jpg\n",
      "260533.jpg\n",
      "260593.jpg\n",
      "260931.jpg\n",
      "260942.jpg\n"
     ]
    },
    {
     "name": "stderr",
     "output_type": "stream",
     "text": [
      " 41%|████▏     | 50039/120975 [00:50<01:29, 792.20it/s]"
     ]
    },
    {
     "name": "stdout",
     "output_type": "stream",
     "text": [
      "261345.jpg\n",
      "261357.jpg\n",
      "261449.jpg\n",
      "261549.jpg\n",
      "261559.jpg\n",
      "261774.jpg\n",
      "262410.jpg\n",
      "26278.jpg\n",
      "26290.jpg\n",
      "263009.jpg\n"
     ]
    },
    {
     "name": "stderr",
     "output_type": "stream",
     "text": [
      " 41%|████▏     | 50204/120975 [00:50<01:30, 778.07it/s]"
     ]
    },
    {
     "name": "stdout",
     "output_type": "stream",
     "text": [
      "263185.jpg\n",
      "263608.jpg\n",
      "263944.jpg\n",
      "264034.jpg\n",
      "264099.jpg\n",
      "264442.jpg\n"
     ]
    },
    {
     "name": "stderr",
     "output_type": "stream",
     "text": [
      " 42%|████▏     | 50363/120975 [00:50<01:32, 765.62it/s]"
     ]
    },
    {
     "name": "stdout",
     "output_type": "stream",
     "text": [
      "265180.jpg\n",
      "265191.jpg\n",
      "265214.jpg\n",
      "265226.jpg\n",
      "26566.jpg\n",
      "26576.jpg\n",
      "266307.jpg\n",
      "26641.jpg\n",
      "266491.jpg\n",
      "26651.jpg\n"
     ]
    },
    {
     "name": "stderr",
     "output_type": "stream",
     "text": [
      " 42%|████▏     | 50607/120975 [00:50<01:35, 735.93it/s]"
     ]
    },
    {
     "name": "stdout",
     "output_type": "stream",
     "text": [
      "267091.jpg\n",
      "26717.jpg\n",
      "26727.jpg\n",
      "2676.jpg\n",
      "267732.jpg\n",
      "267749.jpg\n",
      "267892.jpg\n",
      "26801.jpg\n",
      "268094.jpg\n",
      "268274.jpg\n",
      "268284.jpg\n",
      "268294.jpg\n"
     ]
    },
    {
     "name": "stderr",
     "output_type": "stream",
     "text": [
      " 42%|████▏     | 50760/120975 [00:51<01:33, 748.10it/s]"
     ]
    },
    {
     "name": "stdout",
     "output_type": "stream",
     "text": [
      "268394.jpg\n",
      "268404.jpg\n",
      "268600.jpg\n",
      "268610.jpg\n",
      "268620.jpg\n",
      "269363.jpg\n",
      "269396.jpg\n",
      "269428.jpg\n",
      "269529.jpg\n",
      "269540.jpg\n",
      "269554.jpg\n",
      "269594.jpg\n",
      "26961.jpg\n",
      "269787.jpg\n",
      "269799.jpg\n",
      "269813.jpg\n",
      "269824.jpg\n",
      "270012.jpg\n",
      "270092.jpg\n"
     ]
    },
    {
     "name": "stderr",
     "output_type": "stream",
     "text": [
      " 42%|████▏     | 50921/120975 [00:51<01:30, 772.52it/s]"
     ]
    },
    {
     "name": "stdout",
     "output_type": "stream",
     "text": [
      "270189.jpg\n",
      "270258.jpg\n",
      "270296.jpg\n",
      "270308.jpg\n",
      "2706.jpg\n",
      "271147.jpg\n",
      "271169.jpg\n",
      "271821.jpg\n"
     ]
    },
    {
     "name": "stderr",
     "output_type": "stream",
     "text": [
      " 42%|████▏     | 51081/120975 [00:51<01:29, 778.21it/s]"
     ]
    },
    {
     "name": "stdout",
     "output_type": "stream",
     "text": [
      "27203.jpg\n",
      "272129.jpg\n",
      "272234.jpg\n",
      "272608.jpg\n",
      "273933.jpg\n"
     ]
    },
    {
     "name": "stderr",
     "output_type": "stream",
     "text": [
      " 42%|████▏     | 51247/120975 [00:51<01:26, 803.45it/s]"
     ]
    },
    {
     "name": "stdout",
     "output_type": "stream",
     "text": [
      "274012.jpg\n",
      "27472.jpg\n"
     ]
    },
    {
     "name": "stderr",
     "output_type": "stream",
     "text": [
      " 42%|████▏     | 51406/120975 [00:51<01:33, 745.56it/s]"
     ]
    },
    {
     "name": "stdout",
     "output_type": "stream",
     "text": [
      "276469.jpg\n",
      "276492.jpg\n",
      "276567.jpg\n",
      "276579.jpg\n",
      "276735.jpg\n",
      "27689.jpg\n",
      "27699.jpg\n",
      "277777.jpg\n"
     ]
    },
    {
     "name": "stderr",
     "output_type": "stream",
     "text": [
      " 43%|████▎     | 51662/120975 [00:52<01:25, 813.38it/s]"
     ]
    },
    {
     "name": "stdout",
     "output_type": "stream",
     "text": [
      "278578.jpg\n",
      "278711.jpg\n",
      "2796.jpg\n",
      "279711.jpg\n",
      "27996.jpg\n",
      "280122.jpg\n",
      "280145.jpg\n",
      "280156.jpg\n",
      "28020.jpg\n",
      "280229.jpg\n",
      "280239.jpg\n",
      "280355.jpg\n",
      "28043.jpg\n",
      "280445.jpg\n",
      "280495.jpg\n",
      "28055.jpg\n",
      "28067.jpg\n"
     ]
    },
    {
     "name": "stderr",
     "output_type": "stream",
     "text": [
      " 43%|████▎     | 51824/120975 [00:52<01:28, 783.41it/s]"
     ]
    },
    {
     "name": "stdout",
     "output_type": "stream",
     "text": [
      "28080.jpg\n",
      "28091.jpg\n",
      "281264.jpg\n",
      "281750.jpg\n",
      "28217.jpg\n",
      "282460.jpg\n"
     ]
    },
    {
     "name": "stderr",
     "output_type": "stream",
     "text": [
      " 43%|████▎     | 51978/120975 [00:52<01:39, 696.12it/s]"
     ]
    },
    {
     "name": "stdout",
     "output_type": "stream",
     "text": [
      "282680.jpg\n",
      "282794.jpg\n",
      "282977.jpg\n",
      "282995.jpg\n",
      "283045.jpg\n",
      "28344.jpg\n",
      "28355.jpg\n",
      "283571.jpg\n",
      "28365.jpg\n",
      "28378.jpg\n",
      "28416.jpg\n"
     ]
    },
    {
     "name": "stderr",
     "output_type": "stream",
     "text": [
      " 43%|████▎     | 52134/120975 [00:52<01:36, 713.24it/s]"
     ]
    },
    {
     "name": "stdout",
     "output_type": "stream",
     "text": [
      "284302.jpg\n",
      "284312.jpg\n",
      "284340.jpg\n",
      "284351.jpg\n",
      "284366.jpg\n",
      "284382.jpg\n",
      "284415.jpg\n",
      "28481.jpg\n",
      "28505.jpg\n",
      "28522.jpg\n",
      "28537.jpg\n",
      "285371.jpg\n",
      "285457.jpg\n",
      "285584.jpg\n",
      "285669.jpg\n",
      "285704.jpg\n",
      "28575.jpg\n"
     ]
    },
    {
     "name": "stderr",
     "output_type": "stream",
     "text": [
      " 43%|████▎     | 52206/120975 [00:53<01:36, 709.56it/s]"
     ]
    },
    {
     "name": "stdout",
     "output_type": "stream",
     "text": [
      "285816.jpg\n",
      "28585.jpg\n",
      "285854.jpg\n",
      "285885.jpg\n",
      "285913.jpg\n",
      "285926.jpg\n",
      "28595.jpg\n",
      "286025.jpg\n",
      "286035.jpg\n",
      "28605.jpg\n",
      "286080.jpg\n",
      "286118.jpg\n",
      "28616.jpg\n",
      "286242.jpg\n",
      "286264.jpg\n",
      "286329.jpg\n",
      "28636.jpg\n",
      "286377.jpg\n",
      "28646.jpg\n",
      "286476.jpg\n",
      "286566.jpg\n",
      "28670.jpg\n",
      "286750.jpg\n",
      "28680.jpg\n",
      "28691.jpg\n",
      "28701.jpg\n",
      "28723.jpg\n",
      "28755.jpg\n",
      "28765.jpg\n"
     ]
    },
    {
     "name": "stderr",
     "output_type": "stream",
     "text": [
      " 43%|████▎     | 52351/120975 [00:53<01:36, 708.40it/s]"
     ]
    },
    {
     "name": "stdout",
     "output_type": "stream",
     "text": [
      "28776.jpg\n",
      "2878.jpg\n",
      "28786.jpg\n",
      "28797.jpg\n",
      "28807.jpg\n",
      "28817.jpg\n",
      "28829.jpg\n",
      "28840.jpg\n",
      "28851.jpg\n",
      "28862.jpg\n",
      "28874.jpg\n",
      "28902.jpg\n",
      "28913.jpg\n",
      "289230.jpg\n",
      "28924.jpg\n",
      "28936.jpg\n",
      "28947.jpg\n",
      "28959.jpg\n",
      "28972.jpg\n"
     ]
    },
    {
     "name": "stderr",
     "output_type": "stream",
     "text": [
      " 43%|████▎     | 52583/120975 [00:53<01:31, 750.06it/s]"
     ]
    },
    {
     "name": "stdout",
     "output_type": "stream",
     "text": [
      "28984.jpg\n",
      "28995.jpg\n"
     ]
    },
    {
     "name": "stderr",
     "output_type": "stream",
     "text": [
      " 44%|████▎     | 52743/120975 [00:53<01:28, 774.84it/s]"
     ]
    },
    {
     "name": "stdout",
     "output_type": "stream",
     "text": [
      "292779.jpg\n",
      "293304.jpg\n",
      "293319.jpg\n",
      "293403.jpg\n",
      "293414.jpg\n",
      "293425.jpg\n",
      "293448.jpg\n",
      "293458.jpg\n",
      "293491.jpg\n",
      "293536.jpg\n",
      "293573.jpg\n",
      "293583.jpg\n"
     ]
    },
    {
     "name": "stderr",
     "output_type": "stream",
     "text": [
      " 44%|████▍     | 52977/120975 [00:54<01:29, 760.79it/s]"
     ]
    },
    {
     "name": "stdout",
     "output_type": "stream",
     "text": [
      "29504.jpg\n"
     ]
    },
    {
     "name": "stderr",
     "output_type": "stream",
     "text": [
      " 44%|████▍     | 53132/120975 [00:54<01:28, 764.74it/s]"
     ]
    },
    {
     "name": "stdout",
     "output_type": "stream",
     "text": [
      "296531.jpg\n",
      "297145.jpg\n",
      "297708.jpg\n",
      "2978.jpg\n"
     ]
    },
    {
     "name": "stderr",
     "output_type": "stream",
     "text": [
      " 44%|████▍     | 53209/120975 [00:54<01:33, 725.29it/s]"
     ]
    },
    {
     "name": "stdout",
     "output_type": "stream",
     "text": [
      "297990.jpg\n",
      "298000.jpg\n",
      "298011.jpg\n",
      "298034.jpg\n",
      "298047.jpg\n",
      "298059.jpg\n",
      "298071.jpg\n",
      "298097.jpg\n",
      "298108.jpg\n",
      "298143.jpg\n",
      "298176.jpg\n",
      "298198.jpg\n",
      "298219.jpg\n",
      "298263.jpg\n",
      "298323.jpg\n",
      "298333.jpg\n",
      "298399.jpg\n",
      "298564.jpg\n",
      "298574.jpg\n",
      "298615.jpg\n",
      "298721.jpg\n",
      "298731.jpg\n",
      "298742.jpg\n",
      "298753.jpg\n",
      "298763.jpg\n",
      "298852.jpg\n",
      "29889.jpg\n",
      "299133.jpg\n",
      "299174.jpg\n",
      "299196.jpg\n",
      "29922.jpg\n",
      "299292.jpg\n",
      "299302.jpg\n",
      "299324.jpg\n",
      "299336.jpg\n",
      "299360.jpg\n",
      "299370.jpg\n"
     ]
    },
    {
     "name": "stderr",
     "output_type": "stream",
     "text": [
      " 44%|████▍     | 53355/120975 [00:54<01:35, 709.21it/s]"
     ]
    },
    {
     "name": "stdout",
     "output_type": "stream",
     "text": [
      "299393.jpg\n",
      "299407.jpg\n",
      "299427.jpg\n",
      "299474.jpg\n",
      "299584.jpg\n",
      "299746.jpg\n",
      "299960.jpg\n",
      "299973.jpg\n",
      "300102.jpg\n",
      "300162.jpg\n",
      "300232.jpg\n",
      "300272.jpg\n",
      "300282.jpg\n",
      "300312.jpg\n",
      "300332.jpg\n",
      "300352.jpg\n",
      "300362.jpg\n",
      "300372.jpg\n",
      "300402.jpg\n",
      "300432.jpg\n",
      "30046.jpg\n",
      "300813.jpg\n",
      "300843.jpg\n",
      "300899.jpg\n",
      "301036.jpg\n",
      "301047.jpg\n"
     ]
    },
    {
     "name": "stderr",
     "output_type": "stream",
     "text": [
      " 44%|████▍     | 53498/120975 [00:54<01:42, 657.97it/s]"
     ]
    },
    {
     "name": "stdout",
     "output_type": "stream",
     "text": [
      "301184.jpg\n",
      "301401.jpg\n",
      "301551.jpg\n",
      "301581.jpg\n",
      "301709.jpg\n",
      "301748.jpg\n",
      "301822.jpg\n",
      "301850.jpg\n",
      "301874.jpg\n",
      "301902.jpg\n",
      "301925.jpg\n",
      "301951.jpg\n",
      "302043.jpg\n",
      "302090.jpg\n",
      "302117.jpg\n",
      "302164.jpg\n",
      "302179.jpg\n",
      "302305.jpg\n",
      "302332.jpg\n",
      "302350.jpg\n",
      "302373.jpg\n",
      "302401.jpg\n",
      "302422.jpg\n",
      "302468.jpg\n",
      "302763.jpg\n",
      "302811.jpg\n"
     ]
    },
    {
     "name": "stderr",
     "output_type": "stream",
     "text": [
      " 44%|████▍     | 53718/120975 [00:55<01:37, 692.34it/s]"
     ]
    },
    {
     "name": "stdout",
     "output_type": "stream",
     "text": [
      "303614.jpg\n",
      "303690.jpg\n",
      "303700.jpg\n",
      "303712.jpg\n",
      "303779.jpg\n",
      "304327.jpg\n",
      "304395.jpg\n",
      "304417.jpg\n",
      "304467.jpg\n",
      "304480.jpg\n",
      "304545.jpg\n",
      "304675.jpg\n",
      "30496.jpg\n"
     ]
    },
    {
     "name": "stderr",
     "output_type": "stream",
     "text": [
      " 45%|████▍     | 53870/120975 [00:55<01:43, 646.54it/s]"
     ]
    },
    {
     "name": "stdout",
     "output_type": "stream",
     "text": [
      "305453.jpg\n",
      "305836.jpg\n",
      "305858.jpg\n",
      "305868.jpg\n",
      "305890.jpg\n",
      "305900.jpg\n",
      "305923.jpg\n",
      "305944.jpg\n",
      "305955.jpg\n",
      "305966.jpg\n",
      "305976.jpg\n",
      "305987.jpg\n",
      "305998.jpg\n",
      "306010.jpg\n",
      "306020.jpg\n",
      "306031.jpg\n",
      "306043.jpg\n",
      "306053.jpg\n",
      "306077.jpg\n",
      "306090.jpg\n",
      "306102.jpg\n",
      "306113.jpg\n",
      "306124.jpg\n",
      "306162.jpg\n",
      "306174.jpg\n",
      "306211.jpg\n",
      "30647.jpg\n"
     ]
    },
    {
     "name": "stderr",
     "output_type": "stream",
     "text": [
      " 45%|████▍     | 54017/120975 [00:55<01:38, 680.09it/s]"
     ]
    },
    {
     "name": "stdout",
     "output_type": "stream",
     "text": [
      "306591.jpg\n",
      "30677.jpg\n",
      "30687.jpg\n",
      "30781.jpg\n",
      "30791.jpg\n",
      "308017.jpg\n",
      "308302.jpg\n",
      "308371.jpg\n",
      "308383.jpg\n",
      "308403.jpg\n"
     ]
    },
    {
     "name": "stderr",
     "output_type": "stream",
     "text": [
      " 45%|████▍     | 54087/120975 [00:55<01:39, 670.72it/s]"
     ]
    },
    {
     "name": "stdout",
     "output_type": "stream",
     "text": [
      "308547.jpg\n",
      "308557.jpg\n",
      "308567.jpg\n",
      "308577.jpg\n",
      "308589.jpg\n",
      "308691.jpg\n",
      "308703.jpg\n",
      "308715.jpg\n",
      "308726.jpg\n",
      "308738.jpg\n",
      "308750.jpg\n",
      "308760.jpg\n",
      "308773.jpg\n",
      "308784.jpg\n",
      "308901.jpg\n",
      "30902.jpg\n",
      "309031.jpg\n",
      "309041.jpg\n",
      "30930.jpg\n",
      "30942.jpg\n",
      "30956.jpg\n",
      "30966.jpg\n"
     ]
    },
    {
     "name": "stderr",
     "output_type": "stream",
     "text": [
      " 45%|████▍     | 54304/120975 [00:56<01:35, 695.18it/s]"
     ]
    },
    {
     "name": "stdout",
     "output_type": "stream",
     "text": [
      "30999.jpg\n",
      "31085.jpg\n",
      "31103.jpg\n",
      "311402.jpg\n",
      "311449.jpg\n",
      "311541.jpg\n",
      "311575.jpg\n"
     ]
    },
    {
     "name": "stderr",
     "output_type": "stream",
     "text": [
      " 45%|████▌     | 54449/120975 [00:56<01:34, 704.01it/s]"
     ]
    },
    {
     "name": "stdout",
     "output_type": "stream",
     "text": [
      "311652.jpg\n",
      "311959.jpg\n",
      "312058.jpg\n",
      "312325.jpg\n",
      "312447.jpg\n",
      "313254.jpg\n"
     ]
    },
    {
     "name": "stderr",
     "output_type": "stream",
     "text": [
      " 45%|████▌     | 54669/120975 [00:56<01:40, 656.92it/s]"
     ]
    },
    {
     "name": "stdout",
     "output_type": "stream",
     "text": [
      "314301.jpg\n",
      "314311.jpg\n",
      "314346.jpg\n",
      "314356.jpg\n",
      "314398.jpg\n",
      "314409.jpg\n",
      "314421.jpg\n",
      "314431.jpg\n",
      "314442.jpg\n",
      "314453.jpg\n",
      "314464.jpg\n",
      "314498.jpg\n",
      "314508.jpg\n",
      "314518.jpg\n",
      "314528.jpg\n",
      "314538.jpg\n",
      "314549.jpg\n",
      "314559.jpg\n",
      "314801.jpg\n",
      "314985.jpg\n",
      "31500.jpg\n",
      "315029.jpg\n",
      "315112.jpg\n",
      "315133.jpg\n",
      "315144.jpg\n",
      "315154.jpg\n",
      "315164.jpg\n",
      "315174.jpg\n",
      "315184.jpg\n",
      "315195.jpg\n",
      "315206.jpg\n",
      "315226.jpg\n",
      "315238.jpg\n",
      "315250.jpg\n",
      "315274.jpg\n",
      "31528.jpg\n",
      "315307.jpg\n",
      "315317.jpg\n",
      "315327.jpg\n",
      "315380.jpg\n",
      "315391.jpg\n"
     ]
    },
    {
     "name": "stderr",
     "output_type": "stream",
     "text": [
      " 45%|████▌     | 54816/120975 [00:56<01:34, 699.58it/s]"
     ]
    },
    {
     "name": "stdout",
     "output_type": "stream",
     "text": [
      "315630.jpg\n",
      "315671.jpg\n",
      "315703.jpg\n",
      "315725.jpg\n",
      "315755.jpg\n",
      "315765.jpg\n",
      "315775.jpg\n",
      "315816.jpg\n",
      "315827.jpg\n",
      "315879.jpg\n",
      "31593.jpg\n",
      "315979.jpg\n",
      "315989.jpg\n",
      "316085.jpg\n",
      "316493.jpg\n",
      "317139.jpg\n",
      "317162.jpg\n"
     ]
    },
    {
     "name": "stderr",
     "output_type": "stream",
     "text": [
      " 45%|████▌     | 54957/120975 [00:56<01:35, 692.10it/s]"
     ]
    },
    {
     "name": "stdout",
     "output_type": "stream",
     "text": [
      "317423.jpg\n",
      "317852.jpg\n",
      "317948.jpg\n",
      "317968.jpg\n",
      "318117.jpg\n",
      "318218.jpg\n",
      "318317.jpg\n",
      "318343.jpg\n",
      "318547.jpg\n",
      "318588.jpg\n",
      "318654.jpg\n",
      "318696.jpg\n",
      "31872.jpg\n",
      "318748.jpg\n",
      "318833.jpg\n",
      "318853.jpg\n",
      "31888.jpg\n",
      "318893.jpg\n",
      "318912.jpg\n",
      "318988.jpg\n",
      "319018.jpg\n"
     ]
    },
    {
     "name": "stderr",
     "output_type": "stream",
     "text": [
      " 46%|████▌     | 55095/120975 [00:57<01:49, 603.41it/s]"
     ]
    },
    {
     "name": "stdout",
     "output_type": "stream",
     "text": [
      "319219.jpg\n",
      "319256.jpg\n",
      "319307.jpg\n",
      "319510.jpg\n",
      "319546.jpg\n",
      "319725.jpg\n",
      "319943.jpg\n",
      "319954.jpg\n",
      "319964.jpg\n",
      "319997.jpg\n",
      "320007.jpg\n",
      "320017.jpg\n",
      "320028.jpg\n",
      "320038.jpg\n"
     ]
    },
    {
     "name": "stderr",
     "output_type": "stream",
     "text": [
      " 46%|████▌     | 55323/120975 [00:57<01:34, 695.70it/s]"
     ]
    },
    {
     "name": "stdout",
     "output_type": "stream",
     "text": [
      "321588.jpg\n",
      "321715.jpg\n",
      "32201.jpg\n",
      "322200.jpg\n",
      "322567.jpg\n",
      "32262.jpg\n",
      "322720.jpg\n",
      "323205.jpg\n"
     ]
    },
    {
     "name": "stderr",
     "output_type": "stream",
     "text": [
      " 46%|████▌     | 55478/120975 [00:57<01:30, 724.89it/s]"
     ]
    },
    {
     "name": "stdout",
     "output_type": "stream",
     "text": [
      "323354.jpg\n",
      "323364.jpg\n",
      "323394.jpg\n",
      "323665.jpg\n",
      "324077.jpg\n",
      "324087.jpg\n",
      "324117.jpg\n",
      "324127.jpg\n",
      "324137.jpg\n",
      "324148.jpg\n",
      "324201.jpg\n",
      "324344.jpg\n",
      "324354.jpg\n",
      "32437.jpg\n",
      "324434.jpg\n",
      "324464.jpg\n",
      "324484.jpg\n",
      "324544.jpg\n",
      "324554.jpg\n",
      "324634.jpg\n",
      "325220.jpg\n"
     ]
    },
    {
     "name": "stderr",
     "output_type": "stream",
     "text": [
      " 46%|████▌     | 55623/120975 [00:57<01:37, 671.56it/s]"
     ]
    },
    {
     "name": "stdout",
     "output_type": "stream",
     "text": [
      "325307.jpg\n",
      "325382.jpg\n",
      "325451.jpg\n",
      "325466.jpg\n",
      "325476.jpg\n",
      "325487.jpg\n",
      "325498.jpg\n",
      "325509.jpg\n",
      "325569.jpg\n",
      "325632.jpg\n",
      "325648.jpg\n",
      "326026.jpg\n",
      "326227.jpg\n",
      "326237.jpg\n",
      "326247.jpg\n",
      "326257.jpg\n",
      "326267.jpg\n",
      "326277.jpg\n",
      "326287.jpg\n",
      "326297.jpg\n",
      "326307.jpg\n",
      "326317.jpg\n",
      "326328.jpg\n",
      "326348.jpg\n",
      "326383.jpg\n",
      "326403.jpg\n",
      "326413.jpg\n",
      "326423.jpg\n",
      "326453.jpg\n",
      "326473.jpg\n",
      "326504.jpg\n",
      "326522.jpg\n",
      "326552.jpg\n",
      "326562.jpg\n",
      "326593.jpg\n",
      "326613.jpg\n",
      "326623.jpg\n",
      "326635.jpg\n",
      "326675.jpg\n",
      "326685.jpg\n",
      "326717.jpg\n"
     ]
    },
    {
     "name": "stderr",
     "output_type": "stream",
     "text": [
      " 46%|████▌     | 55755/120975 [00:58<01:44, 626.24it/s]"
     ]
    },
    {
     "name": "stdout",
     "output_type": "stream",
     "text": [
      "326737.jpg\n",
      "326767.jpg\n",
      "326777.jpg\n",
      "326787.jpg\n",
      "326797.jpg\n",
      "326807.jpg\n",
      "326827.jpg\n",
      "326859.jpg\n",
      "326869.jpg\n",
      "326879.jpg\n",
      "326889.jpg\n",
      "326899.jpg\n",
      "326909.jpg\n",
      "326939.jpg\n",
      "326949.jpg\n",
      "326969.jpg\n",
      "326982.jpg\n",
      "327002.jpg\n",
      "327012.jpg\n",
      "327022.jpg\n",
      "327032.jpg\n",
      "327042.jpg\n",
      "327082.jpg\n",
      "327092.jpg\n",
      "327102.jpg\n",
      "327112.jpg\n",
      "327143.jpg\n",
      "327215.jpg\n",
      "327236.jpg\n",
      "327268.jpg\n",
      "327289.jpg\n",
      "327363.jpg\n",
      "327384.jpg\n",
      "327457.jpg\n",
      "327543.jpg\n",
      "327608.jpg\n",
      "327652.jpg\n",
      "327781.jpg\n",
      "327804.jpg\n",
      "327971.jpg\n"
     ]
    },
    {
     "name": "stderr",
     "output_type": "stream",
     "text": [
      " 46%|████▋     | 55972/120975 [00:58<01:34, 685.90it/s]"
     ]
    },
    {
     "name": "stdout",
     "output_type": "stream",
     "text": [
      "328093.jpg\n",
      "328393.jpg\n",
      "32894.jpg\n",
      "329422.jpg\n"
     ]
    },
    {
     "name": "stderr",
     "output_type": "stream",
     "text": [
      " 46%|████▋     | 56120/120975 [00:58<01:30, 715.78it/s]"
     ]
    },
    {
     "name": "stdout",
     "output_type": "stream",
     "text": [
      "329713.jpg\n",
      "329787.jpg\n",
      "330745.jpg\n"
     ]
    },
    {
     "name": "stderr",
     "output_type": "stream",
     "text": [
      " 47%|████▋     | 56278/120975 [00:58<01:26, 744.42it/s]"
     ]
    },
    {
     "name": "stdout",
     "output_type": "stream",
     "text": [
      "33189.jpg\n",
      "33201.jpg\n",
      "333167.jpg\n",
      "333177.jpg\n",
      "333238.jpg\n",
      "333290.jpg\n",
      "333300.jpg\n"
     ]
    },
    {
     "name": "stderr",
     "output_type": "stream",
     "text": [
      " 47%|████▋     | 56427/120975 [00:59<01:29, 718.32it/s]"
     ]
    },
    {
     "name": "stdout",
     "output_type": "stream",
     "text": [
      "333591.jpg\n",
      "333601.jpg\n",
      "333663.jpg\n",
      "333673.jpg\n",
      "333783.jpg\n",
      "333793.jpg\n",
      "333843.jpg\n",
      "333853.jpg\n",
      "333863.jpg\n",
      "333873.jpg\n",
      "333883.jpg\n",
      "333893.jpg\n",
      "333943.jpg\n",
      "334093.jpg\n",
      "334163.jpg\n",
      "334203.jpg\n",
      "334223.jpg\n",
      "334293.jpg\n",
      "334323.jpg\n",
      "334433.jpg\n",
      "33447.jpg\n",
      "334516.jpg\n",
      "33471.jpg\n"
     ]
    },
    {
     "name": "stderr",
     "output_type": "stream",
     "text": [
      " 47%|████▋     | 56571/120975 [00:59<01:31, 700.09it/s]"
     ]
    },
    {
     "name": "stdout",
     "output_type": "stream",
     "text": [
      "334736.jpg\n",
      "334767.jpg\n",
      "334777.jpg\n",
      "334787.jpg\n",
      "334807.jpg\n",
      "334817.jpg\n",
      "334857.jpg\n",
      "334867.jpg\n",
      "334897.jpg\n",
      "334908.jpg\n",
      "334918.jpg\n",
      "334948.jpg\n",
      "334958.jpg\n",
      "335187.jpg\n",
      "33520.jpg\n",
      "335208.jpg\n",
      "33541.jpg\n",
      "335513.jpg\n"
     ]
    },
    {
     "name": "stderr",
     "output_type": "stream",
     "text": [
      " 47%|████▋     | 56713/120975 [00:59<01:31, 699.60it/s]"
     ]
    },
    {
     "name": "stdout",
     "output_type": "stream",
     "text": [
      "336123.jpg\n",
      "336133.jpg\n",
      "33622.jpg\n",
      "337603.jpg\n",
      "337735.jpg\n",
      "337807.jpg\n"
     ]
    },
    {
     "name": "stderr",
     "output_type": "stream",
     "text": [
      " 47%|████▋     | 56940/120975 [00:59<01:28, 721.80it/s]"
     ]
    },
    {
     "name": "stdout",
     "output_type": "stream",
     "text": [
      "337961.jpg\n",
      "338007.jpg\n",
      "338017.jpg\n",
      "338036.jpg\n",
      "338072.jpg\n",
      "338178.jpg\n",
      "338207.jpg\n",
      "338649.jpg\n",
      "338661.jpg\n",
      "339493.jpg\n"
     ]
    },
    {
     "name": "stderr",
     "output_type": "stream",
     "text": [
      " 47%|████▋     | 57234/120975 [01:00<01:27, 728.92it/s]"
     ]
    },
    {
     "name": "stdout",
     "output_type": "stream",
     "text": [
      "341238.jpg\n",
      "341250.jpg\n",
      "342178.jpg\n",
      "342268.jpg\n",
      "342498.jpg\n",
      "342518.jpg\n"
     ]
    },
    {
     "name": "stderr",
     "output_type": "stream",
     "text": [
      " 47%|████▋     | 57307/120975 [01:00<01:32, 689.34it/s]"
     ]
    },
    {
     "name": "stdout",
     "output_type": "stream",
     "text": [
      "342868.jpg\n",
      "342888.jpg\n",
      "342898.jpg\n",
      "342908.jpg\n",
      "342988.jpg\n",
      "343048.jpg\n",
      "343118.jpg\n",
      "343158.jpg\n",
      "343168.jpg\n",
      "343209.jpg\n",
      "343243.jpg\n",
      "343303.jpg\n",
      "343534.jpg\n",
      "343544.jpg\n",
      "343556.jpg\n",
      "343660.jpg\n",
      "343760.jpg\n",
      "344060.jpg\n"
     ]
    },
    {
     "name": "stderr",
     "output_type": "stream",
     "text": [
      " 48%|████▊     | 57524/120975 [01:00<01:32, 689.64it/s]"
     ]
    },
    {
     "name": "stdout",
     "output_type": "stream",
     "text": [
      "344833.jpg\n",
      "345609.jpg\n",
      "345619.jpg\n",
      "345629.jpg\n",
      "345894.jpg\n",
      "346009.jpg\n",
      "346019.jpg\n",
      "346031.jpg\n",
      "346041.jpg\n",
      "346071.jpg\n"
     ]
    },
    {
     "name": "stderr",
     "output_type": "stream",
     "text": [
      " 48%|████▊     | 57672/120975 [01:00<01:33, 675.80it/s]"
     ]
    },
    {
     "name": "stdout",
     "output_type": "stream",
     "text": [
      "346443.jpg\n",
      "346453.jpg\n",
      "346563.jpg\n",
      "346573.jpg\n",
      "346583.jpg\n",
      "346593.jpg\n",
      "346630.jpg\n",
      "346642.jpg\n",
      "346938.jpg\n",
      "347020.jpg\n",
      "347032.jpg\n",
      "34759.jpg\n"
     ]
    },
    {
     "name": "stderr",
     "output_type": "stream",
     "text": [
      " 48%|████▊     | 57896/120975 [01:01<01:27, 720.64it/s]"
     ]
    },
    {
     "name": "stdout",
     "output_type": "stream",
     "text": [
      "347983.jpg\n",
      "348271.jpg\n",
      "348293.jpg\n",
      "348984.jpg\n",
      "349307.jpg\n",
      "349317.jpg\n"
     ]
    },
    {
     "name": "stderr",
     "output_type": "stream",
     "text": [
      " 48%|████▊     | 57969/120975 [01:01<01:28, 708.05it/s]"
     ]
    },
    {
     "name": "stdout",
     "output_type": "stream",
     "text": [
      "349412.jpg\n",
      "349422.jpg\n",
      "349433.jpg\n",
      "349443.jpg\n",
      "349690.jpg\n",
      "350054.jpg\n",
      "350064.jpg\n",
      "350074.jpg\n",
      "350085.jpg\n",
      "350095.jpg\n",
      "350105.jpg\n",
      "350116.jpg\n",
      "350127.jpg\n",
      "350147.jpg\n",
      "350157.jpg\n",
      "350261.jpg\n",
      "350271.jpg\n",
      "350291.jpg\n",
      "350301.jpg\n",
      "350311.jpg\n",
      "350502.jpg\n"
     ]
    },
    {
     "name": "stderr",
     "output_type": "stream",
     "text": [
      " 48%|████▊     | 58110/120975 [01:01<01:40, 626.27it/s]"
     ]
    },
    {
     "name": "stdout",
     "output_type": "stream",
     "text": [
      "350864.jpg\n",
      "351208.jpg\n",
      "351218.jpg\n",
      "351258.jpg\n",
      "351288.jpg\n",
      "351308.jpg\n",
      "351318.jpg\n",
      "352495.jpg\n",
      "352515.jpg\n",
      "35257.jpg\n",
      "352697.jpg\n",
      "35278.jpg\n",
      "352827.jpg\n"
     ]
    },
    {
     "name": "stderr",
     "output_type": "stream",
     "text": [
      " 48%|████▊     | 58371/120975 [01:01<01:39, 629.65it/s]"
     ]
    },
    {
     "name": "stdout",
     "output_type": "stream",
     "text": [
      "353517.jpg\n",
      "353598.jpg\n",
      "353618.jpg\n",
      "353668.jpg\n",
      "353689.jpg\n",
      "353861.jpg\n",
      "354855.jpg\n",
      "355028.jpg\n",
      "355080.jpg\n",
      "355172.jpg\n",
      "355212.jpg\n"
     ]
    },
    {
     "name": "stderr",
     "output_type": "stream",
     "text": [
      " 48%|████▊     | 58504/120975 [01:02<01:42, 611.17it/s]"
     ]
    },
    {
     "name": "stdout",
     "output_type": "stream",
     "text": [
      "355522.jpg\n",
      "355629.jpg\n",
      "356121.jpg\n"
     ]
    },
    {
     "name": "stderr",
     "output_type": "stream",
     "text": [
      " 48%|████▊     | 58633/120975 [01:02<01:39, 626.20it/s]"
     ]
    },
    {
     "name": "stdout",
     "output_type": "stream",
     "text": [
      "357194.jpg\n",
      "35839.jpg\n",
      "358505.jpg\n",
      "358515.jpg\n",
      "358905.jpg\n"
     ]
    },
    {
     "name": "stderr",
     "output_type": "stream",
     "text": [
      " 49%|████▊     | 58759/120975 [01:02<01:39, 622.24it/s]"
     ]
    },
    {
     "name": "stdout",
     "output_type": "stream",
     "text": [
      "359035.jpg\n",
      "359801.jpg\n",
      "359825.jpg\n",
      "359841.jpg\n",
      "359854.jpg\n",
      "359929.jpg\n",
      "360.jpg\n",
      "360133.jpg\n",
      "360159.jpg\n",
      "360194.jpg\n",
      "360257.jpg\n",
      "360376.jpg\n",
      "360426.jpg\n",
      "360465.jpg\n",
      "360483.jpg\n",
      "360496.jpg\n",
      "360540.jpg\n",
      "360558.jpg\n",
      "360572.jpg\n",
      "360591.jpg\n",
      "360676.jpg\n",
      "360695.jpg\n"
     ]
    },
    {
     "name": "stderr",
     "output_type": "stream",
     "text": [
      " 49%|████▊     | 58900/120975 [01:02<01:33, 665.04it/s]"
     ]
    },
    {
     "name": "stdout",
     "output_type": "stream",
     "text": [
      "360814.jpg\n",
      "360829.jpg\n",
      "360847.jpg\n",
      "361512.jpg\n",
      "361674.jpg\n",
      "361886.jpg\n",
      "362596.jpg\n"
     ]
    },
    {
     "name": "stderr",
     "output_type": "stream",
     "text": [
      " 49%|████▉     | 59172/120975 [01:03<01:32, 670.16it/s]"
     ]
    },
    {
     "name": "stdout",
     "output_type": "stream",
     "text": [
      "363739.jpg\n",
      "363953.jpg\n",
      "364636.jpg\n",
      "364698.jpg\n",
      "364723.jpg\n",
      "364889.jpg\n",
      "364912.jpg\n",
      "364940.jpg\n",
      "364954.jpg\n",
      "365006.jpg\n",
      "365045.jpg\n",
      "365066.jpg\n",
      "365286.jpg\n"
     ]
    },
    {
     "name": "stderr",
     "output_type": "stream",
     "text": [
      " 49%|████▉     | 59314/120975 [01:03<01:30, 680.51it/s]"
     ]
    },
    {
     "name": "stdout",
     "output_type": "stream",
     "text": [
      "365326.jpg\n",
      "365336.jpg\n",
      "365377.jpg\n",
      "365387.jpg\n",
      "365397.jpg\n",
      "366848.jpg\n"
     ]
    },
    {
     "name": "stderr",
     "output_type": "stream",
     "text": [
      " 49%|████▉     | 59453/120975 [01:03<01:30, 680.46it/s]"
     ]
    },
    {
     "name": "stdout",
     "output_type": "stream",
     "text": [
      "367521.jpg\n",
      "367531.jpg\n",
      "367934.jpg\n",
      "368331.jpg\n",
      "368362.jpg\n",
      "368855.jpg\n",
      "369043.jpg\n"
     ]
    },
    {
     "name": "stderr",
     "output_type": "stream",
     "text": [
      " 49%|████▉     | 59680/120975 [01:03<01:24, 725.83it/s]"
     ]
    },
    {
     "name": "stdout",
     "output_type": "stream",
     "text": [
      "369186.jpg\n",
      "369288.jpg\n",
      "369436.jpg\n",
      "369446.jpg\n",
      "369486.jpg\n",
      "369652.jpg\n",
      "369705.jpg\n",
      "369931.jpg\n",
      "369994.jpg\n",
      "370054.jpg\n",
      "370064.jpg\n",
      "370146.jpg\n",
      "370316.jpg\n",
      "370484.jpg\n"
     ]
    },
    {
     "name": "stderr",
     "output_type": "stream",
     "text": [
      " 49%|████▉     | 59753/120975 [01:04<01:27, 703.27it/s]"
     ]
    },
    {
     "name": "stdout",
     "output_type": "stream",
     "text": [
      "370785.jpg\n",
      "370825.jpg\n",
      "370835.jpg\n",
      "370855.jpg\n",
      "370865.jpg\n",
      "370895.jpg\n",
      "370917.jpg\n",
      "370927.jpg\n",
      "370957.jpg\n",
      "370977.jpg\n",
      "371010.jpg\n"
     ]
    },
    {
     "name": "stderr",
     "output_type": "stream",
     "text": [
      " 50%|████▉     | 59906/120975 [01:04<01:23, 734.06it/s]"
     ]
    },
    {
     "name": "stdout",
     "output_type": "stream",
     "text": [
      "372546.jpg\n",
      "372557.jpg\n",
      "372568.jpg\n",
      "372579.jpg\n",
      "372592.jpg\n",
      "372612.jpg\n",
      "372622.jpg\n",
      "372863.jpg\n",
      "373073.jpg\n",
      "373093.jpg\n",
      "373133.jpg\n",
      "373153.jpg\n",
      "373163.jpg\n",
      "373173.jpg\n",
      "373193.jpg\n",
      "373203.jpg\n",
      "373213.jpg\n",
      "373224.jpg\n",
      "373244.jpg\n",
      "373254.jpg\n",
      "373264.jpg\n",
      "373274.jpg\n",
      "373284.jpg\n",
      "373294.jpg\n",
      "373314.jpg\n",
      "373324.jpg\n",
      "373335.jpg\n",
      "373346.jpg\n",
      "373357.jpg\n",
      "373368.jpg\n",
      "373379.jpg\n",
      "373413.jpg\n",
      "373423.jpg\n",
      "373433.jpg\n",
      "373453.jpg\n",
      "373463.jpg\n",
      "373473.jpg\n",
      "373483.jpg\n",
      "373503.jpg\n",
      "373513.jpg\n",
      "373523.jpg\n",
      "373533.jpg\n",
      "373543.jpg\n",
      "373553.jpg\n",
      "373567.jpg\n",
      "373635.jpg\n",
      "373656.jpg\n",
      "373690.jpg\n",
      "373738.jpg\n",
      "373766.jpg\n",
      "373842.jpg\n"
     ]
    },
    {
     "name": "stderr",
     "output_type": "stream",
     "text": [
      " 50%|████▉     | 60050/120975 [01:04<01:33, 651.06it/s]"
     ]
    },
    {
     "name": "stdout",
     "output_type": "stream",
     "text": [
      "373923.jpg\n",
      "373957.jpg\n",
      "373967.jpg\n",
      "373987.jpg\n",
      "373997.jpg\n",
      "374007.jpg\n",
      "374018.jpg\n",
      "374028.jpg\n",
      "374038.jpg\n",
      "374048.jpg\n",
      "374058.jpg\n",
      "374068.jpg\n",
      "374078.jpg\n",
      "374089.jpg\n",
      "374099.jpg\n",
      "374110.jpg\n",
      "374120.jpg\n",
      "374130.jpg\n",
      "374140.jpg\n",
      "374150.jpg\n",
      "374161.jpg\n",
      "374171.jpg\n",
      "374183.jpg\n",
      "374193.jpg\n",
      "374204.jpg\n",
      "374215.jpg\n",
      "374225.jpg\n",
      "374236.jpg\n",
      "374247.jpg\n",
      "374257.jpg\n",
      "374277.jpg\n",
      "37429.jpg\n",
      "374298.jpg\n",
      "374308.jpg\n",
      "374362.jpg\n",
      "374372.jpg\n",
      "374382.jpg\n",
      "374446.jpg\n",
      "374456.jpg\n",
      "374477.jpg\n",
      "374510.jpg\n",
      "374600.jpg\n",
      "374610.jpg\n",
      "374620.jpg\n",
      "374630.jpg\n",
      "374640.jpg\n",
      "374650.jpg\n",
      "374660.jpg\n",
      "374670.jpg\n",
      "374680.jpg\n",
      "374690.jpg\n",
      "374700.jpg\n",
      "374740.jpg\n",
      "374760.jpg\n",
      "374780.jpg\n",
      "374854.jpg\n",
      "374864.jpg\n",
      "374874.jpg\n",
      "374895.jpg\n",
      "374906.jpg\n",
      "374916.jpg\n",
      "374926.jpg\n",
      "374936.jpg\n",
      "374966.jpg\n",
      "374977.jpg\n",
      "374987.jpg\n",
      "374997.jpg\n",
      "375047.jpg\n"
     ]
    },
    {
     "name": "stderr",
     "output_type": "stream",
     "text": [
      " 50%|████▉     | 60194/120975 [01:04<01:30, 672.40it/s]"
     ]
    },
    {
     "name": "stdout",
     "output_type": "stream",
     "text": [
      "375149.jpg\n",
      "375181.jpg\n",
      "375205.jpg\n",
      "375215.jpg\n",
      "375341.jpg\n",
      "375424.jpg\n",
      "375555.jpg\n",
      "375645.jpg\n",
      "375655.jpg\n",
      "375775.jpg\n",
      "375927.jpg\n",
      "375987.jpg\n",
      "376007.jpg\n",
      "376017.jpg\n",
      "376037.jpg\n",
      "376047.jpg\n",
      "376128.jpg\n",
      "376148.jpg\n",
      "376228.jpg\n",
      "376388.jpg\n",
      "376408.jpg\n",
      "376478.jpg\n"
     ]
    },
    {
     "name": "stderr",
     "output_type": "stream",
     "text": [
      " 50%|████▉     | 60342/120975 [01:04<01:26, 698.19it/s]"
     ]
    },
    {
     "name": "stdout",
     "output_type": "stream",
     "text": [
      "376558.jpg\n",
      "376708.jpg\n"
     ]
    },
    {
     "name": "stderr",
     "output_type": "stream",
     "text": [
      " 50%|█████     | 60489/120975 [01:05<01:26, 700.73it/s]"
     ]
    },
    {
     "name": "stdout",
     "output_type": "stream",
     "text": [
      "377921.jpg\n",
      "377951.jpg\n",
      "378372.jpg\n",
      "378576.jpg\n",
      "378797.jpg\n",
      "378807.jpg\n",
      "379065.jpg\n",
      "379077.jpg\n",
      "379182.jpg\n"
     ]
    },
    {
     "name": "stderr",
     "output_type": "stream",
     "text": [
      " 50%|█████     | 60715/120975 [01:05<01:23, 717.39it/s]"
     ]
    },
    {
     "name": "stdout",
     "output_type": "stream",
     "text": [
      "380050.jpg\n",
      "380120.jpg\n",
      "380240.jpg\n",
      "380260.jpg\n",
      "380340.jpg\n",
      "380350.jpg\n",
      "380370.jpg\n",
      "380601.jpg\n",
      "380751.jpg\n",
      "382019.jpg\n"
     ]
    },
    {
     "name": "stderr",
     "output_type": "stream",
     "text": [
      " 50%|█████     | 60867/120975 [01:05<01:23, 721.34it/s]"
     ]
    },
    {
     "name": "stdout",
     "output_type": "stream",
     "text": [
      "383162.jpg\n",
      "383662.jpg\n",
      "383692.jpg\n",
      "383976.jpg\n",
      "384056.jpg\n"
     ]
    },
    {
     "name": "stderr",
     "output_type": "stream",
     "text": [
      " 51%|█████     | 61167/120975 [01:06<01:24, 704.48it/s]"
     ]
    },
    {
     "name": "stdout",
     "output_type": "stream",
     "text": [
      "385981.jpg\n"
     ]
    },
    {
     "name": "stderr",
     "output_type": "stream",
     "text": [
      " 51%|█████     | 61386/120975 [01:06<01:25, 696.60it/s]"
     ]
    },
    {
     "name": "stdout",
     "output_type": "stream",
     "text": [
      "387899.jpg\n",
      "388282.jpg\n",
      "38853.jpg\n",
      "388691.jpg\n",
      "388701.jpg\n"
     ]
    },
    {
     "name": "stderr",
     "output_type": "stream",
     "text": [
      " 51%|█████     | 61599/120975 [01:06<01:26, 685.41it/s]"
     ]
    },
    {
     "name": "stdout",
     "output_type": "stream",
     "text": [
      "389788.jpg\n",
      "390.jpg\n",
      "390162.jpg\n",
      "390207.jpg\n",
      "390341.jpg\n",
      "390559.jpg\n",
      "390822.jpg\n",
      "390863.jpg\n"
     ]
    },
    {
     "name": "stderr",
     "output_type": "stream",
     "text": [
      " 51%|█████     | 61751/120975 [01:06<01:22, 717.51it/s]"
     ]
    },
    {
     "name": "stdout",
     "output_type": "stream",
     "text": [
      "391165.jpg\n"
     ]
    },
    {
     "name": "stderr",
     "output_type": "stream",
     "text": [
      " 51%|█████     | 61897/120975 [01:07<01:26, 684.92it/s]"
     ]
    },
    {
     "name": "stdout",
     "output_type": "stream",
     "text": [
      "392750.jpg\n",
      "39315.jpg\n",
      "393344.jpg\n",
      "393364.jpg\n",
      "393405.jpg\n",
      "393475.jpg\n",
      "393495.jpg\n",
      "393673.jpg\n",
      "394035.jpg\n"
     ]
    },
    {
     "name": "stderr",
     "output_type": "stream",
     "text": [
      " 51%|█████▏    | 62051/120975 [01:07<01:21, 726.87it/s]"
     ]
    },
    {
     "name": "stdout",
     "output_type": "stream",
     "text": [
      "394117.jpg\n",
      "394139.jpg\n",
      "394942.jpg\n",
      "395002.jpg\n",
      "395233.jpg\n",
      "395253.jpg\n",
      "395463.jpg\n"
     ]
    },
    {
     "name": "stderr",
     "output_type": "stream",
     "text": [
      " 52%|█████▏    | 62423/120975 [01:07<01:20, 729.33it/s]"
     ]
    },
    {
     "name": "stdout",
     "output_type": "stream",
     "text": [
      "396987.jpg\n",
      "396997.jpg\n"
     ]
    },
    {
     "name": "stderr",
     "output_type": "stream",
     "text": [
      " 52%|█████▏    | 62568/120975 [01:08<01:24, 689.85it/s]"
     ]
    },
    {
     "name": "stdout",
     "output_type": "stream",
     "text": [
      "398868.jpg\n",
      "399608.jpg\n"
     ]
    },
    {
     "name": "stderr",
     "output_type": "stream",
     "text": [
      " 52%|█████▏    | 62713/120975 [01:08<01:23, 697.47it/s]"
     ]
    },
    {
     "name": "stdout",
     "output_type": "stream",
     "text": [
      "4002.jpg\n",
      "400288.jpg\n",
      "400471.jpg\n",
      "400991.jpg\n",
      "401001.jpg\n",
      "401011.jpg\n",
      "401190.jpg\n",
      "401200.jpg\n"
     ]
    },
    {
     "name": "stderr",
     "output_type": "stream",
     "text": [
      " 52%|█████▏    | 62860/120975 [01:08<01:24, 685.11it/s]"
     ]
    },
    {
     "name": "stdout",
     "output_type": "stream",
     "text": [
      "402513.jpg\n",
      "403051.jpg\n",
      "403239.jpg\n",
      "403271.jpg\n",
      "403289.jpg\n",
      "403338.jpg\n",
      "403764.jpg\n",
      "403795.jpg\n",
      "403821.jpg\n",
      "403916.jpg\n"
     ]
    },
    {
     "name": "stderr",
     "output_type": "stream",
     "text": [
      " 52%|█████▏    | 62996/120975 [01:08<01:28, 656.37it/s]"
     ]
    },
    {
     "name": "stdout",
     "output_type": "stream",
     "text": [
      "40419.jpg\n",
      "404225.jpg\n",
      "405213.jpg\n",
      "405348.jpg\n",
      "405456.jpg\n",
      "405523.jpg\n",
      "405539.jpg\n",
      "405722.jpg\n",
      "405766.jpg\n",
      "405782.jpg\n"
     ]
    },
    {
     "name": "stderr",
     "output_type": "stream",
     "text": [
      " 52%|█████▏    | 63136/120975 [01:08<01:27, 663.46it/s]"
     ]
    },
    {
     "name": "stdout",
     "output_type": "stream",
     "text": [
      "406008.jpg\n",
      "406146.jpg\n",
      "406265.jpg\n",
      "406289.jpg\n",
      "407447.jpg\n",
      "407465.jpg\n",
      "407475.jpg\n",
      "407494.jpg\n",
      "407516.jpg\n",
      "407526.jpg\n",
      "407598.jpg\n",
      "407621.jpg\n",
      "407632.jpg\n",
      "407663.jpg\n",
      "407681.jpg\n",
      "407705.jpg\n",
      "407718.jpg\n",
      "407734.jpg\n",
      "407755.jpg\n",
      "407765.jpg\n",
      "407913.jpg\n"
     ]
    },
    {
     "name": "stderr",
     "output_type": "stream",
     "text": [
      " 52%|█████▏    | 63270/120975 [01:09<01:29, 645.58it/s]"
     ]
    },
    {
     "name": "stdout",
     "output_type": "stream",
     "text": [
      "407990.jpg\n"
     ]
    },
    {
     "name": "stderr",
     "output_type": "stream",
     "text": [
      " 52%|█████▏    | 63502/120975 [01:09<01:25, 671.43it/s]"
     ]
    },
    {
     "name": "stdout",
     "output_type": "stream",
     "text": [
      "410554.jpg\n",
      "410646.jpg\n",
      "410680.jpg\n",
      "410704.jpg\n",
      "411018.jpg\n",
      "411743.jpg\n",
      "411814.jpg\n"
     ]
    },
    {
     "name": "stderr",
     "output_type": "stream",
     "text": [
      " 53%|█████▎    | 63636/120975 [01:09<01:31, 630.02it/s]"
     ]
    },
    {
     "name": "stdout",
     "output_type": "stream",
     "text": [
      "412037.jpg\n"
     ]
    },
    {
     "name": "stderr",
     "output_type": "stream",
     "text": [
      " 53%|█████▎    | 63904/120975 [01:10<01:32, 619.00it/s]"
     ]
    },
    {
     "name": "stdout",
     "output_type": "stream",
     "text": [
      "414769.jpg\n",
      "415125.jpg\n",
      "415135.jpg\n",
      "415146.jpg\n",
      "415156.jpg\n",
      "415211.jpg\n",
      "415288.jpg\n",
      "415487.jpg\n"
     ]
    },
    {
     "name": "stderr",
     "output_type": "stream",
     "text": [
      " 53%|█████▎    | 64038/120975 [01:10<01:28, 644.56it/s]"
     ]
    },
    {
     "name": "stdout",
     "output_type": "stream",
     "text": [
      "416219.jpg\n",
      "416229.jpg\n",
      "416273.jpg\n",
      "416473.jpg\n",
      "416609.jpg\n",
      "416863.jpg\n",
      "416941.jpg\n",
      "417167.jpg\n",
      "417216.jpg\n",
      "417312.jpg\n",
      "417322.jpg\n"
     ]
    },
    {
     "name": "stderr",
     "output_type": "stream",
     "text": [
      " 53%|█████▎    | 64168/120975 [01:10<01:29, 633.17it/s]"
     ]
    },
    {
     "name": "stdout",
     "output_type": "stream",
     "text": [
      "417731.jpg\n",
      "417786.jpg\n",
      "418175.jpg\n",
      "418212.jpg\n",
      "41848.jpg\n",
      "418739.jpg\n"
     ]
    },
    {
     "name": "stderr",
     "output_type": "stream",
     "text": [
      " 53%|█████▎    | 64305/120975 [01:10<01:26, 658.77it/s]"
     ]
    },
    {
     "name": "stdout",
     "output_type": "stream",
     "text": [
      "419020.jpg\n",
      "419031.jpg\n",
      "419073.jpg\n",
      "420.jpg\n"
     ]
    },
    {
     "name": "stderr",
     "output_type": "stream",
     "text": [
      " 53%|█████▎    | 64440/120975 [01:10<01:26, 651.18it/s]"
     ]
    },
    {
     "name": "stdout",
     "output_type": "stream",
     "text": [
      "4207.jpg\n",
      "421417.jpg\n",
      "421439.jpg\n",
      "421553.jpg\n"
     ]
    },
    {
     "name": "stderr",
     "output_type": "stream",
     "text": [
      " 53%|█████▎    | 64648/120975 [01:11<01:25, 658.46it/s]"
     ]
    },
    {
     "name": "stdout",
     "output_type": "stream",
     "text": [
      "4224.jpg\n",
      "42252.jpg\n",
      "42264.jpg\n",
      "423262.jpg\n",
      "42334.jpg\n"
     ]
    },
    {
     "name": "stderr",
     "output_type": "stream",
     "text": [
      " 54%|█████▎    | 64785/120975 [01:11<01:27, 642.46it/s]"
     ]
    },
    {
     "name": "stdout",
     "output_type": "stream",
     "text": [
      "424752.jpg\n",
      "424927.jpg\n",
      "425035.jpg\n",
      "42512.jpg\n",
      "425200.jpg\n",
      "425260.jpg\n",
      "425307.jpg\n",
      "425319.jpg\n",
      "425387.jpg\n",
      "425420.jpg\n",
      "425430.jpg\n",
      "425441.jpg\n",
      "425463.jpg\n",
      "425593.jpg\n",
      "425603.jpg\n",
      "425712.jpg\n",
      "425754.jpg\n",
      "425764.jpg\n",
      "425983.jpg\n"
     ]
    },
    {
     "name": "stderr",
     "output_type": "stream",
     "text": [
      " 54%|█████▎    | 64998/120975 [01:11<01:20, 693.91it/s]"
     ]
    },
    {
     "name": "stdout",
     "output_type": "stream",
     "text": [
      "426044.jpg\n",
      "426091.jpg\n",
      "426147.jpg\n",
      "426157.jpg\n",
      "426179.jpg\n",
      "426192.jpg\n",
      "42626.jpg\n",
      "426365.jpg\n",
      "426375.jpg\n",
      "426395.jpg\n",
      "426451.jpg\n",
      "426461.jpg\n",
      "426471.jpg\n",
      "427448.jpg\n"
     ]
    },
    {
     "name": "stderr",
     "output_type": "stream",
     "text": [
      " 54%|█████▍    | 65150/120975 [01:11<01:17, 716.52it/s]"
     ]
    },
    {
     "name": "stdout",
     "output_type": "stream",
     "text": [
      "42851.jpg\n",
      "428758.jpg\n",
      "429212.jpg\n",
      "429222.jpg\n",
      "429557.jpg\n",
      "429667.jpg\n",
      "429677.jpg\n",
      "429727.jpg\n",
      "429737.jpg\n",
      "429748.jpg\n",
      "429772.jpg\n",
      "429783.jpg\n",
      "429794.jpg\n",
      "429809.jpg\n",
      "429844.jpg\n",
      "429871.jpg\n",
      "429888.jpg\n"
     ]
    },
    {
     "name": "stderr",
     "output_type": "stream",
     "text": [
      " 54%|█████▍    | 65290/120975 [01:12<01:26, 641.32it/s]"
     ]
    },
    {
     "name": "stdout",
     "output_type": "stream",
     "text": [
      "429907.jpg\n",
      "429920.jpg\n",
      "429932.jpg\n",
      "429944.jpg\n",
      "429955.jpg\n",
      "429965.jpg\n",
      "429976.jpg\n",
      "429988.jpg\n",
      "430000.jpg\n",
      "430014.jpg\n",
      "430027.jpg\n",
      "430042.jpg\n",
      "430053.jpg\n",
      "430064.jpg\n",
      "430075.jpg\n",
      "430097.jpg\n",
      "430111.jpg\n",
      "430129.jpg\n",
      "430161.jpg\n",
      "430178.jpg\n",
      "430195.jpg\n",
      "430209.jpg\n",
      "430236.jpg\n",
      "430246.jpg\n",
      "430257.jpg\n",
      "430280.jpg\n",
      "430290.jpg\n",
      "430301.jpg\n",
      "43031.jpg\n",
      "430379.jpg\n",
      "430392.jpg\n",
      "430405.jpg\n",
      "430418.jpg\n",
      "430430.jpg\n",
      "430441.jpg\n",
      "430451.jpg\n",
      "430462.jpg\n",
      "430472.jpg\n",
      "430484.jpg\n",
      "430494.jpg\n",
      "430505.jpg\n",
      "430515.jpg\n",
      "430525.jpg\n",
      "430538.jpg\n",
      "430550.jpg\n",
      "430577.jpg\n",
      "430588.jpg\n",
      "430598.jpg\n",
      "430612.jpg\n",
      "430622.jpg\n",
      "430633.jpg\n",
      "430643.jpg\n",
      "430655.jpg\n",
      "430670.jpg\n",
      "430684.jpg\n",
      "430701.jpg\n",
      "430726.jpg\n",
      "430799.jpg\n",
      "4308.jpg\n",
      "430831.jpg\n",
      "430842.jpg\n",
      "430873.jpg\n",
      "430917.jpg\n",
      "430934.jpg\n",
      "430986.jpg\n",
      "431023.jpg\n",
      "431049.jpg\n",
      "431426.jpg\n"
     ]
    },
    {
     "name": "stderr",
     "output_type": "stream",
     "text": [
      " 54%|█████▍    | 65504/120975 [01:12<01:23, 665.92it/s]"
     ]
    },
    {
     "name": "stdout",
     "output_type": "stream",
     "text": [
      "431594.jpg\n",
      "431759.jpg\n",
      "432039.jpg\n",
      "432051.jpg\n",
      "432133.jpg\n",
      "432148.jpg\n",
      "432206.jpg\n",
      "432219.jpg\n",
      "432233.jpg\n",
      "432248.jpg\n",
      "432264.jpg\n",
      "432276.jpg\n",
      "432288.jpg\n",
      "432301.jpg\n",
      "432315.jpg\n",
      "432411.jpg\n",
      "432423.jpg\n",
      "432460.jpg\n",
      "432475.jpg\n",
      "432486.jpg\n",
      "433100.jpg\n"
     ]
    },
    {
     "name": "stderr",
     "output_type": "stream",
     "text": [
      " 54%|█████▍    | 65644/120975 [01:12<01:21, 681.80it/s]"
     ]
    },
    {
     "name": "stdout",
     "output_type": "stream",
     "text": [
      "433638.jpg\n",
      "433743.jpg\n",
      "433771.jpg\n",
      "434034.jpg\n",
      "434096.jpg\n",
      "434122.jpg\n",
      "434156.jpg\n",
      "434194.jpg\n",
      "434204.jpg\n"
     ]
    },
    {
     "name": "stderr",
     "output_type": "stream",
     "text": [
      " 54%|█████▍    | 65784/120975 [01:12<01:20, 683.25it/s]"
     ]
    },
    {
     "name": "stdout",
     "output_type": "stream",
     "text": [
      "435536.jpg\n",
      "437484.jpg\n"
     ]
    },
    {
     "name": "stderr",
     "output_type": "stream",
     "text": [
      " 55%|█████▍    | 66001/120975 [01:13<01:18, 698.48it/s]"
     ]
    },
    {
     "name": "stdout",
     "output_type": "stream",
     "text": [
      "437699.jpg\n",
      "4379.jpg\n"
     ]
    },
    {
     "name": "stderr",
     "output_type": "stream",
     "text": [
      " 55%|█████▍    | 66212/120975 [01:13<01:19, 690.39it/s]"
     ]
    },
    {
     "name": "stdout",
     "output_type": "stream",
     "text": [
      "439906.jpg\n",
      "440090.jpg\n",
      "440190.jpg\n",
      "440360.jpg\n",
      "440924.jpg\n"
     ]
    },
    {
     "name": "stderr",
     "output_type": "stream",
     "text": [
      " 55%|█████▍    | 66351/120975 [01:13<01:24, 647.68it/s]"
     ]
    },
    {
     "name": "stdout",
     "output_type": "stream",
     "text": [
      "441550.jpg\n",
      "441569.jpg\n",
      "441583.jpg\n",
      "441604.jpg\n",
      "441617.jpg\n",
      "441636.jpg\n",
      "441651.jpg\n",
      "441664.jpg\n",
      "441690.jpg\n",
      "441703.jpg\n",
      "441754.jpg\n",
      "441764.jpg\n",
      "441781.jpg\n",
      "441800.jpg\n",
      "441855.jpg\n",
      "441866.jpg\n",
      "441879.jpg\n",
      "441889.jpg\n",
      "441900.jpg\n",
      "441919.jpg\n",
      "441934.jpg\n",
      "441953.jpg\n",
      "441971.jpg\n",
      "442003.jpg\n",
      "442023.jpg\n",
      "442044.jpg\n",
      "442072.jpg\n",
      "442088.jpg\n",
      "442110.jpg\n",
      "442138.jpg\n",
      "442159.jpg\n",
      "442185.jpg\n",
      "442229.jpg\n",
      "442291.jpg\n",
      "442357.jpg\n",
      "442381.jpg\n",
      "442426.jpg\n",
      "442460.jpg\n",
      "442502.jpg\n",
      "442963.jpg\n",
      "442973.jpg\n"
     ]
    },
    {
     "name": "stderr",
     "output_type": "stream",
     "text": [
      " 55%|█████▍    | 66489/120975 [01:13<01:21, 666.46it/s]"
     ]
    },
    {
     "name": "stdout",
     "output_type": "stream",
     "text": [
      "443386.jpg\n",
      "443736.jpg\n",
      "443846.jpg\n"
     ]
    },
    {
     "name": "stderr",
     "output_type": "stream",
     "text": [
      " 55%|█████▌    | 66627/120975 [01:14<01:21, 668.28it/s]"
     ]
    },
    {
     "name": "stdout",
     "output_type": "stream",
     "text": [
      "444799.jpg\n",
      "445734.jpg\n",
      "445764.jpg\n",
      "445835.jpg\n"
     ]
    },
    {
     "name": "stderr",
     "output_type": "stream",
     "text": [
      " 55%|█████▌    | 66906/120975 [01:14<01:22, 653.80it/s]"
     ]
    },
    {
     "name": "stdout",
     "output_type": "stream",
     "text": [
      "447632.jpg\n",
      "447642.jpg\n",
      "448068.jpg\n",
      "448159.jpg\n",
      "448431.jpg\n",
      "448441.jpg\n",
      "448551.jpg\n"
     ]
    },
    {
     "name": "stderr",
     "output_type": "stream",
     "text": [
      " 55%|█████▌    | 67122/120975 [01:14<01:18, 687.13it/s]"
     ]
    },
    {
     "name": "stdout",
     "output_type": "stream",
     "text": [
      "449584.jpg\n",
      "449654.jpg\n",
      "450496.jpg\n",
      "450576.jpg\n",
      "450626.jpg\n",
      "450707.jpg\n",
      "450727.jpg\n",
      "450757.jpg\n",
      "450777.jpg\n",
      "450797.jpg\n"
     ]
    },
    {
     "name": "stderr",
     "output_type": "stream",
     "text": [
      " 56%|█████▌    | 67264/120975 [01:15<01:17, 689.31it/s]"
     ]
    },
    {
     "name": "stdout",
     "output_type": "stream",
     "text": [
      "450907.jpg\n",
      "450927.jpg\n",
      "45105.jpg\n",
      "451128.jpg\n",
      "451337.jpg\n",
      "451372.jpg\n",
      "451439.jpg\n",
      "451660.jpg\n",
      "451733.jpg\n"
     ]
    },
    {
     "name": "stderr",
     "output_type": "stream",
     "text": [
      " 56%|█████▌    | 67407/120975 [01:15<01:19, 676.94it/s]"
     ]
    },
    {
     "name": "stdout",
     "output_type": "stream",
     "text": [
      "452490.jpg\n",
      "453022.jpg\n"
     ]
    },
    {
     "name": "stderr",
     "output_type": "stream",
     "text": [
      " 56%|█████▌    | 67615/120975 [01:15<01:18, 677.56it/s]"
     ]
    },
    {
     "name": "stdout",
     "output_type": "stream",
     "text": [
      "454658.jpg\n",
      "454949.jpg\n",
      "456153.jpg\n",
      "456718.jpg\n",
      "456789.jpg\n"
     ]
    },
    {
     "name": "stderr",
     "output_type": "stream",
     "text": [
      " 56%|█████▌    | 67834/120975 [01:15<01:15, 699.82it/s]"
     ]
    },
    {
     "name": "stdout",
     "output_type": "stream",
     "text": [
      "457221.jpg\n",
      "457313.jpg\n",
      "457383.jpg\n",
      "457403.jpg\n",
      "457837.jpg\n",
      "457847.jpg\n"
     ]
    },
    {
     "name": "stderr",
     "output_type": "stream",
     "text": [
      " 56%|█████▋    | 68126/120975 [01:16<01:15, 702.84it/s]"
     ]
    },
    {
     "name": "stdout",
     "output_type": "stream",
     "text": [
      "460320.jpg\n",
      "46041.jpg\n",
      "46084.jpg\n",
      "460947.jpg\n",
      "461117.jpg\n",
      "461127.jpg\n",
      "461147.jpg\n",
      "46129.jpg\n",
      "46142.jpg\n"
     ]
    },
    {
     "name": "stderr",
     "output_type": "stream",
     "text": [
      " 56%|█████▋    | 68270/120975 [01:16<01:16, 686.71it/s]"
     ]
    },
    {
     "name": "stdout",
     "output_type": "stream",
     "text": [
      "461856.jpg\n",
      "46196.jpg\n",
      "46211.jpg\n",
      "46221.jpg\n",
      "462313.jpg\n",
      "462342.jpg\n",
      "462426.jpg\n",
      "46251.jpg\n",
      "462674.jpg\n",
      "462695.jpg\n",
      "462716.jpg\n",
      "462879.jpg\n",
      "46293.jpg\n",
      "463019.jpg\n"
     ]
    },
    {
     "name": "stderr",
     "output_type": "stream",
     "text": [
      " 57%|█████▋    | 68409/120975 [01:16<01:18, 669.34it/s]"
     ]
    },
    {
     "name": "stdout",
     "output_type": "stream",
     "text": [
      "46320.jpg\n",
      "463260.jpg\n",
      "463310.jpg\n",
      "46333.jpg\n",
      "463360.jpg\n",
      "463640.jpg\n",
      "463770.jpg\n",
      "464121.jpg\n",
      "464211.jpg\n",
      "464271.jpg\n",
      "464322.jpg\n"
     ]
    },
    {
     "name": "stderr",
     "output_type": "stream",
     "text": [
      " 57%|█████▋    | 68610/120975 [01:17<01:21, 646.45it/s]"
     ]
    },
    {
     "name": "stdout",
     "output_type": "stream",
     "text": [
      "46470.jpg\n",
      "46486.jpg\n",
      "464933.jpg\n",
      "46498.jpg\n",
      "46510.jpg\n",
      "46525.jpg\n",
      "46536.jpg\n",
      "46549.jpg\n",
      "46562.jpg\n",
      "46574.jpg\n",
      "466138.jpg\n",
      "46614.jpg\n",
      "46625.jpg\n",
      "46636.jpg\n"
     ]
    },
    {
     "name": "stderr",
     "output_type": "stream",
     "text": [
      " 57%|█████▋    | 68754/120975 [01:17<01:16, 684.35it/s]"
     ]
    },
    {
     "name": "stdout",
     "output_type": "stream",
     "text": [
      "46689.jpg\n",
      "46700.jpg\n",
      "467810.jpg\n",
      "467850.jpg\n"
     ]
    },
    {
     "name": "stderr",
     "output_type": "stream",
     "text": [
      " 57%|█████▋    | 68890/120975 [01:17<01:24, 619.29it/s]"
     ]
    },
    {
     "name": "stdout",
     "output_type": "stream",
     "text": [
      "468272.jpg\n",
      "46862.jpg\n",
      "468873.jpg\n",
      "469224.jpg\n",
      "46938.jpg\n"
     ]
    },
    {
     "name": "stderr",
     "output_type": "stream",
     "text": [
      " 57%|█████▋    | 69033/120975 [01:17<01:18, 661.67it/s]"
     ]
    },
    {
     "name": "stdout",
     "output_type": "stream",
     "text": [
      "469664.jpg\n",
      "469754.jpg\n",
      "469914.jpg\n",
      "470146.jpg\n",
      "470156.jpg\n",
      "47026.jpg\n"
     ]
    },
    {
     "name": "stderr",
     "output_type": "stream",
     "text": [
      " 57%|█████▋    | 69175/120975 [01:17<01:18, 659.50it/s]"
     ]
    },
    {
     "name": "stdout",
     "output_type": "stream",
     "text": [
      "471131.jpg\n",
      "47127.jpg\n",
      "471597.jpg\n",
      "47166.jpg\n",
      "472029.jpg\n",
      "472079.jpg\n",
      "472280.jpg\n",
      "47239.jpg\n",
      "472430.jpg\n"
     ]
    },
    {
     "name": "stderr",
     "output_type": "stream",
     "text": [
      " 57%|█████▋    | 69382/120975 [01:18<01:16, 671.16it/s]"
     ]
    },
    {
     "name": "stdout",
     "output_type": "stream",
     "text": [
      "472500.jpg\n",
      "47312.jpg\n"
     ]
    },
    {
     "name": "stderr",
     "output_type": "stream",
     "text": [
      " 57%|█████▋    | 69450/120975 [01:18<01:17, 665.23it/s]"
     ]
    },
    {
     "name": "stdout",
     "output_type": "stream",
     "text": [
      "47394.jpg\n",
      "474206.jpg\n",
      "474216.jpg\n",
      "474366.jpg\n",
      "474510.jpg\n",
      "474520.jpg\n",
      "47453.jpg\n",
      "474587.jpg\n",
      "474609.jpg\n",
      "474631.jpg\n",
      "474672.jpg\n",
      "474694.jpg\n",
      "474704.jpg\n",
      "474716.jpg\n",
      "474727.jpg\n",
      "474739.jpg\n",
      "474751.jpg\n",
      "47477.jpg\n",
      "474772.jpg\n",
      "474797.jpg\n",
      "474809.jpg\n",
      "474821.jpg\n",
      "474835.jpg\n",
      "474849.jpg\n",
      "47487.jpg\n",
      "474903.jpg\n",
      "474913.jpg\n",
      "474960.jpg\n",
      "474974.jpg\n",
      "47498.jpg\n",
      "475017.jpg\n",
      "475027.jpg\n",
      "475037.jpg\n",
      "475072.jpg\n",
      "47509.jpg\n",
      "475103.jpg\n",
      "475113.jpg\n",
      "475146.jpg\n",
      "475156.jpg\n",
      "475176.jpg\n",
      "475186.jpg\n"
     ]
    },
    {
     "name": "stderr",
     "output_type": "stream",
     "text": [
      " 58%|█████▊    | 69581/120975 [01:18<01:26, 592.92it/s]"
     ]
    },
    {
     "name": "stdout",
     "output_type": "stream",
     "text": [
      "475196.jpg\n",
      "47520.jpg\n",
      "475207.jpg\n",
      "475219.jpg\n",
      "475251.jpg\n",
      "475261.jpg\n",
      "475282.jpg\n",
      "475304.jpg\n",
      "47531.jpg\n",
      "475314.jpg\n",
      "475324.jpg\n",
      "475334.jpg\n",
      "475344.jpg\n",
      "475354.jpg\n",
      "475364.jpg\n",
      "475376.jpg\n",
      "47542.jpg\n",
      "475426.jpg\n",
      "47555.jpg\n",
      "47567.jpg\n",
      "47577.jpg\n",
      "475801.jpg\n",
      "475811.jpg\n",
      "475823.jpg\n",
      "475835.jpg\n",
      "475848.jpg\n",
      "475859.jpg\n",
      "475872.jpg\n",
      "475884.jpg\n",
      "47589.jpg\n",
      "475896.jpg\n",
      "475908.jpg\n",
      "475932.jpg\n",
      "475958.jpg\n",
      "475970.jpg\n",
      "475982.jpg\n",
      "475993.jpg\n",
      "476004.jpg\n",
      "476014.jpg\n",
      "476025.jpg\n",
      "476037.jpg\n",
      "476049.jpg\n",
      "476060.jpg\n",
      "476083.jpg\n",
      "476096.jpg\n",
      "476106.jpg\n",
      "476119.jpg\n",
      "476190.jpg\n",
      "47627.jpg\n",
      "47638.jpg\n",
      "47651.jpg\n"
     ]
    },
    {
     "name": "stderr",
     "output_type": "stream",
     "text": [
      " 58%|█████▊    | 69708/120975 [01:18<01:23, 611.43it/s]"
     ]
    },
    {
     "name": "stdout",
     "output_type": "stream",
     "text": [
      "47661.jpg\n",
      "476660.jpg\n",
      "47673.jpg\n",
      "476770.jpg\n",
      "47684.jpg\n",
      "476910.jpg\n",
      "477061.jpg\n",
      "477173.jpg\n",
      "47719.jpg\n",
      "477233.jpg\n",
      "47729.jpg\n",
      "47768.jpg\n",
      "4777.jpg\n"
     ]
    },
    {
     "name": "stderr",
     "output_type": "stream",
     "text": [
      " 58%|█████▊    | 69834/120975 [01:19<01:23, 614.64it/s]"
     ]
    },
    {
     "name": "stdout",
     "output_type": "stream",
     "text": [
      "47781.jpg\n",
      "47796.jpg\n",
      "478027.jpg\n",
      "47809.jpg\n",
      "478128.jpg\n",
      "47819.jpg\n",
      "47831.jpg\n",
      "47845.jpg\n",
      "47857.jpg\n",
      "47869.jpg\n",
      "47882.jpg\n",
      "47894.jpg\n",
      "478968.jpg\n",
      "47907.jpg\n",
      "479093.jpg\n",
      "47921.jpg\n"
     ]
    },
    {
     "name": "stderr",
     "output_type": "stream",
     "text": [
      " 58%|█████▊    | 69963/120975 [01:19<01:21, 624.43it/s]"
     ]
    },
    {
     "name": "stdout",
     "output_type": "stream",
     "text": [
      "479307.jpg\n",
      "47934.jpg\n",
      "479378.jpg\n",
      "47944.jpg\n",
      "47955.jpg\n",
      "47966.jpg\n",
      "47977.jpg\n",
      "479801.jpg\n",
      "479891.jpg\n",
      "47991.jpg\n",
      "479942.jpg\n",
      "480.jpg\n",
      "48002.jpg\n",
      "48014.jpg\n",
      "48048.jpg\n",
      "48060.jpg\n"
     ]
    },
    {
     "name": "stderr",
     "output_type": "stream",
     "text": [
      " 58%|█████▊    | 70101/120975 [01:19<01:18, 646.50it/s]"
     ]
    },
    {
     "name": "stdout",
     "output_type": "stream",
     "text": [
      "48072.jpg\n",
      "480736.jpg\n",
      "480756.jpg\n",
      "48084.jpg\n",
      "480937.jpg\n",
      "48096.jpg\n",
      "48109.jpg\n",
      "48122.jpg\n",
      "48137.jpg\n",
      "481398.jpg\n",
      "481418.jpg\n",
      "481428.jpg\n",
      "481468.jpg\n",
      "48148.jpg\n",
      "481498.jpg\n",
      "481578.jpg\n",
      "48161.jpg\n",
      "48173.jpg\n"
     ]
    },
    {
     "name": "stderr",
     "output_type": "stream",
     "text": [
      " 58%|█████▊    | 70227/120975 [01:19<01:27, 576.91it/s]"
     ]
    },
    {
     "name": "stdout",
     "output_type": "stream",
     "text": [
      "48185.jpg\n",
      "48195.jpg\n",
      "48208.jpg\n",
      "48218.jpg\n",
      "48230.jpg\n",
      "48240.jpg\n",
      "48253.jpg\n",
      "48265.jpg\n",
      "48278.jpg\n",
      "482889.jpg\n",
      "48291.jpg\n"
     ]
    },
    {
     "name": "stderr",
     "output_type": "stream",
     "text": [
      " 58%|█████▊    | 70348/120975 [01:19<01:28, 573.38it/s]"
     ]
    },
    {
     "name": "stdout",
     "output_type": "stream",
     "text": [
      "48301.jpg\n",
      "48313.jpg\n",
      "48323.jpg\n",
      "483249.jpg\n",
      "48336.jpg\n",
      "48347.jpg\n",
      "484432.jpg\n"
     ]
    },
    {
     "name": "stderr",
     "output_type": "stream",
     "text": [
      " 58%|█████▊    | 70538/120975 [01:20<01:21, 615.48it/s]"
     ]
    },
    {
     "name": "stdout",
     "output_type": "stream",
     "text": [
      "484834.jpg\n",
      "485115.jpg\n",
      "486108.jpg\n"
     ]
    },
    {
     "name": "stderr",
     "output_type": "stream",
     "text": [
      " 58%|█████▊    | 70676/120975 [01:20<01:21, 620.97it/s]"
     ]
    },
    {
     "name": "stdout",
     "output_type": "stream",
     "text": [
      "486168.jpg\n",
      "486188.jpg\n",
      "486498.jpg\n",
      "486578.jpg\n",
      "486588.jpg\n",
      "486608.jpg\n",
      "486678.jpg\n",
      "486688.jpg\n",
      "486718.jpg\n",
      "486728.jpg\n",
      "486748.jpg\n",
      "486778.jpg\n",
      "486798.jpg\n",
      "486838.jpg\n",
      "486878.jpg\n",
      "486908.jpg\n",
      "487088.jpg\n",
      "487229.jpg\n"
     ]
    },
    {
     "name": "stderr",
     "output_type": "stream",
     "text": [
      " 59%|█████▊    | 70860/120975 [01:20<01:26, 581.57it/s]"
     ]
    },
    {
     "name": "stdout",
     "output_type": "stream",
     "text": [
      "487651.jpg\n",
      "487842.jpg\n",
      "487852.jpg\n",
      "487862.jpg\n",
      "487872.jpg\n",
      "487882.jpg\n",
      "487892.jpg\n",
      "487902.jpg\n",
      "487912.jpg\n",
      "487922.jpg\n",
      "487932.jpg\n",
      "487942.jpg\n",
      "487952.jpg\n",
      "487982.jpg\n",
      "487992.jpg\n",
      "488002.jpg\n",
      "488022.jpg\n",
      "488032.jpg\n",
      "488042.jpg\n",
      "488052.jpg\n",
      "488162.jpg\n",
      "488332.jpg\n",
      "488342.jpg\n",
      "488362.jpg\n",
      "488393.jpg\n",
      "488403.jpg\n",
      "488413.jpg\n",
      "488423.jpg\n",
      "488514.jpg\n",
      "48852.jpg\n",
      "488524.jpg\n",
      "488544.jpg\n",
      "488574.jpg\n",
      "488584.jpg\n",
      "48862.jpg\n",
      "488685.jpg\n",
      "488695.jpg\n"
     ]
    },
    {
     "name": "stderr",
     "output_type": "stream",
     "text": [
      " 59%|█████▊    | 70928/120975 [01:20<01:22, 607.54it/s]"
     ]
    },
    {
     "name": "stdout",
     "output_type": "stream",
     "text": [
      "488819.jpg\n",
      "489019.jpg\n",
      "489079.jpg\n",
      "489089.jpg\n",
      "489139.jpg\n",
      "489159.jpg\n",
      "489220.jpg\n",
      "489230.jpg\n",
      "489270.jpg\n",
      "4894.jpg\n",
      "48944.jpg\n",
      "489818.jpg\n"
     ]
    },
    {
     "name": "stderr",
     "output_type": "stream",
     "text": [
      " 59%|█████▉    | 71122/120975 [01:21<01:20, 621.48it/s]"
     ]
    },
    {
     "name": "stdout",
     "output_type": "stream",
     "text": [
      "490.jpg\n",
      "490182.jpg\n",
      "490192.jpg\n",
      "490202.jpg\n",
      "490282.jpg\n",
      "490763.jpg\n"
     ]
    },
    {
     "name": "stderr",
     "output_type": "stream",
     "text": [
      " 59%|█████▉    | 71322/120975 [01:21<01:21, 610.45it/s]"
     ]
    },
    {
     "name": "stdout",
     "output_type": "stream",
     "text": [
      "492202.jpg\n",
      "492212.jpg\n",
      "492222.jpg\n",
      "492232.jpg\n",
      "492242.jpg\n",
      "492252.jpg\n",
      "492402.jpg\n",
      "492412.jpg\n",
      "492422.jpg\n",
      "4926.jpg\n",
      "492672.jpg\n",
      "492682.jpg\n",
      "492905.jpg\n"
     ]
    },
    {
     "name": "stderr",
     "output_type": "stream",
     "text": [
      " 59%|█████▉    | 71445/120975 [01:21<01:22, 600.45it/s]"
     ]
    },
    {
     "name": "stdout",
     "output_type": "stream",
     "text": [
      "493475.jpg\n",
      "493485.jpg\n"
     ]
    },
    {
     "name": "stderr",
     "output_type": "stream",
     "text": [
      " 59%|█████▉    | 71582/120975 [01:21<01:18, 633.11it/s]"
     ]
    },
    {
     "name": "stdout",
     "output_type": "stream",
     "text": [
      "494903.jpg\n",
      "495273.jpg\n",
      "495505.jpg\n",
      "495666.jpg\n",
      "4958.jpg\n",
      "496101.jpg\n"
     ]
    },
    {
     "name": "stderr",
     "output_type": "stream",
     "text": [
      " 59%|█████▉    | 71775/120975 [01:22<01:20, 609.48it/s]"
     ]
    },
    {
     "name": "stdout",
     "output_type": "stream",
     "text": [
      "4968.jpg\n",
      "498010.jpg\n"
     ]
    },
    {
     "name": "stderr",
     "output_type": "stream",
     "text": [
      " 59%|█████▉    | 71971/120975 [01:22<01:19, 618.27it/s]"
     ]
    },
    {
     "name": "stdout",
     "output_type": "stream",
     "text": [
      "49827.jpg\n",
      "499288.jpg\n",
      "499298.jpg\n",
      "499309.jpg\n"
     ]
    },
    {
     "name": "stderr",
     "output_type": "stream",
     "text": [
      " 60%|█████▉    | 72103/120975 [01:22<01:18, 623.77it/s]"
     ]
    },
    {
     "name": "stdout",
     "output_type": "stream",
     "text": [
      "499690.jpg\n",
      "499830.jpg\n",
      "4999.jpg\n",
      "500.jpg\n"
     ]
    },
    {
     "name": "stderr",
     "output_type": "stream",
     "text": [
      " 60%|█████▉    | 72235/120975 [01:22<01:17, 632.05it/s]"
     ]
    },
    {
     "name": "stdout",
     "output_type": "stream",
     "text": [
      "5009.jpg\n",
      "50148.jpg\n",
      "501575.jpg\n"
     ]
    },
    {
     "name": "stderr",
     "output_type": "stream",
     "text": [
      " 60%|█████▉    | 72363/120975 [01:23<01:20, 603.38it/s]"
     ]
    },
    {
     "name": "stdout",
     "output_type": "stream",
     "text": [
      "502141.jpg\n",
      "502151.jpg\n",
      "502181.jpg\n",
      "502507.jpg\n",
      "502677.jpg\n",
      "502738.jpg\n",
      "502950.jpg\n",
      "502990.jpg\n",
      "503000.jpg\n",
      "503010.jpg\n",
      "503061.jpg\n",
      "5031.jpg\n"
     ]
    },
    {
     "name": "stderr",
     "output_type": "stream",
     "text": [
      " 60%|█████▉    | 72555/120975 [01:23<01:18, 616.86it/s]"
     ]
    },
    {
     "name": "stdout",
     "output_type": "stream",
     "text": [
      "503689.jpg\n",
      "503699.jpg\n",
      "503902.jpg\n",
      "503942.jpg\n",
      "504595.jpg\n",
      "504605.jpg\n",
      "504615.jpg\n",
      "504715.jpg\n",
      "504725.jpg\n",
      "504736.jpg\n"
     ]
    },
    {
     "name": "stderr",
     "output_type": "stream",
     "text": [
      " 60%|██████    | 72681/120975 [01:23<01:20, 602.14it/s]"
     ]
    },
    {
     "name": "stdout",
     "output_type": "stream",
     "text": [
      "504929.jpg\n",
      "505192.jpg\n",
      "505876.jpg\n",
      "505996.jpg\n"
     ]
    },
    {
     "name": "stderr",
     "output_type": "stream",
     "text": [
      " 60%|██████    | 73000/120975 [01:24<01:17, 622.01it/s]"
     ]
    },
    {
     "name": "stdout",
     "output_type": "stream",
     "text": [
      "507640.jpg\n",
      "507722.jpg\n",
      "507953.jpg\n"
     ]
    },
    {
     "name": "stderr",
     "output_type": "stream",
     "text": [
      " 60%|██████    | 73128/120975 [01:24<01:17, 613.65it/s]"
     ]
    },
    {
     "name": "stdout",
     "output_type": "stream",
     "text": [
      "509124.jpg\n",
      "509164.jpg\n",
      "509207.jpg\n",
      "509237.jpg\n",
      "509257.jpg\n",
      "509277.jpg\n",
      "509287.jpg\n",
      "509312.jpg\n",
      "509322.jpg\n",
      "509352.jpg\n",
      "509362.jpg\n",
      "509394.jpg\n",
      "509404.jpg\n",
      "509582.jpg\n",
      "509592.jpg\n",
      "509602.jpg\n",
      "509702.jpg\n",
      "509712.jpg\n",
      "509794.jpg\n",
      "509814.jpg\n",
      "509854.jpg\n",
      "509884.jpg\n",
      "509904.jpg\n",
      "510.jpg\n",
      "510016.jpg\n",
      "510026.jpg\n",
      "510037.jpg\n",
      "510058.jpg\n",
      "510068.jpg\n",
      "510078.jpg\n",
      "510088.jpg\n",
      "510098.jpg\n",
      "510198.jpg\n"
     ]
    },
    {
     "name": "stderr",
     "output_type": "stream",
     "text": [
      " 61%|██████    | 73253/120975 [01:24<01:17, 615.15it/s]"
     ]
    },
    {
     "name": "stdout",
     "output_type": "stream",
     "text": [
      "510330.jpg\n",
      "510420.jpg\n",
      "510698.jpg\n",
      "511225.jpg\n",
      "511235.jpg\n",
      "511245.jpg\n",
      "511295.jpg\n"
     ]
    },
    {
     "name": "stderr",
     "output_type": "stream",
     "text": [
      " 61%|██████    | 73388/120975 [01:24<01:14, 642.71it/s]"
     ]
    },
    {
     "name": "stdout",
     "output_type": "stream",
     "text": [
      "511477.jpg\n",
      "512294.jpg\n",
      "512365.jpg\n"
     ]
    },
    {
     "name": "stderr",
     "output_type": "stream",
     "text": [
      " 61%|██████    | 73517/120975 [01:25<01:17, 609.46it/s]"
     ]
    },
    {
     "name": "stdout",
     "output_type": "stream",
     "text": [
      "512918.jpg\n",
      "512928.jpg\n",
      "513039.jpg\n",
      "513059.jpg\n",
      "513149.jpg\n",
      "513726.jpg\n",
      "513737.jpg\n"
     ]
    },
    {
     "name": "stderr",
     "output_type": "stream",
     "text": [
      " 61%|██████    | 73710/120975 [01:25<01:15, 624.99it/s]"
     ]
    },
    {
     "name": "stdout",
     "output_type": "stream",
     "text": [
      "514469.jpg\n",
      "514850.jpg\n"
     ]
    },
    {
     "name": "stderr",
     "output_type": "stream",
     "text": [
      " 61%|██████    | 73836/120975 [01:25<01:15, 623.49it/s]"
     ]
    },
    {
     "name": "stdout",
     "output_type": "stream",
     "text": [
      "51589.jpg\n",
      "515960.jpg\n",
      "516060.jpg\n",
      "516070.jpg\n",
      "516182.jpg\n",
      "516193.jpg\n",
      "51674.jpg\n",
      "51684.jpg\n"
     ]
    },
    {
     "name": "stderr",
     "output_type": "stream",
     "text": [
      " 61%|██████    | 73961/120975 [01:25<01:16, 616.46it/s]"
     ]
    },
    {
     "name": "stdout",
     "output_type": "stream",
     "text": [
      "517242.jpg\n",
      "517527.jpg\n",
      "517557.jpg\n",
      "517577.jpg\n",
      "517693.jpg\n",
      "517763.jpg\n",
      "518195.jpg\n"
     ]
    },
    {
     "name": "stderr",
     "output_type": "stream",
     "text": [
      " 61%|██████▏   | 74210/120975 [01:26<01:18, 595.17it/s]"
     ]
    },
    {
     "name": "stdout",
     "output_type": "stream",
     "text": [
      "519556.jpg\n",
      "519707.jpg\n",
      "519717.jpg\n"
     ]
    },
    {
     "name": "stderr",
     "output_type": "stream",
     "text": [
      " 62%|██████▏   | 74467/120975 [01:26<01:16, 607.58it/s]"
     ]
    },
    {
     "name": "stdout",
     "output_type": "stream",
     "text": [
      "522240.jpg\n",
      "522250.jpg\n",
      "522290.jpg\n",
      "522310.jpg\n",
      "522320.jpg\n",
      "522440.jpg\n",
      "522470.jpg\n",
      "522562.jpg\n",
      "522663.jpg\n",
      "522815.jpg\n",
      "522825.jpg\n",
      "522835.jpg\n",
      "522845.jpg\n",
      "52287.jpg\n",
      "522906.jpg\n",
      "522937.jpg\n",
      "522947.jpg\n",
      "522957.jpg\n",
      "522991.jpg\n",
      "523044.jpg\n",
      "523094.jpg\n",
      "523154.jpg\n",
      "523254.jpg\n",
      "523264.jpg\n"
     ]
    },
    {
     "name": "stderr",
     "output_type": "stream",
     "text": [
      " 62%|██████▏   | 74587/120975 [01:26<01:20, 575.42it/s]"
     ]
    },
    {
     "name": "stdout",
     "output_type": "stream",
     "text": [
      "52332.jpg\n",
      "523391.jpg\n",
      "523411.jpg\n",
      "52342.jpg\n",
      "523421.jpg\n",
      "523431.jpg\n",
      "523462.jpg\n",
      "523475.jpg\n",
      "523507.jpg\n",
      "523517.jpg\n",
      "523527.jpg\n",
      "523599.jpg\n",
      "523609.jpg\n",
      "523619.jpg\n",
      "523629.jpg\n",
      "523639.jpg\n",
      "523649.jpg\n",
      "523659.jpg\n",
      "523669.jpg\n",
      "523759.jpg\n",
      "523769.jpg\n",
      "523779.jpg\n",
      "523789.jpg\n",
      "523799.jpg\n",
      "523829.jpg\n",
      "523839.jpg\n",
      "523849.jpg\n",
      "523859.jpg\n",
      "523871.jpg\n",
      "523883.jpg\n",
      "523941.jpg\n",
      "523951.jpg\n",
      "523962.jpg\n",
      "523975.jpg\n",
      "523986.jpg\n",
      "523997.jpg\n",
      "524011.jpg\n",
      "52404.jpg\n",
      "524045.jpg\n",
      "524083.jpg\n",
      "524104.jpg\n",
      "524114.jpg\n",
      "52434.jpg\n",
      "52444.jpg\n"
     ]
    },
    {
     "name": "stderr",
     "output_type": "stream",
     "text": [
      " 62%|██████▏   | 74707/120975 [01:27<01:19, 583.31it/s]"
     ]
    },
    {
     "name": "stdout",
     "output_type": "stream",
     "text": [
      "524517.jpg\n",
      "524593.jpg\n",
      "524617.jpg\n",
      "524668.jpg\n",
      "52476.jpg\n",
      "524800.jpg\n",
      "524820.jpg\n",
      "524881.jpg\n",
      "524892.jpg\n",
      "525082.jpg\n",
      "52517.jpg\n",
      "52527.jpg\n",
      "525332.jpg\n",
      "525442.jpg\n",
      "52554.jpg\n",
      "525599.jpg\n"
     ]
    },
    {
     "name": "stderr",
     "output_type": "stream",
     "text": [
      " 62%|██████▏   | 74825/120975 [01:27<01:19, 582.35it/s]"
     ]
    },
    {
     "name": "stdout",
     "output_type": "stream",
     "text": [
      "525739.jpg\n",
      "52594.jpg\n",
      "526109.jpg\n",
      "52624.jpg\n",
      "52634.jpg\n",
      "526380.jpg\n",
      "526400.jpg\n",
      "52644.jpg\n",
      "526461.jpg\n",
      "526524.jpg\n"
     ]
    },
    {
     "name": "stderr",
     "output_type": "stream",
     "text": [
      " 62%|██████▏   | 75009/120975 [01:27<01:18, 587.59it/s]"
     ]
    },
    {
     "name": "stdout",
     "output_type": "stream",
     "text": [
      "52698.jpg\n",
      "52712.jpg\n",
      "527123.jpg\n",
      "527133.jpg\n",
      "52748.jpg\n",
      "527692.jpg\n",
      "52782.jpg\n",
      "52802.jpg\n"
     ]
    },
    {
     "name": "stderr",
     "output_type": "stream",
     "text": [
      " 62%|██████▏   | 75125/120975 [01:27<01:24, 542.25it/s]"
     ]
    },
    {
     "name": "stdout",
     "output_type": "stream",
     "text": [
      "528273.jpg\n",
      "52849.jpg\n",
      "52860.jpg\n",
      "52870.jpg\n",
      "528885.jpg\n",
      "528945.jpg\n",
      "528965.jpg\n",
      "52902.jpg\n",
      "52912.jpg\n"
     ]
    },
    {
     "name": "stderr",
     "output_type": "stream",
     "text": [
      " 62%|██████▏   | 75244/120975 [01:27<01:21, 564.25it/s]"
     ]
    },
    {
     "name": "stdout",
     "output_type": "stream",
     "text": [
      "52922.jpg\n",
      "52933.jpg\n",
      "52943.jpg\n",
      "52953.jpg\n",
      "529552.jpg\n",
      "52964.jpg\n",
      "52974.jpg\n",
      "529969.jpg\n"
     ]
    },
    {
     "name": "stderr",
     "output_type": "stream",
     "text": [
      " 62%|██████▏   | 75375/120975 [01:28<01:14, 609.93it/s]"
     ]
    },
    {
     "name": "stdout",
     "output_type": "stream",
     "text": [
      "530400.jpg\n",
      "530624.jpg\n",
      "53069.jpg\n",
      "530694.jpg\n",
      "530714.jpg\n",
      "53079.jpg\n",
      "530794.jpg\n",
      "531060.jpg\n",
      "531130.jpg\n"
     ]
    },
    {
     "name": "stderr",
     "output_type": "stream",
     "text": [
      " 62%|██████▏   | 75510/120975 [01:28<01:11, 638.84it/s]"
     ]
    },
    {
     "name": "stdout",
     "output_type": "stream",
     "text": [
      "53152.jpg\n",
      "53254.jpg\n",
      "53264.jpg\n",
      "53275.jpg\n"
     ]
    },
    {
     "name": "stderr",
     "output_type": "stream",
     "text": [
      " 63%|██████▎   | 75642/120975 [01:28<01:11, 629.78it/s]"
     ]
    },
    {
     "name": "stdout",
     "output_type": "stream",
     "text": [
      "53285.jpg\n",
      "53296.jpg\n",
      "53306.jpg\n",
      "533151.jpg\n",
      "533161.jpg\n",
      "53317.jpg\n",
      "533171.jpg\n",
      "533181.jpg\n",
      "533191.jpg\n",
      "533211.jpg\n",
      "533221.jpg\n",
      "533251.jpg\n",
      "533261.jpg\n",
      "53327.jpg\n",
      "533271.jpg\n",
      "533281.jpg\n",
      "533291.jpg\n",
      "533301.jpg\n",
      "533873.jpg\n",
      "533883.jpg\n",
      "533893.jpg\n",
      "533903.jpg\n",
      "533913.jpg\n",
      "533923.jpg\n",
      "533933.jpg\n",
      "533943.jpg\n",
      "533953.jpg\n",
      "533963.jpg\n",
      "533973.jpg\n",
      "533983.jpg\n",
      "533993.jpg\n",
      "534003.jpg\n",
      "534013.jpg\n"
     ]
    },
    {
     "name": "stderr",
     "output_type": "stream",
     "text": [
      " 63%|██████▎   | 75706/120975 [01:28<01:17, 580.71it/s]"
     ]
    },
    {
     "name": "stdout",
     "output_type": "stream",
     "text": [
      "534023.jpg\n",
      "534033.jpg\n",
      "534043.jpg\n",
      "534053.jpg\n",
      "534063.jpg\n",
      "534073.jpg\n",
      "534083.jpg\n",
      "534093.jpg\n",
      "534103.jpg\n",
      "534113.jpg\n",
      "534123.jpg\n",
      "534133.jpg\n",
      "534143.jpg\n",
      "534153.jpg\n",
      "534163.jpg\n",
      "534173.jpg\n",
      "534192.jpg\n",
      "534202.jpg\n",
      "534212.jpg\n",
      "534222.jpg\n",
      "534232.jpg\n",
      "534242.jpg\n",
      "534252.jpg\n",
      "534262.jpg\n",
      "534272.jpg\n",
      "534282.jpg\n",
      "534292.jpg\n",
      "534302.jpg\n",
      "534312.jpg\n",
      "53432.jpg\n",
      "534322.jpg\n",
      "534332.jpg\n",
      "534342.jpg\n",
      "534354.jpg\n",
      "534364.jpg\n",
      "534374.jpg\n",
      "534384.jpg\n",
      "534394.jpg\n",
      "534405.jpg\n",
      "534415.jpg\n",
      "534425.jpg\n",
      "53443.jpg\n",
      "534435.jpg\n",
      "534445.jpg\n",
      "534455.jpg\n",
      "534465.jpg\n",
      "534475.jpg\n",
      "534485.jpg\n",
      "534495.jpg\n",
      "534505.jpg\n",
      "534515.jpg\n",
      "534525.jpg\n",
      "534535.jpg\n",
      "534547.jpg\n",
      "534557.jpg\n",
      "534567.jpg\n",
      "534577.jpg\n",
      "534587.jpg\n",
      "534597.jpg\n",
      "534607.jpg\n",
      "534617.jpg\n",
      "534647.jpg\n",
      "534657.jpg\n",
      "534667.jpg\n",
      "534717.jpg\n",
      "534728.jpg\n",
      "534738.jpg\n",
      "534788.jpg\n",
      "534798.jpg\n",
      "534808.jpg\n",
      "534818.jpg\n",
      "534828.jpg\n",
      "534838.jpg\n",
      "534848.jpg\n",
      "534858.jpg\n",
      "534868.jpg\n",
      "534878.jpg\n",
      "534888.jpg\n",
      "534898.jpg\n",
      "534908.jpg\n",
      "534918.jpg\n",
      "534928.jpg\n",
      "534938.jpg\n",
      "534948.jpg\n"
     ]
    },
    {
     "name": "stderr",
     "output_type": "stream",
     "text": [
      " 63%|██████▎   | 75894/120975 [01:29<01:13, 611.94it/s]"
     ]
    },
    {
     "name": "stdout",
     "output_type": "stream",
     "text": [
      "53551.jpg\n",
      "53562.jpg\n",
      "536375.jpg\n"
     ]
    },
    {
     "name": "stderr",
     "output_type": "stream",
     "text": [
      " 63%|██████▎   | 76088/120975 [01:29<01:11, 629.95it/s]"
     ]
    },
    {
     "name": "stdout",
     "output_type": "stream",
     "text": [
      "536913.jpg\n",
      "537130.jpg\n",
      "537141.jpg\n",
      "537153.jpg\n",
      "537186.jpg\n",
      "537206.jpg\n",
      "537337.jpg\n",
      "537398.jpg\n",
      "53765.jpg\n",
      "53775.jpg\n",
      "537940.jpg\n"
     ]
    },
    {
     "name": "stderr",
     "output_type": "stream",
     "text": [
      " 63%|██████▎   | 76219/120975 [01:29<01:10, 637.15it/s]"
     ]
    },
    {
     "name": "stdout",
     "output_type": "stream",
     "text": [
      "538432.jpg\n",
      "538442.jpg\n",
      "538452.jpg\n",
      "538521.jpg\n",
      "538531.jpg\n",
      "538636.jpg\n",
      "53932.jpg\n",
      "53942.jpg\n",
      "539578.jpg\n",
      "539628.jpg\n"
     ]
    },
    {
     "name": "stderr",
     "output_type": "stream",
     "text": [
      " 63%|██████▎   | 76346/120975 [01:29<01:12, 613.86it/s]"
     ]
    },
    {
     "name": "stdout",
     "output_type": "stream",
     "text": [
      "539688.jpg\n",
      "539708.jpg\n",
      "539856.jpg\n",
      "540559.jpg\n",
      "540580.jpg\n",
      "540745.jpg\n",
      "540755.jpg\n",
      "540765.jpg\n",
      "540795.jpg\n"
     ]
    },
    {
     "name": "stderr",
     "output_type": "stream",
     "text": [
      " 63%|██████▎   | 76411/120975 [01:29<01:11, 623.84it/s]"
     ]
    },
    {
     "name": "stdout",
     "output_type": "stream",
     "text": [
      "540826.jpg\n",
      "540846.jpg\n",
      "54134.jpg\n",
      "541367.jpg\n",
      "541427.jpg\n",
      "541547.jpg\n",
      "541577.jpg\n",
      "541587.jpg\n",
      "541597.jpg\n"
     ]
    },
    {
     "name": "stderr",
     "output_type": "stream",
     "text": [
      " 63%|██████▎   | 76535/120975 [01:30<01:15, 588.04it/s]"
     ]
    },
    {
     "name": "stdout",
     "output_type": "stream",
     "text": [
      "542272.jpg\n",
      "542282.jpg\n",
      "542363.jpg\n",
      "54246.jpg\n",
      "54256.jpg\n",
      "54326.jpg\n",
      "543734.jpg\n",
      "543764.jpg\n",
      "543994.jpg\n",
      "544004.jpg\n",
      "544014.jpg\n"
     ]
    },
    {
     "name": "stderr",
     "output_type": "stream",
     "text": [
      " 63%|██████▎   | 76654/120975 [01:30<01:16, 576.71it/s]"
     ]
    },
    {
     "name": "stdout",
     "output_type": "stream",
     "text": [
      "544124.jpg\n",
      "544144.jpg\n",
      "544187.jpg\n",
      "544227.jpg\n",
      "544347.jpg\n",
      "544357.jpg\n",
      "544377.jpg\n",
      "544701.jpg\n",
      "544711.jpg\n",
      "544732.jpg\n",
      "544874.jpg\n",
      "544924.jpg\n",
      "544934.jpg\n",
      "544945.jpg\n",
      "544956.jpg\n",
      "544966.jpg\n",
      "544986.jpg\n",
      "544996.jpg\n",
      "545006.jpg\n",
      "545038.jpg\n",
      "545048.jpg\n"
     ]
    },
    {
     "name": "stderr",
     "output_type": "stream",
     "text": [
      " 64%|██████▎   | 76895/120975 [01:30<01:16, 579.30it/s]"
     ]
    },
    {
     "name": "stdout",
     "output_type": "stream",
     "text": [
      "545935.jpg\n",
      "546461.jpg\n",
      "54699.jpg\n",
      "54709.jpg\n"
     ]
    },
    {
     "name": "stderr",
     "output_type": "stream",
     "text": [
      " 64%|██████▎   | 77014/120975 [01:30<01:17, 568.30it/s]"
     ]
    },
    {
     "name": "stdout",
     "output_type": "stream",
     "text": [
      "54730.jpg\n",
      "547591.jpg\n",
      "547681.jpg\n",
      "548.jpg\n"
     ]
    },
    {
     "name": "stderr",
     "output_type": "stream",
     "text": [
      " 64%|██████▍   | 77127/120975 [01:31<01:21, 536.56it/s]"
     ]
    },
    {
     "name": "stdout",
     "output_type": "stream",
     "text": [
      "54845.jpg\n",
      "548612.jpg\n",
      "548622.jpg\n",
      "548632.jpg\n",
      "548652.jpg\n",
      "548827.jpg\n",
      "548857.jpg\n",
      "548867.jpg\n",
      "549080.jpg\n",
      "550040.jpg\n",
      "550090.jpg\n",
      "550120.jpg\n",
      "550130.jpg\n",
      "550140.jpg\n"
     ]
    },
    {
     "name": "stderr",
     "output_type": "stream",
     "text": [
      " 64%|██████▍   | 77250/120975 [01:31<01:15, 578.23it/s]"
     ]
    },
    {
     "name": "stdout",
     "output_type": "stream",
     "text": [
      "550150.jpg\n",
      "550160.jpg\n",
      "550170.jpg\n",
      "550190.jpg\n",
      "550200.jpg\n",
      "550220.jpg\n",
      "550230.jpg\n",
      "550611.jpg\n",
      "550621.jpg\n",
      "55085.jpg\n"
     ]
    },
    {
     "name": "stderr",
     "output_type": "stream",
     "text": [
      " 64%|██████▍   | 77369/120975 [01:31<01:16, 568.51it/s]"
     ]
    },
    {
     "name": "stdout",
     "output_type": "stream",
     "text": [
      "551837.jpg\n",
      "551847.jpg\n",
      "551877.jpg\n",
      "551887.jpg\n",
      "551917.jpg\n",
      "551927.jpg\n",
      "551947.jpg\n",
      "551957.jpg\n",
      "552037.jpg\n",
      "552047.jpg\n"
     ]
    },
    {
     "name": "stderr",
     "output_type": "stream",
     "text": [
      " 64%|██████▍   | 77561/120975 [01:31<01:10, 613.58it/s]"
     ]
    },
    {
     "name": "stdout",
     "output_type": "stream",
     "text": [
      "553219.jpg\n",
      "553579.jpg\n",
      "553661.jpg\n",
      "553671.jpg\n",
      "55434.jpg\n"
     ]
    },
    {
     "name": "stderr",
     "output_type": "stream",
     "text": [
      " 64%|██████▍   | 77690/120975 [01:32<01:11, 607.47it/s]"
     ]
    },
    {
     "name": "stdout",
     "output_type": "stream",
     "text": [
      "55460.jpg\n",
      "55483.jpg\n",
      "55520.jpg\n",
      "55626.jpg\n",
      "55722.jpg\n",
      "557796.jpg\n"
     ]
    },
    {
     "name": "stderr",
     "output_type": "stream",
     "text": [
      " 64%|██████▍   | 77815/120975 [01:32<01:11, 607.26it/s]"
     ]
    },
    {
     "name": "stdout",
     "output_type": "stream",
     "text": [
      "558560.jpg\n",
      "559042.jpg\n",
      "55928.jpg\n",
      "55966.jpg\n",
      "560266.jpg\n",
      "560281.jpg\n",
      "560294.jpg\n",
      "560305.jpg\n",
      "560328.jpg\n",
      "560348.jpg\n",
      "560488.jpg\n",
      "560499.jpg\n"
     ]
    },
    {
     "name": "stderr",
     "output_type": "stream",
     "text": [
      " 64%|██████▍   | 77937/120975 [01:32<01:11, 598.62it/s]"
     ]
    },
    {
     "name": "stdout",
     "output_type": "stream",
     "text": [
      "560651.jpg\n",
      "560671.jpg\n",
      "560701.jpg\n",
      "560830.jpg\n",
      "561550.jpg\n",
      "56159.jpg\n",
      "562128.jpg\n"
     ]
    },
    {
     "name": "stderr",
     "output_type": "stream",
     "text": [
      " 65%|██████▍   | 78061/120975 [01:32<01:11, 603.83it/s]"
     ]
    },
    {
     "name": "stdout",
     "output_type": "stream",
     "text": [
      "562153.jpg\n",
      "562167.jpg\n",
      "564102.jpg\n",
      "564112.jpg\n",
      "564122.jpg\n",
      "564132.jpg\n",
      "564142.jpg\n",
      "564336.jpg\n",
      "564436.jpg\n",
      "564486.jpg\n",
      "564556.jpg\n"
     ]
    },
    {
     "name": "stderr",
     "output_type": "stream",
     "text": [
      " 65%|██████▍   | 78241/120975 [01:33<01:19, 539.18it/s]"
     ]
    },
    {
     "name": "stdout",
     "output_type": "stream",
     "text": [
      "565704.jpg\n",
      "565714.jpg\n",
      "565734.jpg\n",
      "565964.jpg\n",
      "565974.jpg\n",
      "565984.jpg\n",
      "565994.jpg\n",
      "566024.jpg\n",
      "566034.jpg\n",
      "566044.jpg\n",
      "566055.jpg\n",
      "566065.jpg\n",
      "566075.jpg\n",
      "566085.jpg\n",
      "566095.jpg\n",
      "566105.jpg\n",
      "566115.jpg\n",
      "566125.jpg\n",
      "566135.jpg\n",
      "566145.jpg\n",
      "566175.jpg\n",
      "566185.jpg\n",
      "566195.jpg\n",
      "566205.jpg\n",
      "566215.jpg\n",
      "566225.jpg\n",
      "566235.jpg\n",
      "566245.jpg\n",
      "566365.jpg\n",
      "566376.jpg\n",
      "566386.jpg\n",
      "566396.jpg\n",
      "566406.jpg\n",
      "566416.jpg\n",
      "566426.jpg\n",
      "566436.jpg\n",
      "566446.jpg\n",
      "566456.jpg\n",
      "566466.jpg\n",
      "566476.jpg\n",
      "566486.jpg\n",
      "566496.jpg\n",
      "566516.jpg\n",
      "566556.jpg\n"
     ]
    },
    {
     "name": "stderr",
     "output_type": "stream",
     "text": [
      " 65%|██████▍   | 78354/120975 [01:33<01:18, 540.42it/s]"
     ]
    },
    {
     "name": "stdout",
     "output_type": "stream",
     "text": [
      "566566.jpg\n",
      "566576.jpg\n",
      "566586.jpg\n",
      "566596.jpg\n",
      "566616.jpg\n",
      "566626.jpg\n",
      "566636.jpg\n",
      "566646.jpg\n",
      "566656.jpg\n",
      "566666.jpg\n",
      "566676.jpg\n",
      "566686.jpg\n",
      "566696.jpg\n",
      "566706.jpg\n",
      "566716.jpg\n",
      "566726.jpg\n",
      "566736.jpg\n",
      "566746.jpg\n",
      "566756.jpg\n",
      "566766.jpg\n",
      "566776.jpg\n",
      "566786.jpg\n",
      "566796.jpg\n",
      "566806.jpg\n",
      "566816.jpg\n",
      "566826.jpg\n",
      "567.jpg\n",
      "567096.jpg\n",
      "56710.jpg\n",
      "567546.jpg\n",
      "567636.jpg\n"
     ]
    },
    {
     "name": "stderr",
     "output_type": "stream",
     "text": [
      " 65%|██████▍   | 78477/120975 [01:33<01:15, 561.54it/s]"
     ]
    },
    {
     "name": "stdout",
     "output_type": "stream",
     "text": [
      "567676.jpg\n",
      "567746.jpg\n",
      "567896.jpg\n",
      "568116.jpg\n",
      "568126.jpg\n",
      "568709.jpg\n",
      "568729.jpg\n",
      "568739.jpg\n",
      "568749.jpg\n"
     ]
    },
    {
     "name": "stderr",
     "output_type": "stream",
     "text": [
      " 65%|██████▍   | 78591/120975 [01:33<01:16, 555.95it/s]"
     ]
    },
    {
     "name": "stdout",
     "output_type": "stream",
     "text": [
      "568759.jpg\n",
      "568769.jpg\n",
      "568779.jpg\n",
      "568789.jpg\n",
      "568799.jpg\n",
      "568829.jpg\n",
      "568859.jpg\n",
      "568869.jpg\n",
      "568899.jpg\n",
      "568909.jpg\n",
      "569089.jpg\n",
      "569099.jpg\n",
      "569109.jpg\n",
      "569119.jpg\n"
     ]
    },
    {
     "name": "stderr",
     "output_type": "stream",
     "text": [
      " 65%|██████▌   | 78716/120975 [01:33<01:16, 552.69it/s]"
     ]
    },
    {
     "name": "stdout",
     "output_type": "stream",
     "text": [
      "569949.jpg\n",
      "569959.jpg\n",
      "570290.jpg\n",
      "57040.jpg\n"
     ]
    },
    {
     "name": "stderr",
     "output_type": "stream",
     "text": [
      " 65%|██████▌   | 79000/120975 [01:34<01:17, 540.71it/s]"
     ]
    },
    {
     "name": "stdout",
     "output_type": "stream",
     "text": [
      "572475.jpg\n",
      "572485.jpg\n",
      "572495.jpg\n",
      "572535.jpg\n",
      "572545.jpg\n",
      "572555.jpg\n",
      "572565.jpg\n",
      "572575.jpg\n",
      "572585.jpg\n",
      "572645.jpg\n",
      "572665.jpg\n",
      "572675.jpg\n",
      "572685.jpg\n",
      "572695.jpg\n",
      "572705.jpg\n",
      "572735.jpg\n",
      "572745.jpg\n",
      "572755.jpg\n",
      "572765.jpg\n",
      "572825.jpg\n",
      "572835.jpg\n",
      "572955.jpg\n",
      "573165.jpg\n",
      "573175.jpg\n",
      "573185.jpg\n",
      "573195.jpg\n",
      "573205.jpg\n",
      "573215.jpg\n",
      "573225.jpg\n",
      "573235.jpg\n",
      "573245.jpg\n",
      "573255.jpg\n",
      "573265.jpg\n",
      "573275.jpg\n",
      "573285.jpg\n",
      "573295.jpg\n",
      "573305.jpg\n",
      "573315.jpg\n",
      "573325.jpg\n",
      "573335.jpg\n",
      "573345.jpg\n",
      "573355.jpg\n",
      "573365.jpg\n",
      "573395.jpg\n",
      "573405.jpg\n",
      "573415.jpg\n"
     ]
    },
    {
     "name": "stderr",
     "output_type": "stream",
     "text": [
      " 65%|██████▌   | 79114/120975 [01:34<01:17, 537.55it/s]"
     ]
    },
    {
     "name": "stdout",
     "output_type": "stream",
     "text": [
      "573575.jpg\n",
      "573585.jpg\n",
      "573595.jpg\n",
      "573625.jpg\n",
      "573635.jpg\n",
      "573655.jpg\n",
      "573785.jpg\n",
      "573805.jpg\n",
      "573835.jpg\n",
      "573865.jpg\n",
      "573875.jpg\n",
      "573885.jpg\n",
      "573895.jpg\n",
      "573905.jpg\n",
      "573915.jpg\n",
      "573925.jpg\n",
      "573935.jpg\n",
      "573945.jpg\n",
      "573955.jpg\n",
      "573965.jpg\n",
      "573975.jpg\n",
      "573985.jpg\n",
      "574355.jpg\n",
      "574375.jpg\n",
      "574435.jpg\n"
     ]
    },
    {
     "name": "stderr",
     "output_type": "stream",
     "text": [
      " 65%|██████▌   | 79228/120975 [01:34<01:15, 549.52it/s]"
     ]
    },
    {
     "name": "stdout",
     "output_type": "stream",
     "text": [
      "574565.jpg\n",
      "574575.jpg\n",
      "574585.jpg\n",
      "574595.jpg\n",
      "574635.jpg\n",
      "574645.jpg\n",
      "574655.jpg\n",
      "574665.jpg\n",
      "574675.jpg\n",
      "574685.jpg\n",
      "574695.jpg\n",
      "574715.jpg\n",
      "574735.jpg\n",
      "574745.jpg\n",
      "574755.jpg\n",
      "574775.jpg\n",
      "574785.jpg\n",
      "574795.jpg\n",
      "574925.jpg\n",
      "574935.jpg\n",
      "574945.jpg\n",
      "574955.jpg\n",
      "574965.jpg\n",
      "574975.jpg\n",
      "575025.jpg\n",
      "575035.jpg\n",
      "575045.jpg\n",
      "575055.jpg\n",
      "575205.jpg\n",
      "575215.jpg\n",
      "575225.jpg\n",
      "575235.jpg\n",
      "575245.jpg\n",
      "575355.jpg\n",
      "575365.jpg\n",
      "575375.jpg\n",
      "575385.jpg\n",
      "575395.jpg\n",
      "575405.jpg\n",
      "575415.jpg\n",
      "575425.jpg\n",
      "575435.jpg\n",
      "575445.jpg\n",
      "575455.jpg\n",
      "575465.jpg\n",
      "575475.jpg\n",
      "575485.jpg\n",
      "575505.jpg\n",
      "575515.jpg\n",
      "575525.jpg\n",
      "575585.jpg\n",
      "575605.jpg\n"
     ]
    },
    {
     "name": "stderr",
     "output_type": "stream",
     "text": [
      " 66%|██████▌   | 79337/120975 [01:35<01:22, 506.12it/s]"
     ]
    },
    {
     "name": "stdout",
     "output_type": "stream",
     "text": [
      "575615.jpg\n",
      "575625.jpg\n",
      "575655.jpg\n",
      "575665.jpg\n",
      "575675.jpg\n",
      "575685.jpg\n",
      "575695.jpg\n",
      "575705.jpg\n",
      "575715.jpg\n",
      "575735.jpg\n",
      "575745.jpg\n",
      "575755.jpg\n",
      "575765.jpg\n",
      "575775.jpg\n",
      "575855.jpg\n",
      "575865.jpg\n",
      "575875.jpg\n",
      "575885.jpg\n",
      "575895.jpg\n",
      "575905.jpg\n",
      "575915.jpg\n",
      "575925.jpg\n",
      "575935.jpg\n",
      "575945.jpg\n",
      "575955.jpg\n",
      "575965.jpg\n",
      "575975.jpg\n",
      "576015.jpg\n",
      "576025.jpg\n",
      "576165.jpg\n",
      "576175.jpg\n",
      "576185.jpg\n",
      "576195.jpg\n",
      "576205.jpg\n",
      "576215.jpg\n",
      "576225.jpg\n",
      "576235.jpg\n",
      "576245.jpg\n",
      "576255.jpg\n",
      "576265.jpg\n",
      "576275.jpg\n",
      "576285.jpg\n",
      "576295.jpg\n",
      "576305.jpg\n",
      "576335.jpg\n",
      "576345.jpg\n",
      "576355.jpg\n"
     ]
    },
    {
     "name": "stderr",
     "output_type": "stream",
     "text": [
      " 66%|██████▌   | 79388/120975 [01:35<01:23, 498.87it/s]"
     ]
    },
    {
     "name": "stdout",
     "output_type": "stream",
     "text": [
      "576365.jpg\n",
      "576375.jpg\n",
      "576385.jpg\n",
      "576425.jpg\n",
      "576445.jpg\n",
      "576455.jpg\n",
      "576465.jpg\n",
      "576475.jpg\n",
      "576485.jpg\n",
      "576495.jpg\n",
      "576505.jpg\n",
      "576515.jpg\n",
      "576525.jpg\n",
      "576535.jpg\n",
      "576545.jpg\n",
      "576555.jpg\n",
      "576565.jpg\n",
      "576575.jpg\n",
      "576585.jpg\n",
      "576595.jpg\n",
      "576605.jpg\n",
      "576615.jpg\n",
      "576645.jpg\n",
      "576655.jpg\n",
      "576665.jpg\n",
      "576675.jpg\n",
      "576685.jpg\n",
      "576695.jpg\n",
      "576735.jpg\n",
      "576755.jpg\n",
      "576815.jpg\n",
      "576825.jpg\n",
      "576835.jpg\n",
      "576975.jpg\n",
      "577135.jpg\n",
      "577145.jpg\n",
      "577155.jpg\n",
      "577165.jpg\n",
      "577175.jpg\n",
      "577185.jpg\n",
      "577195.jpg\n",
      "577205.jpg\n",
      "577215.jpg\n",
      "577225.jpg\n",
      "577266.jpg\n",
      "577276.jpg\n",
      "577286.jpg\n"
     ]
    },
    {
     "name": "stderr",
     "output_type": "stream",
     "text": [
      " 66%|██████▌   | 79557/120975 [01:35<01:17, 536.28it/s]"
     ]
    },
    {
     "name": "stdout",
     "output_type": "stream",
     "text": [
      "577326.jpg\n",
      "577336.jpg\n",
      "577346.jpg\n",
      "577376.jpg\n",
      "577386.jpg\n",
      "577396.jpg\n",
      "577406.jpg\n",
      "577416.jpg\n",
      "577426.jpg\n",
      "577436.jpg\n",
      "577446.jpg\n",
      "577456.jpg\n",
      "577526.jpg\n",
      "577536.jpg\n",
      "577546.jpg\n",
      "577556.jpg\n",
      "577566.jpg\n",
      "577586.jpg\n",
      "577596.jpg\n",
      "577606.jpg\n",
      "577616.jpg\n",
      "577636.jpg\n",
      "577646.jpg\n",
      "577656.jpg\n",
      "577676.jpg\n",
      "577696.jpg\n",
      "577706.jpg\n",
      "577716.jpg\n",
      "577726.jpg\n",
      "577736.jpg\n",
      "577746.jpg\n",
      "577756.jpg\n",
      "577786.jpg\n",
      "577836.jpg\n",
      "577857.jpg\n",
      "577867.jpg\n",
      "578037.jpg\n",
      "578047.jpg\n",
      "578167.jpg\n",
      "578177.jpg\n",
      "578187.jpg\n",
      "578197.jpg\n",
      "578207.jpg\n",
      "578217.jpg\n"
     ]
    },
    {
     "name": "stderr",
     "output_type": "stream",
     "text": [
      " 66%|██████▌   | 79622/120975 [01:35<01:13, 566.24it/s]"
     ]
    },
    {
     "name": "stdout",
     "output_type": "stream",
     "text": [
      "57845.jpg\n",
      "578507.jpg\n",
      "57855.jpg\n",
      "57915.jpg\n",
      "579450.jpg\n"
     ]
    },
    {
     "name": "stderr",
     "output_type": "stream",
     "text": [
      " 66%|██████▌   | 79798/120975 [01:35<01:12, 565.93it/s]"
     ]
    },
    {
     "name": "stdout",
     "output_type": "stream",
     "text": [
      "579711.jpg\n",
      "580146.jpg\n",
      "580156.jpg\n",
      "580206.jpg\n",
      "580668.jpg\n"
     ]
    },
    {
     "name": "stderr",
     "output_type": "stream",
     "text": [
      " 66%|██████▌   | 79911/120975 [01:36<01:14, 551.99it/s]"
     ]
    },
    {
     "name": "stdout",
     "output_type": "stream",
     "text": [
      "580868.jpg\n",
      "580878.jpg\n",
      "580980.jpg\n",
      "580990.jpg\n",
      "581050.jpg\n",
      "581320.jpg\n",
      "581430.jpg\n",
      "581610.jpg\n",
      "581620.jpg\n"
     ]
    },
    {
     "name": "stderr",
     "output_type": "stream",
     "text": [
      " 66%|██████▌   | 80022/120975 [01:36<01:15, 541.86it/s]"
     ]
    },
    {
     "name": "stdout",
     "output_type": "stream",
     "text": [
      "581890.jpg\n",
      "582014.jpg\n",
      "582024.jpg\n",
      "5826.jpg\n",
      "582604.jpg\n"
     ]
    },
    {
     "name": "stderr",
     "output_type": "stream",
     "text": [
      " 66%|██████▌   | 80127/120975 [01:36<01:23, 490.01it/s]"
     ]
    },
    {
     "name": "stdout",
     "output_type": "stream",
     "text": [
      "582965.jpg\n",
      "583226.jpg\n",
      "583236.jpg\n",
      "583346.jpg\n"
     ]
    },
    {
     "name": "stderr",
     "output_type": "stream",
     "text": [
      " 66%|██████▋   | 80292/120975 [01:36<01:17, 526.64it/s]"
     ]
    },
    {
     "name": "stdout",
     "output_type": "stream",
     "text": [
      "584059.jpg\n",
      "585081.jpg\n",
      "585091.jpg\n"
     ]
    },
    {
     "name": "stderr",
     "output_type": "stream",
     "text": [
      " 66%|██████▋   | 80346/120975 [01:36<01:19, 509.83it/s]"
     ]
    },
    {
     "name": "stdout",
     "output_type": "stream",
     "text": [
      "585121.jpg\n",
      "585131.jpg\n",
      "585251.jpg\n",
      "58558.jpg\n",
      "58573.jpg\n",
      "58583.jpg\n"
     ]
    },
    {
     "name": "stderr",
     "output_type": "stream",
     "text": [
      " 67%|██████▋   | 80506/120975 [01:37<01:25, 474.98it/s]"
     ]
    },
    {
     "name": "stdout",
     "output_type": "stream",
     "text": [
      "58635.jpg\n",
      "58655.jpg\n",
      "58680.jpg\n",
      "58705.jpg\n"
     ]
    },
    {
     "name": "stderr",
     "output_type": "stream",
     "text": [
      " 67%|██████▋   | 80610/120975 [01:37<01:21, 492.57it/s]"
     ]
    },
    {
     "name": "stdout",
     "output_type": "stream",
     "text": [
      "58722.jpg\n",
      "587273.jpg\n",
      "58739.jpg\n",
      "58759.jpg\n",
      "58775.jpg\n",
      "58785.jpg\n",
      "58804.jpg\n",
      "58832.jpg\n"
     ]
    },
    {
     "name": "stderr",
     "output_type": "stream",
     "text": [
      " 67%|██████▋   | 80718/120975 [01:37<01:18, 509.74it/s]"
     ]
    },
    {
     "name": "stdout",
     "output_type": "stream",
     "text": [
      "58852.jpg\n",
      "58875.jpg\n",
      "58887.jpg\n",
      "588915.jpg\n",
      "58931.jpg\n",
      "589424.jpg\n",
      "589434.jpg\n",
      "589464.jpg\n",
      "589474.jpg\n",
      "589484.jpg\n",
      "58952.jpg\n",
      "589574.jpg\n"
     ]
    },
    {
     "name": "stderr",
     "output_type": "stream",
     "text": [
      " 67%|██████▋   | 80831/120975 [01:37<01:14, 536.70it/s]"
     ]
    },
    {
     "name": "stdout",
     "output_type": "stream",
     "text": [
      "589584.jpg\n",
      "589624.jpg\n",
      "589634.jpg\n",
      "58984.jpg\n",
      "59005.jpg\n",
      "59026.jpg\n",
      "590455.jpg\n",
      "590465.jpg\n",
      "590585.jpg\n",
      "590615.jpg\n",
      "590725.jpg\n",
      "590736.jpg\n"
     ]
    },
    {
     "name": "stderr",
     "output_type": "stream",
     "text": [
      " 67%|██████▋   | 80947/120975 [01:38<01:13, 544.23it/s]"
     ]
    },
    {
     "name": "stdout",
     "output_type": "stream",
     "text": [
      "59082.jpg\n",
      "591149.jpg\n",
      "591240.jpg\n",
      "591300.jpg\n",
      "591491.jpg\n",
      "59183.jpg\n",
      "592046.jpg\n",
      "59208.jpg\n"
     ]
    },
    {
     "name": "stderr",
     "output_type": "stream",
     "text": [
      " 67%|██████▋   | 81065/120975 [01:38<01:10, 564.94it/s]"
     ]
    },
    {
     "name": "stdout",
     "output_type": "stream",
     "text": [
      "59220.jpg\n",
      "59256.jpg\n",
      "59278.jpg\n",
      "59301.jpg\n",
      "593065.jpg\n",
      "593115.jpg\n",
      "593125.jpg\n",
      "593155.jpg\n",
      "593165.jpg\n",
      "593175.jpg\n",
      "59322.jpg\n",
      "593335.jpg\n",
      "593455.jpg\n",
      "593465.jpg\n",
      "593576.jpg\n",
      "593836.jpg\n",
      "593846.jpg\n"
     ]
    },
    {
     "name": "stderr",
     "output_type": "stream",
     "text": [
      " 67%|██████▋   | 81238/120975 [01:38<01:10, 565.81it/s]"
     ]
    },
    {
     "name": "stdout",
     "output_type": "stream",
     "text": [
      "59402.jpg\n",
      "59427.jpg\n",
      "59450.jpg\n",
      "594696.jpg\n",
      "59478.jpg\n",
      "59491.jpg\n"
     ]
    },
    {
     "name": "stderr",
     "output_type": "stream",
     "text": [
      " 67%|██████▋   | 81351/120975 [01:38<01:13, 537.53it/s]"
     ]
    },
    {
     "name": "stdout",
     "output_type": "stream",
     "text": [
      "595217.jpg\n",
      "59529.jpg\n",
      "595377.jpg\n",
      "595387.jpg\n",
      "595397.jpg\n",
      "59549.jpg\n",
      "595811.jpg\n",
      "59605.jpg\n",
      "596061.jpg\n",
      "596071.jpg\n",
      "596081.jpg\n"
     ]
    },
    {
     "name": "stderr",
     "output_type": "stream",
     "text": [
      " 67%|██████▋   | 81461/120975 [01:39<01:13, 536.03it/s]"
     ]
    },
    {
     "name": "stdout",
     "output_type": "stream",
     "text": [
      "596181.jpg\n",
      "596191.jpg\n",
      "59630.jpg\n",
      "596303.jpg\n",
      "59640.jpg\n",
      "596823.jpg\n",
      "596853.jpg\n",
      "596913.jpg\n",
      "596923.jpg\n",
      "596943.jpg\n",
      "59706.jpg\n",
      "597083.jpg\n",
      "597093.jpg\n",
      "597103.jpg\n",
      "597163.jpg\n"
     ]
    },
    {
     "name": "stderr",
     "output_type": "stream",
     "text": [
      " 67%|██████▋   | 81570/120975 [01:39<01:14, 525.84it/s]"
     ]
    },
    {
     "name": "stdout",
     "output_type": "stream",
     "text": [
      "597293.jpg\n",
      "59746.jpg\n",
      "59756.jpg\n",
      "597603.jpg\n",
      "597663.jpg\n",
      "597743.jpg\n",
      "597753.jpg\n",
      "59778.jpg\n",
      "59796.jpg\n",
      "598.jpg\n",
      "598043.jpg\n",
      "59806.jpg\n",
      "598166.jpg\n",
      "598176.jpg\n",
      "598196.jpg\n"
     ]
    },
    {
     "name": "stderr",
     "output_type": "stream",
     "text": [
      " 68%|██████▊   | 81681/120975 [01:39<01:13, 535.30it/s]"
     ]
    },
    {
     "name": "stdout",
     "output_type": "stream",
     "text": [
      "59850.jpg\n",
      "598571.jpg\n",
      "598602.jpg\n",
      "598612.jpg\n",
      "598672.jpg\n",
      "598722.jpg\n",
      "598732.jpg\n",
      "598742.jpg\n",
      "598752.jpg\n",
      "598812.jpg\n",
      "599002.jpg\n",
      "599032.jpg\n",
      "59975.jpg\n"
     ]
    },
    {
     "name": "stderr",
     "output_type": "stream",
     "text": [
      " 68%|██████▊   | 81794/120975 [01:39<01:12, 543.93it/s]"
     ]
    },
    {
     "name": "stdout",
     "output_type": "stream",
     "text": [
      "59985.jpg\n",
      "60048.jpg\n",
      "600599.jpg\n",
      "600619.jpg\n",
      "601090.jpg\n",
      "60121.jpg\n",
      "601210.jpg\n",
      "601260.jpg\n"
     ]
    },
    {
     "name": "stderr",
     "output_type": "stream",
     "text": [
      " 68%|██████▊   | 81964/120975 [01:39<01:10, 551.73it/s]"
     ]
    },
    {
     "name": "stdout",
     "output_type": "stream",
     "text": [
      "60145.jpg\n",
      "601520.jpg\n",
      "601600.jpg\n",
      "601610.jpg\n",
      "60168.jpg\n",
      "60179.jpg\n",
      "60193.jpg\n",
      "602254.jpg\n",
      "602387.jpg\n",
      "602407.jpg\n"
     ]
    },
    {
     "name": "stderr",
     "output_type": "stream",
     "text": [
      " 68%|██████▊   | 82075/120975 [01:40<01:12, 537.17it/s]"
     ]
    },
    {
     "name": "stdout",
     "output_type": "stream",
     "text": [
      "60277.jpg\n",
      "603250.jpg\n",
      "603260.jpg\n",
      "603291.jpg\n",
      "603391.jpg\n",
      "603402.jpg\n",
      "603442.jpg\n",
      "603452.jpg\n",
      "603493.jpg\n",
      "603533.jpg\n",
      "603543.jpg\n",
      "603553.jpg\n",
      "603613.jpg\n",
      "60368.jpg\n",
      "603714.jpg\n"
     ]
    },
    {
     "name": "stderr",
     "output_type": "stream",
     "text": [
      " 68%|██████▊   | 82192/120975 [01:40<01:09, 558.66it/s]"
     ]
    },
    {
     "name": "stdout",
     "output_type": "stream",
     "text": [
      "60393.jpg\n",
      "604177.jpg\n",
      "60418.jpg\n",
      "604187.jpg\n",
      "604197.jpg\n",
      "604227.jpg\n",
      "60441.jpg\n",
      "604501.jpg\n",
      "60473.jpg\n",
      "60493.jpg\n",
      "60503.jpg\n"
     ]
    },
    {
     "name": "stderr",
     "output_type": "stream",
     "text": [
      " 68%|██████▊   | 82302/120975 [01:40<01:14, 518.72it/s]"
     ]
    },
    {
     "name": "stdout",
     "output_type": "stream",
     "text": [
      "605079.jpg\n",
      "605089.jpg\n",
      "605109.jpg\n",
      "605119.jpg\n",
      "605169.jpg\n",
      "605179.jpg\n",
      "605209.jpg\n",
      "605219.jpg\n",
      "605229.jpg\n",
      "605239.jpg\n",
      "605249.jpg\n",
      "605259.jpg\n",
      "605269.jpg\n",
      "605279.jpg\n",
      "605289.jpg\n",
      "605299.jpg\n",
      "605309.jpg\n",
      "605319.jpg\n",
      "605329.jpg\n",
      "605349.jpg\n",
      "605359.jpg\n",
      "605379.jpg\n",
      "605389.jpg\n",
      "605399.jpg\n",
      "605409.jpg\n",
      "605419.jpg\n",
      "605429.jpg\n",
      "605439.jpg\n",
      "605449.jpg\n",
      "605459.jpg\n",
      "605469.jpg\n",
      "605479.jpg\n",
      "605489.jpg\n",
      "605509.jpg\n",
      "605519.jpg\n",
      "605529.jpg\n",
      "605549.jpg\n",
      "605659.jpg\n",
      "60571.jpg\n",
      "605829.jpg\n",
      "605909.jpg\n",
      "60598.jpg\n"
     ]
    },
    {
     "name": "stderr",
     "output_type": "stream",
     "text": [
      " 68%|██████▊   | 82421/120975 [01:40<01:09, 554.88it/s]"
     ]
    },
    {
     "name": "stdout",
     "output_type": "stream",
     "text": [
      "60621.jpg\n",
      "606392.jpg\n",
      "60647.jpg\n",
      "606565.jpg\n",
      "60674.jpg\n",
      "606795.jpg\n",
      "607022.jpg\n",
      "60716.jpg\n",
      "607206.jpg\n",
      "607309.jpg\n",
      "60744.jpg\n"
     ]
    },
    {
     "name": "stderr",
     "output_type": "stream",
     "text": [
      " 68%|██████▊   | 82593/120975 [01:41<01:08, 562.02it/s]"
     ]
    },
    {
     "name": "stdout",
     "output_type": "stream",
     "text": [
      "60774.jpg\n",
      "60819.jpg\n",
      "60829.jpg\n",
      "608361.jpg\n",
      "608371.jpg\n",
      "608381.jpg\n",
      "608391.jpg\n",
      "608401.jpg\n",
      "608411.jpg\n",
      "608421.jpg\n",
      "608431.jpg\n",
      "608441.jpg\n",
      "608483.jpg\n",
      "608504.jpg\n",
      "608514.jpg\n",
      "60873.jpg\n",
      "60893.jpg\n",
      "609.jpg\n",
      "60903.jpg\n",
      "609057.jpg\n",
      "609117.jpg\n"
     ]
    },
    {
     "name": "stderr",
     "output_type": "stream",
     "text": [
      " 68%|██████▊   | 82711/120975 [01:41<01:07, 569.90it/s]"
     ]
    },
    {
     "name": "stdout",
     "output_type": "stream",
     "text": [
      "609147.jpg\n",
      "60915.jpg\n",
      "609157.jpg\n",
      "60943.jpg\n",
      "609467.jpg\n",
      "609487.jpg\n",
      "609577.jpg\n",
      "609638.jpg\n",
      "60976.jpg\n",
      "609788.jpg\n",
      "609851.jpg\n",
      "609862.jpg\n",
      "60998.jpg\n",
      "610016.jpg\n",
      "61014.jpg\n",
      "610200.jpg\n",
      "61025.jpg\n",
      "610332.jpg\n"
     ]
    },
    {
     "name": "stderr",
     "output_type": "stream",
     "text": [
      " 68%|██████▊   | 82829/120975 [01:41<01:06, 574.89it/s]"
     ]
    },
    {
     "name": "stdout",
     "output_type": "stream",
     "text": [
      "610532.jpg\n",
      "610542.jpg\n",
      "610552.jpg\n",
      "610692.jpg\n",
      "61076.jpg\n",
      "610782.jpg\n",
      "61086.jpg\n",
      "610862.jpg\n",
      "611154.jpg\n",
      "61152.jpg\n"
     ]
    },
    {
     "name": "stderr",
     "output_type": "stream",
     "text": [
      " 69%|██████▊   | 82945/120975 [01:41<01:06, 570.30it/s]"
     ]
    },
    {
     "name": "stdout",
     "output_type": "stream",
     "text": [
      "61162.jpg\n",
      "611946.jpg\n",
      "61203.jpg\n",
      "61213.jpg\n",
      "612512.jpg\n",
      "61296.jpg\n"
     ]
    },
    {
     "name": "stderr",
     "output_type": "stream",
     "text": [
      " 69%|██████▊   | 83067/120975 [01:41<01:07, 560.16it/s]"
     ]
    },
    {
     "name": "stdout",
     "output_type": "stream",
     "text": [
      "613207.jpg\n",
      "61347.jpg\n",
      "613718.jpg\n",
      "613738.jpg\n",
      "613818.jpg\n",
      "613958.jpg\n",
      "613998.jpg\n"
     ]
    },
    {
     "name": "stderr",
     "output_type": "stream",
     "text": [
      " 69%|██████▉   | 83182/120975 [01:42<01:07, 561.29it/s]"
     ]
    },
    {
     "name": "stdout",
     "output_type": "stream",
     "text": [
      "61432.jpg\n",
      "614790.jpg\n",
      "614831.jpg\n",
      "614891.jpg\n",
      "614931.jpg\n",
      "614941.jpg\n",
      "615021.jpg\n",
      "615041.jpg\n",
      "615142.jpg\n",
      "615202.jpg\n",
      "615242.jpg\n",
      "615362.jpg\n"
     ]
    },
    {
     "name": "stderr",
     "output_type": "stream",
     "text": [
      " 69%|██████▉   | 83298/120975 [01:42<01:07, 561.96it/s]"
     ]
    },
    {
     "name": "stdout",
     "output_type": "stream",
     "text": [
      "615373.jpg\n",
      "615414.jpg\n",
      "615785.jpg\n",
      "615855.jpg\n",
      "615865.jpg\n",
      "616080.jpg\n",
      "616154.jpg\n",
      "616205.jpg\n",
      "616225.jpg\n",
      "616245.jpg\n",
      "616255.jpg\n",
      "616277.jpg\n",
      "616287.jpg\n",
      "616317.jpg\n",
      "616337.jpg\n",
      "616357.jpg\n"
     ]
    },
    {
     "name": "stderr",
     "output_type": "stream",
     "text": [
      " 69%|██████▉   | 83470/120975 [01:42<01:06, 562.41it/s]"
     ]
    },
    {
     "name": "stdout",
     "output_type": "stream",
     "text": [
      "616773.jpg\n",
      "616944.jpg\n"
     ]
    },
    {
     "name": "stderr",
     "output_type": "stream",
     "text": [
      " 69%|██████▉   | 83645/120975 [01:42<01:06, 558.50it/s]"
     ]
    },
    {
     "name": "stdout",
     "output_type": "stream",
     "text": [
      "61830.jpg\n",
      "618586.jpg\n",
      "618596.jpg\n",
      "61922.jpg\n"
     ]
    },
    {
     "name": "stderr",
     "output_type": "stream",
     "text": [
      " 69%|██████▉   | 83758/120975 [01:43<01:06, 557.01it/s]"
     ]
    },
    {
     "name": "stdout",
     "output_type": "stream",
     "text": [
      "619901.jpg\n",
      "619911.jpg\n",
      "619992.jpg\n",
      "620002.jpg\n",
      "620012.jpg\n",
      "620022.jpg\n",
      "620032.jpg\n",
      "620042.jpg\n",
      "620052.jpg\n",
      "620082.jpg\n",
      "620092.jpg\n",
      "620102.jpg\n",
      "620112.jpg\n",
      "620122.jpg\n",
      "620132.jpg\n",
      "620152.jpg\n",
      "620162.jpg\n",
      "620182.jpg\n",
      "620202.jpg\n",
      "620212.jpg\n",
      "620597.jpg\n",
      "620607.jpg\n",
      "620617.jpg\n",
      "620627.jpg\n",
      "620637.jpg\n",
      "620917.jpg\n",
      "620928.jpg\n",
      "621.jpg\n"
     ]
    },
    {
     "name": "stderr",
     "output_type": "stream",
     "text": [
      " 69%|██████▉   | 83877/120975 [01:43<01:04, 572.84it/s]"
     ]
    },
    {
     "name": "stdout",
     "output_type": "stream",
     "text": [
      "621136.jpg\n"
     ]
    },
    {
     "name": "stderr",
     "output_type": "stream",
     "text": [
      " 69%|██████▉   | 83994/120975 [01:43<01:05, 565.66it/s]"
     ]
    },
    {
     "name": "stdout",
     "output_type": "stream",
     "text": [
      "62233.jpg\n",
      "622884.jpg\n",
      "624352.jpg\n",
      "624362.jpg\n"
     ]
    },
    {
     "name": "stderr",
     "output_type": "stream",
     "text": [
      " 70%|██████▉   | 84113/120975 [01:43<01:06, 556.82it/s]"
     ]
    },
    {
     "name": "stdout",
     "output_type": "stream",
     "text": [
      "624475.jpg\n",
      "624485.jpg\n",
      "624508.jpg\n",
      "625515.jpg\n",
      "625650.jpg\n",
      "625673.jpg\n"
     ]
    },
    {
     "name": "stderr",
     "output_type": "stream",
     "text": [
      " 70%|██████▉   | 84278/120975 [01:44<01:09, 526.40it/s]"
     ]
    },
    {
     "name": "stdout",
     "output_type": "stream",
     "text": [
      "627373.jpg\n",
      "628793.jpg\n",
      "628813.jpg\n",
      "629782.jpg\n",
      "629953.jpg\n",
      "630159.jpg\n",
      "63024.jpg\n",
      "631.jpg\n",
      "63299.jpg\n",
      "633098.jpg\n",
      "633264.jpg\n"
     ]
    },
    {
     "name": "stderr",
     "output_type": "stream",
     "text": [
      " 70%|██████▉   | 84405/120975 [01:44<01:04, 569.23it/s]"
     ]
    },
    {
     "name": "stdout",
     "output_type": "stream",
     "text": [
      "633433.jpg\n"
     ]
    },
    {
     "name": "stderr",
     "output_type": "stream",
     "text": [
      " 70%|██████▉   | 84642/120975 [01:44<01:05, 557.98it/s]"
     ]
    },
    {
     "name": "stdout",
     "output_type": "stream",
     "text": [
      "642506.jpg\n",
      "64283.jpg\n",
      "64340.jpg\n",
      "64447.jpg\n",
      "64458.jpg\n",
      "644802.jpg\n"
     ]
    },
    {
     "name": "stderr",
     "output_type": "stream",
     "text": [
      " 70%|███████   | 84755/120975 [01:44<01:08, 528.51it/s]"
     ]
    },
    {
     "name": "stdout",
     "output_type": "stream",
     "text": [
      "646045.jpg\n",
      "646085.jpg\n",
      "646097.jpg\n",
      "646287.jpg\n",
      "646792.jpg\n",
      "646802.jpg\n",
      "646852.jpg\n",
      "646902.jpg\n",
      "646912.jpg\n",
      "646922.jpg\n",
      "646952.jpg\n",
      "647042.jpg\n",
      "647052.jpg\n",
      "647062.jpg\n",
      "647072.jpg\n",
      "647082.jpg\n"
     ]
    },
    {
     "name": "stderr",
     "output_type": "stream",
     "text": [
      " 70%|███████   | 84872/120975 [01:45<01:07, 537.59it/s]"
     ]
    },
    {
     "name": "stdout",
     "output_type": "stream",
     "text": [
      "647092.jpg\n",
      "647102.jpg\n",
      "647112.jpg\n",
      "64719.jpg\n",
      "647703.jpg\n"
     ]
    },
    {
     "name": "stderr",
     "output_type": "stream",
     "text": [
      " 70%|███████   | 84990/120975 [01:45<01:04, 555.27it/s]"
     ]
    },
    {
     "name": "stdout",
     "output_type": "stream",
     "text": [
      "64850.jpg\n",
      "64930.jpg\n"
     ]
    },
    {
     "name": "stderr",
     "output_type": "stream",
     "text": [
      " 70%|███████   | 85219/120975 [01:45<01:05, 549.21it/s]"
     ]
    },
    {
     "name": "stdout",
     "output_type": "stream",
     "text": [
      "652016.jpg\n",
      "652062.jpg\n",
      "65371.jpg\n",
      "65405.jpg\n"
     ]
    },
    {
     "name": "stderr",
     "output_type": "stream",
     "text": [
      " 71%|███████   | 85327/120975 [01:46<01:09, 512.30it/s]"
     ]
    },
    {
     "name": "stdout",
     "output_type": "stream",
     "text": [
      "655098.jpg\n",
      "655199.jpg\n",
      "655250.jpg\n",
      "655375.jpg\n",
      "655385.jpg\n",
      "655415.jpg\n",
      "655425.jpg\n"
     ]
    },
    {
     "name": "stderr",
     "output_type": "stream",
     "text": [
      " 71%|███████   | 85482/120975 [01:46<01:10, 504.03it/s]"
     ]
    },
    {
     "name": "stdout",
     "output_type": "stream",
     "text": [
      "660640.jpg\n",
      "660650.jpg\n",
      "660660.jpg\n",
      "660670.jpg\n",
      "660680.jpg\n",
      "660690.jpg\n",
      "66240.jpg\n"
     ]
    },
    {
     "name": "stderr",
     "output_type": "stream",
     "text": [
      " 71%|███████   | 85590/120975 [01:46<01:08, 518.63it/s]"
     ]
    },
    {
     "name": "stdout",
     "output_type": "stream",
     "text": [
      "662653.jpg\n",
      "663364.jpg\n",
      "663374.jpg\n",
      "663414.jpg\n",
      "663424.jpg\n"
     ]
    },
    {
     "name": "stderr",
     "output_type": "stream",
     "text": [
      " 71%|███████   | 85701/120975 [01:46<01:06, 532.53it/s]"
     ]
    },
    {
     "name": "stdout",
     "output_type": "stream",
     "text": [
      "663834.jpg\n",
      "663844.jpg\n",
      "663854.jpg\n",
      "663864.jpg\n",
      "663894.jpg\n",
      "663904.jpg\n",
      "66405.jpg\n",
      "66417.jpg\n",
      "664442.jpg\n",
      "664668.jpg\n",
      "664905.jpg\n",
      "664925.jpg\n"
     ]
    },
    {
     "name": "stderr",
     "output_type": "stream",
     "text": [
      " 71%|███████   | 85862/120975 [01:47<01:08, 514.04it/s]"
     ]
    },
    {
     "name": "stdout",
     "output_type": "stream",
     "text": [
      "665105.jpg\n",
      "665135.jpg\n",
      "665155.jpg\n",
      "665188.jpg\n",
      "665270.jpg\n",
      "665390.jpg\n",
      "665410.jpg\n",
      "665460.jpg\n",
      "665470.jpg\n",
      "665490.jpg\n",
      "665510.jpg\n",
      "665520.jpg\n",
      "665540.jpg\n",
      "665550.jpg\n",
      "665590.jpg\n",
      "665600.jpg\n",
      "665610.jpg\n",
      "665620.jpg\n",
      "665630.jpg\n",
      "666222.jpg\n"
     ]
    },
    {
     "name": "stderr",
     "output_type": "stream",
     "text": [
      " 71%|███████   | 85981/120975 [01:47<01:03, 547.87it/s]"
     ]
    },
    {
     "name": "stdout",
     "output_type": "stream",
     "text": [
      "66734.jpg\n"
     ]
    },
    {
     "name": "stderr",
     "output_type": "stream",
     "text": [
      " 71%|███████   | 86102/120975 [01:47<01:01, 569.26it/s]"
     ]
    },
    {
     "name": "stdout",
     "output_type": "stream",
     "text": [
      "67038.jpg\n",
      "670746.jpg\n",
      "670756.jpg\n",
      "671573.jpg\n",
      "67174.jpg\n",
      "671743.jpg\n",
      "671753.jpg\n",
      "67197.jpg\n"
     ]
    },
    {
     "name": "stderr",
     "output_type": "stream",
     "text": [
      " 71%|███████▏  | 86272/120975 [01:47<01:02, 555.53it/s]"
     ]
    },
    {
     "name": "stdout",
     "output_type": "stream",
     "text": [
      "673258.jpg\n",
      "673290.jpg\n",
      "673420.jpg\n",
      "673430.jpg\n",
      "673531.jpg\n",
      "67393.jpg\n",
      "675060.jpg\n"
     ]
    },
    {
     "name": "stderr",
     "output_type": "stream",
     "text": [
      " 71%|███████▏  | 86445/120975 [01:48<01:03, 545.21it/s]"
     ]
    },
    {
     "name": "stdout",
     "output_type": "stream",
     "text": [
      "67573.jpg\n",
      "676341.jpg\n",
      "676781.jpg\n"
     ]
    },
    {
     "name": "stderr",
     "output_type": "stream",
     "text": [
      " 72%|███████▏  | 86882/120975 [01:48<01:10, 484.25it/s]"
     ]
    },
    {
     "name": "stdout",
     "output_type": "stream",
     "text": [
      "679894.jpg\n",
      "679944.jpg\n",
      "68067.jpg\n"
     ]
    },
    {
     "name": "stderr",
     "output_type": "stream",
     "text": [
      " 72%|███████▏  | 87031/120975 [01:49<01:10, 480.06it/s]"
     ]
    },
    {
     "name": "stdout",
     "output_type": "stream",
     "text": [
      "681566.jpg\n",
      "68163.jpg\n",
      "681966.jpg\n",
      "681986.jpg\n",
      "682036.jpg\n",
      "682046.jpg\n",
      "682056.jpg\n"
     ]
    },
    {
     "name": "stderr",
     "output_type": "stream",
     "text": [
      " 72%|███████▏  | 87181/120975 [01:49<01:11, 472.64it/s]"
     ]
    },
    {
     "name": "stdout",
     "output_type": "stream",
     "text": [
      "682536.jpg\n",
      "683.jpg\n",
      "683456.jpg\n"
     ]
    },
    {
     "name": "stderr",
     "output_type": "stream",
     "text": [
      " 72%|███████▏  | 87328/120975 [01:49<01:11, 471.11it/s]"
     ]
    },
    {
     "name": "stdout",
     "output_type": "stream",
     "text": [
      "68385.jpg\n",
      "684107.jpg\n",
      "684117.jpg\n",
      "684127.jpg\n"
     ]
    },
    {
     "name": "stderr",
     "output_type": "stream",
     "text": [
      " 72%|███████▏  | 87425/120975 [01:50<01:13, 453.57it/s]"
     ]
    },
    {
     "name": "stdout",
     "output_type": "stream",
     "text": [
      "684827.jpg\n",
      "685197.jpg\n",
      "685207.jpg\n"
     ]
    },
    {
     "name": "stderr",
     "output_type": "stream",
     "text": [
      " 72%|███████▏  | 87566/120975 [01:50<01:21, 410.71it/s]"
     ]
    },
    {
     "name": "stdout",
     "output_type": "stream",
     "text": [
      "68642.jpg\n",
      "686832.jpg\n"
     ]
    },
    {
     "name": "stderr",
     "output_type": "stream",
     "text": [
      " 72%|███████▏  | 87694/120975 [01:50<01:19, 416.85it/s]"
     ]
    },
    {
     "name": "stdout",
     "output_type": "stream",
     "text": [
      "687312.jpg\n"
     ]
    },
    {
     "name": "stderr",
     "output_type": "stream",
     "text": [
      " 73%|███████▎  | 87781/120975 [01:51<01:18, 421.60it/s]"
     ]
    },
    {
     "name": "stdout",
     "output_type": "stream",
     "text": [
      "688263.jpg\n",
      "688273.jpg\n",
      "688283.jpg\n",
      "688293.jpg\n",
      "688303.jpg\n",
      "688313.jpg\n",
      "688323.jpg\n",
      "688333.jpg\n",
      "688343.jpg\n",
      "688353.jpg\n",
      "688363.jpg\n",
      "688373.jpg\n",
      "688383.jpg\n",
      "688393.jpg\n",
      "688403.jpg\n",
      "68890.jpg\n"
     ]
    },
    {
     "name": "stderr",
     "output_type": "stream",
     "text": [
      " 73%|███████▎  | 87877/120975 [01:51<01:13, 448.95it/s]"
     ]
    },
    {
     "name": "stdout",
     "output_type": "stream",
     "text": [
      "68915.jpg\n",
      "689393.jpg\n",
      "689403.jpg\n",
      "68971.jpg\n",
      "689854.jpg\n",
      "68995.jpg\n"
     ]
    },
    {
     "name": "stderr",
     "output_type": "stream",
     "text": [
      " 73%|███████▎  | 87975/120975 [01:51<01:10, 466.47it/s]"
     ]
    },
    {
     "name": "stdout",
     "output_type": "stream",
     "text": [
      "69009.jpg\n",
      "690204.jpg\n",
      "690214.jpg\n",
      "690224.jpg\n",
      "690560.jpg\n",
      "690570.jpg\n",
      "690580.jpg\n",
      "69066.jpg\n",
      "690681.jpg\n",
      "69078.jpg\n",
      "691005.jpg\n",
      "691025.jpg\n"
     ]
    },
    {
     "name": "stderr",
     "output_type": "stream",
     "text": [
      " 73%|███████▎  | 88123/120975 [01:51<01:08, 481.07it/s]"
     ]
    },
    {
     "name": "stdout",
     "output_type": "stream",
     "text": [
      "691186.jpg\n",
      "691196.jpg\n",
      "691206.jpg\n",
      "691216.jpg\n",
      "691236.jpg\n",
      "691246.jpg\n",
      "691256.jpg\n",
      "691266.jpg\n",
      "691502.jpg\n",
      "691512.jpg\n",
      "691552.jpg\n",
      "691964.jpg\n",
      "691974.jpg\n",
      "691984.jpg\n",
      "691994.jpg\n",
      "692004.jpg\n"
     ]
    },
    {
     "name": "stderr",
     "output_type": "stream",
     "text": [
      " 73%|███████▎  | 88229/120975 [01:51<01:04, 505.57it/s]"
     ]
    },
    {
     "name": "stdout",
     "output_type": "stream",
     "text": [
      "692014.jpg\n",
      "692189.jpg\n",
      "692199.jpg\n",
      "692540.jpg\n",
      "692550.jpg\n",
      "692560.jpg\n",
      "692720.jpg\n",
      "69294.jpg\n"
     ]
    },
    {
     "name": "stderr",
     "output_type": "stream",
     "text": [
      " 73%|███████▎  | 88333/120975 [01:52<01:03, 510.89it/s]"
     ]
    },
    {
     "name": "stdout",
     "output_type": "stream",
     "text": [
      "693.jpg\n",
      "69305.jpg\n",
      "69328.jpg\n",
      "693443.jpg\n",
      "69350.jpg\n",
      "693603.jpg\n",
      "693613.jpg\n",
      "693623.jpg\n",
      "693633.jpg\n",
      "693643.jpg\n",
      "693653.jpg\n"
     ]
    },
    {
     "name": "stderr",
     "output_type": "stream",
     "text": [
      " 73%|███████▎  | 88385/120975 [01:52<01:04, 504.89it/s]"
     ]
    },
    {
     "name": "stdout",
     "output_type": "stream",
     "text": [
      "69406.jpg\n",
      "694096.jpg\n",
      "694376.jpg\n",
      "694486.jpg\n"
     ]
    },
    {
     "name": "stderr",
     "output_type": "stream",
     "text": [
      " 73%|███████▎  | 88536/120975 [01:52<01:09, 468.29it/s]"
     ]
    },
    {
     "name": "stdout",
     "output_type": "stream",
     "text": [
      "695086.jpg\n",
      "69512.jpg\n",
      "695496.jpg\n",
      "695746.jpg\n",
      "695756.jpg\n",
      "695766.jpg\n",
      "695776.jpg\n",
      "695786.jpg\n",
      "695796.jpg\n",
      "695806.jpg\n",
      "695816.jpg\n",
      "695826.jpg\n",
      "695836.jpg\n"
     ]
    },
    {
     "name": "stderr",
     "output_type": "stream",
     "text": [
      " 73%|███████▎  | 88641/120975 [01:52<01:07, 475.65it/s]"
     ]
    },
    {
     "name": "stdout",
     "output_type": "stream",
     "text": [
      "696251.jpg\n",
      "696411.jpg\n",
      "696421.jpg\n",
      "696431.jpg\n",
      "696521.jpg\n",
      "696531.jpg\n",
      "696791.jpg\n"
     ]
    },
    {
     "name": "stderr",
     "output_type": "stream",
     "text": [
      " 73%|███████▎  | 88793/120975 [01:53<01:05, 493.31it/s]"
     ]
    },
    {
     "name": "stdout",
     "output_type": "stream",
     "text": [
      "697605.jpg\n",
      "697615.jpg\n",
      "697665.jpg\n",
      "697685.jpg\n",
      "697755.jpg\n",
      "697765.jpg\n",
      "697865.jpg\n",
      "697915.jpg\n",
      "697925.jpg\n",
      "698425.jpg\n",
      "698435.jpg\n",
      "698445.jpg\n",
      "698455.jpg\n"
     ]
    },
    {
     "name": "stderr",
     "output_type": "stream",
     "text": [
      " 74%|███████▎  | 88999/120975 [01:53<01:08, 470.02it/s]"
     ]
    },
    {
     "name": "stdout",
     "output_type": "stream",
     "text": [
      "699506.jpg\n",
      "699516.jpg\n",
      "699526.jpg\n",
      "699829.jpg\n"
     ]
    },
    {
     "name": "stderr",
     "output_type": "stream",
     "text": [
      " 74%|███████▎  | 89145/120975 [01:53<01:07, 468.36it/s]"
     ]
    },
    {
     "name": "stdout",
     "output_type": "stream",
     "text": [
      "700739.jpg\n",
      "700969.jpg\n",
      "700989.jpg\n",
      "700999.jpg\n",
      "701159.jpg\n",
      "701169.jpg\n",
      "701199.jpg\n",
      "701209.jpg\n",
      "701229.jpg\n",
      "701279.jpg\n"
     ]
    },
    {
     "name": "stderr",
     "output_type": "stream",
     "text": [
      " 74%|███████▍  | 89248/120975 [01:54<01:05, 485.96it/s]"
     ]
    },
    {
     "name": "stdout",
     "output_type": "stream",
     "text": [
      "70183.jpg\n",
      "70207.jpg\n",
      "702659.jpg\n",
      "702669.jpg\n",
      "702679.jpg\n"
     ]
    },
    {
     "name": "stderr",
     "output_type": "stream",
     "text": [
      " 74%|███████▍  | 89403/120975 [01:54<01:06, 472.39it/s]"
     ]
    },
    {
     "name": "stdout",
     "output_type": "stream",
     "text": [
      "703260.jpg\n",
      "703314.jpg\n",
      "703600.jpg\n"
     ]
    },
    {
     "name": "stderr",
     "output_type": "stream",
     "text": [
      " 74%|███████▍  | 89554/120975 [01:54<01:07, 464.06it/s]"
     ]
    },
    {
     "name": "stdout",
     "output_type": "stream",
     "text": [
      "70440.jpg\n",
      "704903.jpg\n",
      "704913.jpg\n",
      "704923.jpg\n",
      "704933.jpg\n",
      "704943.jpg\n",
      "704953.jpg\n",
      "704963.jpg\n",
      "704973.jpg\n",
      "704983.jpg\n",
      "704993.jpg\n",
      "705003.jpg\n",
      "705013.jpg\n",
      "705203.jpg\n"
     ]
    },
    {
     "name": "stderr",
     "output_type": "stream",
     "text": [
      " 74%|███████▍  | 89647/120975 [01:54<01:08, 455.19it/s]"
     ]
    },
    {
     "name": "stdout",
     "output_type": "stream",
     "text": [
      "705563.jpg\n",
      "705803.jpg\n",
      "705813.jpg\n",
      "705888.jpg\n",
      "705898.jpg\n"
     ]
    },
    {
     "name": "stderr",
     "output_type": "stream",
     "text": [
      " 74%|███████▍  | 89739/120975 [01:55<01:12, 431.92it/s]"
     ]
    },
    {
     "name": "stdout",
     "output_type": "stream",
     "text": [
      "706638.jpg\n"
     ]
    },
    {
     "name": "stderr",
     "output_type": "stream",
     "text": [
      " 74%|███████▍  | 90002/120975 [01:55<01:11, 433.79it/s]"
     ]
    },
    {
     "name": "stdout",
     "output_type": "stream",
     "text": [
      "708707.jpg\n"
     ]
    },
    {
     "name": "stderr",
     "output_type": "stream",
     "text": [
      " 75%|███████▍  | 90135/120975 [01:56<01:11, 430.46it/s]"
     ]
    },
    {
     "name": "stdout",
     "output_type": "stream",
     "text": [
      "710277.jpg\n",
      "71066.jpg\n",
      "710745.jpg\n",
      "710755.jpg\n",
      "710765.jpg\n",
      "711036.jpg\n",
      "711056.jpg\n",
      "711066.jpg\n",
      "711076.jpg\n",
      "711096.jpg\n",
      "711106.jpg\n",
      "711116.jpg\n",
      "711126.jpg\n",
      "711136.jpg\n",
      "711146.jpg\n"
     ]
    },
    {
     "name": "stderr",
     "output_type": "stream",
     "text": [
      " 75%|███████▍  | 90224/120975 [01:56<01:16, 399.44it/s]"
     ]
    },
    {
     "name": "stdout",
     "output_type": "stream",
     "text": [
      "711266.jpg\n",
      "711276.jpg\n",
      "711286.jpg\n",
      "711296.jpg\n",
      "711306.jpg\n",
      "711316.jpg\n",
      "711386.jpg\n",
      "71142.jpg\n",
      "711426.jpg\n",
      "711936.jpg\n",
      "71215.jpg\n",
      "71227.jpg\n",
      "7123.jpg\n",
      "712324.jpg\n",
      "712334.jpg\n",
      "712354.jpg\n",
      "712364.jpg\n",
      "71239.jpg\n"
     ]
    },
    {
     "name": "stderr",
     "output_type": "stream",
     "text": [
      " 75%|███████▍  | 90364/120975 [01:56<01:10, 436.18it/s]"
     ]
    },
    {
     "name": "stdout",
     "output_type": "stream",
     "text": [
      "71273.jpg\n",
      "712744.jpg\n",
      "712766.jpg\n",
      "712797.jpg\n",
      "71283.jpg\n",
      "712954.jpg\n",
      "71309.jpg\n",
      "713101.jpg\n",
      "713123.jpg\n",
      "71319.jpg\n",
      "71331.jpg\n",
      "71343.jpg\n",
      "713520.jpg\n",
      "713540.jpg\n",
      "713550.jpg\n",
      "713560.jpg\n",
      "71357.jpg\n",
      "713570.jpg\n",
      "713580.jpg\n",
      "713590.jpg\n",
      "713600.jpg\n",
      "713620.jpg\n",
      "713630.jpg\n",
      "713640.jpg\n",
      "713650.jpg\n",
      "71371.jpg\n",
      "713855.jpg\n",
      "713865.jpg\n",
      "713875.jpg\n",
      "713885.jpg\n"
     ]
    },
    {
     "name": "stderr",
     "output_type": "stream",
     "text": [
      " 75%|███████▍  | 90459/120975 [01:56<01:09, 436.84it/s]"
     ]
    },
    {
     "name": "stdout",
     "output_type": "stream",
     "text": [
      "714095.jpg\n",
      "714105.jpg\n",
      "71415.jpg\n",
      "71428.jpg\n",
      "714365.jpg\n",
      "714375.jpg\n",
      "714385.jpg\n",
      "714395.jpg\n",
      "714405.jpg\n",
      "714415.jpg\n",
      "714487.jpg\n",
      "714497.jpg\n",
      "714507.jpg\n",
      "714517.jpg\n",
      "714527.jpg\n",
      "714537.jpg\n",
      "714547.jpg\n",
      "714557.jpg\n",
      "714567.jpg\n",
      "714577.jpg\n",
      "714587.jpg\n",
      "714597.jpg\n",
      "714607.jpg\n",
      "714636.jpg\n",
      "71466.jpg\n"
     ]
    },
    {
     "name": "stderr",
     "output_type": "stream",
     "text": [
      " 75%|███████▍  | 90648/120975 [01:57<01:05, 461.43it/s]"
     ]
    },
    {
     "name": "stdout",
     "output_type": "stream",
     "text": [
      "71560.jpg\n",
      "71592.jpg\n",
      "71603.jpg\n",
      "716047.jpg\n",
      "716057.jpg\n",
      "716067.jpg\n",
      "716077.jpg\n",
      "716177.jpg\n",
      "716237.jpg\n",
      "716417.jpg\n"
     ]
    },
    {
     "name": "stderr",
     "output_type": "stream",
     "text": [
      " 75%|███████▍  | 90695/120975 [01:57<01:06, 455.37it/s]"
     ]
    },
    {
     "name": "stdout",
     "output_type": "stream",
     "text": [
      "716437.jpg\n"
     ]
    },
    {
     "name": "stderr",
     "output_type": "stream",
     "text": [
      " 75%|███████▌  | 90795/120975 [01:57<01:03, 475.09it/s]"
     ]
    },
    {
     "name": "stdout",
     "output_type": "stream",
     "text": [
      "71734.jpg\n",
      "71747.jpg\n"
     ]
    },
    {
     "name": "stderr",
     "output_type": "stream",
     "text": [
      " 75%|███████▌  | 91036/120975 [01:58<01:04, 463.94it/s]"
     ]
    },
    {
     "name": "stdout",
     "output_type": "stream",
     "text": [
      "719470.jpg\n",
      "719500.jpg\n",
      "719510.jpg\n",
      "719520.jpg\n",
      "719550.jpg\n",
      "719660.jpg\n",
      "719670.jpg\n",
      "719680.jpg\n",
      "71980.jpg\n",
      "720070.jpg\n"
     ]
    },
    {
     "name": "stderr",
     "output_type": "stream",
     "text": [
      " 75%|███████▌  | 91131/120975 [01:58<01:04, 460.54it/s]"
     ]
    },
    {
     "name": "stdout",
     "output_type": "stream",
     "text": [
      "720460.jpg\n",
      "720600.jpg\n",
      "721128.jpg\n",
      "721138.jpg\n",
      "721148.jpg\n"
     ]
    },
    {
     "name": "stderr",
     "output_type": "stream",
     "text": [
      " 75%|███████▌  | 91224/120975 [01:58<01:06, 448.04it/s]"
     ]
    },
    {
     "name": "stdout",
     "output_type": "stream",
     "text": [
      "721308.jpg\n",
      "721318.jpg\n",
      "721328.jpg\n",
      "721338.jpg\n",
      "721348.jpg\n",
      "721578.jpg\n",
      "72199.jpg\n"
     ]
    },
    {
     "name": "stderr",
     "output_type": "stream",
     "text": [
      " 76%|███████▌  | 91360/120975 [01:58<01:06, 443.93it/s]"
     ]
    },
    {
     "name": "stdout",
     "output_type": "stream",
     "text": [
      "722169.jpg\n",
      "722179.jpg\n",
      "72274.jpg\n",
      "72285.jpg\n"
     ]
    },
    {
     "name": "stderr",
     "output_type": "stream",
     "text": [
      " 76%|███████▌  | 91454/120975 [01:59<01:05, 447.37it/s]"
     ]
    },
    {
     "name": "stdout",
     "output_type": "stream",
     "text": [
      "72318.jpg\n",
      "723253.jpg\n",
      "723714.jpg\n",
      "723724.jpg\n",
      "723794.jpg\n",
      "723804.jpg\n",
      "723814.jpg\n",
      "723824.jpg\n",
      "723834.jpg\n",
      "72403.jpg\n"
     ]
    },
    {
     "name": "stderr",
     "output_type": "stream",
     "text": [
      " 76%|███████▌  | 91548/120975 [01:59<01:04, 455.93it/s]"
     ]
    },
    {
     "name": "stdout",
     "output_type": "stream",
     "text": [
      "724134.jpg\n",
      "724144.jpg\n",
      "72417.jpg\n",
      "724384.jpg\n",
      "724394.jpg\n",
      "724404.jpg\n",
      "724414.jpg\n"
     ]
    },
    {
     "name": "stderr",
     "output_type": "stream",
     "text": [
      " 76%|███████▌  | 91807/120975 [01:59<01:01, 477.38it/s]"
     ]
    },
    {
     "name": "stdout",
     "output_type": "stream",
     "text": [
      "726514.jpg\n",
      "726574.jpg\n",
      "727185.jpg\n",
      "727195.jpg\n",
      "727205.jpg\n",
      "727215.jpg\n",
      "727225.jpg\n",
      "727235.jpg\n",
      "727245.jpg\n",
      "727255.jpg\n",
      "727265.jpg\n",
      "727275.jpg\n",
      "727285.jpg\n",
      "727295.jpg\n",
      "727305.jpg\n",
      "727315.jpg\n"
     ]
    },
    {
     "name": "stderr",
     "output_type": "stream",
     "text": [
      " 76%|███████▌  | 92041/120975 [02:00<01:04, 448.57it/s]"
     ]
    },
    {
     "name": "stdout",
     "output_type": "stream",
     "text": [
      "729019.jpg\n",
      "729689.jpg\n",
      "729719.jpg\n"
     ]
    },
    {
     "name": "stderr",
     "output_type": "stream",
     "text": [
      " 76%|███████▌  | 92187/120975 [02:00<01:03, 453.66it/s]"
     ]
    },
    {
     "name": "stdout",
     "output_type": "stream",
     "text": [
      "730322.jpg\n",
      "730332.jpg\n",
      "730342.jpg\n",
      "730352.jpg\n",
      "730362.jpg\n",
      "730392.jpg\n",
      "731109.jpg\n",
      "731119.jpg\n",
      "731131.jpg\n",
      "731158.jpg\n"
     ]
    },
    {
     "name": "stderr",
     "output_type": "stream",
     "text": [
      " 76%|███████▋  | 92323/120975 [02:00<01:05, 438.77it/s]"
     ]
    },
    {
     "name": "stdout",
     "output_type": "stream",
     "text": [
      "731629.jpg\n",
      "732303.jpg\n",
      "732403.jpg\n",
      "732413.jpg\n",
      "732423.jpg\n",
      "732433.jpg\n"
     ]
    },
    {
     "name": "stderr",
     "output_type": "stream",
     "text": [
      " 76%|███████▋  | 92411/120975 [02:01<01:07, 423.46it/s]"
     ]
    },
    {
     "name": "stdout",
     "output_type": "stream",
     "text": [
      "733.jpg\n",
      "733197.jpg\n",
      "733247.jpg\n"
     ]
    },
    {
     "name": "stderr",
     "output_type": "stream",
     "text": [
      " 76%|███████▋  | 92544/120975 [02:01<01:06, 429.36it/s]"
     ]
    },
    {
     "name": "stdout",
     "output_type": "stream",
     "text": [
      "734129.jpg\n",
      "734139.jpg\n",
      "73450.jpg\n",
      "734569.jpg\n",
      "734609.jpg\n",
      "734619.jpg\n",
      "734629.jpg\n",
      "734639.jpg\n",
      "734749.jpg\n",
      "734759.jpg\n",
      "734769.jpg\n",
      "734780.jpg\n"
     ]
    },
    {
     "name": "stderr",
     "output_type": "stream",
     "text": [
      " 77%|███████▋  | 92640/120975 [02:01<01:02, 455.39it/s]"
     ]
    },
    {
     "name": "stdout",
     "output_type": "stream",
     "text": [
      "734930.jpg\n",
      "734940.jpg\n",
      "734950.jpg\n",
      "73544.jpg\n"
     ]
    },
    {
     "name": "stderr",
     "output_type": "stream",
     "text": [
      " 77%|███████▋  | 92881/120975 [02:02<01:00, 460.75it/s]"
     ]
    },
    {
     "name": "stdout",
     "output_type": "stream",
     "text": [
      "737510.jpg\n",
      "737890.jpg\n",
      "737900.jpg\n",
      "737910.jpg\n",
      "737920.jpg\n",
      "737930.jpg\n",
      "737940.jpg\n",
      "737950.jpg\n",
      "738010.jpg\n",
      "738020.jpg\n",
      "738040.jpg\n",
      "738050.jpg\n",
      "738060.jpg\n",
      "738130.jpg\n",
      "738140.jpg\n",
      "738320.jpg\n",
      "738330.jpg\n",
      "738340.jpg\n",
      "738350.jpg\n",
      "738360.jpg\n",
      "738370.jpg\n",
      "738380.jpg\n"
     ]
    },
    {
     "name": "stderr",
     "output_type": "stream",
     "text": [
      " 77%|███████▋  | 92974/120975 [02:02<01:02, 450.05it/s]"
     ]
    },
    {
     "name": "stdout",
     "output_type": "stream",
     "text": [
      "738390.jpg\n",
      "738400.jpg\n",
      "738410.jpg\n",
      "738420.jpg\n",
      "738430.jpg\n",
      "738440.jpg\n",
      "738450.jpg\n",
      "738460.jpg\n",
      "738470.jpg\n",
      "738480.jpg\n",
      "738490.jpg\n",
      "738500.jpg\n",
      "738510.jpg\n",
      "738520.jpg\n",
      "738530.jpg\n",
      "738540.jpg\n",
      "738550.jpg\n",
      "738560.jpg\n",
      "738570.jpg\n",
      "738580.jpg\n",
      "738590.jpg\n",
      "738640.jpg\n",
      "738790.jpg\n",
      "738800.jpg\n",
      "738810.jpg\n"
     ]
    },
    {
     "name": "stderr",
     "output_type": "stream",
     "text": [
      " 77%|███████▋  | 93116/120975 [02:02<01:06, 421.11it/s]"
     ]
    },
    {
     "name": "stdout",
     "output_type": "stream",
     "text": [
      "739520.jpg\n",
      "739730.jpg\n",
      "739790.jpg\n",
      "739800.jpg\n",
      "739810.jpg\n",
      "739820.jpg\n",
      "739830.jpg\n",
      "739840.jpg\n",
      "739850.jpg\n",
      "739860.jpg\n",
      "739870.jpg\n",
      "739890.jpg\n",
      "739900.jpg\n",
      "739910.jpg\n",
      "739930.jpg\n",
      "739940.jpg\n",
      "739950.jpg\n",
      "739990.jpg\n",
      "740020.jpg\n",
      "740030.jpg\n",
      "740040.jpg\n",
      "740050.jpg\n",
      "740060.jpg\n",
      "740070.jpg\n",
      "740080.jpg\n",
      "740090.jpg\n",
      "740100.jpg\n",
      "740130.jpg\n"
     ]
    },
    {
     "name": "stderr",
     "output_type": "stream",
     "text": [
      " 77%|███████▋  | 93207/120975 [02:02<01:04, 431.87it/s]"
     ]
    },
    {
     "name": "stdout",
     "output_type": "stream",
     "text": [
      "74028.jpg\n",
      "74038.jpg\n",
      "740760.jpg\n",
      "74079.jpg\n",
      "740800.jpg\n",
      "740830.jpg\n",
      "74089.jpg\n",
      "740940.jpg\n",
      "74099.jpg\n"
     ]
    },
    {
     "name": "stderr",
     "output_type": "stream",
     "text": [
      " 77%|███████▋  | 93302/120975 [02:03<01:01, 452.47it/s]"
     ]
    },
    {
     "name": "stdout",
     "output_type": "stream",
     "text": [
      "74109.jpg\n",
      "741100.jpg\n",
      "74120.jpg\n",
      "74130.jpg\n",
      "741662.jpg\n"
     ]
    },
    {
     "name": "stderr",
     "output_type": "stream",
     "text": [
      " 77%|███████▋  | 93397/120975 [02:03<00:59, 460.77it/s]"
     ]
    },
    {
     "name": "stdout",
     "output_type": "stream",
     "text": [
      "74209.jpg\n",
      "74220.jpg\n",
      "742392.jpg\n",
      "742702.jpg\n"
     ]
    },
    {
     "name": "stderr",
     "output_type": "stream",
     "text": [
      " 77%|███████▋  | 93493/120975 [02:03<00:59, 463.69it/s]"
     ]
    },
    {
     "name": "stdout",
     "output_type": "stream",
     "text": [
      "743.jpg\n",
      "74300.jpg\n",
      "74310.jpg\n",
      "74330.jpg\n",
      "74340.jpg\n",
      "743422.jpg\n",
      "743432.jpg\n",
      "743442.jpg\n",
      "743452.jpg\n",
      "743462.jpg\n",
      "743472.jpg\n",
      "743492.jpg\n",
      "743502.jpg\n",
      "743512.jpg\n",
      "743522.jpg\n",
      "743532.jpg\n",
      "743542.jpg\n",
      "743552.jpg\n",
      "743562.jpg\n",
      "743592.jpg\n",
      "743602.jpg\n",
      "743612.jpg\n",
      "743622.jpg\n",
      "74364.jpg\n",
      "743642.jpg\n",
      "743652.jpg\n",
      "743662.jpg\n",
      "743682.jpg\n",
      "743692.jpg\n",
      "743702.jpg\n",
      "743712.jpg\n",
      "743722.jpg\n",
      "743742.jpg\n",
      "743752.jpg\n",
      "743762.jpg\n",
      "743782.jpg\n",
      "743802.jpg\n"
     ]
    },
    {
     "name": "stderr",
     "output_type": "stream",
     "text": [
      " 77%|███████▋  | 93586/120975 [02:03<01:02, 438.03it/s]"
     ]
    },
    {
     "name": "stdout",
     "output_type": "stream",
     "text": [
      "744145.jpg\n"
     ]
    },
    {
     "name": "stderr",
     "output_type": "stream",
     "text": [
      " 77%|███████▋  | 93730/120975 [02:04<01:02, 439.30it/s]"
     ]
    },
    {
     "name": "stdout",
     "output_type": "stream",
     "text": [
      "745387.jpg\n",
      "745397.jpg\n",
      "745407.jpg\n",
      "745569.jpg\n",
      "745589.jpg\n",
      "745599.jpg\n",
      "745619.jpg\n",
      "745629.jpg\n",
      "745649.jpg\n",
      "745759.jpg\n",
      "745907.jpg\n",
      "746017.jpg\n",
      "746037.jpg\n",
      "74604.jpg\n",
      "746177.jpg\n",
      "746217.jpg\n"
     ]
    },
    {
     "name": "stderr",
     "output_type": "stream",
     "text": [
      " 78%|███████▊  | 93825/120975 [02:04<00:59, 454.59it/s]"
     ]
    },
    {
     "name": "stdout",
     "output_type": "stream",
     "text": [
      "746267.jpg\n",
      "746287.jpg\n",
      "746397.jpg\n",
      "746877.jpg\n",
      "746887.jpg\n",
      "746907.jpg\n",
      "746917.jpg\n"
     ]
    },
    {
     "name": "stderr",
     "output_type": "stream",
     "text": [
      " 78%|███████▊  | 93969/120975 [02:04<00:58, 464.94it/s]"
     ]
    },
    {
     "name": "stdout",
     "output_type": "stream",
     "text": [
      "747337.jpg\n",
      "747347.jpg\n",
      "74770.jpg\n",
      "74780.jpg\n"
     ]
    },
    {
     "name": "stderr",
     "output_type": "stream",
     "text": [
      " 78%|███████▊  | 94065/120975 [02:04<00:57, 469.96it/s]"
     ]
    },
    {
     "name": "stdout",
     "output_type": "stream",
     "text": [
      "74839.jpg\n",
      "74869.jpg\n",
      "74914.jpg\n",
      "749321.jpg\n"
     ]
    },
    {
     "name": "stderr",
     "output_type": "stream",
     "text": [
      " 78%|███████▊  | 94167/120975 [02:04<00:55, 486.36it/s]"
     ]
    },
    {
     "name": "stdout",
     "output_type": "stream",
     "text": [
      "749361.jpg\n",
      "74962.jpg\n"
     ]
    },
    {
     "name": "stderr",
     "output_type": "stream",
     "text": [
      " 78%|███████▊  | 94317/120975 [02:05<00:53, 495.09it/s]"
     ]
    },
    {
     "name": "stdout",
     "output_type": "stream",
     "text": [
      "750651.jpg\n",
      "751151.jpg\n",
      "751211.jpg\n",
      "751221.jpg\n",
      "751251.jpg\n",
      "751261.jpg\n"
     ]
    },
    {
     "name": "stderr",
     "output_type": "stream",
     "text": [
      " 78%|███████▊  | 94421/120975 [02:05<00:53, 492.43it/s]"
     ]
    },
    {
     "name": "stdout",
     "output_type": "stream",
     "text": [
      "751703.jpg\n",
      "751773.jpg\n",
      "751783.jpg\n",
      "752063.jpg\n",
      "75230.jpg\n"
     ]
    },
    {
     "name": "stderr",
     "output_type": "stream",
     "text": [
      " 78%|███████▊  | 94521/120975 [02:05<00:54, 482.46it/s]"
     ]
    },
    {
     "name": "stdout",
     "output_type": "stream",
     "text": [
      "752645.jpg\n",
      "752655.jpg\n",
      "753.jpg\n",
      "753407.jpg\n"
     ]
    },
    {
     "name": "stderr",
     "output_type": "stream",
     "text": [
      " 78%|███████▊  | 94617/120975 [02:05<00:56, 465.38it/s]"
     ]
    },
    {
     "name": "stdout",
     "output_type": "stream",
     "text": [
      "753457.jpg\n",
      "753637.jpg\n",
      "753677.jpg\n",
      "753777.jpg\n"
     ]
    },
    {
     "name": "stderr",
     "output_type": "stream",
     "text": [
      " 78%|███████▊  | 94714/120975 [02:06<00:55, 474.29it/s]"
     ]
    },
    {
     "name": "stdout",
     "output_type": "stream",
     "text": [
      "754408.jpg\n",
      "754428.jpg\n",
      "754620.jpg\n"
     ]
    },
    {
     "name": "stderr",
     "output_type": "stream",
     "text": [
      " 78%|███████▊  | 94864/120975 [02:06<00:53, 492.12it/s]"
     ]
    },
    {
     "name": "stdout",
     "output_type": "stream",
     "text": [
      "755553.jpg\n",
      "755563.jpg\n",
      "755583.jpg\n",
      "756383.jpg\n"
     ]
    },
    {
     "name": "stderr",
     "output_type": "stream",
     "text": [
      " 78%|███████▊  | 94964/120975 [02:06<00:54, 481.12it/s]"
     ]
    },
    {
     "name": "stdout",
     "output_type": "stream",
     "text": [
      "756778.jpg\n",
      "756878.jpg\n"
     ]
    },
    {
     "name": "stderr",
     "output_type": "stream",
     "text": [
      " 79%|███████▊  | 95119/120975 [02:06<00:51, 497.37it/s]"
     ]
    },
    {
     "name": "stdout",
     "output_type": "stream",
     "text": [
      "758338.jpg\n",
      "758348.jpg\n",
      "758358.jpg\n",
      "758468.jpg\n",
      "758790.jpg\n"
     ]
    },
    {
     "name": "stderr",
     "output_type": "stream",
     "text": [
      " 79%|███████▉  | 95423/120975 [02:07<00:54, 468.17it/s]"
     ]
    },
    {
     "name": "stdout",
     "output_type": "stream",
     "text": [
      "761500.jpg\n",
      "761510.jpg\n",
      "761520.jpg\n",
      "761530.jpg\n",
      "761540.jpg\n",
      "761550.jpg\n",
      "761560.jpg\n",
      "761570.jpg\n",
      "761580.jpg\n",
      "761590.jpg\n",
      "761600.jpg\n",
      "761610.jpg\n",
      "761620.jpg\n",
      "761630.jpg\n",
      "761640.jpg\n",
      "761650.jpg\n",
      "761980.jpg\n"
     ]
    },
    {
     "name": "stderr",
     "output_type": "stream",
     "text": [
      " 79%|███████▉  | 95570/120975 [02:07<00:53, 472.88it/s]"
     ]
    },
    {
     "name": "stdout",
     "output_type": "stream",
     "text": [
      "762692.jpg\n",
      "76279.jpg\n",
      "7631.jpg\n",
      "763493.jpg\n"
     ]
    },
    {
     "name": "stderr",
     "output_type": "stream",
     "text": [
      " 79%|███████▉  | 95821/120975 [02:08<00:52, 481.84it/s]"
     ]
    },
    {
     "name": "stdout",
     "output_type": "stream",
     "text": [
      "764873.jpg\n",
      "765054.jpg\n",
      "765064.jpg\n",
      "765079.jpg\n",
      "765409.jpg\n",
      "765754.jpg\n"
     ]
    },
    {
     "name": "stderr",
     "output_type": "stream",
     "text": [
      " 79%|███████▉  | 95919/120975 [02:08<00:53, 468.47it/s]"
     ]
    },
    {
     "name": "stdout",
     "output_type": "stream",
     "text": [
      "766074.jpg\n",
      "766084.jpg\n",
      "766094.jpg\n",
      "766104.jpg\n",
      "766114.jpg\n",
      "766124.jpg\n",
      "766134.jpg\n",
      "766144.jpg\n",
      "766154.jpg\n",
      "766164.jpg\n",
      "766177.jpg\n",
      "766187.jpg\n",
      "766197.jpg\n",
      "766227.jpg\n",
      "766237.jpg\n",
      "766247.jpg\n",
      "766257.jpg\n",
      "766267.jpg\n",
      "766277.jpg\n",
      "766287.jpg\n",
      "766297.jpg\n",
      "766307.jpg\n"
     ]
    },
    {
     "name": "stderr",
     "output_type": "stream",
     "text": [
      " 79%|███████▉  | 96116/120975 [02:09<00:51, 486.30it/s]"
     ]
    },
    {
     "name": "stdout",
     "output_type": "stream",
     "text": [
      "767938.jpg\n",
      "767988.jpg\n",
      "768551.jpg\n"
     ]
    },
    {
     "name": "stderr",
     "output_type": "stream",
     "text": [
      " 80%|███████▉  | 96277/120975 [02:09<00:47, 522.58it/s]"
     ]
    },
    {
     "name": "stdout",
     "output_type": "stream",
     "text": [
      "769068.jpg\n",
      "769078.jpg\n",
      "769088.jpg\n",
      "769098.jpg\n",
      "769108.jpg\n",
      "769118.jpg\n",
      "769128.jpg\n",
      "769138.jpg\n",
      "769148.jpg\n",
      "769158.jpg\n",
      "769168.jpg\n",
      "769178.jpg\n",
      "769188.jpg\n"
     ]
    },
    {
     "name": "stderr",
     "output_type": "stream",
     "text": [
      " 80%|███████▉  | 96436/120975 [02:09<00:48, 510.20it/s]"
     ]
    },
    {
     "name": "stdout",
     "output_type": "stream",
     "text": [
      "770478.jpg\n",
      "770488.jpg\n",
      "770618.jpg\n"
     ]
    },
    {
     "name": "stderr",
     "output_type": "stream",
     "text": [
      " 80%|███████▉  | 96543/120975 [02:09<00:48, 506.80it/s]"
     ]
    },
    {
     "name": "stdout",
     "output_type": "stream",
     "text": [
      "771548.jpg\n",
      "771558.jpg\n",
      "771568.jpg\n"
     ]
    },
    {
     "name": "stderr",
     "output_type": "stream",
     "text": [
      " 80%|███████▉  | 96649/120975 [02:10<00:48, 499.35it/s]"
     ]
    },
    {
     "name": "stdout",
     "output_type": "stream",
     "text": [
      "773.jpg\n",
      "773109.jpg\n",
      "773119.jpg\n",
      "773129.jpg\n",
      "773229.jpg\n",
      "773460.jpg\n",
      "773470.jpg\n",
      "773480.jpg\n",
      "773674.jpg\n",
      "773744.jpg\n"
     ]
    },
    {
     "name": "stderr",
     "output_type": "stream",
     "text": [
      " 80%|████████  | 96892/120975 [02:10<00:52, 457.85it/s]"
     ]
    },
    {
     "name": "stdout",
     "output_type": "stream",
     "text": [
      "775080.jpg\n",
      "775240.jpg\n",
      "775470.jpg\n",
      "775540.jpg\n",
      "775550.jpg\n",
      "775560.jpg\n",
      "77576.jpg\n"
     ]
    },
    {
     "name": "stderr",
     "output_type": "stream",
     "text": [
      " 80%|████████  | 97046/120975 [02:10<00:48, 491.57it/s]"
     ]
    },
    {
     "name": "stdout",
     "output_type": "stream",
     "text": [
      "776152.jpg\n",
      "776174.jpg\n",
      "776184.jpg\n",
      "77619.jpg\n",
      "77686.jpg\n",
      "77698.jpg\n"
     ]
    },
    {
     "name": "stderr",
     "output_type": "stream",
     "text": [
      " 80%|████████  | 97145/120975 [02:11<00:49, 481.73it/s]"
     ]
    },
    {
     "name": "stdout",
     "output_type": "stream",
     "text": [
      "777198.jpg\n",
      "77720.jpg\n",
      "777208.jpg\n",
      "777218.jpg\n",
      "777228.jpg\n",
      "77741.jpg\n",
      "777448.jpg\n",
      "777488.jpg\n",
      "77752.jpg\n",
      "777598.jpg\n",
      "77762.jpg\n",
      "777688.jpg\n",
      "777698.jpg\n",
      "777718.jpg\n",
      "77774.jpg\n",
      "77789.jpg\n"
     ]
    },
    {
     "name": "stderr",
     "output_type": "stream",
     "text": [
      " 80%|████████  | 97250/120975 [02:11<00:47, 501.62it/s]"
     ]
    },
    {
     "name": "stdout",
     "output_type": "stream",
     "text": [
      "778108.jpg\n",
      "77870.jpg\n",
      "77881.jpg\n"
     ]
    },
    {
     "name": "stderr",
     "output_type": "stream",
     "text": [
      " 81%|████████  | 97398/120975 [02:11<00:50, 468.06it/s]"
     ]
    },
    {
     "name": "stdout",
     "output_type": "stream",
     "text": [
      "779839.jpg\n"
     ]
    },
    {
     "name": "stderr",
     "output_type": "stream",
     "text": [
      " 81%|████████  | 97543/120975 [02:11<00:49, 476.47it/s]"
     ]
    },
    {
     "name": "stdout",
     "output_type": "stream",
     "text": [
      "780802.jpg\n",
      "781162.jpg\n",
      "781292.jpg\n",
      "781472.jpg\n",
      "781552.jpg\n",
      "78163.jpg\n"
     ]
    },
    {
     "name": "stderr",
     "output_type": "stream",
     "text": [
      " 81%|████████  | 97693/120975 [02:12<00:49, 474.62it/s]"
     ]
    },
    {
     "name": "stdout",
     "output_type": "stream",
     "text": [
      "782423.jpg\n",
      "782483.jpg\n",
      "782493.jpg\n",
      "782615.jpg\n",
      "782625.jpg\n",
      "782635.jpg\n",
      "782645.jpg\n",
      "782655.jpg\n",
      "782665.jpg\n",
      "782695.jpg\n",
      "782705.jpg\n",
      "782715.jpg\n",
      "782725.jpg\n",
      "782735.jpg\n",
      "782745.jpg\n",
      "782755.jpg\n",
      "782785.jpg\n",
      "782795.jpg\n",
      "782805.jpg\n",
      "782815.jpg\n",
      "782825.jpg\n",
      "782835.jpg\n",
      "782845.jpg\n",
      "782855.jpg\n",
      "782865.jpg\n",
      "782875.jpg\n",
      "782915.jpg\n",
      "782925.jpg\n",
      "782935.jpg\n"
     ]
    },
    {
     "name": "stderr",
     "output_type": "stream",
     "text": [
      " 81%|████████  | 97842/120975 [02:12<00:47, 486.16it/s]"
     ]
    },
    {
     "name": "stdout",
     "output_type": "stream",
     "text": [
      "783646.jpg\n",
      "784.jpg\n",
      "784197.jpg\n"
     ]
    },
    {
     "name": "stderr",
     "output_type": "stream",
     "text": [
      " 81%|████████  | 97940/120975 [02:12<00:47, 481.23it/s]"
     ]
    },
    {
     "name": "stdout",
     "output_type": "stream",
     "text": [
      "784687.jpg\n",
      "784787.jpg\n",
      "784797.jpg\n",
      "784807.jpg\n",
      "784837.jpg\n",
      "784867.jpg\n",
      "785047.jpg\n",
      "78513.jpg\n",
      "785177.jpg\n"
     ]
    },
    {
     "name": "stderr",
     "output_type": "stream",
     "text": [
      " 81%|████████  | 98039/120975 [02:13<00:50, 457.53it/s]"
     ]
    },
    {
     "name": "stdout",
     "output_type": "stream",
     "text": [
      "78569.jpg\n",
      "785747.jpg\n",
      "785767.jpg\n",
      "785777.jpg\n",
      "785787.jpg\n",
      "785797.jpg\n",
      "785807.jpg\n",
      "785817.jpg\n",
      "785827.jpg\n",
      "785847.jpg\n",
      "785857.jpg\n",
      "785897.jpg\n",
      "785907.jpg\n",
      "785917.jpg\n",
      "785927.jpg\n",
      "785947.jpg\n",
      "785957.jpg\n",
      "785967.jpg\n",
      "785977.jpg\n",
      "785987.jpg\n",
      "785997.jpg\n",
      "786027.jpg\n",
      "786037.jpg\n",
      "786047.jpg\n",
      "786057.jpg\n",
      "786067.jpg\n",
      "786097.jpg\n",
      "786117.jpg\n",
      "786127.jpg\n",
      "786137.jpg\n",
      "786147.jpg\n",
      "786217.jpg\n",
      "786327.jpg\n",
      "786337.jpg\n",
      "786347.jpg\n",
      "786397.jpg\n",
      "786407.jpg\n",
      "786417.jpg\n"
     ]
    },
    {
     "name": "stderr",
     "output_type": "stream",
     "text": [
      " 81%|████████  | 98131/120975 [02:13<00:56, 403.46it/s]"
     ]
    },
    {
     "name": "stdout",
     "output_type": "stream",
     "text": [
      "786727.jpg\n",
      "786737.jpg\n",
      "786747.jpg\n",
      "786757.jpg\n",
      "786777.jpg\n",
      "786787.jpg\n",
      "786797.jpg\n",
      "786807.jpg\n",
      "786817.jpg\n",
      "786827.jpg\n",
      "786837.jpg\n",
      "786847.jpg\n",
      "786857.jpg\n",
      "786867.jpg\n",
      "786877.jpg\n",
      "786887.jpg\n",
      "786907.jpg\n",
      "786927.jpg\n",
      "786937.jpg\n",
      "786967.jpg\n",
      "786977.jpg\n",
      "787007.jpg\n",
      "787017.jpg\n",
      "787047.jpg\n",
      "787057.jpg\n",
      "787067.jpg\n",
      "787077.jpg\n",
      "787087.jpg\n",
      "787097.jpg\n",
      "787137.jpg\n",
      "787147.jpg\n",
      "787157.jpg\n",
      "787167.jpg\n",
      "787177.jpg\n",
      "787187.jpg\n",
      "787207.jpg\n",
      "787217.jpg\n",
      "787227.jpg\n",
      "787237.jpg\n",
      "787247.jpg\n",
      "787257.jpg\n",
      "787267.jpg\n",
      "787277.jpg\n",
      "787287.jpg\n",
      "787297.jpg\n",
      "787307.jpg\n",
      "787347.jpg\n",
      "787357.jpg\n",
      "787367.jpg\n",
      "787377.jpg\n"
     ]
    },
    {
     "name": "stderr",
     "output_type": "stream",
     "text": [
      " 81%|████████  | 98264/120975 [02:13<00:55, 411.58it/s]"
     ]
    },
    {
     "name": "stdout",
     "output_type": "stream",
     "text": [
      "787937.jpg\n",
      "787947.jpg\n",
      "787957.jpg\n",
      "787967.jpg\n",
      "787977.jpg\n",
      "787987.jpg\n",
      "787997.jpg\n",
      "788007.jpg\n",
      "788017.jpg\n",
      "788027.jpg\n",
      "788037.jpg\n",
      "788047.jpg\n",
      "788057.jpg\n",
      "788067.jpg\n",
      "788077.jpg\n",
      "788087.jpg\n",
      "788097.jpg\n",
      "788108.jpg\n",
      "788118.jpg\n",
      "788128.jpg\n",
      "788138.jpg\n",
      "788198.jpg\n",
      "788208.jpg\n",
      "788228.jpg\n",
      "788238.jpg\n",
      "788278.jpg\n",
      "788288.jpg\n",
      "788308.jpg\n",
      "788328.jpg\n",
      "788338.jpg\n",
      "788348.jpg\n",
      "788388.jpg\n",
      "788398.jpg\n",
      "788408.jpg\n",
      "788418.jpg\n",
      "788448.jpg\n"
     ]
    },
    {
     "name": "stderr",
     "output_type": "stream",
     "text": [
      " 81%|████████▏ | 98558/120975 [02:14<00:51, 435.05it/s]"
     ]
    },
    {
     "name": "stdout",
     "output_type": "stream",
     "text": [
      "790699.jpg\n",
      "791079.jpg\n",
      "791210.jpg\n",
      "791330.jpg\n",
      "791340.jpg\n",
      "791350.jpg\n",
      "791360.jpg\n",
      "791390.jpg\n",
      "791400.jpg\n",
      "791410.jpg\n"
     ]
    },
    {
     "name": "stderr",
     "output_type": "stream",
     "text": [
      " 82%|████████▏ | 98650/120975 [02:14<00:52, 422.81it/s]"
     ]
    },
    {
     "name": "stdout",
     "output_type": "stream",
     "text": [
      "791460.jpg\n",
      "791570.jpg\n",
      "791600.jpg\n",
      "791850.jpg\n",
      "791970.jpg\n"
     ]
    },
    {
     "name": "stderr",
     "output_type": "stream",
     "text": [
      " 82%|████████▏ | 98892/120975 [02:14<00:48, 457.05it/s]"
     ]
    },
    {
     "name": "stdout",
     "output_type": "stream",
     "text": [
      "793927.jpg\n",
      "794228.jpg\n",
      "794239.jpg\n",
      "794408.jpg\n"
     ]
    },
    {
     "name": "stderr",
     "output_type": "stream",
     "text": [
      " 82%|████████▏ | 99083/120975 [02:15<00:47, 460.41it/s]"
     ]
    },
    {
     "name": "stdout",
     "output_type": "stream",
     "text": [
      "795564.jpg\n",
      "795744.jpg\n",
      "795754.jpg\n",
      "795764.jpg\n",
      "795774.jpg\n",
      "795784.jpg\n",
      "795794.jpg\n"
     ]
    },
    {
     "name": "stderr",
     "output_type": "stream",
     "text": [
      " 82%|████████▏ | 99179/120975 [02:15<00:48, 450.92it/s]"
     ]
    },
    {
     "name": "stdout",
     "output_type": "stream",
     "text": [
      "796509.jpg\n",
      "796521.jpg\n",
      "796531.jpg\n",
      "796541.jpg\n",
      "796559.jpg\n",
      "796569.jpg\n",
      "796711.jpg\n",
      "797005.jpg\n",
      "797025.jpg\n",
      "797155.jpg\n",
      "797206.jpg\n"
     ]
    },
    {
     "name": "stderr",
     "output_type": "stream",
     "text": [
      " 82%|████████▏ | 99324/120975 [02:15<00:46, 470.58it/s]"
     ]
    },
    {
     "name": "stdout",
     "output_type": "stream",
     "text": [
      "797566.jpg\n",
      "797576.jpg\n",
      "797586.jpg\n",
      "797596.jpg\n",
      "797606.jpg\n",
      "797656.jpg\n",
      "797916.jpg\n",
      "79794.jpg\n",
      "798036.jpg\n",
      "79807.jpg\n"
     ]
    },
    {
     "name": "stderr",
     "output_type": "stream",
     "text": [
      " 82%|████████▏ | 99469/120975 [02:16<00:45, 474.76it/s]"
     ]
    },
    {
     "name": "stdout",
     "output_type": "stream",
     "text": [
      "79879.jpg\n",
      "798798.jpg\n",
      "798808.jpg\n",
      "798818.jpg\n",
      "799458.jpg\n",
      "79956.jpg\n"
     ]
    },
    {
     "name": "stderr",
     "output_type": "stream",
     "text": [
      " 82%|████████▏ | 99569/120975 [02:16<00:44, 478.13it/s]"
     ]
    },
    {
     "name": "stdout",
     "output_type": "stream",
     "text": [
      "79978.jpg\n"
     ]
    },
    {
     "name": "stderr",
     "output_type": "stream",
     "text": [
      " 82%|████████▏ | 99664/120975 [02:16<00:46, 455.91it/s]"
     ]
    },
    {
     "name": "stdout",
     "output_type": "stream",
     "text": [
      "800828.jpg\n",
      "800848.jpg\n",
      "800858.jpg\n",
      "800868.jpg\n",
      "800888.jpg\n",
      "800928.jpg\n",
      "800958.jpg\n",
      "800968.jpg\n",
      "801098.jpg\n",
      "801108.jpg\n",
      "801118.jpg\n",
      "801198.jpg\n",
      "801208.jpg\n",
      "801218.jpg\n"
     ]
    },
    {
     "name": "stderr",
     "output_type": "stream",
     "text": [
      " 82%|████████▏ | 99757/120975 [02:16<00:46, 458.04it/s]"
     ]
    },
    {
     "name": "stdout",
     "output_type": "stream",
     "text": [
      "801829.jpg\n",
      "802099.jpg\n",
      "80214.jpg\n",
      "802149.jpg\n",
      "802279.jpg\n",
      "802399.jpg\n",
      "802409.jpg\n",
      "802419.jpg\n",
      "802479.jpg\n",
      "802489.jpg\n",
      "802569.jpg\n",
      "802579.jpg\n",
      "802589.jpg\n"
     ]
    },
    {
     "name": "stderr",
     "output_type": "stream",
     "text": [
      " 83%|████████▎ | 99902/120975 [02:17<00:44, 471.15it/s]"
     ]
    },
    {
     "name": "stdout",
     "output_type": "stream",
     "text": [
      "803119.jpg\n",
      "803129.jpg\n",
      "803234.jpg\n",
      "803360.jpg\n",
      "803370.jpg\n",
      "803417.jpg\n",
      "803428.jpg\n",
      "803503.jpg\n",
      "803513.jpg\n",
      "803848.jpg\n"
     ]
    },
    {
     "name": "stderr",
     "output_type": "stream",
     "text": [
      " 83%|████████▎ | 100050/120975 [02:17<00:43, 483.46it/s]"
     ]
    },
    {
     "name": "stdout",
     "output_type": "stream",
     "text": [
      "804465.jpg\n",
      "804475.jpg\n",
      "804712.jpg\n",
      "804978.jpg\n",
      "805019.jpg\n",
      "805029.jpg\n",
      "805039.jpg\n",
      "805191.jpg\n",
      "805261.jpg\n",
      "805281.jpg\n"
     ]
    },
    {
     "name": "stderr",
     "output_type": "stream",
     "text": [
      " 83%|████████▎ | 100248/120975 [02:17<00:42, 485.16it/s]"
     ]
    },
    {
     "name": "stdout",
     "output_type": "stream",
     "text": [
      "806165.jpg\n",
      "8069.jpg\n"
     ]
    },
    {
     "name": "stderr",
     "output_type": "stream",
     "text": [
      " 83%|████████▎ | 100347/120975 [02:18<00:42, 487.90it/s]"
     ]
    },
    {
     "name": "stdout",
     "output_type": "stream",
     "text": [
      "807378.jpg\n",
      "807388.jpg\n",
      "807440.jpg\n",
      "807470.jpg\n"
     ]
    },
    {
     "name": "stderr",
     "output_type": "stream",
     "text": [
      " 83%|████████▎ | 100698/120975 [02:18<00:41, 489.68it/s]"
     ]
    },
    {
     "name": "stdout",
     "output_type": "stream",
     "text": [
      "810801.jpg\n",
      "811093.jpg\n",
      "811366.jpg\n"
     ]
    },
    {
     "name": "stderr",
     "output_type": "stream",
     "text": [
      " 83%|████████▎ | 100797/120975 [02:18<00:41, 483.96it/s]"
     ]
    },
    {
     "name": "stdout",
     "output_type": "stream",
     "text": [
      "811792.jpg\n",
      "811802.jpg\n",
      "812027.jpg\n",
      "812129.jpg\n"
     ]
    },
    {
     "name": "stderr",
     "output_type": "stream",
     "text": [
      " 83%|████████▎ | 100903/120975 [02:19<00:42, 468.63it/s]"
     ]
    },
    {
     "name": "stdout",
     "output_type": "stream",
     "text": [
      "81290.jpg\n",
      "813402.jpg\n"
     ]
    },
    {
     "name": "stderr",
     "output_type": "stream",
     "text": [
      " 83%|████████▎ | 100996/120975 [02:19<00:46, 426.14it/s]"
     ]
    },
    {
     "name": "stdout",
     "output_type": "stream",
     "text": [
      "813562.jpg\n",
      "813792.jpg\n",
      "813802.jpg\n",
      "813812.jpg\n",
      "813882.jpg\n",
      "813892.jpg\n",
      "813902.jpg\n"
     ]
    },
    {
     "name": "stderr",
     "output_type": "stream",
     "text": [
      " 84%|████████▎ | 101141/120975 [02:19<00:42, 464.43it/s]"
     ]
    },
    {
     "name": "stdout",
     "output_type": "stream",
     "text": [
      "81495.jpg\n",
      "815170.jpg\n",
      "815210.jpg\n"
     ]
    },
    {
     "name": "stderr",
     "output_type": "stream",
     "text": [
      " 84%|████████▎ | 101283/120975 [02:20<00:42, 459.18it/s]"
     ]
    },
    {
     "name": "stdout",
     "output_type": "stream",
     "text": [
      "816207.jpg\n",
      "816731.jpg\n",
      "816751.jpg\n",
      "816761.jpg\n",
      "81698.jpg\n",
      "817021.jpg\n",
      "817031.jpg\n"
     ]
    },
    {
     "name": "stderr",
     "output_type": "stream",
     "text": [
      " 84%|████████▍ | 101434/120975 [02:20<00:40, 488.13it/s]"
     ]
    },
    {
     "name": "stdout",
     "output_type": "stream",
     "text": [
      "817181.jpg\n",
      "817191.jpg\n",
      "817421.jpg\n",
      "817539.jpg\n"
     ]
    },
    {
     "name": "stderr",
     "output_type": "stream",
     "text": [
      " 84%|████████▍ | 101483/120975 [02:20<00:41, 471.92it/s]"
     ]
    },
    {
     "name": "stdout",
     "output_type": "stream",
     "text": [
      "818237.jpg\n",
      "818247.jpg\n",
      "818257.jpg\n",
      "818267.jpg\n",
      "818277.jpg\n",
      "818761.jpg\n"
     ]
    },
    {
     "name": "stderr",
     "output_type": "stream",
     "text": [
      " 84%|████████▍ | 101632/120975 [02:20<00:40, 475.22it/s]"
     ]
    },
    {
     "name": "stdout",
     "output_type": "stream",
     "text": [
      "818972.jpg\n",
      "81912.jpg\n",
      "819122.jpg\n",
      "819132.jpg\n",
      "819142.jpg\n",
      "819212.jpg\n",
      "81932.jpg\n",
      "819712.jpg\n",
      "819822.jpg\n"
     ]
    },
    {
     "name": "stderr",
     "output_type": "stream",
     "text": [
      " 84%|████████▍ | 101731/120975 [02:20<00:41, 462.33it/s]"
     ]
    },
    {
     "name": "stdout",
     "output_type": "stream",
     "text": [
      "820442.jpg\n",
      "820452.jpg\n",
      "820462.jpg\n",
      "820564.jpg\n",
      "82084.jpg\n"
     ]
    },
    {
     "name": "stderr",
     "output_type": "stream",
     "text": [
      " 84%|████████▍ | 101888/120975 [02:21<00:38, 494.53it/s]"
     ]
    },
    {
     "name": "stdout",
     "output_type": "stream",
     "text": [
      "82184.jpg\n",
      "8222.jpg\n"
     ]
    },
    {
     "name": "stderr",
     "output_type": "stream",
     "text": [
      " 84%|████████▍ | 102080/120975 [02:21<00:41, 455.59it/s]"
     ]
    },
    {
     "name": "stdout",
     "output_type": "stream",
     "text": [
      "823470.jpg\n",
      "823490.jpg\n",
      "823914.jpg\n",
      "823924.jpg\n",
      "823974.jpg\n",
      "823984.jpg\n",
      "824014.jpg\n",
      "824124.jpg\n",
      "824364.jpg\n",
      "824374.jpg\n"
     ]
    },
    {
     "name": "stderr",
     "output_type": "stream",
     "text": [
      " 85%|████████▍ | 102230/120975 [02:22<00:39, 478.89it/s]"
     ]
    },
    {
     "name": "stdout",
     "output_type": "stream",
     "text": [
      "824574.jpg\n",
      "825117.jpg\n"
     ]
    },
    {
     "name": "stderr",
     "output_type": "stream",
     "text": [
      " 85%|████████▍ | 102327/120975 [02:22<00:39, 466.63it/s]"
     ]
    },
    {
     "name": "stdout",
     "output_type": "stream",
     "text": [
      "825717.jpg\n",
      "825727.jpg\n",
      "8258.jpg\n",
      "825857.jpg\n",
      "825907.jpg\n",
      "826147.jpg\n",
      "826482.jpg\n"
     ]
    },
    {
     "name": "stderr",
     "output_type": "stream",
     "text": [
      " 85%|████████▍ | 102424/120975 [02:22<00:39, 470.47it/s]"
     ]
    },
    {
     "name": "stdout",
     "output_type": "stream",
     "text": [
      "826632.jpg\n",
      "82690.jpg\n",
      "82701.jpg\n"
     ]
    },
    {
     "name": "stderr",
     "output_type": "stream",
     "text": [
      " 85%|████████▍ | 102520/120975 [02:22<00:39, 468.18it/s]"
     ]
    },
    {
     "name": "stdout",
     "output_type": "stream",
     "text": [
      "827642.jpg\n",
      "827652.jpg\n",
      "827662.jpg\n",
      "82820.jpg\n",
      "828272.jpg\n",
      "828282.jpg\n",
      "828292.jpg\n",
      "828373.jpg\n",
      "828383.jpg\n",
      "828393.jpg\n",
      "828403.jpg\n",
      "828413.jpg\n",
      "828423.jpg\n",
      "828433.jpg\n"
     ]
    },
    {
     "name": "stderr",
     "output_type": "stream",
     "text": [
      " 85%|████████▍ | 102613/120975 [02:22<00:41, 440.95it/s]"
     ]
    },
    {
     "name": "stdout",
     "output_type": "stream",
     "text": [
      "828443.jpg\n",
      "828453.jpg\n",
      "828463.jpg\n",
      "828473.jpg\n",
      "828483.jpg\n",
      "828493.jpg\n",
      "828503.jpg\n",
      "828513.jpg\n",
      "828523.jpg\n",
      "828533.jpg\n",
      "828543.jpg\n",
      "828563.jpg\n",
      "828683.jpg\n",
      "828693.jpg\n",
      "828703.jpg\n",
      "828713.jpg\n",
      "828743.jpg\n",
      "82883.jpg\n",
      "828854.jpg\n",
      "828864.jpg\n",
      "828895.jpg\n",
      "828905.jpg\n",
      "828915.jpg\n",
      "828925.jpg\n",
      "828935.jpg\n",
      "828945.jpg\n",
      "828965.jpg\n",
      "828975.jpg\n",
      "828995.jpg\n",
      "829005.jpg\n",
      "829015.jpg\n",
      "829025.jpg\n",
      "829035.jpg\n",
      "829045.jpg\n",
      "829055.jpg\n",
      "829065.jpg\n",
      "829075.jpg\n",
      "829156.jpg\n",
      "829266.jpg\n"
     ]
    },
    {
     "name": "stderr",
     "output_type": "stream",
     "text": [
      " 85%|████████▍ | 102750/120975 [02:23<00:41, 444.37it/s]"
     ]
    },
    {
     "name": "stdout",
     "output_type": "stream",
     "text": [
      "829596.jpg\n",
      "83029.jpg\n",
      "83039.jpg\n"
     ]
    },
    {
     "name": "stderr",
     "output_type": "stream",
     "text": [
      " 85%|████████▌ | 102843/120975 [02:23<00:42, 426.40it/s]"
     ]
    },
    {
     "name": "stdout",
     "output_type": "stream",
     "text": [
      "83049.jpg\n",
      "830498.jpg\n",
      "83059.jpg\n",
      "83069.jpg\n",
      "830888.jpg\n",
      "830898.jpg\n",
      "830908.jpg\n",
      "830918.jpg\n",
      "830928.jpg\n",
      "830938.jpg\n",
      "831008.jpg\n",
      "831018.jpg\n",
      "831028.jpg\n",
      "831038.jpg\n",
      "831048.jpg\n",
      "831058.jpg\n",
      "831068.jpg\n",
      "831078.jpg\n",
      "831088.jpg\n",
      "831098.jpg\n",
      "831108.jpg\n",
      "831138.jpg\n",
      "831168.jpg\n",
      "831178.jpg\n",
      "831188.jpg\n",
      "831198.jpg\n"
     ]
    },
    {
     "name": "stderr",
     "output_type": "stream",
     "text": [
      " 85%|████████▌ | 102935/120975 [02:23<00:41, 430.55it/s]"
     ]
    },
    {
     "name": "stdout",
     "output_type": "stream",
     "text": [
      "831232.jpg\n",
      "831242.jpg\n",
      "831252.jpg\n",
      "831263.jpg\n",
      "831273.jpg\n",
      "831283.jpg\n",
      "831293.jpg\n",
      "831306.jpg\n",
      "831326.jpg\n",
      "831386.jpg\n",
      "831396.jpg\n",
      "831468.jpg\n",
      "831562.jpg\n",
      "83158.jpg\n",
      "83169.jpg\n",
      "831853.jpg\n"
     ]
    },
    {
     "name": "stderr",
     "output_type": "stream",
     "text": [
      " 85%|████████▌ | 103175/120975 [02:24<00:39, 451.61it/s]"
     ]
    },
    {
     "name": "stdout",
     "output_type": "stream",
     "text": [
      "83379.jpg\n"
     ]
    },
    {
     "name": "stderr",
     "output_type": "stream",
     "text": [
      " 85%|████████▌ | 103271/120975 [02:24<00:40, 441.78it/s]"
     ]
    },
    {
     "name": "stdout",
     "output_type": "stream",
     "text": [
      "834582.jpg\n",
      "834613.jpg\n",
      "834623.jpg\n",
      "834633.jpg\n",
      "834644.jpg\n",
      "834654.jpg\n",
      "834725.jpg\n",
      "834735.jpg\n",
      "834745.jpg\n",
      "834755.jpg\n",
      "834766.jpg\n",
      "834777.jpg\n",
      "834787.jpg\n",
      "834797.jpg\n",
      "834808.jpg\n",
      "834818.jpg\n",
      "834828.jpg\n",
      "834838.jpg\n",
      "834848.jpg\n",
      "834858.jpg\n",
      "834868.jpg\n",
      "834908.jpg\n",
      "834918.jpg\n",
      "834928.jpg\n",
      "834938.jpg\n",
      "834948.jpg\n",
      "834958.jpg\n",
      "834969.jpg\n",
      "834979.jpg\n",
      "834989.jpg\n",
      "834999.jpg\n",
      "835029.jpg\n",
      "835039.jpg\n",
      "835049.jpg\n",
      "835059.jpg\n",
      "835069.jpg\n",
      "835119.jpg\n",
      "835129.jpg\n",
      "835139.jpg\n",
      "835149.jpg\n"
     ]
    },
    {
     "name": "stderr",
     "output_type": "stream",
     "text": [
      " 85%|████████▌ | 103410/120975 [02:24<00:39, 444.68it/s]"
     ]
    },
    {
     "name": "stdout",
     "output_type": "stream",
     "text": [
      "835360.jpg\n"
     ]
    },
    {
     "name": "stderr",
     "output_type": "stream",
     "text": [
      " 86%|████████▌ | 103603/120975 [02:25<00:37, 466.98it/s]"
     ]
    },
    {
     "name": "stdout",
     "output_type": "stream",
     "text": [
      "837516.jpg\n",
      "838096.jpg\n"
     ]
    },
    {
     "name": "stderr",
     "output_type": "stream",
     "text": [
      " 86%|████████▌ | 103745/120975 [02:25<00:37, 460.86it/s]"
     ]
    },
    {
     "name": "stdout",
     "output_type": "stream",
     "text": [
      "83869.jpg\n"
     ]
    },
    {
     "name": "stderr",
     "output_type": "stream",
     "text": [
      " 86%|████████▌ | 103838/120975 [02:25<00:38, 444.00it/s]"
     ]
    },
    {
     "name": "stdout",
     "output_type": "stream",
     "text": [
      "839611.jpg\n",
      "839621.jpg\n",
      "839631.jpg\n",
      "839661.jpg\n",
      "839671.jpg\n",
      "839681.jpg\n",
      "839691.jpg\n",
      "839701.jpg\n",
      "839721.jpg\n",
      "839741.jpg\n",
      "839751.jpg\n",
      "839761.jpg\n",
      "839791.jpg\n",
      "839801.jpg\n",
      "840201.jpg\n",
      "840211.jpg\n",
      "840221.jpg\n"
     ]
    },
    {
     "name": "stderr",
     "output_type": "stream",
     "text": [
      " 86%|████████▌ | 103976/120975 [02:25<00:37, 451.43it/s]"
     ]
    },
    {
     "name": "stdout",
     "output_type": "stream",
     "text": [
      "840824.jpg\n",
      "840844.jpg\n",
      "840854.jpg\n"
     ]
    },
    {
     "name": "stderr",
     "output_type": "stream",
     "text": [
      " 86%|████████▌ | 104222/120975 [02:26<00:38, 438.49it/s]"
     ]
    },
    {
     "name": "stdout",
     "output_type": "stream",
     "text": [
      "842967.jpg\n",
      "842977.jpg\n",
      "84301.jpg\n",
      "843097.jpg\n",
      "843107.jpg\n",
      "84311.jpg\n",
      "843117.jpg\n",
      "843267.jpg\n",
      "843297.jpg\n",
      "843307.jpg\n"
     ]
    },
    {
     "name": "stderr",
     "output_type": "stream",
     "text": [
      " 86%|████████▋ | 104361/120975 [02:26<00:36, 450.41it/s]"
     ]
    },
    {
     "name": "stdout",
     "output_type": "stream",
     "text": [
      "844267.jpg\n",
      "844866.jpg\n",
      "845077.jpg\n"
     ]
    },
    {
     "name": "stderr",
     "output_type": "stream",
     "text": [
      " 86%|████████▋ | 104560/120975 [02:27<00:35, 468.70it/s]"
     ]
    },
    {
     "name": "stdout",
     "output_type": "stream",
     "text": [
      "846048.jpg\n",
      "846058.jpg\n",
      "846101.jpg\n",
      "846111.jpg\n",
      "846122.jpg\n",
      "846163.jpg\n"
     ]
    },
    {
     "name": "stderr",
     "output_type": "stream",
     "text": [
      " 87%|████████▋ | 104657/120975 [02:27<00:34, 467.31it/s]"
     ]
    },
    {
     "name": "stdout",
     "output_type": "stream",
     "text": [
      "846854.jpg\n",
      "84692.jpg\n",
      "847185.jpg\n",
      "84772.jpg\n",
      "847728.jpg\n"
     ]
    },
    {
     "name": "stderr",
     "output_type": "stream",
     "text": [
      " 87%|████████▋ | 104806/120975 [02:27<00:33, 480.29it/s]"
     ]
    },
    {
     "name": "stdout",
     "output_type": "stream",
     "text": [
      "848337.jpg\n",
      "848709.jpg\n",
      "848969.jpg\n",
      "849205.jpg\n"
     ]
    },
    {
     "name": "stderr",
     "output_type": "stream",
     "text": [
      " 87%|████████▋ | 104901/120975 [02:27<00:35, 448.43it/s]"
     ]
    },
    {
     "name": "stdout",
     "output_type": "stream",
     "text": [
      "849265.jpg\n",
      "849335.jpg\n",
      "849345.jpg\n",
      "849720.jpg\n"
     ]
    },
    {
     "name": "stderr",
     "output_type": "stream",
     "text": [
      " 87%|████████▋ | 104992/120975 [02:28<00:37, 424.03it/s]"
     ]
    },
    {
     "name": "stdout",
     "output_type": "stream",
     "text": [
      "850403.jpg\n",
      "850905.jpg\n",
      "85102.jpg\n",
      "85112.jpg\n"
     ]
    },
    {
     "name": "stderr",
     "output_type": "stream",
     "text": [
      " 87%|████████▋ | 105420/120975 [02:29<00:33, 471.06it/s]"
     ]
    },
    {
     "name": "stdout",
     "output_type": "stream",
     "text": [
      "853996.jpg\n",
      "854142.jpg\n",
      "854203.jpg\n"
     ]
    },
    {
     "name": "stderr",
     "output_type": "stream",
     "text": [
      " 87%|████████▋ | 105568/120975 [02:29<00:32, 476.60it/s]"
     ]
    },
    {
     "name": "stdout",
     "output_type": "stream",
     "text": [
      "855653.jpg\n",
      "856153.jpg\n",
      "856283.jpg\n",
      "856293.jpg\n"
     ]
    },
    {
     "name": "stderr",
     "output_type": "stream",
     "text": [
      " 87%|████████▋ | 105711/120975 [02:29<00:32, 468.51it/s]"
     ]
    },
    {
     "name": "stdout",
     "output_type": "stream",
     "text": [
      "856836.jpg\n",
      "856846.jpg\n",
      "856906.jpg\n",
      "856926.jpg\n",
      "856936.jpg\n",
      "857141.jpg\n",
      "857151.jpg\n",
      "857288.jpg\n",
      "857378.jpg\n",
      "857388.jpg\n",
      "857398.jpg\n",
      "857448.jpg\n"
     ]
    },
    {
     "name": "stderr",
     "output_type": "stream",
     "text": [
      " 88%|████████▊ | 105855/120975 [02:30<00:33, 449.30it/s]"
     ]
    },
    {
     "name": "stdout",
     "output_type": "stream",
     "text": [
      "858068.jpg\n",
      "858078.jpg\n",
      "858128.jpg\n",
      "858178.jpg\n",
      "858188.jpg\n",
      "858803.jpg\n"
     ]
    },
    {
     "name": "stderr",
     "output_type": "stream",
     "text": [
      " 88%|████████▊ | 106002/120975 [02:30<00:31, 475.29it/s]"
     ]
    },
    {
     "name": "stdout",
     "output_type": "stream",
     "text": [
      "859234.jpg\n",
      "859244.jpg\n"
     ]
    },
    {
     "name": "stderr",
     "output_type": "stream",
     "text": [
      " 88%|████████▊ | 106099/120975 [02:30<00:33, 449.59it/s]"
     ]
    },
    {
     "name": "stdout",
     "output_type": "stream",
     "text": [
      "860752.jpg\n",
      "860813.jpg\n"
     ]
    },
    {
     "name": "stderr",
     "output_type": "stream",
     "text": [
      " 88%|████████▊ | 106197/120975 [02:30<00:31, 466.66it/s]"
     ]
    },
    {
     "name": "stdout",
     "output_type": "stream",
     "text": [
      "861598.jpg\n",
      "862248.jpg\n",
      "862258.jpg\n",
      "862269.jpg\n",
      "862309.jpg\n",
      "862319.jpg\n",
      "862329.jpg\n",
      "862339.jpg\n"
     ]
    },
    {
     "name": "stderr",
     "output_type": "stream",
     "text": [
      " 88%|████████▊ | 106291/120975 [02:30<00:31, 461.40it/s]"
     ]
    },
    {
     "name": "stdout",
     "output_type": "stream",
     "text": [
      "862471.jpg\n",
      "862481.jpg\n",
      "862521.jpg\n",
      "862531.jpg\n",
      "862541.jpg\n",
      "862551.jpg\n",
      "862561.jpg\n",
      "862571.jpg\n",
      "862581.jpg\n",
      "862591.jpg\n"
     ]
    },
    {
     "name": "stderr",
     "output_type": "stream",
     "text": [
      " 88%|████████▊ | 106535/120975 [02:31<00:30, 477.99it/s]"
     ]
    },
    {
     "name": "stdout",
     "output_type": "stream",
     "text": [
      "86446.jpg\n"
     ]
    },
    {
     "name": "stderr",
     "output_type": "stream",
     "text": [
      " 88%|████████▊ | 106630/120975 [02:31<00:32, 441.16it/s]"
     ]
    },
    {
     "name": "stdout",
     "output_type": "stream",
     "text": [
      "865395.jpg\n",
      "865405.jpg\n",
      "865415.jpg\n",
      "865425.jpg\n",
      "865435.jpg\n",
      "865477.jpg\n",
      "865487.jpg\n",
      "865507.jpg\n",
      "865517.jpg\n",
      "865527.jpg\n",
      "865537.jpg\n",
      "865547.jpg\n",
      "865557.jpg\n",
      "865567.jpg\n",
      "865577.jpg\n",
      "865627.jpg\n",
      "865637.jpg\n",
      "865727.jpg\n",
      "865737.jpg\n",
      "865747.jpg\n",
      "865757.jpg\n",
      "865818.jpg\n",
      "865828.jpg\n",
      "865848.jpg\n",
      "865858.jpg\n",
      "865868.jpg\n",
      "865878.jpg\n",
      "865888.jpg\n",
      "865898.jpg\n",
      "865908.jpg\n",
      "865928.jpg\n",
      "865988.jpg\n",
      "865998.jpg\n",
      "866008.jpg\n",
      "866018.jpg\n",
      "866028.jpg\n",
      "866038.jpg\n",
      "866048.jpg\n",
      "866058.jpg\n",
      "866068.jpg\n",
      "866078.jpg\n",
      "866088.jpg\n",
      "866098.jpg\n",
      "866108.jpg\n",
      "866118.jpg\n",
      "866129.jpg\n",
      "866139.jpg\n",
      "866149.jpg\n",
      "866159.jpg\n",
      "866170.jpg\n",
      "866180.jpg\n"
     ]
    },
    {
     "name": "stderr",
     "output_type": "stream",
     "text": [
      " 88%|████████▊ | 106719/120975 [02:31<00:33, 431.91it/s]"
     ]
    },
    {
     "name": "stdout",
     "output_type": "stream",
     "text": [
      "866190.jpg\n",
      "866200.jpg\n",
      "866210.jpg\n",
      "866220.jpg\n",
      "866230.jpg\n",
      "866310.jpg\n",
      "866320.jpg\n",
      "866330.jpg\n",
      "866340.jpg\n",
      "866350.jpg\n",
      "866360.jpg\n",
      "866370.jpg\n",
      "866410.jpg\n",
      "866420.jpg\n",
      "866430.jpg\n",
      "866440.jpg\n",
      "866450.jpg\n",
      "866460.jpg\n",
      "866700.jpg\n",
      "866710.jpg\n",
      "866720.jpg\n",
      "866800.jpg\n",
      "866810.jpg\n",
      "867020.jpg\n"
     ]
    },
    {
     "name": "stderr",
     "output_type": "stream",
     "text": [
      " 88%|████████▊ | 106807/120975 [02:32<00:33, 428.97it/s]"
     ]
    },
    {
     "name": "stdout",
     "output_type": "stream",
     "text": [
      "867070.jpg\n",
      "867080.jpg\n",
      "867090.jpg\n",
      "867100.jpg\n",
      "867120.jpg\n",
      "867130.jpg\n",
      "867140.jpg\n",
      "867150.jpg\n",
      "867160.jpg\n",
      "867170.jpg\n",
      "867220.jpg\n",
      "867230.jpg\n",
      "867240.jpg\n",
      "867250.jpg\n",
      "867422.jpg\n",
      "867432.jpg\n",
      "867443.jpg\n",
      "867453.jpg\n",
      "867513.jpg\n",
      "867523.jpg\n",
      "867533.jpg\n",
      "867543.jpg\n",
      "867553.jpg\n",
      "867563.jpg\n",
      "867573.jpg\n",
      "867583.jpg\n",
      "867593.jpg\n",
      "867603.jpg\n",
      "867613.jpg\n"
     ]
    },
    {
     "name": "stderr",
     "output_type": "stream",
     "text": [
      " 88%|████████▊ | 106952/120975 [02:32<00:31, 447.99it/s]"
     ]
    },
    {
     "name": "stdout",
     "output_type": "stream",
     "text": [
      "868725.jpg\n",
      "868735.jpg\n",
      "868745.jpg\n",
      "868755.jpg\n",
      "868765.jpg\n",
      "868776.jpg\n",
      "868799.jpg\n",
      "868809.jpg\n",
      "868819.jpg\n",
      "868838.jpg\n",
      "868850.jpg\n",
      "868860.jpg\n",
      "868870.jpg\n",
      "868880.jpg\n",
      "868902.jpg\n",
      "868912.jpg\n",
      "868922.jpg\n",
      "868932.jpg\n",
      "868942.jpg\n",
      "868952.jpg\n",
      "868973.jpg\n",
      "868983.jpg\n",
      "868993.jpg\n",
      "869003.jpg\n",
      "869013.jpg\n",
      "869024.jpg\n",
      "869034.jpg\n",
      "869044.jpg\n",
      "869054.jpg\n",
      "869064.jpg\n",
      "869074.jpg\n",
      "869186.jpg\n",
      "869199.jpg\n",
      "869210.jpg\n",
      "869220.jpg\n",
      "869230.jpg\n",
      "869240.jpg\n",
      "869250.jpg\n",
      "869260.jpg\n",
      "869280.jpg\n",
      "869300.jpg\n"
     ]
    },
    {
     "name": "stderr",
     "output_type": "stream",
     "text": [
      " 89%|████████▊ | 107092/120975 [02:32<00:30, 451.25it/s]"
     ]
    },
    {
     "name": "stdout",
     "output_type": "stream",
     "text": [
      "869634.jpg\n",
      "869644.jpg\n",
      "869654.jpg\n",
      "869664.jpg\n",
      "869766.jpg\n",
      "869858.jpg\n",
      "869868.jpg\n",
      "87004.jpg\n",
      "87026.jpg\n",
      "870296.jpg\n"
     ]
    },
    {
     "name": "stderr",
     "output_type": "stream",
     "text": [
      " 89%|████████▊ | 107139/120975 [02:32<00:30, 455.76it/s]"
     ]
    },
    {
     "name": "stdout",
     "output_type": "stream",
     "text": [
      "87050.jpg\n",
      "87072.jpg\n",
      "87082.jpg\n"
     ]
    },
    {
     "name": "stderr",
     "output_type": "stream",
     "text": [
      " 89%|████████▊ | 107326/120975 [02:33<00:29, 455.37it/s]"
     ]
    },
    {
     "name": "stdout",
     "output_type": "stream",
     "text": [
      "872006.jpg\n",
      "872086.jpg\n",
      "872176.jpg\n",
      "872706.jpg\n"
     ]
    },
    {
     "name": "stderr",
     "output_type": "stream",
     "text": [
      " 89%|████████▉ | 107555/120975 [02:33<00:30, 439.13it/s]"
     ]
    },
    {
     "name": "stdout",
     "output_type": "stream",
     "text": [
      "874336.jpg\n",
      "875.jpg\n"
     ]
    },
    {
     "name": "stderr",
     "output_type": "stream",
     "text": [
      " 89%|████████▉ | 107698/120975 [02:34<00:28, 462.67it/s]"
     ]
    },
    {
     "name": "stdout",
     "output_type": "stream",
     "text": [
      "875360.jpg\n",
      "875412.jpg\n",
      "875443.jpg\n",
      "875473.jpg\n",
      "875483.jpg\n"
     ]
    },
    {
     "name": "stderr",
     "output_type": "stream",
     "text": [
      " 89%|████████▉ | 107897/120975 [02:34<00:27, 469.08it/s]"
     ]
    },
    {
     "name": "stdout",
     "output_type": "stream",
     "text": [
      "877699.jpg\n",
      "877739.jpg\n",
      "877986.jpg\n",
      "877996.jpg\n"
     ]
    },
    {
     "name": "stderr",
     "output_type": "stream",
     "text": [
      " 89%|████████▉ | 107991/120975 [02:34<00:29, 445.84it/s]"
     ]
    },
    {
     "name": "stdout",
     "output_type": "stream",
     "text": [
      "878646.jpg\n",
      "879266.jpg\n",
      "879317.jpg\n",
      "879327.jpg\n",
      "87933.jpg\n",
      "879397.jpg\n",
      "879407.jpg\n"
     ]
    },
    {
     "name": "stderr",
     "output_type": "stream",
     "text": [
      " 89%|████████▉ | 108080/120975 [02:34<00:30, 417.36it/s]"
     ]
    },
    {
     "name": "stdout",
     "output_type": "stream",
     "text": [
      "879418.jpg\n",
      "879428.jpg\n",
      "879438.jpg\n",
      "879449.jpg\n",
      "87954.jpg\n",
      "879671.jpg\n",
      "879681.jpg\n",
      "879923.jpg\n"
     ]
    },
    {
     "name": "stderr",
     "output_type": "stream",
     "text": [
      " 89%|████████▉ | 108224/120975 [02:35<00:28, 453.85it/s]"
     ]
    },
    {
     "name": "stdout",
     "output_type": "stream",
     "text": [
      "880597.jpg\n",
      "880688.jpg\n"
     ]
    },
    {
     "name": "stderr",
     "output_type": "stream",
     "text": [
      " 90%|████████▉ | 108367/120975 [02:35<00:27, 454.75it/s]"
     ]
    },
    {
     "name": "stdout",
     "output_type": "stream",
     "text": [
      "882048.jpg\n",
      "882523.jpg\n"
     ]
    },
    {
     "name": "stderr",
     "output_type": "stream",
     "text": [
      " 90%|████████▉ | 108554/120975 [02:35<00:27, 457.04it/s]"
     ]
    },
    {
     "name": "stdout",
     "output_type": "stream",
     "text": [
      "883768.jpg\n"
     ]
    },
    {
     "name": "stderr",
     "output_type": "stream",
     "text": [
      " 90%|████████▉ | 108651/120975 [02:36<00:26, 468.48it/s]"
     ]
    },
    {
     "name": "stdout",
     "output_type": "stream",
     "text": [
      "884930.jpg\n",
      "885250.jpg\n"
     ]
    },
    {
     "name": "stderr",
     "output_type": "stream",
     "text": [
      " 90%|████████▉ | 108840/120975 [02:36<00:26, 461.40it/s]"
     ]
    },
    {
     "name": "stdout",
     "output_type": "stream",
     "text": [
      "886500.jpg\n",
      "886720.jpg\n",
      "887051.jpg\n",
      "887151.jpg\n",
      "887161.jpg\n",
      "887261.jpg\n"
     ]
    },
    {
     "name": "stderr",
     "output_type": "stream",
     "text": [
      " 90%|█████████ | 108984/120975 [02:36<00:25, 462.16it/s]"
     ]
    },
    {
     "name": "stdout",
     "output_type": "stream",
     "text": [
      "887891.jpg\n",
      "887931.jpg\n",
      "887941.jpg\n",
      "888001.jpg\n",
      "888442.jpg\n",
      "888452.jpg\n",
      "888462.jpg\n"
     ]
    },
    {
     "name": "stderr",
     "output_type": "stream",
     "text": [
      " 90%|█████████ | 109078/120975 [02:37<00:26, 440.79it/s]"
     ]
    },
    {
     "name": "stdout",
     "output_type": "stream",
     "text": [
      "888762.jpg\n",
      "888772.jpg\n",
      "888782.jpg\n",
      "888792.jpg\n"
     ]
    },
    {
     "name": "stderr",
     "output_type": "stream",
     "text": [
      " 90%|█████████ | 109166/120975 [02:37<00:29, 395.99it/s]"
     ]
    },
    {
     "name": "stdout",
     "output_type": "stream",
     "text": [
      "889708.jpg\n",
      "889718.jpg\n",
      "889728.jpg\n",
      "889738.jpg\n",
      "889748.jpg\n",
      "889768.jpg\n",
      "889778.jpg\n",
      "889789.jpg\n",
      "889800.jpg\n",
      "889810.jpg\n",
      "889820.jpg\n",
      "889830.jpg\n",
      "889840.jpg\n",
      "889880.jpg\n",
      "889890.jpg\n",
      "889900.jpg\n",
      "889910.jpg\n",
      "889920.jpg\n",
      "889930.jpg\n",
      "889940.jpg\n",
      "889950.jpg\n",
      "889960.jpg\n",
      "889970.jpg\n",
      "889980.jpg\n",
      "889990.jpg\n",
      "890000.jpg\n",
      "890010.jpg\n",
      "890020.jpg\n",
      "890030.jpg\n",
      "890040.jpg\n",
      "890050.jpg\n",
      "890062.jpg\n",
      "890072.jpg\n",
      "890082.jpg\n",
      "890092.jpg\n",
      "890102.jpg\n",
      "890112.jpg\n",
      "890122.jpg\n",
      "890132.jpg\n",
      "890142.jpg\n",
      "890152.jpg\n",
      "890162.jpg\n"
     ]
    },
    {
     "name": "stderr",
     "output_type": "stream",
     "text": [
      " 90%|█████████ | 109299/120975 [02:37<00:27, 421.24it/s]"
     ]
    },
    {
     "name": "stdout",
     "output_type": "stream",
     "text": [
      "890673.jpg\n",
      "890683.jpg\n",
      "890703.jpg\n",
      "890724.jpg\n",
      "890734.jpg\n",
      "890817.jpg\n",
      "890837.jpg\n"
     ]
    },
    {
     "name": "stderr",
     "output_type": "stream",
     "text": [
      " 90%|█████████ | 109393/120975 [02:37<00:26, 442.69it/s]"
     ]
    },
    {
     "name": "stdout",
     "output_type": "stream",
     "text": [
      "891790.jpg\n",
      "891800.jpg\n",
      "892421.jpg\n"
     ]
    },
    {
     "name": "stderr",
     "output_type": "stream",
     "text": [
      " 91%|█████████ | 109628/120975 [02:38<00:26, 420.96it/s]"
     ]
    },
    {
     "name": "stdout",
     "output_type": "stream",
     "text": [
      "893878.jpg\n",
      "893898.jpg\n"
     ]
    },
    {
     "name": "stderr",
     "output_type": "stream",
     "text": [
      " 91%|█████████ | 109719/120975 [02:38<00:27, 411.98it/s]"
     ]
    },
    {
     "name": "stdout",
     "output_type": "stream",
     "text": [
      "894789.jpg\n",
      "894799.jpg\n",
      "894809.jpg\n",
      "894819.jpg\n",
      "894879.jpg\n",
      "895009.jpg\n",
      "895069.jpg\n",
      "895259.jpg\n",
      "895437.jpg\n",
      "895500.jpg\n"
     ]
    },
    {
     "name": "stderr",
     "output_type": "stream",
     "text": [
      " 91%|█████████ | 109902/120975 [02:39<00:24, 445.69it/s]"
     ]
    },
    {
     "name": "stdout",
     "output_type": "stream",
     "text": [
      "896625.jpg\n",
      "896635.jpg\n",
      "897268.jpg\n",
      "897278.jpg\n"
     ]
    },
    {
     "name": "stderr",
     "output_type": "stream",
     "text": [
      " 91%|█████████ | 110043/120975 [02:39<00:24, 447.48it/s]"
     ]
    },
    {
     "name": "stdout",
     "output_type": "stream",
     "text": [
      "897909.jpg\n",
      "897919.jpg\n",
      "898099.jpg\n",
      "898109.jpg\n",
      "898119.jpg\n",
      "898199.jpg\n",
      "898209.jpg\n",
      "898219.jpg\n",
      "898229.jpg\n",
      "898239.jpg\n",
      "898249.jpg\n",
      "898269.jpg\n",
      "898449.jpg\n",
      "898459.jpg\n",
      "898469.jpg\n",
      "898489.jpg\n"
     ]
    },
    {
     "name": "stderr",
     "output_type": "stream",
     "text": [
      " 91%|█████████ | 110184/120975 [02:39<00:23, 462.16it/s]"
     ]
    },
    {
     "name": "stdout",
     "output_type": "stream",
     "text": [
      "899.jpg\n",
      "899219.jpg\n",
      "899229.jpg\n"
     ]
    },
    {
     "name": "stderr",
     "output_type": "stream",
     "text": [
      " 91%|█████████ | 110276/120975 [02:39<00:24, 445.77it/s]"
     ]
    },
    {
     "name": "stdout",
     "output_type": "stream",
     "text": [
      "900051.jpg\n",
      "900061.jpg\n",
      "900331.jpg\n",
      "900341.jpg\n",
      "900351.jpg\n",
      "900361.jpg\n",
      "900371.jpg\n",
      "900381.jpg\n",
      "900391.jpg\n",
      "900712.jpg\n",
      "900862.jpg\n"
     ]
    },
    {
     "name": "stderr",
     "output_type": "stream",
     "text": [
      " 91%|█████████▏| 110556/120975 [02:40<00:22, 460.42it/s]"
     ]
    },
    {
     "name": "stdout",
     "output_type": "stream",
     "text": [
      "902870.jpg\n",
      "902961.jpg\n",
      "903012.jpg\n",
      "903042.jpg\n",
      "903574.jpg\n"
     ]
    },
    {
     "name": "stderr",
     "output_type": "stream",
     "text": [
      " 92%|█████████▏| 110750/120975 [02:40<00:21, 466.74it/s]"
     ]
    },
    {
     "name": "stdout",
     "output_type": "stream",
     "text": [
      "90419.jpg\n",
      "904214.jpg\n"
     ]
    },
    {
     "name": "stderr",
     "output_type": "stream",
     "text": [
      " 92%|█████████▏| 110844/120975 [02:41<00:22, 457.09it/s]"
     ]
    },
    {
     "name": "stdout",
     "output_type": "stream",
     "text": [
      "905248.jpg\n"
     ]
    },
    {
     "name": "stderr",
     "output_type": "stream",
     "text": [
      " 92%|█████████▏| 110936/120975 [02:41<00:22, 449.90it/s]"
     ]
    },
    {
     "name": "stdout",
     "output_type": "stream",
     "text": [
      "906108.jpg\n",
      "906128.jpg\n",
      "906769.jpg\n"
     ]
    },
    {
     "name": "stderr",
     "output_type": "stream",
     "text": [
      " 92%|█████████▏| 111029/120975 [02:41<00:22, 439.62it/s]"
     ]
    },
    {
     "name": "stdout",
     "output_type": "stream",
     "text": [
      "907180.jpg\n",
      "907446.jpg\n",
      "907636.jpg\n",
      "907646.jpg\n",
      "907656.jpg\n",
      "907675.jpg\n",
      "907685.jpg\n",
      "907695.jpg\n",
      "907705.jpg\n",
      "907716.jpg\n",
      "907726.jpg\n",
      "907736.jpg\n",
      "907746.jpg\n",
      "907756.jpg\n",
      "907766.jpg\n",
      "907776.jpg\n"
     ]
    },
    {
     "name": "stderr",
     "output_type": "stream",
     "text": [
      " 92%|█████████▏| 111205/120975 [02:41<00:23, 417.81it/s]"
     ]
    },
    {
     "name": "stdout",
     "output_type": "stream",
     "text": [
      "90888.jpg\n",
      "908906.jpg\n",
      "90898.jpg\n",
      "909.jpg\n",
      "909266.jpg\n",
      "909612.jpg\n"
     ]
    },
    {
     "name": "stderr",
     "output_type": "stream",
     "text": [
      " 92%|█████████▏| 111330/120975 [02:42<00:24, 392.91it/s]"
     ]
    },
    {
     "name": "stdout",
     "output_type": "stream",
     "text": [
      "910142.jpg\n",
      "910372.jpg\n"
     ]
    },
    {
     "name": "stderr",
     "output_type": "stream",
     "text": [
      " 92%|█████████▏| 111460/120975 [02:42<00:22, 417.70it/s]"
     ]
    },
    {
     "name": "stdout",
     "output_type": "stream",
     "text": [
      "911043.jpg\n",
      "911313.jpg\n",
      "911333.jpg\n",
      "911343.jpg\n"
     ]
    },
    {
     "name": "stderr",
     "output_type": "stream",
     "text": [
      " 92%|█████████▏| 111631/120975 [02:43<00:23, 399.23it/s]"
     ]
    },
    {
     "name": "stdout",
     "output_type": "stream",
     "text": [
      "912787.jpg\n",
      "912927.jpg\n",
      "912937.jpg\n",
      "913077.jpg\n"
     ]
    },
    {
     "name": "stderr",
     "output_type": "stream",
     "text": [
      " 92%|█████████▏| 111805/120975 [02:43<00:21, 425.72it/s]"
     ]
    },
    {
     "name": "stdout",
     "output_type": "stream",
     "text": [
      "914414.jpg\n",
      "914758.jpg\n",
      "914856.jpg\n",
      "914866.jpg\n",
      "914886.jpg\n"
     ]
    },
    {
     "name": "stderr",
     "output_type": "stream",
     "text": [
      " 93%|█████████▎| 111986/120975 [02:43<00:20, 436.88it/s]"
     ]
    },
    {
     "name": "stdout",
     "output_type": "stream",
     "text": [
      "916318.jpg\n",
      "916693.jpg\n",
      "916830.jpg\n"
     ]
    },
    {
     "name": "stderr",
     "output_type": "stream",
     "text": [
      " 93%|█████████▎| 112084/120975 [02:44<00:19, 458.22it/s]"
     ]
    },
    {
     "name": "stdout",
     "output_type": "stream",
     "text": [
      "917294.jpg\n"
     ]
    },
    {
     "name": "stderr",
     "output_type": "stream",
     "text": [
      " 93%|█████████▎| 112176/120975 [02:44<00:19, 442.82it/s]"
     ]
    },
    {
     "name": "stdout",
     "output_type": "stream",
     "text": [
      "918235.jpg\n",
      "918245.jpg\n",
      "918375.jpg\n",
      "918425.jpg\n",
      "918455.jpg\n",
      "918475.jpg\n",
      "918495.jpg\n",
      "918515.jpg\n",
      "918535.jpg\n",
      "918555.jpg\n",
      "918575.jpg\n",
      "918615.jpg\n",
      "918625.jpg\n",
      "918755.jpg\n"
     ]
    },
    {
     "name": "stderr",
     "output_type": "stream",
     "text": [
      " 93%|█████████▎| 112265/120975 [02:44<00:20, 427.31it/s]"
     ]
    },
    {
     "name": "stdout",
     "output_type": "stream",
     "text": [
      "919.jpg\n"
     ]
    },
    {
     "name": "stderr",
     "output_type": "stream",
     "text": [
      " 93%|█████████▎| 112448/120975 [02:44<00:19, 430.47it/s]"
     ]
    },
    {
     "name": "stdout",
     "output_type": "stream",
     "text": [
      "920517.jpg\n",
      "92062.jpg\n",
      "920637.jpg\n",
      "920647.jpg\n"
     ]
    },
    {
     "name": "stderr",
     "output_type": "stream",
     "text": [
      " 93%|█████████▎| 112580/120975 [02:45<00:19, 431.25it/s]"
     ]
    },
    {
     "name": "stdout",
     "output_type": "stream",
     "text": [
      "92173.jpg\n",
      "922290.jpg\n"
     ]
    },
    {
     "name": "stderr",
     "output_type": "stream",
     "text": [
      " 93%|█████████▎| 112710/120975 [02:45<00:20, 408.87it/s]"
     ]
    },
    {
     "name": "stdout",
     "output_type": "stream",
     "text": [
      "923058.jpg\n",
      "923298.jpg\n",
      "923308.jpg\n",
      "923398.jpg\n",
      "923408.jpg\n",
      "923418.jpg\n",
      "923428.jpg\n",
      "923438.jpg\n",
      "923488.jpg\n",
      "923498.jpg\n",
      "923508.jpg\n",
      "923518.jpg\n",
      "923528.jpg\n",
      "923558.jpg\n",
      "923568.jpg\n",
      "923668.jpg\n",
      "923688.jpg\n",
      "923698.jpg\n",
      "923718.jpg\n",
      "923728.jpg\n",
      "923738.jpg\n",
      "923748.jpg\n",
      "923758.jpg\n",
      "923768.jpg\n",
      "923778.jpg\n"
     ]
    },
    {
     "name": "stderr",
     "output_type": "stream",
     "text": [
      " 93%|█████████▎| 112790/120975 [02:45<00:21, 372.12it/s]"
     ]
    },
    {
     "name": "stdout",
     "output_type": "stream",
     "text": [
      "923818.jpg\n",
      "924503.jpg\n"
     ]
    },
    {
     "name": "stderr",
     "output_type": "stream",
     "text": [
      " 93%|█████████▎| 113018/120975 [02:46<00:21, 368.23it/s]"
     ]
    },
    {
     "name": "stdout",
     "output_type": "stream",
     "text": [
      "925975.jpg\n",
      "926025.jpg\n",
      "926325.jpg\n",
      "926567.jpg\n",
      "926577.jpg\n",
      "926587.jpg\n",
      "926597.jpg\n",
      "926607.jpg\n",
      "926617.jpg\n"
     ]
    },
    {
     "name": "stderr",
     "output_type": "stream",
     "text": [
      " 93%|█████████▎| 113091/120975 [02:46<00:24, 323.84it/s]"
     ]
    },
    {
     "name": "stdout",
     "output_type": "stream",
     "text": [
      "926727.jpg\n",
      "926737.jpg\n",
      "926747.jpg\n",
      "926757.jpg\n",
      "926767.jpg\n",
      "926817.jpg\n",
      "926827.jpg\n",
      "926837.jpg\n",
      "926847.jpg\n",
      "926857.jpg\n",
      "926867.jpg\n",
      "926877.jpg\n",
      "926927.jpg\n",
      "926937.jpg\n",
      "926957.jpg\n",
      "926967.jpg\n",
      "926977.jpg\n",
      "926987.jpg\n",
      "926997.jpg\n"
     ]
    },
    {
     "name": "stderr",
     "output_type": "stream",
     "text": [
      " 94%|█████████▎| 113195/120975 [02:46<00:23, 330.28it/s]"
     ]
    },
    {
     "name": "stdout",
     "output_type": "stream",
     "text": [
      "927368.jpg\n",
      "927378.jpg\n",
      "927388.jpg\n",
      "927398.jpg\n",
      "927488.jpg\n",
      "927548.jpg\n",
      "927558.jpg\n",
      "927568.jpg\n",
      "927578.jpg\n",
      "927598.jpg\n",
      "927608.jpg\n",
      "927618.jpg\n",
      "927628.jpg\n",
      "927638.jpg\n",
      "927648.jpg\n",
      "927658.jpg\n",
      "927669.jpg\n",
      "927679.jpg\n",
      "927689.jpg\n",
      "927789.jpg\n",
      "927809.jpg\n",
      "927849.jpg\n",
      "927899.jpg\n",
      "927909.jpg\n",
      "927919.jpg\n",
      "927969.jpg\n",
      "927979.jpg\n",
      "927989.jpg\n",
      "927999.jpg\n"
     ]
    },
    {
     "name": "stderr",
     "output_type": "stream",
     "text": [
      " 94%|█████████▎| 113274/120975 [02:47<00:21, 364.06it/s]"
     ]
    },
    {
     "name": "stdout",
     "output_type": "stream",
     "text": [
      "928039.jpg\n",
      "928049.jpg\n",
      "928119.jpg\n",
      "928499.jpg\n"
     ]
    },
    {
     "name": "stderr",
     "output_type": "stream",
     "text": [
      " 94%|█████████▎| 113362/120975 [02:47<00:19, 399.72it/s]"
     ]
    },
    {
     "name": "stdout",
     "output_type": "stream",
     "text": [
      "9289.jpg\n",
      "929219.jpg\n",
      "929229.jpg\n",
      "929409.jpg\n",
      "929710.jpg\n",
      "929720.jpg\n",
      "929730.jpg\n",
      "929740.jpg\n"
     ]
    },
    {
     "name": "stderr",
     "output_type": "stream",
     "text": [
      " 94%|█████████▍| 113443/120975 [02:47<00:19, 394.83it/s]"
     ]
    },
    {
     "name": "stdout",
     "output_type": "stream",
     "text": [
      "929750.jpg\n",
      "929760.jpg\n",
      "929770.jpg\n",
      "929790.jpg\n",
      "929800.jpg\n",
      "929810.jpg\n",
      "929820.jpg\n",
      "929830.jpg\n",
      "929850.jpg\n",
      "929860.jpg\n",
      "929870.jpg\n",
      "929880.jpg\n",
      "929890.jpg\n",
      "929940.jpg\n",
      "929950.jpg\n",
      "930010.jpg\n",
      "930020.jpg\n",
      "930030.jpg\n",
      "930080.jpg\n",
      "930120.jpg\n",
      "930130.jpg\n",
      "930140.jpg\n",
      "930150.jpg\n",
      "930171.jpg\n"
     ]
    },
    {
     "name": "stderr",
     "output_type": "stream",
     "text": [
      " 94%|█████████▍| 113665/120975 [02:48<00:17, 428.56it/s]"
     ]
    },
    {
     "name": "stdout",
     "output_type": "stream",
     "text": [
      "931848.jpg\n",
      "931878.jpg\n",
      "932178.jpg\n",
      "932453.jpg\n",
      "932523.jpg\n",
      "932533.jpg\n"
     ]
    },
    {
     "name": "stderr",
     "output_type": "stream",
     "text": [
      " 94%|█████████▍| 113803/120975 [02:48<00:16, 445.21it/s]"
     ]
    },
    {
     "name": "stdout",
     "output_type": "stream",
     "text": [
      "93286.jpg\n",
      "933328.jpg\n",
      "933338.jpg\n",
      "933348.jpg\n"
     ]
    },
    {
     "name": "stderr",
     "output_type": "stream",
     "text": [
      " 94%|█████████▍| 113988/120975 [02:48<00:15, 446.63it/s]"
     ]
    },
    {
     "name": "stdout",
     "output_type": "stream",
     "text": [
      "9349.jpg\n",
      "935178.jpg\n",
      "935188.jpg\n",
      "935198.jpg\n",
      "935218.jpg\n"
     ]
    },
    {
     "name": "stderr",
     "output_type": "stream",
     "text": [
      " 94%|█████████▍| 114218/120975 [02:49<00:15, 448.43it/s]"
     ]
    },
    {
     "name": "stdout",
     "output_type": "stream",
     "text": [
      "93701.jpg\n",
      "93733.jpg\n",
      "937456.jpg\n",
      "937716.jpg\n",
      "937726.jpg\n",
      "937736.jpg\n"
     ]
    },
    {
     "name": "stderr",
     "output_type": "stream",
     "text": [
      " 94%|█████████▍| 114307/120975 [02:49<00:15, 433.09it/s]"
     ]
    },
    {
     "name": "stdout",
     "output_type": "stream",
     "text": [
      "937836.jpg\n",
      "937846.jpg\n",
      "937936.jpg\n",
      "937946.jpg\n",
      "938066.jpg\n",
      "938076.jpg\n",
      "938086.jpg\n",
      "938116.jpg\n"
     ]
    },
    {
     "name": "stderr",
     "output_type": "stream",
     "text": [
      " 95%|█████████▍| 114394/120975 [02:49<00:15, 420.02it/s]"
     ]
    },
    {
     "name": "stdout",
     "output_type": "stream",
     "text": [
      "938637.jpg\n",
      "939.jpg\n",
      "939237.jpg\n",
      "939247.jpg\n",
      "939257.jpg\n",
      "939267.jpg\n"
     ]
    },
    {
     "name": "stderr",
     "output_type": "stream",
     "text": [
      " 95%|█████████▍| 114708/120975 [02:50<00:14, 430.14it/s]"
     ]
    },
    {
     "name": "stdout",
     "output_type": "stream",
     "text": [
      "941360.jpg\n",
      "941370.jpg\n",
      "941380.jpg\n",
      "941390.jpg\n",
      "9420.jpg\n"
     ]
    },
    {
     "name": "stderr",
     "output_type": "stream",
     "text": [
      " 95%|█████████▍| 114796/120975 [02:50<00:14, 424.94it/s]"
     ]
    },
    {
     "name": "stdout",
     "output_type": "stream",
     "text": [
      "942326.jpg\n",
      "943016.jpg\n",
      "943046.jpg\n",
      "943056.jpg\n",
      "943106.jpg\n"
     ]
    },
    {
     "name": "stderr",
     "output_type": "stream",
     "text": [
      " 95%|█████████▍| 114926/120975 [02:50<00:14, 424.62it/s]"
     ]
    },
    {
     "name": "stdout",
     "output_type": "stream",
     "text": [
      "943276.jpg\n",
      "943326.jpg\n",
      "943336.jpg\n",
      "943346.jpg\n",
      "943376.jpg\n",
      "943386.jpg\n",
      "943396.jpg\n",
      "943426.jpg\n",
      "943437.jpg\n",
      "943767.jpg\n",
      "943777.jpg\n",
      "943787.jpg\n"
     ]
    },
    {
     "name": "stderr",
     "output_type": "stream",
     "text": [
      " 95%|█████████▌| 115060/120975 [02:51<00:13, 426.11it/s]"
     ]
    },
    {
     "name": "stdout",
     "output_type": "stream",
     "text": [
      "944578.jpg\n",
      "944918.jpg\n",
      "944928.jpg\n",
      "944938.jpg\n",
      "944948.jpg\n",
      "944958.jpg\n",
      "944968.jpg\n"
     ]
    },
    {
     "name": "stderr",
     "output_type": "stream",
     "text": [
      " 95%|█████████▌| 115145/120975 [02:51<00:14, 410.76it/s]"
     ]
    },
    {
     "name": "stdout",
     "output_type": "stream",
     "text": [
      "945578.jpg\n",
      "945588.jpg\n",
      "946158.jpg\n",
      "946168.jpg\n",
      "946188.jpg\n",
      "946198.jpg\n",
      "946208.jpg\n",
      "946268.jpg\n",
      "946278.jpg\n",
      "946288.jpg\n"
     ]
    },
    {
     "name": "stderr",
     "output_type": "stream",
     "text": [
      " 95%|█████████▌| 115226/120975 [02:51<00:14, 383.88it/s]"
     ]
    },
    {
     "name": "stdout",
     "output_type": "stream",
     "text": [
      "946318.jpg\n",
      "946328.jpg\n",
      "946348.jpg\n",
      "946358.jpg\n",
      "946368.jpg\n",
      "946378.jpg\n",
      "946388.jpg\n",
      "946398.jpg\n",
      "946458.jpg\n",
      "946468.jpg\n",
      "946478.jpg\n",
      "946488.jpg\n",
      "946498.jpg\n",
      "946508.jpg\n",
      "946518.jpg\n",
      "946528.jpg\n",
      "946558.jpg\n",
      "946568.jpg\n",
      "946578.jpg\n",
      "946588.jpg\n",
      "946598.jpg\n",
      "946608.jpg\n",
      "946618.jpg\n",
      "946628.jpg\n",
      "946638.jpg\n",
      "946648.jpg\n",
      "946748.jpg\n",
      "946758.jpg\n",
      "946768.jpg\n",
      "946778.jpg\n",
      "946828.jpg\n",
      "946858.jpg\n",
      "946948.jpg\n",
      "946958.jpg\n",
      "946968.jpg\n",
      "946978.jpg\n"
     ]
    },
    {
     "name": "stderr",
     "output_type": "stream",
     "text": [
      " 95%|█████████▌| 115303/120975 [02:51<00:15, 365.33it/s]"
     ]
    },
    {
     "name": "stdout",
     "output_type": "stream",
     "text": [
      "946988.jpg\n",
      "946998.jpg\n",
      "947088.jpg\n",
      "947098.jpg\n",
      "947108.jpg\n",
      "947118.jpg\n",
      "947128.jpg\n",
      "947138.jpg\n",
      "947148.jpg\n",
      "947168.jpg\n",
      "947188.jpg\n",
      "947198.jpg\n",
      "947218.jpg\n",
      "947248.jpg\n",
      "947258.jpg\n",
      "947268.jpg\n",
      "947279.jpg\n",
      "947289.jpg\n",
      "947299.jpg\n",
      "947309.jpg\n",
      "947319.jpg\n",
      "947329.jpg\n",
      "947339.jpg\n",
      "947349.jpg\n",
      "947359.jpg\n",
      "947369.jpg\n",
      "947379.jpg\n",
      "947389.jpg\n",
      "947399.jpg\n",
      "947409.jpg\n",
      "947460.jpg\n",
      "947500.jpg\n",
      "947510.jpg\n",
      "947530.jpg\n",
      "947540.jpg\n",
      "947550.jpg\n",
      "947560.jpg\n",
      "947580.jpg\n",
      "947590.jpg\n",
      "947630.jpg\n",
      "947640.jpg\n"
     ]
    },
    {
     "name": "stderr",
     "output_type": "stream",
     "text": [
      " 95%|█████████▌| 115387/120975 [02:52<00:14, 392.18it/s]"
     ]
    },
    {
     "name": "stdout",
     "output_type": "stream",
     "text": [
      "947650.jpg\n",
      "947660.jpg\n",
      "947670.jpg\n",
      "947680.jpg\n",
      "947690.jpg\n",
      "947720.jpg\n",
      "947730.jpg\n",
      "947740.jpg\n",
      "947750.jpg\n",
      "947871.jpg\n"
     ]
    },
    {
     "name": "stderr",
     "output_type": "stream",
     "text": [
      " 95%|█████████▌| 115467/120975 [02:52<00:14, 392.52it/s]"
     ]
    },
    {
     "name": "stdout",
     "output_type": "stream",
     "text": [
      "948572.jpg\n",
      "948632.jpg\n",
      "948642.jpg\n",
      "948652.jpg\n",
      "948662.jpg\n",
      "948762.jpg\n",
      "948772.jpg\n",
      "949.jpg\n"
     ]
    },
    {
     "name": "stderr",
     "output_type": "stream",
     "text": [
      " 96%|█████████▌| 115556/120975 [02:52<00:12, 418.11it/s]"
     ]
    },
    {
     "name": "stdout",
     "output_type": "stream",
     "text": [
      "949342.jpg\n",
      "949352.jpg\n",
      "949362.jpg\n"
     ]
    },
    {
     "name": "stderr",
     "output_type": "stream",
     "text": [
      " 96%|█████████▌| 115816/120975 [02:53<00:13, 384.65it/s]"
     ]
    },
    {
     "name": "stdout",
     "output_type": "stream",
     "text": [
      "951812.jpg\n",
      "951826.jpg\n",
      "951836.jpg\n",
      "951846.jpg\n",
      "951856.jpg\n",
      "95186.jpg\n",
      "951868.jpg\n",
      "951898.jpg\n",
      "951908.jpg\n",
      "951918.jpg\n",
      "952110.jpg\n",
      "952120.jpg\n",
      "952141.jpg\n",
      "952151.jpg\n",
      "952161.jpg\n",
      "952181.jpg\n",
      "952191.jpg\n",
      "952201.jpg\n",
      "952321.jpg\n",
      "952331.jpg\n",
      "952341.jpg\n",
      "952351.jpg\n",
      "952361.jpg\n",
      "952371.jpg\n",
      "952381.jpg\n",
      "952391.jpg\n"
     ]
    },
    {
     "name": "stderr",
     "output_type": "stream",
     "text": [
      " 96%|█████████▌| 115984/120975 [02:53<00:12, 414.66it/s]"
     ]
    },
    {
     "name": "stdout",
     "output_type": "stream",
     "text": [
      "952841.jpg\n",
      "952851.jpg\n",
      "953241.jpg\n",
      "95325.jpg\n"
     ]
    },
    {
     "name": "stderr",
     "output_type": "stream",
     "text": [
      " 96%|█████████▌| 116159/120975 [02:54<00:11, 415.55it/s]"
     ]
    },
    {
     "name": "stdout",
     "output_type": "stream",
     "text": [
      "954916.jpg\n",
      "954996.jpg\n",
      "955056.jpg\n",
      "955086.jpg\n",
      "955096.jpg\n",
      "955106.jpg\n",
      "955116.jpg\n",
      "955126.jpg\n",
      "955288.jpg\n",
      "955318.jpg\n",
      "955338.jpg\n"
     ]
    },
    {
     "name": "stderr",
     "output_type": "stream",
     "text": [
      " 96%|█████████▌| 116292/120975 [02:54<00:11, 425.07it/s]"
     ]
    },
    {
     "name": "stdout",
     "output_type": "stream",
     "text": [
      "955789.jpg\n",
      "955799.jpg\n",
      "955809.jpg\n"
     ]
    },
    {
     "name": "stderr",
     "output_type": "stream",
     "text": [
      " 96%|█████████▌| 116423/120975 [02:54<00:10, 426.89it/s]"
     ]
    },
    {
     "name": "stdout",
     "output_type": "stream",
     "text": [
      "957373.jpg\n",
      "957383.jpg\n",
      "957393.jpg\n",
      "957503.jpg\n",
      "957513.jpg\n"
     ]
    },
    {
     "name": "stderr",
     "output_type": "stream",
     "text": [
      " 96%|█████████▋| 116555/120975 [02:54<00:10, 431.46it/s]"
     ]
    },
    {
     "name": "stdout",
     "output_type": "stream",
     "text": [
      "95864.jpg\n",
      "959.jpg\n",
      "959037.jpg\n",
      "95906.jpg\n",
      "95916.jpg\n",
      "95928.jpg\n",
      "95940.jpg\n"
     ]
    },
    {
     "name": "stderr",
     "output_type": "stream",
     "text": [
      " 96%|█████████▋| 116644/120975 [02:55<00:10, 427.62it/s]"
     ]
    },
    {
     "name": "stdout",
     "output_type": "stream",
     "text": [
      "959447.jpg\n",
      "95991.jpg\n",
      "959937.jpg\n",
      "96017.jpg\n"
     ]
    },
    {
     "name": "stderr",
     "output_type": "stream",
     "text": [
      " 96%|█████████▋| 116731/120975 [02:55<00:09, 429.92it/s]"
     ]
    },
    {
     "name": "stdout",
     "output_type": "stream",
     "text": [
      "96031.jpg\n",
      "96057.jpg\n",
      "960597.jpg\n",
      "96067.jpg\n",
      "960757.jpg\n",
      "96080.jpg\n",
      "960847.jpg\n",
      "960957.jpg\n",
      "960967.jpg\n",
      "960987.jpg\n"
     ]
    },
    {
     "name": "stderr",
     "output_type": "stream",
     "text": [
      " 97%|█████████▋| 116819/120975 [02:55<00:09, 421.61it/s]"
     ]
    },
    {
     "name": "stdout",
     "output_type": "stream",
     "text": [
      "96119.jpg\n",
      "961258.jpg\n",
      "96193.jpg\n"
     ]
    },
    {
     "name": "stderr",
     "output_type": "stream",
     "text": [
      " 97%|█████████▋| 116948/120975 [02:55<00:09, 413.77it/s]"
     ]
    },
    {
     "name": "stdout",
     "output_type": "stream",
     "text": [
      "96230.jpg\n",
      "962333.jpg\n",
      "962343.jpg\n",
      "962353.jpg\n",
      "962363.jpg\n",
      "962393.jpg\n",
      "962403.jpg\n"
     ]
    },
    {
     "name": "stderr",
     "output_type": "stream",
     "text": [
      " 97%|█████████▋| 117032/120975 [02:56<00:09, 412.97it/s]"
     ]
    },
    {
     "name": "stdout",
     "output_type": "stream",
     "text": [
      "963296.jpg\n",
      "96358.jpg\n",
      "963636.jpg\n",
      "963646.jpg\n",
      "963657.jpg\n",
      "963667.jpg\n",
      "96368.jpg\n",
      "963817.jpg\n",
      "963827.jpg\n",
      "963847.jpg\n",
      "963857.jpg\n",
      "963867.jpg\n",
      "963927.jpg\n",
      "963937.jpg\n"
     ]
    },
    {
     "name": "stderr",
     "output_type": "stream",
     "text": [
      " 97%|█████████▋| 117157/120975 [02:56<00:09, 406.79it/s]"
     ]
    },
    {
     "name": "stdout",
     "output_type": "stream",
     "text": [
      "96410.jpg\n",
      "964417.jpg\n"
     ]
    },
    {
     "name": "stderr",
     "output_type": "stream",
     "text": [
      " 97%|█████████▋| 117198/120975 [02:56<00:09, 406.41it/s]"
     ]
    },
    {
     "name": "stdout",
     "output_type": "stream",
     "text": [
      "9648.jpg\n",
      "965037.jpg\n",
      "965077.jpg\n",
      "96508.jpg\n",
      "96532.jpg\n",
      "96543.jpg\n",
      "965517.jpg\n"
     ]
    },
    {
     "name": "stderr",
     "output_type": "stream",
     "text": [
      " 97%|█████████▋| 117282/120975 [02:56<00:09, 404.37it/s]"
     ]
    },
    {
     "name": "stdout",
     "output_type": "stream",
     "text": [
      "96554.jpg\n",
      "96566.jpg\n",
      "965727.jpg\n",
      "965827.jpg\n",
      "965987.jpg\n",
      "966039.jpg\n"
     ]
    },
    {
     "name": "stderr",
     "output_type": "stream",
     "text": [
      " 97%|█████████▋| 117411/120975 [02:56<00:08, 418.23it/s]"
     ]
    },
    {
     "name": "stdout",
     "output_type": "stream",
     "text": [
      "966470.jpg\n",
      "966500.jpg\n",
      "96656.jpg\n",
      "96670.jpg\n",
      "96713.jpg\n"
     ]
    },
    {
     "name": "stderr",
     "output_type": "stream",
     "text": [
      " 97%|█████████▋| 117536/120975 [02:57<00:08, 406.90it/s]"
     ]
    },
    {
     "name": "stdout",
     "output_type": "stream",
     "text": [
      "96753.jpg\n",
      "96764.jpg\n",
      "96788.jpg\n"
     ]
    },
    {
     "name": "stderr",
     "output_type": "stream",
     "text": [
      " 97%|█████████▋| 117624/120975 [02:57<00:07, 420.22it/s]"
     ]
    },
    {
     "name": "stdout",
     "output_type": "stream",
     "text": [
      "968555.jpg\n",
      "968565.jpg\n",
      "96858.jpg\n",
      "96874.jpg\n",
      "969.jpg\n",
      "96900.jpg\n"
     ]
    },
    {
     "name": "stderr",
     "output_type": "stream",
     "text": [
      " 97%|█████████▋| 117849/120975 [02:58<00:07, 421.24it/s]"
     ]
    },
    {
     "name": "stdout",
     "output_type": "stream",
     "text": [
      "970528.jpg\n",
      "971148.jpg\n"
     ]
    },
    {
     "name": "stderr",
     "output_type": "stream",
     "text": [
      " 97%|█████████▋| 117937/120975 [02:58<00:07, 394.75it/s]"
     ]
    },
    {
     "name": "stdout",
     "output_type": "stream",
     "text": [
      "97154.jpg\n",
      "971598.jpg\n"
     ]
    },
    {
     "name": "stderr",
     "output_type": "stream",
     "text": [
      " 98%|█████████▊| 118064/120975 [02:58<00:07, 410.30it/s]"
     ]
    },
    {
     "name": "stdout",
     "output_type": "stream",
     "text": [
      "972470.jpg\n"
     ]
    },
    {
     "name": "stderr",
     "output_type": "stream",
     "text": [
      " 98%|█████████▊| 118152/120975 [02:58<00:06, 422.48it/s]"
     ]
    },
    {
     "name": "stdout",
     "output_type": "stream",
     "text": [
      "973550.jpg\n",
      "97379.jpg\n",
      "97399.jpg\n",
      "974294.jpg\n"
     ]
    },
    {
     "name": "stderr",
     "output_type": "stream",
     "text": [
      " 98%|█████████▊| 118419/120975 [02:59<00:06, 421.79it/s]"
     ]
    },
    {
     "name": "stdout",
     "output_type": "stream",
     "text": [
      "975781.jpg\n",
      "975791.jpg\n",
      "975811.jpg\n",
      "975842.jpg\n",
      "975944.jpg\n",
      "97596.jpg\n",
      "975967.jpg\n",
      "975986.jpg\n",
      "976005.jpg\n",
      "976015.jpg\n",
      "976063.jpg\n",
      "976074.jpg\n",
      "976085.jpg\n",
      "976116.jpg\n",
      "976128.jpg\n",
      "976138.jpg\n",
      "976148.jpg\n",
      "976158.jpg\n",
      "976168.jpg\n",
      "976179.jpg\n",
      "976189.jpg\n",
      "976224.jpg\n",
      "976234.jpg\n",
      "976418.jpg\n"
     ]
    },
    {
     "name": "stderr",
     "output_type": "stream",
     "text": [
      " 98%|█████████▊| 118506/120975 [02:59<00:05, 426.82it/s]"
     ]
    },
    {
     "name": "stdout",
     "output_type": "stream",
     "text": [
      "97656.jpg\n",
      "976849.jpg\n"
     ]
    },
    {
     "name": "stderr",
     "output_type": "stream",
     "text": [
      " 98%|█████████▊| 118549/120975 [02:59<00:06, 404.06it/s]"
     ]
    },
    {
     "name": "stdout",
     "output_type": "stream",
     "text": [
      "977300.jpg\n",
      "977350.jpg\n",
      "97736.jpg\n",
      "977360.jpg\n",
      "977370.jpg\n",
      "977380.jpg\n",
      "977400.jpg\n",
      "977450.jpg\n",
      "977460.jpg\n",
      "977510.jpg\n",
      "977520.jpg\n",
      "977540.jpg\n",
      "977580.jpg\n",
      "977640.jpg\n",
      "977840.jpg\n",
      "977910.jpg\n",
      "97796.jpg\n"
     ]
    },
    {
     "name": "stderr",
     "output_type": "stream",
     "text": [
      " 98%|█████████▊| 118677/120975 [03:00<00:05, 413.08it/s]"
     ]
    },
    {
     "name": "stdout",
     "output_type": "stream",
     "text": [
      "978262.jpg\n",
      "979035.jpg\n",
      "979045.jpg\n",
      "979055.jpg\n"
     ]
    },
    {
     "name": "stderr",
     "output_type": "stream",
     "text": [
      " 98%|█████████▊| 118810/120975 [03:00<00:05, 428.06it/s]"
     ]
    },
    {
     "name": "stdout",
     "output_type": "stream",
     "text": [
      "97926.jpg\n",
      "97936.jpg\n",
      "97995.jpg\n"
     ]
    },
    {
     "name": "stderr",
     "output_type": "stream",
     "text": [
      " 98%|█████████▊| 118897/120975 [03:00<00:04, 424.03it/s]"
     ]
    },
    {
     "name": "stdout",
     "output_type": "stream",
     "text": [
      "98005.jpg\n",
      "98035.jpg\n",
      "980387.jpg\n",
      "980397.jpg\n",
      "980407.jpg\n",
      "980417.jpg\n",
      "980427.jpg\n",
      "980437.jpg\n",
      "980447.jpg\n",
      "98055.jpg\n",
      "98065.jpg\n"
     ]
    },
    {
     "name": "stderr",
     "output_type": "stream",
     "text": [
      " 98%|█████████▊| 118984/120975 [03:00<00:04, 419.01it/s]"
     ]
    },
    {
     "name": "stdout",
     "output_type": "stream",
     "text": [
      "98095.jpg\n",
      "981409.jpg\n"
     ]
    },
    {
     "name": "stderr",
     "output_type": "stream",
     "text": [
      " 98%|█████████▊| 119113/120975 [03:01<00:04, 425.86it/s]"
     ]
    },
    {
     "name": "stdout",
     "output_type": "stream",
     "text": [
      "982032.jpg\n",
      "982152.jpg\n",
      "982162.jpg\n",
      "982512.jpg\n",
      "982532.jpg\n",
      "982542.jpg\n",
      "982612.jpg\n",
      "982622.jpg\n",
      "982632.jpg\n"
     ]
    },
    {
     "name": "stderr",
     "output_type": "stream",
     "text": [
      " 99%|█████████▊| 119201/120975 [03:01<00:04, 425.73it/s]"
     ]
    },
    {
     "name": "stdout",
     "output_type": "stream",
     "text": [
      "982912.jpg\n",
      "982922.jpg\n",
      "983062.jpg\n",
      "983072.jpg\n",
      "983132.jpg\n",
      "98325.jpg\n"
     ]
    },
    {
     "name": "stderr",
     "output_type": "stream",
     "text": [
      " 99%|█████████▊| 119333/120975 [03:01<00:03, 428.06it/s]"
     ]
    },
    {
     "name": "stdout",
     "output_type": "stream",
     "text": [
      "984004.jpg\n",
      "984046.jpg\n"
     ]
    },
    {
     "name": "stderr",
     "output_type": "stream",
     "text": [
      " 99%|█████████▊| 119461/120975 [03:01<00:03, 406.07it/s]"
     ]
    },
    {
     "name": "stdout",
     "output_type": "stream",
     "text": [
      "985348.jpg\n",
      "985358.jpg\n",
      "985754.jpg\n",
      "985764.jpg\n",
      "985774.jpg\n",
      "98579.jpg\n"
     ]
    },
    {
     "name": "stderr",
     "output_type": "stream",
     "text": [
      " 99%|█████████▉| 119550/120975 [03:02<00:03, 423.12it/s]"
     ]
    },
    {
     "name": "stdout",
     "output_type": "stream",
     "text": [
      "986165.jpg\n",
      "98679.jpg\n"
     ]
    },
    {
     "name": "stderr",
     "output_type": "stream",
     "text": [
      " 99%|█████████▉| 119724/120975 [03:02<00:03, 391.54it/s]"
     ]
    },
    {
     "name": "stdout",
     "output_type": "stream",
     "text": [
      "987775.jpg\n",
      "987785.jpg\n",
      "987925.jpg\n",
      "987935.jpg\n",
      "988015.jpg\n",
      "988025.jpg\n",
      "988035.jpg\n",
      "988115.jpg\n",
      "988145.jpg\n",
      "988155.jpg\n",
      "988165.jpg\n"
     ]
    },
    {
     "name": "stderr",
     "output_type": "stream",
     "text": [
      " 99%|█████████▉| 119846/120975 [03:02<00:02, 400.66it/s]"
     ]
    },
    {
     "name": "stdout",
     "output_type": "stream",
     "text": [
      "988846.jpg\n",
      "988896.jpg\n",
      "988966.jpg\n",
      "988976.jpg\n",
      "989.jpg\n"
     ]
    },
    {
     "name": "stderr",
     "output_type": "stream",
     "text": [
      " 99%|█████████▉| 120012/120975 [03:03<00:02, 388.10it/s]"
     ]
    },
    {
     "name": "stdout",
     "output_type": "stream",
     "text": [
      "99051.jpg\n",
      "99062.jpg\n"
     ]
    },
    {
     "name": "stderr",
     "output_type": "stream",
     "text": [
      " 99%|█████████▉| 120139/120975 [03:03<00:02, 409.15it/s]"
     ]
    },
    {
     "name": "stdout",
     "output_type": "stream",
     "text": [
      "991456.jpg\n",
      "991466.jpg\n"
     ]
    },
    {
     "name": "stderr",
     "output_type": "stream",
     "text": [
      " 99%|█████████▉| 120353/120975 [03:04<00:01, 394.33it/s]"
     ]
    },
    {
     "name": "stdout",
     "output_type": "stream",
     "text": [
      "993720.jpg\n"
     ]
    },
    {
     "name": "stderr",
     "output_type": "stream",
     "text": [
      "100%|█████████▉| 120521/120975 [03:04<00:01, 407.25it/s]"
     ]
    },
    {
     "name": "stdout",
     "output_type": "stream",
     "text": [
      "995147.jpg\n",
      "995307.jpg\n",
      "995367.jpg\n",
      "995527.jpg\n",
      "995547.jpg\n",
      "995567.jpg\n",
      "995667.jpg\n",
      "995777.jpg\n",
      "995787.jpg\n"
     ]
    },
    {
     "name": "stderr",
     "output_type": "stream",
     "text": [
      "100%|█████████▉| 120645/120975 [03:04<00:00, 401.62it/s]"
     ]
    },
    {
     "name": "stdout",
     "output_type": "stream",
     "text": [
      "996277.jpg\n",
      "996297.jpg\n",
      "996307.jpg\n",
      "996647.jpg\n",
      "996657.jpg\n",
      "996667.jpg\n",
      "996817.jpg\n",
      "996837.jpg\n"
     ]
    },
    {
     "name": "stderr",
     "output_type": "stream",
     "text": [
      "100%|█████████▉| 120908/120975 [03:05<00:00, 420.02it/s]"
     ]
    },
    {
     "name": "stdout",
     "output_type": "stream",
     "text": [
      "998571.jpg\n",
      "998581.jpg\n",
      "998651.jpg\n",
      "998661.jpg\n",
      "998671.jpg\n",
      "998891.jpg\n",
      "998911.jpg\n",
      "998931.jpg\n",
      "999.jpg\n",
      "999121.jpg\n",
      "999131.jpg\n",
      "999141.jpg\n",
      "999151.jpg\n"
     ]
    },
    {
     "name": "stderr",
     "output_type": "stream",
     "text": [
      "100%|██████████| 120975/120975 [03:05<00:00, 651.82it/s]"
     ]
    },
    {
     "name": "stdout",
     "output_type": "stream",
     "text": [
      "9997.jpg\n"
     ]
    },
    {
     "name": "stderr",
     "output_type": "stream",
     "text": [
      "\n"
     ]
    }
   ],
   "source": [
    "li = [f for f in os.listdir(fashion_path) if f != '.DS_Store'] \n",
    "img_name = [f for f in os.listdir(img_path) if f != '.DS_Store']\n",
    "\n",
    "for label in tqdm(li):\n",
    "    with open(os.path.join(fashion_path, label), \"r\") as f:\n",
    "        fa = json.load(f)\n",
    "    \n",
    "    if label.split('.')[0] + '.jpg' not in img_name:\n",
    "        continue\n",
    "\n",
    "    filename = str(fa['이미지 정보']['이미지 식별자']) + '.jpg'\n",
    "    ann = fa['데이터셋 정보']['데이터셋 상세설명']['렉트좌표']\n",
    "    img_w = fa['이미지 정보']['이미지 너비']\n",
    "    img_h = fa['이미지 정보']['이미지 높이']\n",
    "    \n",
    "    for key, value in ann.items():\n",
    "        if len(value[0]) > 0:\n",
    "            try:\n",
    "                class_label = (fa['데이터셋 정보']['데이터셋 상세설명']['라벨링'][key][0]['소재'])\n",
    "                bbox=[]\n",
    "                class_label = class_label[0]\n",
    "            except:\n",
    "                # 라벨링이 잘못된 파일인 경우 이미지, json 파일 이동\n",
    "                print(filename)\n",
    "                shutil.move(os.path.join(img_path, filename), os.path.join(wrong_img_path, filename))\n",
    "                shutil.move(os.path.join(fashion_path, filename.split('.')[0] + '.json'), os.path.join(wrong_json_path, filename.split('.')[0] + '.json'))\n",
    "                break\n",
    "\n",
    "            for i in value[0].values():\n",
    "                bbox.append(float(i))\n",
    "                \n",
    "            x, y, w, h = list(map(float, bbox))\n",
    "            \n",
    "            # yolo 라벨 좌표형식으로 변환 (yolo 라벨은 x_center, y_center, w, h를 0~1 사이값으로 정규화하여 사용)\n",
    "            x = (x + w/2) / img_w\n",
    "            y = (y + h/2) / img_h\n",
    "            w = w / img_w\n",
    "            h = h / img_h\n",
    "\n",
    "            # 클래스, 좌표 txt 파일로 저장\n",
    "            with open(os.path.join(convert_path, filename.split('.')[0] + '.txt'), 'a') as t:\n",
    "                try:\n",
    "                    t.write(str(MATERIAL_CATEGORIES_Dict_C[class_label]) + ' ' + str(x) + ' ' + str(y) + ' ' + str(w) + ' ' + str(h) + '\\n')\n",
    "                except:\n",
    "                    print(filename)\n",
    "                    os.remove(os.path.join(convert_path, filename.split('.')[0] + '.txt'))\n",
    "                    shutil.move(os.path.join(img_path, filename), os.path.join(wrong_img_path, filename))\n",
    "                    shutil.move(os.path.join(fashion_path, filename.split('.')[0] + '.json'), os.path.join(wrong_json_path, filename.split('.')[0] + '.json'))\n",
    "                    break"
   ]
  },
  {
   "cell_type": "code",
   "execution_count": null,
   "metadata": {},
   "outputs": [],
   "source": [
    "li = [f for f in os.listdir(fashion_path) if f != '.DS_Store'] \n",
    "img_name = [f for f in os.listdir(img_path) if f != '.DS_Store']\n",
    "\n",
    "for label in tqdm(li):\n",
    "    with open(os.path.join(fashion_path, label), \"r\") as f:\n",
    "        fa = json.load(f)\n",
    "    \n",
    "    if label.split('.')[0] + '.jpg' not in img_name:\n",
    "        continue\n",
    "\n",
    "    filename = str(fa['이미지 정보']['이미지 식별자']) + '.jpg'\n",
    "    ann = fa['데이터셋 정보']['데이터셋 상세설명']['렉트좌표']\n",
    "    img_w = fa['이미지 정보']['이미지 너비']\n",
    "    img_h = fa['이미지 정보']['이미지 높이']\n",
    "    \n",
    "    for key, value in ann.items():\n",
    "        if len(value[0]) > 0:\n",
    "            try:\n",
    "                class_label = (fa['데이터셋 정보']['데이터셋 상세설명']['라벨링'][key][0]['소재'])\n",
    "                bbox=[]\n",
    "                class_label = class_label[0]\n",
    "            except:\n",
    "                # 라벨링이 잘못된 파일인 경우 이미지, json 파일 이동\n",
    "                print(filename)\n",
    "                shutil.move(os.path.join(img_path, filename), os.path.join(wrong_img_path, filename))\n",
    "                shutil.move(os.path.join(fashion_path, filename.split('.')[0] + '.json'), os.path.join(wrong_json_path, filename.split('.')[0] + '.json'))\n",
    "                break\n",
    "\n",
    "            for i in value[0].values():\n",
    "                bbox.append(float(i))\n",
    "                \n",
    "            x, y, w, h = list(map(float, bbox))\n",
    "            \n",
    "            # yolo 라벨 좌표형식으로 변환 (yolo 라벨은 x_center, y_center, w, h를 0~1 사이값으로 정규화하여 사용)\n",
    "            x = (x + w/2) / img_w\n",
    "            y = (y + h/2) / img_h\n",
    "            w = w / img_w\n",
    "            h = h / img_h\n",
    "\n",
    "            # 클래스, 좌표 txt 파일로 저장\n",
    "            with open(os.path.join(convert_path, filename.split('.')[0] + '.txt'), 'a') as t:\n",
    "                try:\n",
    "                    t.write(str(MATERIAL_CATEGORIES_Dict_C[class_label]) + ' ' + str(x) + ' ' + str(y) + ' ' + str(w) + ' ' + str(h) + '\\n')\n",
    "                except:\n",
    "                    print(filename)\n",
    "                    os.remove(os.path.join(convert_path, filename.split('.')[0] + '.txt'))\n",
    "                    shutil.move(os.path.join(img_path, filename), os.path.join(wrong_img_path, filename))\n",
    "                    shutil.move(os.path.join(fashion_path, filename.split('.')[0] + '.json'), os.path.join(wrong_json_path, filename.split('.')[0] + '.json'))\n",
    "                    break"
   ]
  }
 ],
 "metadata": {
  "kernelspec": {
   "display_name": "ds_study",
   "language": "python",
   "name": "python3"
  },
  "language_info": {
   "codemirror_mode": {
    "name": "ipython",
    "version": 3
   },
   "file_extension": ".py",
   "mimetype": "text/x-python",
   "name": "python",
   "nbconvert_exporter": "python",
   "pygments_lexer": "ipython3",
   "version": "3.8.16"
  },
  "orig_nbformat": 4
 },
 "nbformat": 4,
 "nbformat_minor": 2
}
